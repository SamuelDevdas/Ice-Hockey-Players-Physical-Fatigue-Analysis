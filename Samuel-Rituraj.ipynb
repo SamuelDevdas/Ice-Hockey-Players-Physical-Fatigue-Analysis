{
 "cells": [
  {
   "cell_type": "markdown",
   "metadata": {},
   "source": [
    "# ESTIMATING \"RELATIVE PHYSICAL FATIGUE INDEX\" OF PLAYERS USING ICE HOCKEY METRICS\n",
    "\n",
    "#### **Objective:** To develop an application that enables coaches to input game data and obtain instant feedback on potential fatigue levels,based on the dataset's metrics.\n",
    "\n",
    "#### **Functionality:** Upload data files and obtain instant feedback on potential fatigue levels.\n",
    "\n",
    "#### **Potential Applications:**\n",
    "\n",
    "1. **Player Management and Rotation:**\n",
    "   Use the Fatigue Index (FI) to guide real-time player rotation decisions, optimizing performance and minimizing injury risks.\n",
    "\n",
    "2. **Injury Prevention in Training:**\n",
    "   Incorporate FI to tailor training intensity and recovery, reducing the likelihood of player injuries.\n",
    "\n",
    "3. **Performance Analysis and Strategy:**\n",
    "   Integrate FI with performance metrics to refine game strategies, making informed in-game decisions for optimal outcomes.\n"
   ]
  },
  {
   "cell_type": "markdown",
   "metadata": {},
   "source": [
    "## 1.  DATA LOADING AND PREPROCESSING\n"
   ]
  },
  {
   "cell_type": "markdown",
   "metadata": {},
   "source": [
    "This code block imports the necessary libraries for data analysis and visualization in Python."
   ]
  },
  {
   "cell_type": "code",
   "execution_count": 55,
   "metadata": {},
   "outputs": [],
   "source": [
    "# All libraries used in the project.\n",
    "import pandas as pd\n",
    "import plotly.express as px  # Visualization Fatigue Index each player.\n",
    "import plotly.graph_objects as go  # Line Chart\n",
    "import plotly.graph_objects as go  # Cumulative Line Chart (Periods)\n",
    "import numpy as np  # Cumulative Line Chart (Periods)"
   ]
  },
  {
   "cell_type": "markdown",
   "metadata": {},
   "source": [
    "In this code block, we import the two Original Datasets."
   ]
  },
  {
   "cell_type": "code",
   "execution_count": 56,
   "metadata": {},
   "outputs": [],
   "source": [
    "# Load the Original Datasets\n",
    "lugano = pd.read_csv(\"LUGANO-ORIG.csv\", encoding=\"ISO-8859-1\", sep=\";\")\n",
    "zsc = pd.read_csv(\"ZHC-ORIG.csv\", encoding=\"ISO-8859-1\", sep=\";\")"
   ]
  },
  {
   "cell_type": "markdown",
   "metadata": {},
   "source": [
    "In this block of code, the delimiter for two DataFrames (lugano and zsc) is changed to a comma (','), and the resulting data is saved as CSV files named \"lhc-lugano.csv\" and \"lhc-zsc.csv.\" This step is taken for ease of use and to make the data more accessible for further analysis.\n"
   ]
  },
  {
   "cell_type": "code",
   "execution_count": 57,
   "metadata": {},
   "outputs": [],
   "source": [
    "# We change the delimiter to ',' rename and save the file for ease of use\n",
    "lugano.to_csv(\"lhc-lugano.csv\", sep=\",\", index=False)\n",
    "zsc.to_csv(\"lhc-zsc.csv\", sep=\",\", index=False)"
   ]
  },
  {
   "cell_type": "markdown",
   "metadata": {},
   "source": [
    "In this code block, the previously saved CSV files (\"lhc-lugano.csv\" and \"lhc-zsc.csv\") are loaded into Pandas DataFrames (df_lugano and df_zsc) using the pd.read_csv function. These DataFrames now contain the data from the CSV files, and df_lugano.head() is used to display the first few rows of the \"df_lugano\" DataFrame for inspection.\n"
   ]
  },
  {
   "cell_type": "code",
   "execution_count": 58,
   "metadata": {},
   "outputs": [
    {
     "data": {
      "text/html": [
       "<div>\n",
       "<style scoped>\n",
       "    .dataframe tbody tr th:only-of-type {\n",
       "        vertical-align: middle;\n",
       "    }\n",
       "\n",
       "    .dataframe tbody tr th {\n",
       "        vertical-align: top;\n",
       "    }\n",
       "\n",
       "    .dataframe thead th {\n",
       "        text-align: right;\n",
       "    }\n",
       "</style>\n",
       "<table border=\"1\" class=\"dataframe\">\n",
       "  <thead>\n",
       "    <tr style=\"text-align: right;\">\n",
       "      <th></th>\n",
       "      <th>Group name</th>\n",
       "      <th>League ID</th>\n",
       "      <th>Description</th>\n",
       "      <th>Session ID</th>\n",
       "      <th>Types</th>\n",
       "      <th>Session end (Local timezone)</th>\n",
       "      <th>Session end date (Local timezone)</th>\n",
       "      <th>Session end date (UTC)</th>\n",
       "      <th>Session end time (Local timezone)</th>\n",
       "      <th>Session end time (UTC)</th>\n",
       "      <th>...</th>\n",
       "      <th>Sprints / min (medium)</th>\n",
       "      <th>Sprints / min (high)</th>\n",
       "      <th>Sprints / min (very high)</th>\n",
       "      <th>Sprints / min (near max)</th>\n",
       "      <th>Turns</th>\n",
       "      <th>Sharp Turns</th>\n",
       "      <th>Wide Turns</th>\n",
       "      <th>Turns / min</th>\n",
       "      <th>Sharp Turns / min</th>\n",
       "      <th>Wide Turns / min</th>\n",
       "    </tr>\n",
       "  </thead>\n",
       "  <tbody>\n",
       "    <tr>\n",
       "      <th>0</th>\n",
       "      <td>Defense</td>\n",
       "      <td>NaN</td>\n",
       "      <td>vs Lugano</td>\n",
       "      <td>194</td>\n",
       "      <td>Match</td>\n",
       "      <td>16.11.2022 22:09:47</td>\n",
       "      <td>16.11.2022</td>\n",
       "      <td>16.11.2022</td>\n",
       "      <td>22:09:47</td>\n",
       "      <td>21:09:47</td>\n",
       "      <td>...</td>\n",
       "      <td>0,35</td>\n",
       "      <td>0,06</td>\n",
       "      <td>0</td>\n",
       "      <td>0</td>\n",
       "      <td>33</td>\n",
       "      <td>10</td>\n",
       "      <td>23</td>\n",
       "      <td>1,91</td>\n",
       "      <td>0,58</td>\n",
       "      <td>1,33</td>\n",
       "    </tr>\n",
       "    <tr>\n",
       "      <th>1</th>\n",
       "      <td>Offense</td>\n",
       "      <td>NaN</td>\n",
       "      <td>vs Lugano</td>\n",
       "      <td>194</td>\n",
       "      <td>Match</td>\n",
       "      <td>16.11.2022 22:09:47</td>\n",
       "      <td>16.11.2022</td>\n",
       "      <td>16.11.2022</td>\n",
       "      <td>22:09:47</td>\n",
       "      <td>21:09:47</td>\n",
       "      <td>...</td>\n",
       "      <td>1,04</td>\n",
       "      <td>0,7</td>\n",
       "      <td>0,17</td>\n",
       "      <td>0</td>\n",
       "      <td>56</td>\n",
       "      <td>9</td>\n",
       "      <td>47</td>\n",
       "      <td>4,88</td>\n",
       "      <td>0,78</td>\n",
       "      <td>4,09</td>\n",
       "    </tr>\n",
       "    <tr>\n",
       "      <th>2</th>\n",
       "      <td>Offense</td>\n",
       "      <td>NaN</td>\n",
       "      <td>vs Lugano</td>\n",
       "      <td>194</td>\n",
       "      <td>Match</td>\n",
       "      <td>16.11.2022 22:09:47</td>\n",
       "      <td>16.11.2022</td>\n",
       "      <td>16.11.2022</td>\n",
       "      <td>22:09:47</td>\n",
       "      <td>21:09:47</td>\n",
       "      <td>...</td>\n",
       "      <td>0,58</td>\n",
       "      <td>0,32</td>\n",
       "      <td>0,26</td>\n",
       "      <td>0</td>\n",
       "      <td>48</td>\n",
       "      <td>6</td>\n",
       "      <td>42</td>\n",
       "      <td>3,09</td>\n",
       "      <td>0,39</td>\n",
       "      <td>2,7</td>\n",
       "    </tr>\n",
       "    <tr>\n",
       "      <th>3</th>\n",
       "      <td>Offense</td>\n",
       "      <td>NaN</td>\n",
       "      <td>vs Lugano</td>\n",
       "      <td>194</td>\n",
       "      <td>Match</td>\n",
       "      <td>16.11.2022 22:09:47</td>\n",
       "      <td>16.11.2022</td>\n",
       "      <td>16.11.2022</td>\n",
       "      <td>22:09:47</td>\n",
       "      <td>21:09:47</td>\n",
       "      <td>...</td>\n",
       "      <td>0,86</td>\n",
       "      <td>0,4</td>\n",
       "      <td>0,12</td>\n",
       "      <td>0</td>\n",
       "      <td>58</td>\n",
       "      <td>12</td>\n",
       "      <td>46</td>\n",
       "      <td>3,34</td>\n",
       "      <td>0,69</td>\n",
       "      <td>2,65</td>\n",
       "    </tr>\n",
       "    <tr>\n",
       "      <th>4</th>\n",
       "      <td>Defense</td>\n",
       "      <td>NaN</td>\n",
       "      <td>vs Lugano</td>\n",
       "      <td>194</td>\n",
       "      <td>Match</td>\n",
       "      <td>16.11.2022 22:09:47</td>\n",
       "      <td>16.11.2022</td>\n",
       "      <td>16.11.2022</td>\n",
       "      <td>22:09:47</td>\n",
       "      <td>21:09:47</td>\n",
       "      <td>...</td>\n",
       "      <td>1,96</td>\n",
       "      <td>0</td>\n",
       "      <td>0</td>\n",
       "      <td>0</td>\n",
       "      <td>2</td>\n",
       "      <td>0</td>\n",
       "      <td>2</td>\n",
       "      <td>1,31</td>\n",
       "      <td>0</td>\n",
       "      <td>1,31</td>\n",
       "    </tr>\n",
       "  </tbody>\n",
       "</table>\n",
       "<p>5 rows × 226 columns</p>\n",
       "</div>"
      ],
      "text/plain": [
       "  Group name  League ID Description  Session ID  Types  \\\n",
       "0    Defense        NaN   vs Lugano         194  Match   \n",
       "1    Offense        NaN   vs Lugano         194  Match   \n",
       "2    Offense        NaN   vs Lugano         194  Match   \n",
       "3    Offense        NaN   vs Lugano         194  Match   \n",
       "4    Defense        NaN   vs Lugano         194  Match   \n",
       "\n",
       "  Session end (Local timezone) Session end date (Local timezone)  \\\n",
       "0          16.11.2022 22:09:47                        16.11.2022   \n",
       "1          16.11.2022 22:09:47                        16.11.2022   \n",
       "2          16.11.2022 22:09:47                        16.11.2022   \n",
       "3          16.11.2022 22:09:47                        16.11.2022   \n",
       "4          16.11.2022 22:09:47                        16.11.2022   \n",
       "\n",
       "  Session end date (UTC) Session end time (Local timezone)  \\\n",
       "0             16.11.2022                          22:09:47   \n",
       "1             16.11.2022                          22:09:47   \n",
       "2             16.11.2022                          22:09:47   \n",
       "3             16.11.2022                          22:09:47   \n",
       "4             16.11.2022                          22:09:47   \n",
       "\n",
       "  Session end time (UTC)  ... Sprints / min (medium) Sprints / min (high)  \\\n",
       "0               21:09:47  ...                   0,35                 0,06   \n",
       "1               21:09:47  ...                   1,04                  0,7   \n",
       "2               21:09:47  ...                   0,58                 0,32   \n",
       "3               21:09:47  ...                   0,86                  0,4   \n",
       "4               21:09:47  ...                   1,96                    0   \n",
       "\n",
       "  Sprints / min (very high) Sprints / min (near max) Turns Sharp Turns  \\\n",
       "0                         0                        0    33          10   \n",
       "1                      0,17                        0    56           9   \n",
       "2                      0,26                        0    48           6   \n",
       "3                      0,12                        0    58          12   \n",
       "4                         0                        0     2           0   \n",
       "\n",
       "  Wide Turns  Turns / min  Sharp Turns / min  Wide Turns / min  \n",
       "0         23         1,91               0,58              1,33  \n",
       "1         47         4,88               0,78              4,09  \n",
       "2         42         3,09               0,39               2,7  \n",
       "3         46         3,34               0,69              2,65  \n",
       "4          2         1,31                  0              1,31  \n",
       "\n",
       "[5 rows x 226 columns]"
      ]
     },
     "execution_count": 58,
     "metadata": {},
     "output_type": "execute_result"
    }
   ],
   "source": [
    "# Load the updated datasets into Pandas DataFrame\n",
    "df_lugano = pd.read_csv(\"lhc-lugano.csv\", encoding=\"ISO-8859-1\", index_col=False)\n",
    "df_zsc = pd.read_csv(\"lhc-zsc.csv\", encoding=\"ISO-8859-1\", index_col=False)\n",
    "\n",
    "df_lugano.head()"
   ]
  },
  {
   "cell_type": "markdown",
   "metadata": {},
   "source": [
    "### 1.1 FILTERING THE DATASET TO INCLUDE ONLY THE RELEVANT COLUMNS"
   ]
  },
  {
   "cell_type": "markdown",
   "metadata": {},
   "source": [
    "This code selects specific columns of interest which are required for analysis (defined in columns_to_keep) and creates two new dataframes, df_imp_lugano and df_imp_zsc. It then displays the first 5 rows of both datasets for examination."
   ]
  },
  {
   "cell_type": "code",
   "execution_count": 59,
   "metadata": {},
   "outputs": [
    {
     "name": "stdout",
     "output_type": "stream",
     "text": [
      "  Group name Position Description  Duration (s)  Distance (m)  \\\n",
      "0    Defense        D   vs Lugano          8836          3163   \n",
      "1    Offense        F   vs Lugano          8836          2881   \n",
      "2    Offense        F   vs Lugano          8836          3586   \n",
      "3    Offense        F   vs Lugano          8836          3881   \n",
      "4    Defense        D   vs Lugano          8836           354   \n",
      "\n",
      "   Time on Ice (s)  High Metabolic Power Distance (m) Mechanical Intensity  \n",
      "0             1038                               1287                45,94  \n",
      "1              689                               1724                42,85  \n",
      "2              932                               2090                46,12  \n",
      "3             1043                               1956                44,38  \n",
      "4               92                                179                44,95  \n",
      "====================================================================================================\n",
      "     Group name Position Description  Duration (s)  Distance (m)  \\\n",
      "0       Defense        D   vs Zurich          7868          3140   \n",
      "1       Offense        F   vs Zurich          7868          3037   \n",
      "2       Offense        F   vs Zurich          7868          4872   \n",
      "3  Guest_Team D        D   vs Zurich          7868          5364   \n",
      "4  Guest_Team D        D   vs Zurich          7868          4131   \n",
      "\n",
      "   Time on Ice (s)  High Metabolic Power Distance (m) Mechanical Intensity  \n",
      "0             1144                               1223                38,62  \n",
      "1              832                               1359                29,67  \n",
      "2             1394                               2227                37,04  \n",
      "3             1467                               2564                39,85  \n",
      "4             1171                               1644                37,06  \n"
     ]
    }
   ],
   "source": [
    "# List of columns to keep in the dataset\n",
    "columns_to_keep = [\n",
    "    \"Group name\",\n",
    "    \"Position\",\n",
    "    \"Description\",\n",
    "    \"Duration (s)\",\n",
    "    \"Distance (m)\",\n",
    "    \"Time on Ice (s)\",\n",
    "    \"High Metabolic Power Distance (m)\",\n",
    "    \"Mechanical Intensity\",\n",
    "]\n",
    "\n",
    "\n",
    "# Function to filter the columns\n",
    "def filter_columns(df, columns_to_keep):\n",
    "    \"\"\"\n",
    "    Filters a DataFrame to only include specified columns.\n",
    "\n",
    "    Parameters:\n",
    "    - df (pd.DataFrame): The original DataFrame.\n",
    "    - columns_to_keep (list of str): List of column names to keep.\n",
    "\n",
    "    Returns:\n",
    "    - pd.DataFrame: A new DataFrame with only the specified columns.\n",
    "    \"\"\"\n",
    "    return df[columns_to_keep]\n",
    "\n",
    "\n",
    "# Example usage:\n",
    "df_imp_lugano = filter_columns(df_lugano, columns_to_keep)\n",
    "df_imp_zsc = filter_columns(df_zsc, columns_to_keep)\n",
    "\n",
    "# Print the first 5 rows of the datasets\n",
    "print(df_imp_lugano.head())\n",
    "\n",
    "print(\n",
    "    \"====================================================================================================\"\n",
    ")\n",
    "\n",
    "print(df_imp_zsc.head())"
   ]
  },
  {
   "cell_type": "markdown",
   "metadata": {},
   "source": [
    "### 1.2 HANDLING MISSING VALUES"
   ]
  },
  {
   "cell_type": "markdown",
   "metadata": {},
   "source": [
    "This code checks for missing values in each column of df_imp_lugano and df_imp_zsc and prints the counts. It identifies 14 and 7 missing values in the \"Mechanical Intensity\" column for the two dataframes, respectively."
   ]
  },
  {
   "cell_type": "code",
   "execution_count": 60,
   "metadata": {},
   "outputs": [
    {
     "name": "stdout",
     "output_type": "stream",
     "text": [
      "Group name                            0\n",
      "Position                              0\n",
      "Description                           0\n",
      "Duration (s)                          0\n",
      "Distance (m)                          0\n",
      "Time on Ice (s)                       0\n",
      "High Metabolic Power Distance (m)     0\n",
      "Mechanical Intensity                 14\n",
      "dtype: int64\n",
      "=============================================================================================================\n",
      "Group name                           0\n",
      "Position                             0\n",
      "Description                          0\n",
      "Duration (s)                         0\n",
      "Distance (m)                         0\n",
      "Time on Ice (s)                      0\n",
      "High Metabolic Power Distance (m)    0\n",
      "Mechanical Intensity                 7\n",
      "dtype: int64\n"
     ]
    }
   ],
   "source": [
    "# Check if any NA in Each Row and column of the dataframes\n",
    "print(df_imp_lugano.isnull().sum(axis=0))\n",
    "# df_imp_lugano.isna().any(axis=1)\n",
    "\n",
    "\n",
    "print(\n",
    "    \"=============================================================================================================\"\n",
    ")\n",
    "\n",
    "print(df_imp_zsc.isnull().sum(axis=0))\n",
    "\n",
    "# We see 14 and 7, NA values in the column \"Mechanical Intensity\" in the two dataframes respectively"
   ]
  },
  {
   "cell_type": "markdown",
   "metadata": {},
   "source": [
    "This code removes rows with missing values in the \"Mechanical Intensity\" column for both df_imp_lugano and df_imp_zsc DataFrames. It then checks if there are any remaining missing values in each column of the filtered DataFrames and prints the counts of missing values along with the updated shape of each DataFrame."
   ]
  },
  {
   "cell_type": "code",
   "execution_count": 61,
   "metadata": {},
   "outputs": [
    {
     "name": "stdout",
     "output_type": "stream",
     "text": [
      "Group name                           0\n",
      "Position                             0\n",
      "Description                          0\n",
      "Duration (s)                         0\n",
      "Distance (m)                         0\n",
      "Time on Ice (s)                      0\n",
      "High Metabolic Power Distance (m)    0\n",
      "Mechanical Intensity                 0\n",
      "dtype: int64\n",
      "(89, 8)\n",
      "=============================================================================================================\n",
      "Group name                           0\n",
      "Position                             0\n",
      "Description                          0\n",
      "Duration (s)                         0\n",
      "Distance (m)                         0\n",
      "Time on Ice (s)                      0\n",
      "High Metabolic Power Distance (m)    0\n",
      "Mechanical Intensity                 0\n",
      "dtype: int64\n",
      "(161, 8)\n"
     ]
    }
   ],
   "source": [
    "# Remove the rows with NA values in the column \"Mechanical Intensity\"\n",
    "df_imp_lugano = df_imp_lugano.dropna(subset=[\"Mechanical Intensity\"])\n",
    "\n",
    "df_imp_zsc = df_imp_zsc.dropna(subset=[\"Mechanical Intensity\"])\n",
    "\n",
    "# Check if any NA in Each Column of the dataframe\n",
    "print(df_imp_lugano.isnull().sum(axis=0))\n",
    "print(df_imp_lugano.shape)\n",
    "\n",
    "print(\n",
    "    \"=============================================================================================================\"\n",
    ")\n",
    "\n",
    "print(df_imp_zsc.isnull().sum(axis=0))\n",
    "print(df_imp_zsc.shape)"
   ]
  },
  {
   "cell_type": "markdown",
   "metadata": {},
   "source": [
    "### 1.3 CREATING A FUNCTION TO REMOVE IRRELEVANT ROWS OR 'PLAYERS'"
   ]
  },
  {
   "cell_type": "markdown",
   "metadata": {},
   "source": [
    "This code defines a function called filter_group_name that filters a DataFrame to retain rows where the value in the \"Group name\" column is either 'Offense', 'Defense', or 'Goalies'. This is used to remove rows related to the guest team in the ZSC dataset."
   ]
  },
  {
   "cell_type": "code",
   "execution_count": 62,
   "metadata": {},
   "outputs": [
    {
     "data": {
      "text/html": [
       "<div>\n",
       "<style scoped>\n",
       "    .dataframe tbody tr th:only-of-type {\n",
       "        vertical-align: middle;\n",
       "    }\n",
       "\n",
       "    .dataframe tbody tr th {\n",
       "        vertical-align: top;\n",
       "    }\n",
       "\n",
       "    .dataframe thead th {\n",
       "        text-align: right;\n",
       "    }\n",
       "</style>\n",
       "<table border=\"1\" class=\"dataframe\">\n",
       "  <thead>\n",
       "    <tr style=\"text-align: right;\">\n",
       "      <th></th>\n",
       "      <th>Group name</th>\n",
       "      <th>Position</th>\n",
       "      <th>Description</th>\n",
       "      <th>Duration (s)</th>\n",
       "      <th>Distance (m)</th>\n",
       "      <th>Time on Ice (s)</th>\n",
       "      <th>High Metabolic Power Distance (m)</th>\n",
       "      <th>Mechanical Intensity</th>\n",
       "    </tr>\n",
       "  </thead>\n",
       "  <tbody>\n",
       "    <tr>\n",
       "      <th>0</th>\n",
       "      <td>Defense</td>\n",
       "      <td>D</td>\n",
       "      <td>vs Lugano</td>\n",
       "      <td>8836</td>\n",
       "      <td>3163</td>\n",
       "      <td>1038</td>\n",
       "      <td>1287</td>\n",
       "      <td>45,94</td>\n",
       "    </tr>\n",
       "    <tr>\n",
       "      <th>1</th>\n",
       "      <td>Offense</td>\n",
       "      <td>F</td>\n",
       "      <td>vs Lugano</td>\n",
       "      <td>8836</td>\n",
       "      <td>2881</td>\n",
       "      <td>689</td>\n",
       "      <td>1724</td>\n",
       "      <td>42,85</td>\n",
       "    </tr>\n",
       "    <tr>\n",
       "      <th>2</th>\n",
       "      <td>Offense</td>\n",
       "      <td>F</td>\n",
       "      <td>vs Lugano</td>\n",
       "      <td>8836</td>\n",
       "      <td>3586</td>\n",
       "      <td>932</td>\n",
       "      <td>2090</td>\n",
       "      <td>46,12</td>\n",
       "    </tr>\n",
       "    <tr>\n",
       "      <th>3</th>\n",
       "      <td>Offense</td>\n",
       "      <td>F</td>\n",
       "      <td>vs Lugano</td>\n",
       "      <td>8836</td>\n",
       "      <td>3881</td>\n",
       "      <td>1043</td>\n",
       "      <td>1956</td>\n",
       "      <td>44,38</td>\n",
       "    </tr>\n",
       "    <tr>\n",
       "      <th>4</th>\n",
       "      <td>Defense</td>\n",
       "      <td>D</td>\n",
       "      <td>vs Lugano</td>\n",
       "      <td>8836</td>\n",
       "      <td>354</td>\n",
       "      <td>92</td>\n",
       "      <td>179</td>\n",
       "      <td>44,95</td>\n",
       "    </tr>\n",
       "    <tr>\n",
       "      <th>...</th>\n",
       "      <td>...</td>\n",
       "      <td>...</td>\n",
       "      <td>...</td>\n",
       "      <td>...</td>\n",
       "      <td>...</td>\n",
       "      <td>...</td>\n",
       "      <td>...</td>\n",
       "      <td>...</td>\n",
       "    </tr>\n",
       "    <tr>\n",
       "      <th>93</th>\n",
       "      <td>Offense</td>\n",
       "      <td>F</td>\n",
       "      <td>Overtime</td>\n",
       "      <td>129</td>\n",
       "      <td>254</td>\n",
       "      <td>51</td>\n",
       "      <td>180</td>\n",
       "      <td>38,32</td>\n",
       "    </tr>\n",
       "    <tr>\n",
       "      <th>94</th>\n",
       "      <td>Defense</td>\n",
       "      <td>D</td>\n",
       "      <td>Overtime</td>\n",
       "      <td>129</td>\n",
       "      <td>92</td>\n",
       "      <td>27</td>\n",
       "      <td>12</td>\n",
       "      <td>25,67</td>\n",
       "    </tr>\n",
       "    <tr>\n",
       "      <th>97</th>\n",
       "      <td>Defense</td>\n",
       "      <td>D</td>\n",
       "      <td>Overtime</td>\n",
       "      <td>129</td>\n",
       "      <td>235</td>\n",
       "      <td>46</td>\n",
       "      <td>148</td>\n",
       "      <td>32,33</td>\n",
       "    </tr>\n",
       "    <tr>\n",
       "      <th>99</th>\n",
       "      <td>Offense</td>\n",
       "      <td>F</td>\n",
       "      <td>Overtime</td>\n",
       "      <td>129</td>\n",
       "      <td>228</td>\n",
       "      <td>48</td>\n",
       "      <td>131</td>\n",
       "      <td>43,6</td>\n",
       "    </tr>\n",
       "    <tr>\n",
       "      <th>100</th>\n",
       "      <td>Offense</td>\n",
       "      <td>F</td>\n",
       "      <td>Overtime</td>\n",
       "      <td>129</td>\n",
       "      <td>65</td>\n",
       "      <td>14</td>\n",
       "      <td>38</td>\n",
       "      <td>56,37</td>\n",
       "    </tr>\n",
       "  </tbody>\n",
       "</table>\n",
       "<p>89 rows × 8 columns</p>\n",
       "</div>"
      ],
      "text/plain": [
       "    Group name Position Description  Duration (s)  Distance (m)  \\\n",
       "0      Defense        D   vs Lugano          8836          3163   \n",
       "1      Offense        F   vs Lugano          8836          2881   \n",
       "2      Offense        F   vs Lugano          8836          3586   \n",
       "3      Offense        F   vs Lugano          8836          3881   \n",
       "4      Defense        D   vs Lugano          8836           354   \n",
       "..         ...      ...         ...           ...           ...   \n",
       "93     Offense        F    Overtime           129           254   \n",
       "94     Defense        D    Overtime           129            92   \n",
       "97     Defense        D    Overtime           129           235   \n",
       "99     Offense        F    Overtime           129           228   \n",
       "100    Offense        F    Overtime           129            65   \n",
       "\n",
       "     Time on Ice (s)  High Metabolic Power Distance (m) Mechanical Intensity  \n",
       "0               1038                               1287                45,94  \n",
       "1                689                               1724                42,85  \n",
       "2                932                               2090                46,12  \n",
       "3               1043                               1956                44,38  \n",
       "4                 92                                179                44,95  \n",
       "..               ...                                ...                  ...  \n",
       "93                51                                180                38,32  \n",
       "94                27                                 12                25,67  \n",
       "97                46                                148                32,33  \n",
       "99                48                                131                 43,6  \n",
       "100               14                                 38                56,37  \n",
       "\n",
       "[89 rows x 8 columns]"
      ]
     },
     "execution_count": 62,
     "metadata": {},
     "output_type": "execute_result"
    }
   ],
   "source": [
    "# Function to remove rows where the value of column Group name is not equal to 'Offense' or 'Defense'\n",
    "# This is done to remove the rows for the guest team present in the ZSC dataset\n",
    "\n",
    "\n",
    "def filter_group_name(df):\n",
    "    \"\"\"\n",
    "    Filters the DataFrame to retain rows where 'Group name' is 'Offense' or 'Defense'.\n",
    "\n",
    "    Parameters:\n",
    "    - df (pd.DataFrame): The input DataFrame.\n",
    "\n",
    "    Returns:\n",
    "    - pd.DataFrame: The filtered DataFrame.\n",
    "    \"\"\"\n",
    "    return df[df[\"Group name\"].isin([\"Offense\", \"Defense\", \"Goalies\"])]\n",
    "\n",
    "\n",
    "# Example usage:\n",
    "df_filtered_zsc = filter_group_name(df_imp_zsc)\n",
    "\n",
    "df_filtered_lugano = filter_group_name(df_imp_lugano)\n",
    "\n",
    "# Display the filtered data:\n",
    "# df_filtered_zsc\n",
    "\n",
    "# Display the filtered data:\n",
    "df_filtered_lugano"
   ]
  },
  {
   "cell_type": "markdown",
   "metadata": {},
   "source": [
    "### 1.4 ADDING PLAYER ID ONLY TO THE ROWS WITH COLUMN 'DESCRIPTION' = 'VS LUGANO' OR 'VS ZURICH' (GAME DATA ONLY, NOT PERIODS)"
   ]
  },
  {
   "cell_type": "markdown",
   "metadata": {},
   "source": [
    "This code defines a function \"add_player_id\" to add a 'Player ID' column as we don't have any such information in the Database, starting from 1, but only for rows with 'Description' as 'vs Lugano' or 'vs Zurich' i.e. (overall game) not Periods, and displays the first 7 rows of each updated DataFrame."
   ]
  },
  {
   "cell_type": "code",
   "execution_count": 63,
   "metadata": {},
   "outputs": [
    {
     "name": "stdout",
     "output_type": "stream",
     "text": [
      "  Group name    Position Description  Duration (s)  Distance (m)  \\\n",
      "0    Defense           D   vs Lugano          8836          3163   \n",
      "1    Offense           F   vs Lugano          8836          2881   \n",
      "2    Offense           F   vs Lugano          8836          3586   \n",
      "3    Offense           F   vs Lugano          8836          3881   \n",
      "4    Defense           D   vs Lugano          8836           354   \n",
      "5    Defense           D   vs Lugano          8836          5087   \n",
      "6    Goalies  Goalkeeper   vs Lugano          8836          1066   \n",
      "\n",
      "   Time on Ice (s)  High Metabolic Power Distance (m) Mechanical Intensity  \\\n",
      "0             1038                               1287                45,94   \n",
      "1              689                               1724                42,85   \n",
      "2              932                               2090                46,12   \n",
      "3             1043                               1956                44,38   \n",
      "4               92                                179                44,95   \n",
      "5             1360                               2501                41,27   \n",
      "6             4007                                  7                19,29   \n",
      "\n",
      "   Player ID  \n",
      "0          1  \n",
      "1          2  \n",
      "2          3  \n",
      "3          4  \n",
      "4          5  \n",
      "5          6  \n",
      "6          7  \n",
      "=============================================================================================================\n",
      "   Group name Position Description  Duration (s)  Distance (m)  \\\n",
      "0     Defense        D   vs Zurich          7868          3140   \n",
      "1     Offense        F   vs Zurich          7868          3037   \n",
      "2     Offense        F   vs Zurich          7868          4872   \n",
      "10    Offense        F   vs Zurich          7868          3648   \n",
      "11    Offense        F   vs Zurich          7868          2747   \n",
      "12    Defense        D   vs Zurich          7868          1324   \n",
      "28    Defense        D   vs Zurich          7868          3048   \n",
      "\n",
      "    Time on Ice (s)  High Metabolic Power Distance (m) Mechanical Intensity  \\\n",
      "0              1144                               1223                38,62   \n",
      "1               832                               1359                29,67   \n",
      "2              1394                               2227                37,04   \n",
      "10             1028                               1591                38,46   \n",
      "11              713                               1326                39,73   \n",
      "12              351                                753                50,74   \n",
      "28              933                               1199                40,19   \n",
      "\n",
      "    Player ID  \n",
      "0           1  \n",
      "1           2  \n",
      "2           3  \n",
      "10          4  \n",
      "11          5  \n",
      "12          6  \n",
      "28          7  \n"
     ]
    },
    {
     "name": "stderr",
     "output_type": "stream",
     "text": [
      "C:\\Users\\samue\\AppData\\Local\\Temp\\ipykernel_24612\\1598695549.py:13: SettingWithCopyWarning:\n",
      "\n",
      "\n",
      "A value is trying to be set on a copy of a slice from a DataFrame.\n",
      "Try using .loc[row_indexer,col_indexer] = value instead\n",
      "\n",
      "See the caveats in the documentation: https://pandas.pydata.org/pandas-docs/stable/user_guide/indexing.html#returning-a-view-versus-a-copy\n",
      "\n",
      "C:\\Users\\samue\\AppData\\Local\\Temp\\ipykernel_24612\\1598695549.py:14: SettingWithCopyWarning:\n",
      "\n",
      "\n",
      "A value is trying to be set on a copy of a slice from a DataFrame.\n",
      "Try using .loc[row_indexer,col_indexer] = value instead\n",
      "\n",
      "See the caveats in the documentation: https://pandas.pydata.org/pandas-docs/stable/user_guide/indexing.html#returning-a-view-versus-a-copy\n",
      "\n"
     ]
    }
   ],
   "source": [
    "def add_player_id(df):\n",
    "    \"\"\"\n",
    "    Adds a new column 'Player ID' to the DataFrame starting from 1, but only to the rows\n",
    "    with 'Description' as 'vs Lugano' or 'vs Zurich'.\n",
    "\n",
    "    Parameters:\n",
    "    - df (pd.DataFrame): The input DataFrame.\n",
    "\n",
    "    Returns:\n",
    "    - pd.DataFrame: The DataFrame with the new 'Player ID' column added to specific rows.\n",
    "    \"\"\"\n",
    "    mask = df[\"Description\"].isin([\"vs Lugano\", \"vs Zurich\"])\n",
    "    df.loc[mask, \"Player ID\"] = list(range(1, sum(mask) + 1))\n",
    "    df[\"Player ID\"] = df[\"Player ID\"].astype(\n",
    "        \"Int64\"\n",
    "    )  # Using Int64 to handle potential NaNs\n",
    "    return df\n",
    "\n",
    "\n",
    "# Example usage:\n",
    "df_imp_lugano = add_player_id(df_filtered_lugano)\n",
    "df_imp_zsc = add_player_id(df_filtered_zsc)\n",
    "\n",
    "# Displaying the first 7 rows:\n",
    "print(df_imp_lugano.head(7))\n",
    "\n",
    "print(\n",
    "    \"=============================================================================================================\"\n",
    ")\n",
    "\n",
    "print(df_imp_zsc.head(7))"
   ]
  },
  {
   "cell_type": "markdown",
   "metadata": {},
   "source": [
    "### 1.5 CHECKING COLUMN DATA TYPES"
   ]
  },
  {
   "cell_type": "markdown",
   "metadata": {},
   "source": [
    "This code checks and prints the data types of the columns in the \"df_imp_lugano\" and \"df_imp_zsc\" DataFrames. It helps in understanding the data types of each column, which can be important for data analysis and processing."
   ]
  },
  {
   "cell_type": "code",
   "execution_count": 64,
   "metadata": {},
   "outputs": [
    {
     "name": "stdout",
     "output_type": "stream",
     "text": [
      "Group name                           object\n",
      "Position                             object\n",
      "Description                          object\n",
      "Duration (s)                          int64\n",
      "Distance (m)                          int64\n",
      "Time on Ice (s)                       int64\n",
      "High Metabolic Power Distance (m)     int64\n",
      "Mechanical Intensity                 object\n",
      "Player ID                             Int64\n",
      "dtype: object\n",
      "=============================================================================================================\n",
      "Group name                           object\n",
      "Position                             object\n",
      "Description                          object\n",
      "Duration (s)                          int64\n",
      "Distance (m)                          int64\n",
      "Time on Ice (s)                       int64\n",
      "High Metabolic Power Distance (m)     int64\n",
      "Mechanical Intensity                 object\n",
      "Player ID                             Int64\n",
      "dtype: object\n"
     ]
    }
   ],
   "source": [
    "# Check the data types of the columns\n",
    "print(df_imp_lugano.dtypes)\n",
    "\n",
    "print(\n",
    "    \"=============================================================================================================\"\n",
    ")\n",
    "\n",
    "print(df_imp_zsc.dtypes)"
   ]
  },
  {
   "cell_type": "markdown",
   "metadata": {},
   "source": [
    "### 1.6 CONVERTING MECHANICAL INTENSITY COLUMN TO FLOAT"
   ]
  },
  {
   "cell_type": "markdown",
   "metadata": {},
   "source": [
    "This code defines a function that converts the 'Mechanical Intensity' column in the DataFrame from a string to a float data type which is required for further analysis."
   ]
  },
  {
   "cell_type": "code",
   "execution_count": 65,
   "metadata": {},
   "outputs": [
    {
     "name": "stdout",
     "output_type": "stream",
     "text": [
      "Group name                            object\n",
      "Position                              object\n",
      "Description                           object\n",
      "Duration (s)                           int64\n",
      "Distance (m)                           int64\n",
      "Time on Ice (s)                        int64\n",
      "High Metabolic Power Distance (m)      int64\n",
      "Mechanical Intensity                 float64\n",
      "Player ID                              Int64\n",
      "dtype: object\n",
      "=============================================================================================================\n",
      "Group name                            object\n",
      "Position                              object\n",
      "Description                           object\n",
      "Duration (s)                           int64\n",
      "Distance (m)                           int64\n",
      "Time on Ice (s)                        int64\n",
      "High Metabolic Power Distance (m)      int64\n",
      "Mechanical Intensity                 float64\n",
      "Player ID                              Int64\n",
      "dtype: object\n"
     ]
    }
   ],
   "source": [
    "def convert_mechanical_intensity_to_float(df):\n",
    "    \"\"\"\n",
    "    Converts the data type of the 'Mechanical Intensity' column from string to float.\n",
    "\n",
    "    Parameters:\n",
    "    - df (pd.DataFrame): The input DataFrame.\n",
    "\n",
    "    Returns:\n",
    "    - pd.DataFrame: The DataFrame with the 'Mechanical Intensity' column converted to float.\n",
    "    \"\"\"\n",
    "    df[\"Mechanical Intensity\"] = (\n",
    "        df[\"Mechanical Intensity\"].str.replace(\",\", \".\").astype(float)\n",
    "    )\n",
    "    return df\n",
    "\n",
    "\n",
    "# Example usage:\n",
    "df_imp_lugano = convert_mechanical_intensity_to_float(df_imp_lugano)\n",
    "df_imp_zsc = convert_mechanical_intensity_to_float(df_imp_zsc)\n",
    "\n",
    "# Checking the data types:\n",
    "print(df_imp_lugano.dtypes)\n",
    "\n",
    "print(\n",
    "    \"=============================================================================================================\"\n",
    ")\n",
    "\n",
    "print(df_imp_zsc.dtypes)"
   ]
  },
  {
   "cell_type": "markdown",
   "metadata": {},
   "source": [
    "## 2. CONCEPTUAL FRAMEWORK AND METHODOLOGY\n",
    "\n",
    "Given the anonymized nature and the small sample size of our dataset, combined with numerous variables at play, we've made certain assumptions to ensure its suitable for our use-case. Here’s our approach to understanding player fatigue:\n",
    "\n",
    "1. **Picking Player Data:**\n",
    "   Due to lack of player identification data, we had to infer that first 21 rows represent individual player data. This is based on the understanding that a hockey team typically consists of 20 players. This selection ensures we capture data for each unique player.\n",
    "\n",
    "2. **Identifying Player Roles:**\n",
    "   We assess the 'Position' column to differentiate between a forward (FW), defenseman (D) and Goalkeeper. The roles they play on the ice rink might result in different fatigue levels.\n",
    "\n",
    "3. **Data Segmentation:**\n",
    "   With hundreds of variables present, we narrow down and segment data by recommended metrics from the icehockey club. This targeted analysis aids in the precise estimation of the Fatigue Index (FI).\n",
    "\n",
    "4. **Developing the Fatigue Formula:**\n",
    "   Using a combination of the dataset metrics, we create a formula that captures the aspects of player fatigue. This formula is designed to be sensitive to player roles, game dynamics, and other key factors.\n",
    "\n",
    "5. **Fatigue Estimation:**\n",
    "   Using the curated data from the previous steps, we derive the Fatigue Index (FI).\n",
    "\n",
    "6. **Visualization:**\n",
    "   We design a clear and easy-to-understand graphic to show the fatigue levels. This helps coaches quickly see and understand player tiredness.\n"
   ]
  },
  {
   "cell_type": "markdown",
   "metadata": {},
   "source": [
    "### 2.1 FILTERING THE DATASET BASED ON PERIOD OR FULL GAME"
   ]
  },
  {
   "cell_type": "markdown",
   "metadata": {},
   "source": [
    "This code defines a function filter_period_data that filters a DataFrame based on the provided description. In this case, it's used to select rows with the description \"vs Lugano\" or \"vs Zurich, to filter only match data not the period data from the Dataframe. The code then displays the filtered match data for both datasets."
   ]
  },
  {
   "cell_type": "code",
   "execution_count": 66,
   "metadata": {},
   "outputs": [
    {
     "name": "stdout",
     "output_type": "stream",
     "text": [
      "   Group name    Position Description  Duration (s)  Distance (m)  \\\n",
      "0     Defense           D   vs Zurich          7868          3140   \n",
      "1     Offense           F   vs Zurich          7868          3037   \n",
      "2     Offense           F   vs Zurich          7868          4872   \n",
      "10    Offense           F   vs Zurich          7868          3648   \n",
      "11    Offense           F   vs Zurich          7868          2747   \n",
      "12    Defense           D   vs Zurich          7868          1324   \n",
      "28    Defense           D   vs Zurich          7868          3048   \n",
      "29    Goalies  Goalkeeper   vs Zurich          7868          1124   \n",
      "30    Offense           F   vs Zurich          7868          4376   \n",
      "31    Offense           F   vs Zurich          7868          3824   \n",
      "32    Defense           D   vs Zurich          7868          4242   \n",
      "33    Defense           D   vs Zurich          7868          4327   \n",
      "34    Defense           F   vs Zurich          7868          1574   \n",
      "35    Offense           F   vs Zurich          7868          2584   \n",
      "36    Defense           D   vs Zurich          7868          5568   \n",
      "37    Offense           F   vs Zurich          7868          1927   \n",
      "38    Offense           F   vs Zurich          7868          4354   \n",
      "39    Offense           F   vs Zurich          7868          4268   \n",
      "40    Offense           F   vs Zurich          7868          3424   \n",
      "41    Offense           F   vs Zurich          7868          2866   \n",
      "\n",
      "    Time on Ice (s)  High Metabolic Power Distance (m)  Mechanical Intensity  \\\n",
      "0              1144                               1223                 38.62   \n",
      "1               832                               1359                 29.67   \n",
      "2              1394                               2227                 37.04   \n",
      "10             1028                               1591                 38.46   \n",
      "11              713                               1326                 39.73   \n",
      "12              351                                753                 50.74   \n",
      "28              933                               1199                 40.19   \n",
      "29             3797                                 41                 19.75   \n",
      "30             1057                               2495                 40.89   \n",
      "31              982                               1674                 33.64   \n",
      "32             1278                               1777                 38.67   \n",
      "33             1406                               1267                 30.57   \n",
      "34              411                                738                 40.50   \n",
      "35              596                               1440                 38.29   \n",
      "36             1728                               2097                 33.56   \n",
      "37              471                                780                 28.68   \n",
      "38             1244                               1928                 38.69   \n",
      "39             1168                               1746                 29.35   \n",
      "40              928                               1571                 37.69   \n",
      "41              798                                974                 27.96   \n",
      "\n",
      "    Player ID  \n",
      "0           1  \n",
      "1           2  \n",
      "2           3  \n",
      "10          4  \n",
      "11          5  \n",
      "12          6  \n",
      "28          7  \n",
      "29          8  \n",
      "30          9  \n",
      "31         10  \n",
      "32         11  \n",
      "33         12  \n",
      "34         13  \n",
      "35         14  \n",
      "36         15  \n",
      "37         16  \n",
      "38         17  \n",
      "39         18  \n",
      "40         19  \n",
      "41         20  \n",
      "=============================================================================================================\n",
      "   Group name    Position Description  Duration (s)  Distance (m)  \\\n",
      "0     Defense           D   vs Lugano          8836          3163   \n",
      "1     Offense           F   vs Lugano          8836          2881   \n",
      "2     Offense           F   vs Lugano          8836          3586   \n",
      "3     Offense           F   vs Lugano          8836          3881   \n",
      "4     Defense           D   vs Lugano          8836           354   \n",
      "5     Defense           D   vs Lugano          8836          5087   \n",
      "6     Goalies  Goalkeeper   vs Lugano          8836          1066   \n",
      "7     Offense           F   vs Lugano          8836          4683   \n",
      "8     Offense           F   vs Lugano          8836          4009   \n",
      "9     Defense           D   vs Lugano          8836          4383   \n",
      "10    Offense           F   vs Lugano          8836          4935   \n",
      "11    Defense           D   vs Lugano          8836          4771   \n",
      "12    Defense           F   vs Lugano          8836          3498   \n",
      "13    Offense           F   vs Lugano          8836            21   \n",
      "14    Defense           D   vs Lugano          8836          5223   \n",
      "15    Offense           F   vs Lugano          8836          3174   \n",
      "16    Offense           F   vs Lugano          8836          4759   \n",
      "17    Offense           F   vs Lugano          8836          2621   \n",
      "18    Offense           F   vs Lugano          8836          4039   \n",
      "19    Offense           F   vs Lugano          8836          2595   \n",
      "20    Offense           F   vs Lugano          8836          2278   \n",
      "\n",
      "    Time on Ice (s)  High Metabolic Power Distance (m)  Mechanical Intensity  \\\n",
      "0              1038                               1287                 45.94   \n",
      "1               689                               1724                 42.85   \n",
      "2               932                               2090                 46.12   \n",
      "3              1043                               1956                 44.38   \n",
      "4                92                                179                 44.95   \n",
      "5              1360                               2501                 41.27   \n",
      "6              4007                                  7                 19.29   \n",
      "7              1162                               2758                 44.56   \n",
      "8              1239                               2066                 38.62   \n",
      "9              1307                               1913                 45.25   \n",
      "10             1070                               3228                 43.63   \n",
      "11             1396                               1499                 29.33   \n",
      "12              936                               1689                 45.32   \n",
      "13                9                                  0                 12.84   \n",
      "14             1485                               2555                 38.53   \n",
      "15              823                               1764                 43.83   \n",
      "16             1177                               2489                 42.51   \n",
      "17              732                               1279                 45.50   \n",
      "18             1034                               2047                 41.40   \n",
      "19              609                               1465                 40.73   \n",
      "20              545                               1263                 47.27   \n",
      "\n",
      "    Player ID  \n",
      "0           1  \n",
      "1           2  \n",
      "2           3  \n",
      "3           4  \n",
      "4           5  \n",
      "5           6  \n",
      "6           7  \n",
      "7           8  \n",
      "8           9  \n",
      "9          10  \n",
      "10         11  \n",
      "11         12  \n",
      "12         13  \n",
      "13         14  \n",
      "14         15  \n",
      "15         16  \n",
      "16         17  \n",
      "17         18  \n",
      "18         19  \n",
      "19         20  \n",
      "20         21  \n"
     ]
    }
   ],
   "source": [
    "# As we want only unique player data, we can safely select the game data i.e rows with Description = \"vs Lugano\"\n",
    "# We can infer that because an ice hockey team typically consists of 20 players, including 2 goaltenders and 18 skaters.\n",
    "# and \"vs Lugano\" implies that that row is for the game data NOT period data.\n",
    "# and the proportion of forwards to defensemen\n",
    "\n",
    "\n",
    "def filter_period_data(df, description):\n",
    "    \"\"\"\n",
    "    Filters the DataFrame based on the given description.\n",
    "\n",
    "    Parameters:\n",
    "    - df (pd.DataFrame): The input DataFrame.\n",
    "    - description (str): The description to filter by. Can be '1st Period', '2nd Period', '3rd Period' or 'vs Lugano' or 'vs Zurich'.\n",
    "\n",
    "    Returns:\n",
    "    - pd.DataFrame: The filtered DataFrame.\n",
    "    \"\"\"\n",
    "    return df[df[\"Description\"] == description]\n",
    "\n",
    "\n",
    "# Example usage:\n",
    "df_imp_lugano_game = filter_period_data(df_imp_lugano, \"vs Lugano\")\n",
    "df_imp_zsc_game = filter_period_data(df_imp_zsc, \"vs Zurich\")\n",
    "\n",
    "# Display the filtered data:\n",
    "\n",
    "print(df_imp_zsc_game)\n",
    "\n",
    "print(\n",
    "    \"=============================================================================================================\"\n",
    ")\n",
    "\n",
    "print(df_imp_lugano_game)"
   ]
  },
  {
   "cell_type": "markdown",
   "metadata": {},
   "source": [
    "This code calculates and displays the counts of players in different positions in the match data for both Lugano and Zurich teams."
   ]
  },
  {
   "cell_type": "code",
   "execution_count": 67,
   "metadata": {},
   "outputs": [
    {
     "name": "stdout",
     "output_type": "stream",
     "text": [
      "Position\n",
      "F             14\n",
      "D              6\n",
      "Goalkeeper     1\n",
      "Name: count, dtype: int64\n",
      "=============================================================================================================\n",
      "Position\n",
      "F             13\n",
      "D              6\n",
      "Goalkeeper     1\n",
      "Name: count, dtype: int64\n"
     ]
    }
   ],
   "source": [
    "# Calculate the ratio of forwards to defensemen using position column\n",
    "\n",
    "print(df_imp_lugano_game[\"Position\"].value_counts())\n",
    "\n",
    "print(\n",
    "    \"=============================================================================================================\"\n",
    ")\n",
    "\n",
    "print(df_imp_zsc_game[\"Position\"].value_counts())"
   ]
  },
  {
   "cell_type": "markdown",
   "metadata": {},
   "source": [
    "This code calculates the ratio of forwards to defensemen for both Lugano (FL/DL) and ZSC (FZ/DZ) teams in the match data. It then prints these ratios as fractions.\n"
   ]
  },
  {
   "cell_type": "code",
   "execution_count": 68,
   "metadata": {},
   "outputs": [
    {
     "name": "stdout",
     "output_type": "stream",
     "text": [
      "2.3333333333333335\n",
      "=============================================================================================================\n",
      "2.1666666666666665\n"
     ]
    },
    {
     "name": "stderr",
     "output_type": "stream",
     "text": [
      "C:\\Users\\samue\\AppData\\Local\\Temp\\ipykernel_24612\\3698038912.py:2: FutureWarning:\n",
      "\n",
      "Series.__getitem__ treating keys as positions is deprecated. In a future version, integer keys will always be treated as labels (consistent with DataFrame behavior). To access a value by position, use `ser.iloc[pos]`\n",
      "\n",
      "C:\\Users\\samue\\AppData\\Local\\Temp\\ipykernel_24612\\3698038912.py:3: FutureWarning:\n",
      "\n",
      "Series.__getitem__ treating keys as positions is deprecated. In a future version, integer keys will always be treated as labels (consistent with DataFrame behavior). To access a value by position, use `ser.iloc[pos]`\n",
      "\n",
      "C:\\Users\\samue\\AppData\\Local\\Temp\\ipykernel_24612\\3698038912.py:15: FutureWarning:\n",
      "\n",
      "Series.__getitem__ treating keys as positions is deprecated. In a future version, integer keys will always be treated as labels (consistent with DataFrame behavior). To access a value by position, use `ser.iloc[pos]`\n",
      "\n",
      "C:\\Users\\samue\\AppData\\Local\\Temp\\ipykernel_24612\\3698038912.py:16: FutureWarning:\n",
      "\n",
      "Series.__getitem__ treating keys as positions is deprecated. In a future version, integer keys will always be treated as labels (consistent with DataFrame behavior). To access a value by position, use `ser.iloc[pos]`\n",
      "\n"
     ]
    }
   ],
   "source": [
    "# Calculate ratio of F to D for Lugano\n",
    "FL = df_imp_lugano_game[\"Position\"].value_counts()[0]\n",
    "DL = df_imp_lugano_game[\"Position\"].value_counts()[1]\n",
    "ratio_L = FL / DL\n",
    "\n",
    "# print ratio as a fraction\n",
    "\n",
    "print(ratio_L)\n",
    "\n",
    "print(\n",
    "    \"=============================================================================================================\"\n",
    ")\n",
    "\n",
    "# Calculate ratio of F to D for ZSC\n",
    "FZ = df_imp_zsc_game[\"Position\"].value_counts()[0]\n",
    "DZ = df_imp_zsc_game[\"Position\"].value_counts()[1]\n",
    "ratio_Z = FZ / DZ\n",
    "\n",
    "# print ratio as a fraction\n",
    "\n",
    "print(ratio_Z)"
   ]
  },
  {
   "cell_type": "markdown",
   "metadata": {},
   "source": [
    "## 3. CREATING A RELATIVE FATIGUE LEVEL FORMULA\n",
    "\n",
    "- Typically involves empirical research, biomechanics, and physiological considerations.\n",
    "- However, we propose a simple, hypothetical formula to estimate fatigue.\n",
    "- DISCLAIMER : This is a rough estimation and not based on scientific research.\n",
    "- Using the important metrics recommended by the Ice Hockey Club & Professor Martin Rumo, we attempt to create a formula that can be used to estimate fatigue levels.\n"
   ]
  },
  {
   "cell_type": "markdown",
   "metadata": {},
   "source": [
    "#### Relative Fatigue Index (RFI) = [A * (Time on ice/ Match Duration) + B * (High Metabolic Power Distance / Total Distance) + C * (Mechanical Intensity)]\n",
    "\n",
    "- TIME FACTOR : Percentage of Time spent on Ice. Here, the idea is simple: the more time a player spends on the ice, the more fatigued they're likely to be.\n",
    "\n",
    "- DISTANCE OR INTENSITY FACTOR : Percentage of the distance covered at high intensities. It's a straightforward indicator of how hard a player pushed themselves relative to their overall activity. It is the distance covered at high metabolic power divided by the total distance covered.\n",
    "\n",
    "- MECHANICAL OR LOAD INTENSITY : How intense a player's session was concerning accelerations and decelerations.It models the intensity of a session or phase and provides important information about its impact on the lower limbs. It is the Mechanical Load divided by the total time in minutes.\n",
    "\n",
    "- A, B, and C: Weights assigned to each of the factors. These weights are determined by the coach based on the importance of each factor in the context of the team's strategy and the coach's philosophy.\n"
   ]
  },
  {
   "cell_type": "markdown",
   "metadata": {},
   "source": [
    "### 3.1 CALCULATIONS FOR GAME DATA\n"
   ]
  },
  {
   "cell_type": "markdown",
   "metadata": {},
   "source": [
    "#### NORMALIZE MECHANICAL INTENSITY\n"
   ]
  },
  {
   "cell_type": "markdown",
   "metadata": {},
   "source": [
    "This code defines a function \"normalize_column\" that normalizes a specified column of a DataFrame between 0 and 1. It takes as input a DataFrame and the name of the column to be normalized, calculates the minimum and maximum values in that column, and then creates a new column with the normalized values."
   ]
  },
  {
   "cell_type": "code",
   "execution_count": 69,
   "metadata": {},
   "outputs": [],
   "source": [
    "def normalize_column(df: pd.DataFrame, column_name: str) -> pd.DataFrame:\n",
    "    \"\"\"\n",
    "    Normalize the specified column of a DataFrame between 0 and 1.\n",
    "\n",
    "    Parameters:\n",
    "        df (pd.DataFrame): The input DataFrame.\n",
    "        column_name (str): The column name to be normalized.\n",
    "\n",
    "    Returns:\n",
    "        pd.DataFrame: DataFrame with the specified column normalized.\n",
    "    \"\"\"\n",
    "\n",
    "    min_val = df[column_name].min()\n",
    "    max_val = df[column_name].max()\n",
    "\n",
    "    df[f\"Normalized {column_name}\"] = (df[column_name] - min_val) / (max_val - min_val)\n",
    "\n",
    "    return df"
   ]
  },
  {
   "cell_type": "markdown",
   "metadata": {},
   "source": [
    "This code normalizes the \"Mechanical Intensity\" column in the game data DataFrames for both ZSC and Lugano. It applies the normalize_column function to each DataFrame, creating new columns with normalized values. The resulting normalized data for both teams is displayed."
   ]
  },
  {
   "cell_type": "code",
   "execution_count": 70,
   "metadata": {},
   "outputs": [
    {
     "name": "stdout",
     "output_type": "stream",
     "text": [
      "=============================================================================================================\n"
     ]
    },
    {
     "name": "stderr",
     "output_type": "stream",
     "text": [
      "C:\\Users\\samue\\AppData\\Local\\Temp\\ipykernel_24612\\2955274681.py:16: SettingWithCopyWarning:\n",
      "\n",
      "\n",
      "A value is trying to be set on a copy of a slice from a DataFrame.\n",
      "Try using .loc[row_indexer,col_indexer] = value instead\n",
      "\n",
      "See the caveats in the documentation: https://pandas.pydata.org/pandas-docs/stable/user_guide/indexing.html#returning-a-view-versus-a-copy\n",
      "\n",
      "C:\\Users\\samue\\AppData\\Local\\Temp\\ipykernel_24612\\2955274681.py:16: SettingWithCopyWarning:\n",
      "\n",
      "\n",
      "A value is trying to be set on a copy of a slice from a DataFrame.\n",
      "Try using .loc[row_indexer,col_indexer] = value instead\n",
      "\n",
      "See the caveats in the documentation: https://pandas.pydata.org/pandas-docs/stable/user_guide/indexing.html#returning-a-view-versus-a-copy\n",
      "\n"
     ]
    },
    {
     "data": {
      "text/html": [
       "<div>\n",
       "<style scoped>\n",
       "    .dataframe tbody tr th:only-of-type {\n",
       "        vertical-align: middle;\n",
       "    }\n",
       "\n",
       "    .dataframe tbody tr th {\n",
       "        vertical-align: top;\n",
       "    }\n",
       "\n",
       "    .dataframe thead th {\n",
       "        text-align: right;\n",
       "    }\n",
       "</style>\n",
       "<table border=\"1\" class=\"dataframe\">\n",
       "  <thead>\n",
       "    <tr style=\"text-align: right;\">\n",
       "      <th></th>\n",
       "      <th>Group name</th>\n",
       "      <th>Position</th>\n",
       "      <th>Description</th>\n",
       "      <th>Duration (s)</th>\n",
       "      <th>Distance (m)</th>\n",
       "      <th>Time on Ice (s)</th>\n",
       "      <th>High Metabolic Power Distance (m)</th>\n",
       "      <th>Mechanical Intensity</th>\n",
       "      <th>Player ID</th>\n",
       "      <th>Normalized Mechanical Intensity</th>\n",
       "    </tr>\n",
       "  </thead>\n",
       "  <tbody>\n",
       "    <tr>\n",
       "      <th>0</th>\n",
       "      <td>Defense</td>\n",
       "      <td>D</td>\n",
       "      <td>vs Lugano</td>\n",
       "      <td>8836</td>\n",
       "      <td>3163</td>\n",
       "      <td>1038</td>\n",
       "      <td>1287</td>\n",
       "      <td>45.94</td>\n",
       "      <td>1</td>\n",
       "      <td>0.961371</td>\n",
       "    </tr>\n",
       "    <tr>\n",
       "      <th>1</th>\n",
       "      <td>Offense</td>\n",
       "      <td>F</td>\n",
       "      <td>vs Lugano</td>\n",
       "      <td>8836</td>\n",
       "      <td>2881</td>\n",
       "      <td>689</td>\n",
       "      <td>1724</td>\n",
       "      <td>42.85</td>\n",
       "      <td>2</td>\n",
       "      <td>0.871624</td>\n",
       "    </tr>\n",
       "    <tr>\n",
       "      <th>2</th>\n",
       "      <td>Offense</td>\n",
       "      <td>F</td>\n",
       "      <td>vs Lugano</td>\n",
       "      <td>8836</td>\n",
       "      <td>3586</td>\n",
       "      <td>932</td>\n",
       "      <td>2090</td>\n",
       "      <td>46.12</td>\n",
       "      <td>3</td>\n",
       "      <td>0.966599</td>\n",
       "    </tr>\n",
       "    <tr>\n",
       "      <th>3</th>\n",
       "      <td>Offense</td>\n",
       "      <td>F</td>\n",
       "      <td>vs Lugano</td>\n",
       "      <td>8836</td>\n",
       "      <td>3881</td>\n",
       "      <td>1043</td>\n",
       "      <td>1956</td>\n",
       "      <td>44.38</td>\n",
       "      <td>4</td>\n",
       "      <td>0.916062</td>\n",
       "    </tr>\n",
       "    <tr>\n",
       "      <th>4</th>\n",
       "      <td>Defense</td>\n",
       "      <td>D</td>\n",
       "      <td>vs Lugano</td>\n",
       "      <td>8836</td>\n",
       "      <td>354</td>\n",
       "      <td>92</td>\n",
       "      <td>179</td>\n",
       "      <td>44.95</td>\n",
       "      <td>5</td>\n",
       "      <td>0.932617</td>\n",
       "    </tr>\n",
       "    <tr>\n",
       "      <th>5</th>\n",
       "      <td>Defense</td>\n",
       "      <td>D</td>\n",
       "      <td>vs Lugano</td>\n",
       "      <td>8836</td>\n",
       "      <td>5087</td>\n",
       "      <td>1360</td>\n",
       "      <td>2501</td>\n",
       "      <td>41.27</td>\n",
       "      <td>6</td>\n",
       "      <td>0.825733</td>\n",
       "    </tr>\n",
       "    <tr>\n",
       "      <th>6</th>\n",
       "      <td>Goalies</td>\n",
       "      <td>Goalkeeper</td>\n",
       "      <td>vs Lugano</td>\n",
       "      <td>8836</td>\n",
       "      <td>1066</td>\n",
       "      <td>4007</td>\n",
       "      <td>7</td>\n",
       "      <td>19.29</td>\n",
       "      <td>7</td>\n",
       "      <td>0.187337</td>\n",
       "    </tr>\n",
       "    <tr>\n",
       "      <th>7</th>\n",
       "      <td>Offense</td>\n",
       "      <td>F</td>\n",
       "      <td>vs Lugano</td>\n",
       "      <td>8836</td>\n",
       "      <td>4683</td>\n",
       "      <td>1162</td>\n",
       "      <td>2758</td>\n",
       "      <td>44.56</td>\n",
       "      <td>8</td>\n",
       "      <td>0.921290</td>\n",
       "    </tr>\n",
       "    <tr>\n",
       "      <th>8</th>\n",
       "      <td>Offense</td>\n",
       "      <td>F</td>\n",
       "      <td>vs Lugano</td>\n",
       "      <td>8836</td>\n",
       "      <td>4009</td>\n",
       "      <td>1239</td>\n",
       "      <td>2066</td>\n",
       "      <td>38.62</td>\n",
       "      <td>9</td>\n",
       "      <td>0.748766</td>\n",
       "    </tr>\n",
       "    <tr>\n",
       "      <th>9</th>\n",
       "      <td>Defense</td>\n",
       "      <td>D</td>\n",
       "      <td>vs Lugano</td>\n",
       "      <td>8836</td>\n",
       "      <td>4383</td>\n",
       "      <td>1307</td>\n",
       "      <td>1913</td>\n",
       "      <td>45.25</td>\n",
       "      <td>10</td>\n",
       "      <td>0.941330</td>\n",
       "    </tr>\n",
       "    <tr>\n",
       "      <th>10</th>\n",
       "      <td>Offense</td>\n",
       "      <td>F</td>\n",
       "      <td>vs Lugano</td>\n",
       "      <td>8836</td>\n",
       "      <td>4935</td>\n",
       "      <td>1070</td>\n",
       "      <td>3228</td>\n",
       "      <td>43.63</td>\n",
       "      <td>11</td>\n",
       "      <td>0.894278</td>\n",
       "    </tr>\n",
       "    <tr>\n",
       "      <th>11</th>\n",
       "      <td>Defense</td>\n",
       "      <td>D</td>\n",
       "      <td>vs Lugano</td>\n",
       "      <td>8836</td>\n",
       "      <td>4771</td>\n",
       "      <td>1396</td>\n",
       "      <td>1499</td>\n",
       "      <td>29.33</td>\n",
       "      <td>12</td>\n",
       "      <td>0.478943</td>\n",
       "    </tr>\n",
       "    <tr>\n",
       "      <th>12</th>\n",
       "      <td>Defense</td>\n",
       "      <td>F</td>\n",
       "      <td>vs Lugano</td>\n",
       "      <td>8836</td>\n",
       "      <td>3498</td>\n",
       "      <td>936</td>\n",
       "      <td>1689</td>\n",
       "      <td>45.32</td>\n",
       "      <td>13</td>\n",
       "      <td>0.943363</td>\n",
       "    </tr>\n",
       "    <tr>\n",
       "      <th>13</th>\n",
       "      <td>Offense</td>\n",
       "      <td>F</td>\n",
       "      <td>vs Lugano</td>\n",
       "      <td>8836</td>\n",
       "      <td>21</td>\n",
       "      <td>9</td>\n",
       "      <td>0</td>\n",
       "      <td>12.84</td>\n",
       "      <td>14</td>\n",
       "      <td>0.000000</td>\n",
       "    </tr>\n",
       "    <tr>\n",
       "      <th>14</th>\n",
       "      <td>Defense</td>\n",
       "      <td>D</td>\n",
       "      <td>vs Lugano</td>\n",
       "      <td>8836</td>\n",
       "      <td>5223</td>\n",
       "      <td>1485</td>\n",
       "      <td>2555</td>\n",
       "      <td>38.53</td>\n",
       "      <td>15</td>\n",
       "      <td>0.746152</td>\n",
       "    </tr>\n",
       "    <tr>\n",
       "      <th>15</th>\n",
       "      <td>Offense</td>\n",
       "      <td>F</td>\n",
       "      <td>vs Lugano</td>\n",
       "      <td>8836</td>\n",
       "      <td>3174</td>\n",
       "      <td>823</td>\n",
       "      <td>1764</td>\n",
       "      <td>43.83</td>\n",
       "      <td>16</td>\n",
       "      <td>0.900087</td>\n",
       "    </tr>\n",
       "    <tr>\n",
       "      <th>16</th>\n",
       "      <td>Offense</td>\n",
       "      <td>F</td>\n",
       "      <td>vs Lugano</td>\n",
       "      <td>8836</td>\n",
       "      <td>4759</td>\n",
       "      <td>1177</td>\n",
       "      <td>2489</td>\n",
       "      <td>42.51</td>\n",
       "      <td>17</td>\n",
       "      <td>0.861748</td>\n",
       "    </tr>\n",
       "    <tr>\n",
       "      <th>17</th>\n",
       "      <td>Offense</td>\n",
       "      <td>F</td>\n",
       "      <td>vs Lugano</td>\n",
       "      <td>8836</td>\n",
       "      <td>2621</td>\n",
       "      <td>732</td>\n",
       "      <td>1279</td>\n",
       "      <td>45.50</td>\n",
       "      <td>18</td>\n",
       "      <td>0.948591</td>\n",
       "    </tr>\n",
       "    <tr>\n",
       "      <th>18</th>\n",
       "      <td>Offense</td>\n",
       "      <td>F</td>\n",
       "      <td>vs Lugano</td>\n",
       "      <td>8836</td>\n",
       "      <td>4039</td>\n",
       "      <td>1034</td>\n",
       "      <td>2047</td>\n",
       "      <td>41.40</td>\n",
       "      <td>19</td>\n",
       "      <td>0.829509</td>\n",
       "    </tr>\n",
       "    <tr>\n",
       "      <th>19</th>\n",
       "      <td>Offense</td>\n",
       "      <td>F</td>\n",
       "      <td>vs Lugano</td>\n",
       "      <td>8836</td>\n",
       "      <td>2595</td>\n",
       "      <td>609</td>\n",
       "      <td>1465</td>\n",
       "      <td>40.73</td>\n",
       "      <td>20</td>\n",
       "      <td>0.810049</td>\n",
       "    </tr>\n",
       "    <tr>\n",
       "      <th>20</th>\n",
       "      <td>Offense</td>\n",
       "      <td>F</td>\n",
       "      <td>vs Lugano</td>\n",
       "      <td>8836</td>\n",
       "      <td>2278</td>\n",
       "      <td>545</td>\n",
       "      <td>1263</td>\n",
       "      <td>47.27</td>\n",
       "      <td>21</td>\n",
       "      <td>1.000000</td>\n",
       "    </tr>\n",
       "  </tbody>\n",
       "</table>\n",
       "</div>"
      ],
      "text/plain": [
       "   Group name    Position Description  Duration (s)  Distance (m)  \\\n",
       "0     Defense           D   vs Lugano          8836          3163   \n",
       "1     Offense           F   vs Lugano          8836          2881   \n",
       "2     Offense           F   vs Lugano          8836          3586   \n",
       "3     Offense           F   vs Lugano          8836          3881   \n",
       "4     Defense           D   vs Lugano          8836           354   \n",
       "5     Defense           D   vs Lugano          8836          5087   \n",
       "6     Goalies  Goalkeeper   vs Lugano          8836          1066   \n",
       "7     Offense           F   vs Lugano          8836          4683   \n",
       "8     Offense           F   vs Lugano          8836          4009   \n",
       "9     Defense           D   vs Lugano          8836          4383   \n",
       "10    Offense           F   vs Lugano          8836          4935   \n",
       "11    Defense           D   vs Lugano          8836          4771   \n",
       "12    Defense           F   vs Lugano          8836          3498   \n",
       "13    Offense           F   vs Lugano          8836            21   \n",
       "14    Defense           D   vs Lugano          8836          5223   \n",
       "15    Offense           F   vs Lugano          8836          3174   \n",
       "16    Offense           F   vs Lugano          8836          4759   \n",
       "17    Offense           F   vs Lugano          8836          2621   \n",
       "18    Offense           F   vs Lugano          8836          4039   \n",
       "19    Offense           F   vs Lugano          8836          2595   \n",
       "20    Offense           F   vs Lugano          8836          2278   \n",
       "\n",
       "    Time on Ice (s)  High Metabolic Power Distance (m)  Mechanical Intensity  \\\n",
       "0              1038                               1287                 45.94   \n",
       "1               689                               1724                 42.85   \n",
       "2               932                               2090                 46.12   \n",
       "3              1043                               1956                 44.38   \n",
       "4                92                                179                 44.95   \n",
       "5              1360                               2501                 41.27   \n",
       "6              4007                                  7                 19.29   \n",
       "7              1162                               2758                 44.56   \n",
       "8              1239                               2066                 38.62   \n",
       "9              1307                               1913                 45.25   \n",
       "10             1070                               3228                 43.63   \n",
       "11             1396                               1499                 29.33   \n",
       "12              936                               1689                 45.32   \n",
       "13                9                                  0                 12.84   \n",
       "14             1485                               2555                 38.53   \n",
       "15              823                               1764                 43.83   \n",
       "16             1177                               2489                 42.51   \n",
       "17              732                               1279                 45.50   \n",
       "18             1034                               2047                 41.40   \n",
       "19              609                               1465                 40.73   \n",
       "20              545                               1263                 47.27   \n",
       "\n",
       "    Player ID  Normalized Mechanical Intensity  \n",
       "0           1                         0.961371  \n",
       "1           2                         0.871624  \n",
       "2           3                         0.966599  \n",
       "3           4                         0.916062  \n",
       "4           5                         0.932617  \n",
       "5           6                         0.825733  \n",
       "6           7                         0.187337  \n",
       "7           8                         0.921290  \n",
       "8           9                         0.748766  \n",
       "9          10                         0.941330  \n",
       "10         11                         0.894278  \n",
       "11         12                         0.478943  \n",
       "12         13                         0.943363  \n",
       "13         14                         0.000000  \n",
       "14         15                         0.746152  \n",
       "15         16                         0.900087  \n",
       "16         17                         0.861748  \n",
       "17         18                         0.948591  \n",
       "18         19                         0.829509  \n",
       "19         20                         0.810049  \n",
       "20         21                         1.000000  "
      ]
     },
     "execution_count": 70,
     "metadata": {},
     "output_type": "execute_result"
    }
   ],
   "source": [
    "# NORMALIZE MECHANICAL INTENSITY COLUMN FOR LUGANO AND ZSC GAME DATA\n",
    "df_imp_zsc_game = normalize_column(df_imp_zsc_game, \"Mechanical Intensity\")\n",
    "\n",
    "df_imp_zsc_game\n",
    "\n",
    "print(\n",
    "    \"=============================================================================================================\"\n",
    ")\n",
    "\n",
    "df_imp_lugano_game = normalize_column(df_imp_lugano_game, \"Mechanical Intensity\")\n",
    "\n",
    "df_imp_lugano_game"
   ]
  },
  {
   "cell_type": "markdown",
   "metadata": {},
   "source": [
    "#### CREATE RELATIVE FATIGUE INDEX (RFI) FUNCTION\n"
   ]
  },
  {
   "cell_type": "markdown",
   "metadata": {},
   "source": [
    "This code defines a function fatigue_index that calculates the fatigue index for each player based on input parameters A, B, and C. It uses various columns from the DataFrame to perform the calculations.\n",
    "\n",
    "The function is then tested with values A=1, B=1, and C=1 using the Lugano game data DataFrame (df_imp_lugano_game) as input. It calculates and returns the fatigue index for each player in the dataset."
   ]
  },
  {
   "cell_type": "code",
   "execution_count": 71,
   "metadata": {},
   "outputs": [
    {
     "data": {
      "text/plain": [
       "0     1.143796\n",
       "1     0.873329\n",
       "2     1.192197\n",
       "10    1.170528\n",
       "11    1.218053\n",
       "12    1.613342\n",
       "28    1.171522\n",
       "29    0.519065\n",
       "30    1.386653\n",
       "31    1.010780\n",
       "32    1.191856\n",
       "33    0.820656\n",
       "34    1.190677\n",
       "35    1.231283\n",
       "36    1.041868\n",
       "37    0.752794\n",
       "38    1.212085\n",
       "39    0.867318\n",
       "40    1.155663\n",
       "41    0.706194\n",
       "dtype: float64"
      ]
     },
     "execution_count": 71,
     "metadata": {},
     "output_type": "execute_result"
    }
   ],
   "source": [
    "def fatigue_index(df, A=1, B=1, C=1):\n",
    "    \"\"\"This function calculates the fatigue index for each player.\"\"\"\n",
    "    return (\n",
    "        A * (df[\"Time on Ice (s)\"] / df[\"Duration (s)\"])\n",
    "        + B * df[\"High Metabolic Power Distance (m)\"] / df[\"Distance (m)\"]\n",
    "    ) + C * df[\"Normalized Mechanical Intensity\"]\n",
    "\n",
    "\n",
    "# test the function\n",
    "A = 1\n",
    "B = 1\n",
    "C = 1\n",
    "\n",
    "fatigue_index(df_imp_lugano_game, A, B, C)\n",
    "fatigue_index(df_imp_zsc_game, A, B, C)  # trying now for zsc"
   ]
  },
  {
   "cell_type": "markdown",
   "metadata": {},
   "source": [
    "### 3.2 FATIGUE INDEX CALCULATION (MATCH DATA)\n"
   ]
  },
  {
   "cell_type": "markdown",
   "metadata": {},
   "source": [
    "#### CREATE FUNCTION TO CALCULATE THE FATIGUE INDEX FOR EACH PLAYER\n"
   ]
  },
  {
   "cell_type": "markdown",
   "metadata": {},
   "source": [
    "This code defines a function \"compute_normalized_fatigue\" that calculates and normalizes the fatigue index for a DataFrame based on a provided function. It sorts the DataFrame by the normalized fatigue index in ascending order.\n"
   ]
  },
  {
   "cell_type": "code",
   "execution_count": 72,
   "metadata": {},
   "outputs": [],
   "source": [
    "def compute_normalized_fatigue(df: pd.DataFrame, fatigue_function) -> pd.DataFrame:\n",
    "    \"\"\"\n",
    "    Compute the normalized fatigue index for the input DataFrame based on the provided fatigue function.\n",
    "\n",
    "    Parameters:\n",
    "        df (pd.DataFrame): The input DataFrame.\n",
    "        fatigue_function (function): The function to compute the fatigue index for each row of df.\n",
    "\n",
    "    Returns:\n",
    "        pd.DataFrame: DataFrame with normalized fatigue index and sorted by it.\n",
    "    \"\"\"\n",
    "\n",
    "    # 1. Compute the fatigue index for each row\n",
    "    df[\"Fatigue Index\"] = df.apply(fatigue_function, axis=1)\n",
    "\n",
    "    # 2. Normalize the fatigue index\n",
    "    min_fatigue = df[\"Fatigue Index\"].min()\n",
    "    max_fatigue = df[\"Fatigue Index\"].max()\n",
    "\n",
    "    # +1 to make sure the values are between 1 and 2\n",
    "    df[\"Normalized Fatigue Index\"] = (df[\"Fatigue Index\"] - min_fatigue) / (\n",
    "        max_fatigue - min_fatigue\n",
    "    ) + 1\n",
    "\n",
    "    # Sort the dataframe by the final fatigue index in descending order\n",
    "    df_sorted = df.sort_values(by=\"Normalized Fatigue Index\", ascending=True)\n",
    "\n",
    "    return df_sorted"
   ]
  },
  {
   "cell_type": "markdown",
   "metadata": {},
   "source": [
    "This code calculates the normalized fatigue index for both Lugano and ZSC game data using the compute_normalized_fatigue function with the fatigue_index function as input. It creates new DataFrames df_imp_zsc_game_FI and df_imp_lugano_game_FI containing the normalized fatigue index values for each player."
   ]
  },
  {
   "cell_type": "code",
   "execution_count": 73,
   "metadata": {},
   "outputs": [
    {
     "name": "stdout",
     "output_type": "stream",
     "text": [
      "=============================================================================================================\n"
     ]
    },
    {
     "name": "stderr",
     "output_type": "stream",
     "text": [
      "C:\\Users\\samue\\AppData\\Local\\Temp\\ipykernel_24612\\2125831255.py:14: SettingWithCopyWarning:\n",
      "\n",
      "\n",
      "A value is trying to be set on a copy of a slice from a DataFrame.\n",
      "Try using .loc[row_indexer,col_indexer] = value instead\n",
      "\n",
      "See the caveats in the documentation: https://pandas.pydata.org/pandas-docs/stable/user_guide/indexing.html#returning-a-view-versus-a-copy\n",
      "\n",
      "C:\\Users\\samue\\AppData\\Local\\Temp\\ipykernel_24612\\2125831255.py:21: SettingWithCopyWarning:\n",
      "\n",
      "\n",
      "A value is trying to be set on a copy of a slice from a DataFrame.\n",
      "Try using .loc[row_indexer,col_indexer] = value instead\n",
      "\n",
      "See the caveats in the documentation: https://pandas.pydata.org/pandas-docs/stable/user_guide/indexing.html#returning-a-view-versus-a-copy\n",
      "\n",
      "C:\\Users\\samue\\AppData\\Local\\Temp\\ipykernel_24612\\2125831255.py:14: SettingWithCopyWarning:\n",
      "\n",
      "\n",
      "A value is trying to be set on a copy of a slice from a DataFrame.\n",
      "Try using .loc[row_indexer,col_indexer] = value instead\n",
      "\n",
      "See the caveats in the documentation: https://pandas.pydata.org/pandas-docs/stable/user_guide/indexing.html#returning-a-view-versus-a-copy\n",
      "\n",
      "C:\\Users\\samue\\AppData\\Local\\Temp\\ipykernel_24612\\2125831255.py:21: SettingWithCopyWarning:\n",
      "\n",
      "\n",
      "A value is trying to be set on a copy of a slice from a DataFrame.\n",
      "Try using .loc[row_indexer,col_indexer] = value instead\n",
      "\n",
      "See the caveats in the documentation: https://pandas.pydata.org/pandas-docs/stable/user_guide/indexing.html#returning-a-view-versus-a-copy\n",
      "\n"
     ]
    },
    {
     "data": {
      "text/html": [
       "<div>\n",
       "<style scoped>\n",
       "    .dataframe tbody tr th:only-of-type {\n",
       "        vertical-align: middle;\n",
       "    }\n",
       "\n",
       "    .dataframe tbody tr th {\n",
       "        vertical-align: top;\n",
       "    }\n",
       "\n",
       "    .dataframe thead th {\n",
       "        text-align: right;\n",
       "    }\n",
       "</style>\n",
       "<table border=\"1\" class=\"dataframe\">\n",
       "  <thead>\n",
       "    <tr style=\"text-align: right;\">\n",
       "      <th></th>\n",
       "      <th>Group name</th>\n",
       "      <th>Position</th>\n",
       "      <th>Description</th>\n",
       "      <th>Duration (s)</th>\n",
       "      <th>Distance (m)</th>\n",
       "      <th>Time on Ice (s)</th>\n",
       "      <th>High Metabolic Power Distance (m)</th>\n",
       "      <th>Mechanical Intensity</th>\n",
       "      <th>Player ID</th>\n",
       "      <th>Normalized Mechanical Intensity</th>\n",
       "      <th>Fatigue Index</th>\n",
       "      <th>Normalized Fatigue Index</th>\n",
       "    </tr>\n",
       "  </thead>\n",
       "  <tbody>\n",
       "    <tr>\n",
       "      <th>13</th>\n",
       "      <td>Offense</td>\n",
       "      <td>F</td>\n",
       "      <td>vs Lugano</td>\n",
       "      <td>8836</td>\n",
       "      <td>21</td>\n",
       "      <td>9</td>\n",
       "      <td>0</td>\n",
       "      <td>12.84</td>\n",
       "      <td>14</td>\n",
       "      <td>0.000000</td>\n",
       "      <td>0.001019</td>\n",
       "      <td>1.000000</td>\n",
       "    </tr>\n",
       "    <tr>\n",
       "      <th>6</th>\n",
       "      <td>Goalies</td>\n",
       "      <td>Goalkeeper</td>\n",
       "      <td>vs Lugano</td>\n",
       "      <td>8836</td>\n",
       "      <td>1066</td>\n",
       "      <td>4007</td>\n",
       "      <td>7</td>\n",
       "      <td>19.29</td>\n",
       "      <td>7</td>\n",
       "      <td>0.187337</td>\n",
       "      <td>0.647389</td>\n",
       "      <td>1.387406</td>\n",
       "    </tr>\n",
       "    <tr>\n",
       "      <th>11</th>\n",
       "      <td>Defense</td>\n",
       "      <td>D</td>\n",
       "      <td>vs Lugano</td>\n",
       "      <td>8836</td>\n",
       "      <td>4771</td>\n",
       "      <td>1396</td>\n",
       "      <td>1499</td>\n",
       "      <td>29.33</td>\n",
       "      <td>12</td>\n",
       "      <td>0.478943</td>\n",
       "      <td>0.951123</td>\n",
       "      <td>1.569450</td>\n",
       "    </tr>\n",
       "    <tr>\n",
       "      <th>14</th>\n",
       "      <td>Defense</td>\n",
       "      <td>D</td>\n",
       "      <td>vs Lugano</td>\n",
       "      <td>8836</td>\n",
       "      <td>5223</td>\n",
       "      <td>1485</td>\n",
       "      <td>2555</td>\n",
       "      <td>38.53</td>\n",
       "      <td>15</td>\n",
       "      <td>0.746152</td>\n",
       "      <td>1.403397</td>\n",
       "      <td>1.840523</td>\n",
       "    </tr>\n",
       "    <tr>\n",
       "      <th>8</th>\n",
       "      <td>Offense</td>\n",
       "      <td>F</td>\n",
       "      <td>vs Lugano</td>\n",
       "      <td>8836</td>\n",
       "      <td>4009</td>\n",
       "      <td>1239</td>\n",
       "      <td>2066</td>\n",
       "      <td>38.62</td>\n",
       "      <td>9</td>\n",
       "      <td>0.748766</td>\n",
       "      <td>1.404328</td>\n",
       "      <td>1.841081</td>\n",
       "    </tr>\n",
       "    <tr>\n",
       "      <th>19</th>\n",
       "      <td>Offense</td>\n",
       "      <td>F</td>\n",
       "      <td>vs Lugano</td>\n",
       "      <td>8836</td>\n",
       "      <td>2595</td>\n",
       "      <td>609</td>\n",
       "      <td>1465</td>\n",
       "      <td>40.73</td>\n",
       "      <td>20</td>\n",
       "      <td>0.810049</td>\n",
       "      <td>1.443519</td>\n",
       "      <td>1.864571</td>\n",
       "    </tr>\n",
       "    <tr>\n",
       "      <th>4</th>\n",
       "      <td>Defense</td>\n",
       "      <td>D</td>\n",
       "      <td>vs Lugano</td>\n",
       "      <td>8836</td>\n",
       "      <td>354</td>\n",
       "      <td>92</td>\n",
       "      <td>179</td>\n",
       "      <td>44.95</td>\n",
       "      <td>5</td>\n",
       "      <td>0.932617</td>\n",
       "      <td>1.448679</td>\n",
       "      <td>1.867663</td>\n",
       "    </tr>\n",
       "    <tr>\n",
       "      <th>18</th>\n",
       "      <td>Offense</td>\n",
       "      <td>F</td>\n",
       "      <td>vs Lugano</td>\n",
       "      <td>8836</td>\n",
       "      <td>4039</td>\n",
       "      <td>1034</td>\n",
       "      <td>2047</td>\n",
       "      <td>41.40</td>\n",
       "      <td>19</td>\n",
       "      <td>0.829509</td>\n",
       "      <td>1.453339</td>\n",
       "      <td>1.870456</td>\n",
       "    </tr>\n",
       "    <tr>\n",
       "      <th>5</th>\n",
       "      <td>Defense</td>\n",
       "      <td>D</td>\n",
       "      <td>vs Lugano</td>\n",
       "      <td>8836</td>\n",
       "      <td>5087</td>\n",
       "      <td>1360</td>\n",
       "      <td>2501</td>\n",
       "      <td>41.27</td>\n",
       "      <td>6</td>\n",
       "      <td>0.825733</td>\n",
       "      <td>1.471295</td>\n",
       "      <td>1.881218</td>\n",
       "    </tr>\n",
       "    <tr>\n",
       "      <th>0</th>\n",
       "      <td>Defense</td>\n",
       "      <td>D</td>\n",
       "      <td>vs Lugano</td>\n",
       "      <td>8836</td>\n",
       "      <td>3163</td>\n",
       "      <td>1038</td>\n",
       "      <td>1287</td>\n",
       "      <td>45.94</td>\n",
       "      <td>1</td>\n",
       "      <td>0.961371</td>\n",
       "      <td>1.485737</td>\n",
       "      <td>1.889874</td>\n",
       "    </tr>\n",
       "    <tr>\n",
       "      <th>16</th>\n",
       "      <td>Offense</td>\n",
       "      <td>F</td>\n",
       "      <td>vs Lugano</td>\n",
       "      <td>8836</td>\n",
       "      <td>4759</td>\n",
       "      <td>1177</td>\n",
       "      <td>2489</td>\n",
       "      <td>42.51</td>\n",
       "      <td>17</td>\n",
       "      <td>0.861748</td>\n",
       "      <td>1.517963</td>\n",
       "      <td>1.909189</td>\n",
       "    </tr>\n",
       "    <tr>\n",
       "      <th>17</th>\n",
       "      <td>Offense</td>\n",
       "      <td>F</td>\n",
       "      <td>vs Lugano</td>\n",
       "      <td>8836</td>\n",
       "      <td>2621</td>\n",
       "      <td>732</td>\n",
       "      <td>1279</td>\n",
       "      <td>45.50</td>\n",
       "      <td>18</td>\n",
       "      <td>0.948591</td>\n",
       "      <td>1.519416</td>\n",
       "      <td>1.910060</td>\n",
       "    </tr>\n",
       "    <tr>\n",
       "      <th>9</th>\n",
       "      <td>Defense</td>\n",
       "      <td>D</td>\n",
       "      <td>vs Lugano</td>\n",
       "      <td>8836</td>\n",
       "      <td>4383</td>\n",
       "      <td>1307</td>\n",
       "      <td>1913</td>\n",
       "      <td>45.25</td>\n",
       "      <td>10</td>\n",
       "      <td>0.941330</td>\n",
       "      <td>1.525707</td>\n",
       "      <td>1.913831</td>\n",
       "    </tr>\n",
       "    <tr>\n",
       "      <th>12</th>\n",
       "      <td>Defense</td>\n",
       "      <td>F</td>\n",
       "      <td>vs Lugano</td>\n",
       "      <td>8836</td>\n",
       "      <td>3498</td>\n",
       "      <td>936</td>\n",
       "      <td>1689</td>\n",
       "      <td>45.32</td>\n",
       "      <td>13</td>\n",
       "      <td>0.943363</td>\n",
       "      <td>1.532141</td>\n",
       "      <td>1.917687</td>\n",
       "    </tr>\n",
       "    <tr>\n",
       "      <th>3</th>\n",
       "      <td>Offense</td>\n",
       "      <td>F</td>\n",
       "      <td>vs Lugano</td>\n",
       "      <td>8836</td>\n",
       "      <td>3881</td>\n",
       "      <td>1043</td>\n",
       "      <td>1956</td>\n",
       "      <td>44.38</td>\n",
       "      <td>4</td>\n",
       "      <td>0.916062</td>\n",
       "      <td>1.538095</td>\n",
       "      <td>1.921256</td>\n",
       "    </tr>\n",
       "    <tr>\n",
       "      <th>1</th>\n",
       "      <td>Offense</td>\n",
       "      <td>F</td>\n",
       "      <td>vs Lugano</td>\n",
       "      <td>8836</td>\n",
       "      <td>2881</td>\n",
       "      <td>689</td>\n",
       "      <td>1724</td>\n",
       "      <td>42.85</td>\n",
       "      <td>2</td>\n",
       "      <td>0.871624</td>\n",
       "      <td>1.548003</td>\n",
       "      <td>1.927194</td>\n",
       "    </tr>\n",
       "    <tr>\n",
       "      <th>15</th>\n",
       "      <td>Offense</td>\n",
       "      <td>F</td>\n",
       "      <td>vs Lugano</td>\n",
       "      <td>8836</td>\n",
       "      <td>3174</td>\n",
       "      <td>823</td>\n",
       "      <td>1764</td>\n",
       "      <td>43.83</td>\n",
       "      <td>16</td>\n",
       "      <td>0.900087</td>\n",
       "      <td>1.548994</td>\n",
       "      <td>1.927788</td>\n",
       "    </tr>\n",
       "    <tr>\n",
       "      <th>20</th>\n",
       "      <td>Offense</td>\n",
       "      <td>F</td>\n",
       "      <td>vs Lugano</td>\n",
       "      <td>8836</td>\n",
       "      <td>2278</td>\n",
       "      <td>545</td>\n",
       "      <td>1263</td>\n",
       "      <td>47.27</td>\n",
       "      <td>21</td>\n",
       "      <td>1.000000</td>\n",
       "      <td>1.616113</td>\n",
       "      <td>1.968016</td>\n",
       "    </tr>\n",
       "    <tr>\n",
       "      <th>7</th>\n",
       "      <td>Offense</td>\n",
       "      <td>F</td>\n",
       "      <td>vs Lugano</td>\n",
       "      <td>8836</td>\n",
       "      <td>4683</td>\n",
       "      <td>1162</td>\n",
       "      <td>2758</td>\n",
       "      <td>44.56</td>\n",
       "      <td>8</td>\n",
       "      <td>0.921290</td>\n",
       "      <td>1.641736</td>\n",
       "      <td>1.983373</td>\n",
       "    </tr>\n",
       "    <tr>\n",
       "      <th>2</th>\n",
       "      <td>Offense</td>\n",
       "      <td>F</td>\n",
       "      <td>vs Lugano</td>\n",
       "      <td>8836</td>\n",
       "      <td>3586</td>\n",
       "      <td>932</td>\n",
       "      <td>2090</td>\n",
       "      <td>46.12</td>\n",
       "      <td>3</td>\n",
       "      <td>0.966599</td>\n",
       "      <td>1.654899</td>\n",
       "      <td>1.991262</td>\n",
       "    </tr>\n",
       "    <tr>\n",
       "      <th>10</th>\n",
       "      <td>Offense</td>\n",
       "      <td>F</td>\n",
       "      <td>vs Lugano</td>\n",
       "      <td>8836</td>\n",
       "      <td>4935</td>\n",
       "      <td>1070</td>\n",
       "      <td>3228</td>\n",
       "      <td>43.63</td>\n",
       "      <td>11</td>\n",
       "      <td>0.894278</td>\n",
       "      <td>1.669477</td>\n",
       "      <td>2.000000</td>\n",
       "    </tr>\n",
       "  </tbody>\n",
       "</table>\n",
       "</div>"
      ],
      "text/plain": [
       "   Group name    Position Description  Duration (s)  Distance (m)  \\\n",
       "13    Offense           F   vs Lugano          8836            21   \n",
       "6     Goalies  Goalkeeper   vs Lugano          8836          1066   \n",
       "11    Defense           D   vs Lugano          8836          4771   \n",
       "14    Defense           D   vs Lugano          8836          5223   \n",
       "8     Offense           F   vs Lugano          8836          4009   \n",
       "19    Offense           F   vs Lugano          8836          2595   \n",
       "4     Defense           D   vs Lugano          8836           354   \n",
       "18    Offense           F   vs Lugano          8836          4039   \n",
       "5     Defense           D   vs Lugano          8836          5087   \n",
       "0     Defense           D   vs Lugano          8836          3163   \n",
       "16    Offense           F   vs Lugano          8836          4759   \n",
       "17    Offense           F   vs Lugano          8836          2621   \n",
       "9     Defense           D   vs Lugano          8836          4383   \n",
       "12    Defense           F   vs Lugano          8836          3498   \n",
       "3     Offense           F   vs Lugano          8836          3881   \n",
       "1     Offense           F   vs Lugano          8836          2881   \n",
       "15    Offense           F   vs Lugano          8836          3174   \n",
       "20    Offense           F   vs Lugano          8836          2278   \n",
       "7     Offense           F   vs Lugano          8836          4683   \n",
       "2     Offense           F   vs Lugano          8836          3586   \n",
       "10    Offense           F   vs Lugano          8836          4935   \n",
       "\n",
       "    Time on Ice (s)  High Metabolic Power Distance (m)  Mechanical Intensity  \\\n",
       "13                9                                  0                 12.84   \n",
       "6              4007                                  7                 19.29   \n",
       "11             1396                               1499                 29.33   \n",
       "14             1485                               2555                 38.53   \n",
       "8              1239                               2066                 38.62   \n",
       "19              609                               1465                 40.73   \n",
       "4                92                                179                 44.95   \n",
       "18             1034                               2047                 41.40   \n",
       "5              1360                               2501                 41.27   \n",
       "0              1038                               1287                 45.94   \n",
       "16             1177                               2489                 42.51   \n",
       "17              732                               1279                 45.50   \n",
       "9              1307                               1913                 45.25   \n",
       "12              936                               1689                 45.32   \n",
       "3              1043                               1956                 44.38   \n",
       "1               689                               1724                 42.85   \n",
       "15              823                               1764                 43.83   \n",
       "20              545                               1263                 47.27   \n",
       "7              1162                               2758                 44.56   \n",
       "2               932                               2090                 46.12   \n",
       "10             1070                               3228                 43.63   \n",
       "\n",
       "    Player ID  Normalized Mechanical Intensity  Fatigue Index  \\\n",
       "13         14                         0.000000       0.001019   \n",
       "6           7                         0.187337       0.647389   \n",
       "11         12                         0.478943       0.951123   \n",
       "14         15                         0.746152       1.403397   \n",
       "8           9                         0.748766       1.404328   \n",
       "19         20                         0.810049       1.443519   \n",
       "4           5                         0.932617       1.448679   \n",
       "18         19                         0.829509       1.453339   \n",
       "5           6                         0.825733       1.471295   \n",
       "0           1                         0.961371       1.485737   \n",
       "16         17                         0.861748       1.517963   \n",
       "17         18                         0.948591       1.519416   \n",
       "9          10                         0.941330       1.525707   \n",
       "12         13                         0.943363       1.532141   \n",
       "3           4                         0.916062       1.538095   \n",
       "1           2                         0.871624       1.548003   \n",
       "15         16                         0.900087       1.548994   \n",
       "20         21                         1.000000       1.616113   \n",
       "7           8                         0.921290       1.641736   \n",
       "2           3                         0.966599       1.654899   \n",
       "10         11                         0.894278       1.669477   \n",
       "\n",
       "    Normalized Fatigue Index  \n",
       "13                  1.000000  \n",
       "6                   1.387406  \n",
       "11                  1.569450  \n",
       "14                  1.840523  \n",
       "8                   1.841081  \n",
       "19                  1.864571  \n",
       "4                   1.867663  \n",
       "18                  1.870456  \n",
       "5                   1.881218  \n",
       "0                   1.889874  \n",
       "16                  1.909189  \n",
       "17                  1.910060  \n",
       "9                   1.913831  \n",
       "12                  1.917687  \n",
       "3                   1.921256  \n",
       "1                   1.927194  \n",
       "15                  1.927788  \n",
       "20                  1.968016  \n",
       "7                   1.983373  \n",
       "2                   1.991262  \n",
       "10                  2.000000  "
      ]
     },
     "execution_count": 73,
     "metadata": {},
     "output_type": "execute_result"
    }
   ],
   "source": [
    "# Calculate the normalized fatigue index for Lugano and ZSC game data\n",
    "\n",
    "df_imp_zsc_game_FI = compute_normalized_fatigue(df_imp_zsc_game, fatigue_index)\n",
    "\n",
    "# df_imp_zsc_game_FI\n",
    "\n",
    "print(\n",
    "    \"=============================================================================================================\"\n",
    ")\n",
    "\n",
    "df_imp_lugano_game_FI = compute_normalized_fatigue(df_imp_lugano_game, fatigue_index)\n",
    "df_imp_lugano_game_FI"
   ]
  },
  {
   "cell_type": "markdown",
   "metadata": {},
   "source": [
    "#### COLOR CATEGORIZATION OF FATIGUE LEVELS\n"
   ]
  },
  {
   "cell_type": "markdown",
   "metadata": {},
   "source": [
    "This code categorizes the fatigue index into \"Low,\" \"Medium,\" or \"High\" categories based on predefined threshold values. It creates a new DataFrame, df_imp_lugano_game_FI, which includes these categories and assigns an order to each player based on their fatigue index."
   ]
  },
  {
   "cell_type": "code",
   "execution_count": 74,
   "metadata": {},
   "outputs": [
    {
     "name": "stdout",
     "output_type": "stream",
     "text": [
      "   Group name    Position Description  Duration (s)  Distance (m)  \\\n",
      "13    Offense           F   vs Lugano          8836            21   \n",
      "6     Goalies  Goalkeeper   vs Lugano          8836          1066   \n",
      "11    Defense           D   vs Lugano          8836          4771   \n",
      "14    Defense           D   vs Lugano          8836          5223   \n",
      "8     Offense           F   vs Lugano          8836          4009   \n",
      "\n",
      "    Time on Ice (s)  High Metabolic Power Distance (m)  Mechanical Intensity  \\\n",
      "13                9                                  0                 12.84   \n",
      "6              4007                                  7                 19.29   \n",
      "11             1396                               1499                 29.33   \n",
      "14             1485                               2555                 38.53   \n",
      "8              1239                               2066                 38.62   \n",
      "\n",
      "    Player ID  Normalized Mechanical Intensity  Fatigue Index  \\\n",
      "13         14                         0.000000       0.001019   \n",
      "6           7                         0.187337       0.647389   \n",
      "11         12                         0.478943       0.951123   \n",
      "14         15                         0.746152       1.403397   \n",
      "8           9                         0.748766       1.404328   \n",
      "\n",
      "    Normalized Fatigue Index Fatigue Category order_fatigue  \n",
      "13                  1.000000              Low             1  \n",
      "6                   1.387406              Low             2  \n",
      "11                  1.569450              Low             3  \n",
      "14                  1.840523           Medium             4  \n",
      "8                   1.841081           Medium             5  \n",
      "   Group name    Position Description  Duration (s)  Distance (m)  \\\n",
      "29    Goalies  Goalkeeper   vs Zurich          7868          1124   \n",
      "41    Offense           F   vs Zurich          7868          2866   \n",
      "37    Offense           F   vs Zurich          7868          1927   \n",
      "33    Defense           D   vs Zurich          7868          4327   \n",
      "39    Offense           F   vs Zurich          7868          4268   \n",
      "\n",
      "    Time on Ice (s)  High Metabolic Power Distance (m)  Mechanical Intensity  \\\n",
      "29             3797                                 41                 19.75   \n",
      "41              798                                974                 27.96   \n",
      "37              471                                780                 28.68   \n",
      "33             1406                               1267                 30.57   \n",
      "39             1168                               1746                 29.35   \n",
      "\n",
      "    Player ID  Normalized Mechanical Intensity  Fatigue Index  \\\n",
      "29          8                         0.000000       0.519065   \n",
      "41         20                         0.264924       0.706194   \n",
      "37         16                         0.288157       0.752794   \n",
      "33         12                         0.349145       0.820656   \n",
      "39         18                         0.309777       0.867318   \n",
      "\n",
      "    Normalized Fatigue Index Fatigue Category order_fatigue  \n",
      "29                  1.000000              Low             1  \n",
      "41                  1.171007              Low             2  \n",
      "37                  1.213593              Low             3  \n",
      "33                  1.275608              Low             4  \n",
      "39                  1.318249              Low             5  \n"
     ]
    }
   ],
   "source": [
    "# MANUAL THRESHOLD BASED CATEGORIZATION OF FATIGUE INDEX\n",
    "\n",
    "# Fixed thresholds\n",
    "high_threshold = 1.57\n",
    "low_threshold = 1\n",
    "\n",
    "\n",
    "def categorize_fatigue(df, fatigue_col, low_threshold, high_threshold):\n",
    "    \"\"\"\n",
    "    Categorize fatigue based on given thresholds and assign an order.\n",
    "\n",
    "    Parameters:\n",
    "    - df (pd.DataFrame): The input DataFrame\n",
    "    - fatigue_col (str): The column name of the fatigue index in the dataframe\n",
    "    - low_threshold (float): The threshold value for Low fatigue\n",
    "    - high_threshold (float): The threshold value for High fatigue\n",
    "\n",
    "    Returns:\n",
    "    - pd.DataFrame: A DataFrame with categorized fatigue and order\n",
    "    \"\"\"\n",
    "    # Make a copy of the input dataframe to avoid modifying the original\n",
    "    df_result = df.copy()\n",
    "\n",
    "    # Categorize values based on manual thresholds\n",
    "    df_result[\"Fatigue Category\"] = pd.cut(\n",
    "        df_result[fatigue_col],\n",
    "        [0, low_threshold, high_threshold, 2],  # Explicitly using 2 as max value\n",
    "        labels=[\"Low\", \"Medium\", \"High\"],\n",
    "        include_lowest=True,\n",
    "    )\n",
    "\n",
    "    # Create from \"Fatigue Index\" a column called \"order_fatigue\" starting from 1 in string format and incrementing by 1 for each row\n",
    "    df_result[\"order_fatigue\"] = (\n",
    "        df_result[\"Fatigue Index\"]\n",
    "        .rank(method=\"dense\", ascending=True)\n",
    "        .astype(int)\n",
    "        .astype(str)\n",
    "    )\n",
    "\n",
    "    return df_result\n",
    "\n",
    "\n",
    "# Usage example\n",
    "df_imp_lugano_game_FI = categorize_fatigue(\n",
    "    df_imp_lugano_game_FI, \"Fatigue Index\", low_threshold, high_threshold\n",
    ")\n",
    "print(df_imp_lugano_game_FI.head())\n",
    "\n",
    "\n",
    "# trying for zsc\n",
    "df_imp_zsc_game_FI = categorize_fatigue(\n",
    "    df_imp_zsc_game_FI, \"Fatigue Index\", low_threshold, high_threshold\n",
    ")\n",
    "print(df_imp_zsc_game_FI.head())"
   ]
  },
  {
   "cell_type": "markdown",
   "metadata": {},
   "source": [
    "## 4. VISUALIZATION OF FATIGUE INDEX FOR EACH PLAYER\n"
   ]
  },
  {
   "cell_type": "markdown",
   "metadata": {},
   "source": [
    "This code creates an interactive bar plot using Plotly to visualize the normalized fatigue index of players from the Lugano team. It categorizes the players into \"Low,\" \"Medium,\" or \"High\" fatigue categories and assigns colors accordingly. The plot displays Player ID on the x-axis and the normalized fatigue index on the y-axis. The legend represents the fatigue categories, and you can interact with the plot to explore the data visually."
   ]
  },
  {
   "cell_type": "code",
   "execution_count": 75,
   "metadata": {},
   "outputs": [],
   "source": [
    "import plotly.express as px\n",
    "\n",
    "\n",
    "def plot_fatigue_index(df):\n",
    "    \"\"\"\n",
    "    Generates an interactive bar plot displaying player fatigue levels using Plotly.\n",
    "\n",
    "    Parameters:\n",
    "    - df (pd.DataFrame): The input dataframe containing the required data. The dataframe\n",
    "                         should have columns named \"order_fatigue\", \"Normalized Fatigue Index\",\n",
    "                         \"Fatigue Category\", \"Player ID\", and \"Position\".\n",
    "\n",
    "    Returns:\n",
    "    None. Displays the generated plot.\n",
    "\n",
    "    Example:\n",
    "    plot_fatigue_index(df_imp_lugano_game_FI)\n",
    "    \"\"\"\n",
    "\n",
    "    # Define a color map for the fatigue categories\n",
    "    color_map = {\n",
    "        \"Low\": \"#66FF66\",  # Darker Green\n",
    "        \"Medium\": \"#FFFF66\",  # Darker Yellow\n",
    "        \"High\": \"#FF6666\",  # Darker Red\n",
    "    }\n",
    "\n",
    "    df[\"Color\"] = df[\"Fatigue Category\"].map(color_map)\n",
    "\n",
    "    fig = px.bar(\n",
    "        df,\n",
    "        x=\"order_fatigue\",\n",
    "        y=\"Normalized Fatigue Index\",\n",
    "        color=\"Fatigue Category\",\n",
    "        color_discrete_map=color_map,\n",
    "        title=f\"Normalized Fatigue Index of Players ({df.loc[0, 'Description']})\",  # Making the title dynamic\n",
    "        labels={\"Normalized Fatigue Index\": \"Normalized Fatigue Index\"},\n",
    "        text=\"Position\",\n",
    "    )\n",
    "\n",
    "    # Customize the layout\n",
    "    fig.update_layout(\n",
    "        xaxis_title=\"Player ID\",\n",
    "        xaxis_tickvals=df[\"order_fatigue\"].tolist(),\n",
    "        xaxis_ticktext=df[\"Player ID\"].tolist(),\n",
    "        yaxis_title=\"Normalized Fatigue Index\",\n",
    "        font=dict(family=\"Arial\", size=14),\n",
    "        legend_title=\"Fatigue Category\",\n",
    "        legend=dict(\n",
    "            title_font=dict(size=14),\n",
    "            font=dict(size=12),\n",
    "            x=0.30,\n",
    "            y=1.0,\n",
    "            bgcolor=\"rgba(255,255,255,0.5)\",\n",
    "            bordercolor=\"black\",\n",
    "            borderwidth=1,\n",
    "            orientation=\"h\",\n",
    "        ),\n",
    "        xaxis=dict(tickfont=dict(size=12)),\n",
    "        yaxis=dict(\n",
    "            tickvals=[i * 0.25 + 0.75 for i in range(6)], tickfont=dict(size=12)\n",
    "        ),\n",
    "        yaxis_range=[0.75, 2.25],\n",
    "    )\n",
    "\n",
    "    # Show the interactive plot\n",
    "    fig.show()"
   ]
  },
  {
   "cell_type": "markdown",
   "metadata": {},
   "source": [
    "### 4.1 VISUALIZATION OF FATIGUE INDEX FOR EACH PLAYER (LUGANO)"
   ]
  },
  {
   "cell_type": "code",
   "execution_count": 76,
   "metadata": {},
   "outputs": [
    {
     "name": "stderr",
     "output_type": "stream",
     "text": [
      "c:\\Users\\samue\\switchdrive\\SyncVM\\MscIds Course Materials\\3rd Semester\\Sport Data Analytics\\SDA-code\\ice-venv\\lib\\site-packages\\plotly\\express\\_core.py:2044: FutureWarning:\n",
      "\n",
      "The default of observed=False is deprecated and will be changed to True in a future version of pandas. Pass observed=False to retain current behavior or observed=True to adopt the future default and silence this warning.\n",
      "\n"
     ]
    },
    {
     "data": {
      "application/vnd.plotly.v1+json": {
       "config": {
        "plotlyServerURL": "https://plot.ly"
       },
       "data": [
        {
         "alignmentgroup": "True",
         "hovertemplate": "Fatigue Category=Low<br>order_fatigue=%{x}<br>Normalized Fatigue Index=%{y}<br>Position=%{text}<extra></extra>",
         "legendgroup": "Low",
         "marker": {
          "color": "#66FF66",
          "pattern": {
           "shape": ""
          }
         },
         "name": "Low",
         "offsetgroup": "Low",
         "orientation": "v",
         "showlegend": true,
         "text": [
          "F",
          "Goalkeeper",
          "D"
         ],
         "textposition": "auto",
         "type": "bar",
         "x": [
          "1",
          "2",
          "3"
         ],
         "xaxis": "x",
         "y": [
          1,
          1.3874057344812365,
          1.5694502639718975
         ],
         "yaxis": "y"
        },
        {
         "alignmentgroup": "True",
         "hovertemplate": "Fatigue Category=Medium<br>order_fatigue=%{x}<br>Normalized Fatigue Index=%{y}<br>Position=%{text}<extra></extra>",
         "legendgroup": "Medium",
         "marker": {
          "color": "#FFFF66",
          "pattern": {
           "shape": ""
          }
         },
         "name": "Medium",
         "offsetgroup": "Medium",
         "orientation": "v",
         "showlegend": true,
         "text": [
          "D",
          "F",
          "F",
          "D",
          "F",
          "D",
          "D",
          "F",
          "F",
          "D",
          "F",
          "F",
          "F",
          "F"
         ],
         "textposition": "auto",
         "type": "bar",
         "x": [
          "4",
          "5",
          "6",
          "7",
          "8",
          "9",
          "10",
          "11",
          "12",
          "13",
          "14",
          "15",
          "16",
          "17"
         ],
         "xaxis": "x",
         "y": [
          1.8405231211040713,
          1.841081342503566,
          1.8645708418748508,
          1.8676631580596932,
          1.8704564363882383,
          1.8812181661653207,
          1.8898743697988305,
          1.909188917558642,
          1.9100600004149786,
          1.9138305135520364,
          1.9176868161925227,
          1.9212555322520255,
          1.9271940369564242,
          1.927788025734889
         ],
         "yaxis": "y"
        },
        {
         "alignmentgroup": "True",
         "hovertemplate": "Fatigue Category=High<br>order_fatigue=%{x}<br>Normalized Fatigue Index=%{y}<br>Position=%{text}<extra></extra>",
         "legendgroup": "High",
         "marker": {
          "color": "#FF6666",
          "pattern": {
           "shape": ""
          }
         },
         "name": "High",
         "offsetgroup": "High",
         "orientation": "v",
         "showlegend": true,
         "text": [
          "F",
          "F",
          "F",
          "F"
         ],
         "textposition": "auto",
         "type": "bar",
         "x": [
          "18",
          "19",
          "20",
          "21"
         ],
         "xaxis": "x",
         "y": [
          1.9680160464033196,
          1.9833730657711452,
          1.9912622739898316,
          2
         ],
         "yaxis": "y"
        }
       ],
       "layout": {
        "barmode": "relative",
        "font": {
         "family": "Arial",
         "size": 14
        },
        "legend": {
         "bgcolor": "rgba(255,255,255,0.5)",
         "bordercolor": "black",
         "borderwidth": 1,
         "font": {
          "size": 12
         },
         "orientation": "h",
         "title": {
          "font": {
           "size": 14
          },
          "text": "Fatigue Category"
         },
         "tracegroupgap": 0,
         "x": 0.3,
         "y": 1
        },
        "template": {
         "data": {
          "bar": [
           {
            "error_x": {
             "color": "#2a3f5f"
            },
            "error_y": {
             "color": "#2a3f5f"
            },
            "marker": {
             "line": {
              "color": "#E5ECF6",
              "width": 0.5
             },
             "pattern": {
              "fillmode": "overlay",
              "size": 10,
              "solidity": 0.2
             }
            },
            "type": "bar"
           }
          ],
          "barpolar": [
           {
            "marker": {
             "line": {
              "color": "#E5ECF6",
              "width": 0.5
             },
             "pattern": {
              "fillmode": "overlay",
              "size": 10,
              "solidity": 0.2
             }
            },
            "type": "barpolar"
           }
          ],
          "carpet": [
           {
            "aaxis": {
             "endlinecolor": "#2a3f5f",
             "gridcolor": "white",
             "linecolor": "white",
             "minorgridcolor": "white",
             "startlinecolor": "#2a3f5f"
            },
            "baxis": {
             "endlinecolor": "#2a3f5f",
             "gridcolor": "white",
             "linecolor": "white",
             "minorgridcolor": "white",
             "startlinecolor": "#2a3f5f"
            },
            "type": "carpet"
           }
          ],
          "choropleth": [
           {
            "colorbar": {
             "outlinewidth": 0,
             "ticks": ""
            },
            "type": "choropleth"
           }
          ],
          "contour": [
           {
            "colorbar": {
             "outlinewidth": 0,
             "ticks": ""
            },
            "colorscale": [
             [
              0,
              "#0d0887"
             ],
             [
              0.1111111111111111,
              "#46039f"
             ],
             [
              0.2222222222222222,
              "#7201a8"
             ],
             [
              0.3333333333333333,
              "#9c179e"
             ],
             [
              0.4444444444444444,
              "#bd3786"
             ],
             [
              0.5555555555555556,
              "#d8576b"
             ],
             [
              0.6666666666666666,
              "#ed7953"
             ],
             [
              0.7777777777777778,
              "#fb9f3a"
             ],
             [
              0.8888888888888888,
              "#fdca26"
             ],
             [
              1,
              "#f0f921"
             ]
            ],
            "type": "contour"
           }
          ],
          "contourcarpet": [
           {
            "colorbar": {
             "outlinewidth": 0,
             "ticks": ""
            },
            "type": "contourcarpet"
           }
          ],
          "heatmap": [
           {
            "colorbar": {
             "outlinewidth": 0,
             "ticks": ""
            },
            "colorscale": [
             [
              0,
              "#0d0887"
             ],
             [
              0.1111111111111111,
              "#46039f"
             ],
             [
              0.2222222222222222,
              "#7201a8"
             ],
             [
              0.3333333333333333,
              "#9c179e"
             ],
             [
              0.4444444444444444,
              "#bd3786"
             ],
             [
              0.5555555555555556,
              "#d8576b"
             ],
             [
              0.6666666666666666,
              "#ed7953"
             ],
             [
              0.7777777777777778,
              "#fb9f3a"
             ],
             [
              0.8888888888888888,
              "#fdca26"
             ],
             [
              1,
              "#f0f921"
             ]
            ],
            "type": "heatmap"
           }
          ],
          "heatmapgl": [
           {
            "colorbar": {
             "outlinewidth": 0,
             "ticks": ""
            },
            "colorscale": [
             [
              0,
              "#0d0887"
             ],
             [
              0.1111111111111111,
              "#46039f"
             ],
             [
              0.2222222222222222,
              "#7201a8"
             ],
             [
              0.3333333333333333,
              "#9c179e"
             ],
             [
              0.4444444444444444,
              "#bd3786"
             ],
             [
              0.5555555555555556,
              "#d8576b"
             ],
             [
              0.6666666666666666,
              "#ed7953"
             ],
             [
              0.7777777777777778,
              "#fb9f3a"
             ],
             [
              0.8888888888888888,
              "#fdca26"
             ],
             [
              1,
              "#f0f921"
             ]
            ],
            "type": "heatmapgl"
           }
          ],
          "histogram": [
           {
            "marker": {
             "pattern": {
              "fillmode": "overlay",
              "size": 10,
              "solidity": 0.2
             }
            },
            "type": "histogram"
           }
          ],
          "histogram2d": [
           {
            "colorbar": {
             "outlinewidth": 0,
             "ticks": ""
            },
            "colorscale": [
             [
              0,
              "#0d0887"
             ],
             [
              0.1111111111111111,
              "#46039f"
             ],
             [
              0.2222222222222222,
              "#7201a8"
             ],
             [
              0.3333333333333333,
              "#9c179e"
             ],
             [
              0.4444444444444444,
              "#bd3786"
             ],
             [
              0.5555555555555556,
              "#d8576b"
             ],
             [
              0.6666666666666666,
              "#ed7953"
             ],
             [
              0.7777777777777778,
              "#fb9f3a"
             ],
             [
              0.8888888888888888,
              "#fdca26"
             ],
             [
              1,
              "#f0f921"
             ]
            ],
            "type": "histogram2d"
           }
          ],
          "histogram2dcontour": [
           {
            "colorbar": {
             "outlinewidth": 0,
             "ticks": ""
            },
            "colorscale": [
             [
              0,
              "#0d0887"
             ],
             [
              0.1111111111111111,
              "#46039f"
             ],
             [
              0.2222222222222222,
              "#7201a8"
             ],
             [
              0.3333333333333333,
              "#9c179e"
             ],
             [
              0.4444444444444444,
              "#bd3786"
             ],
             [
              0.5555555555555556,
              "#d8576b"
             ],
             [
              0.6666666666666666,
              "#ed7953"
             ],
             [
              0.7777777777777778,
              "#fb9f3a"
             ],
             [
              0.8888888888888888,
              "#fdca26"
             ],
             [
              1,
              "#f0f921"
             ]
            ],
            "type": "histogram2dcontour"
           }
          ],
          "mesh3d": [
           {
            "colorbar": {
             "outlinewidth": 0,
             "ticks": ""
            },
            "type": "mesh3d"
           }
          ],
          "parcoords": [
           {
            "line": {
             "colorbar": {
              "outlinewidth": 0,
              "ticks": ""
             }
            },
            "type": "parcoords"
           }
          ],
          "pie": [
           {
            "automargin": true,
            "type": "pie"
           }
          ],
          "scatter": [
           {
            "fillpattern": {
             "fillmode": "overlay",
             "size": 10,
             "solidity": 0.2
            },
            "type": "scatter"
           }
          ],
          "scatter3d": [
           {
            "line": {
             "colorbar": {
              "outlinewidth": 0,
              "ticks": ""
             }
            },
            "marker": {
             "colorbar": {
              "outlinewidth": 0,
              "ticks": ""
             }
            },
            "type": "scatter3d"
           }
          ],
          "scattercarpet": [
           {
            "marker": {
             "colorbar": {
              "outlinewidth": 0,
              "ticks": ""
             }
            },
            "type": "scattercarpet"
           }
          ],
          "scattergeo": [
           {
            "marker": {
             "colorbar": {
              "outlinewidth": 0,
              "ticks": ""
             }
            },
            "type": "scattergeo"
           }
          ],
          "scattergl": [
           {
            "marker": {
             "colorbar": {
              "outlinewidth": 0,
              "ticks": ""
             }
            },
            "type": "scattergl"
           }
          ],
          "scattermapbox": [
           {
            "marker": {
             "colorbar": {
              "outlinewidth": 0,
              "ticks": ""
             }
            },
            "type": "scattermapbox"
           }
          ],
          "scatterpolar": [
           {
            "marker": {
             "colorbar": {
              "outlinewidth": 0,
              "ticks": ""
             }
            },
            "type": "scatterpolar"
           }
          ],
          "scatterpolargl": [
           {
            "marker": {
             "colorbar": {
              "outlinewidth": 0,
              "ticks": ""
             }
            },
            "type": "scatterpolargl"
           }
          ],
          "scatterternary": [
           {
            "marker": {
             "colorbar": {
              "outlinewidth": 0,
              "ticks": ""
             }
            },
            "type": "scatterternary"
           }
          ],
          "surface": [
           {
            "colorbar": {
             "outlinewidth": 0,
             "ticks": ""
            },
            "colorscale": [
             [
              0,
              "#0d0887"
             ],
             [
              0.1111111111111111,
              "#46039f"
             ],
             [
              0.2222222222222222,
              "#7201a8"
             ],
             [
              0.3333333333333333,
              "#9c179e"
             ],
             [
              0.4444444444444444,
              "#bd3786"
             ],
             [
              0.5555555555555556,
              "#d8576b"
             ],
             [
              0.6666666666666666,
              "#ed7953"
             ],
             [
              0.7777777777777778,
              "#fb9f3a"
             ],
             [
              0.8888888888888888,
              "#fdca26"
             ],
             [
              1,
              "#f0f921"
             ]
            ],
            "type": "surface"
           }
          ],
          "table": [
           {
            "cells": {
             "fill": {
              "color": "#EBF0F8"
             },
             "line": {
              "color": "white"
             }
            },
            "header": {
             "fill": {
              "color": "#C8D4E3"
             },
             "line": {
              "color": "white"
             }
            },
            "type": "table"
           }
          ]
         },
         "layout": {
          "annotationdefaults": {
           "arrowcolor": "#2a3f5f",
           "arrowhead": 0,
           "arrowwidth": 1
          },
          "autotypenumbers": "strict",
          "coloraxis": {
           "colorbar": {
            "outlinewidth": 0,
            "ticks": ""
           }
          },
          "colorscale": {
           "diverging": [
            [
             0,
             "#8e0152"
            ],
            [
             0.1,
             "#c51b7d"
            ],
            [
             0.2,
             "#de77ae"
            ],
            [
             0.3,
             "#f1b6da"
            ],
            [
             0.4,
             "#fde0ef"
            ],
            [
             0.5,
             "#f7f7f7"
            ],
            [
             0.6,
             "#e6f5d0"
            ],
            [
             0.7,
             "#b8e186"
            ],
            [
             0.8,
             "#7fbc41"
            ],
            [
             0.9,
             "#4d9221"
            ],
            [
             1,
             "#276419"
            ]
           ],
           "sequential": [
            [
             0,
             "#0d0887"
            ],
            [
             0.1111111111111111,
             "#46039f"
            ],
            [
             0.2222222222222222,
             "#7201a8"
            ],
            [
             0.3333333333333333,
             "#9c179e"
            ],
            [
             0.4444444444444444,
             "#bd3786"
            ],
            [
             0.5555555555555556,
             "#d8576b"
            ],
            [
             0.6666666666666666,
             "#ed7953"
            ],
            [
             0.7777777777777778,
             "#fb9f3a"
            ],
            [
             0.8888888888888888,
             "#fdca26"
            ],
            [
             1,
             "#f0f921"
            ]
           ],
           "sequentialminus": [
            [
             0,
             "#0d0887"
            ],
            [
             0.1111111111111111,
             "#46039f"
            ],
            [
             0.2222222222222222,
             "#7201a8"
            ],
            [
             0.3333333333333333,
             "#9c179e"
            ],
            [
             0.4444444444444444,
             "#bd3786"
            ],
            [
             0.5555555555555556,
             "#d8576b"
            ],
            [
             0.6666666666666666,
             "#ed7953"
            ],
            [
             0.7777777777777778,
             "#fb9f3a"
            ],
            [
             0.8888888888888888,
             "#fdca26"
            ],
            [
             1,
             "#f0f921"
            ]
           ]
          },
          "colorway": [
           "#636efa",
           "#EF553B",
           "#00cc96",
           "#ab63fa",
           "#FFA15A",
           "#19d3f3",
           "#FF6692",
           "#B6E880",
           "#FF97FF",
           "#FECB52"
          ],
          "font": {
           "color": "#2a3f5f"
          },
          "geo": {
           "bgcolor": "white",
           "lakecolor": "white",
           "landcolor": "#E5ECF6",
           "showlakes": true,
           "showland": true,
           "subunitcolor": "white"
          },
          "hoverlabel": {
           "align": "left"
          },
          "hovermode": "closest",
          "mapbox": {
           "style": "light"
          },
          "paper_bgcolor": "white",
          "plot_bgcolor": "#E5ECF6",
          "polar": {
           "angularaxis": {
            "gridcolor": "white",
            "linecolor": "white",
            "ticks": ""
           },
           "bgcolor": "#E5ECF6",
           "radialaxis": {
            "gridcolor": "white",
            "linecolor": "white",
            "ticks": ""
           }
          },
          "scene": {
           "xaxis": {
            "backgroundcolor": "#E5ECF6",
            "gridcolor": "white",
            "gridwidth": 2,
            "linecolor": "white",
            "showbackground": true,
            "ticks": "",
            "zerolinecolor": "white"
           },
           "yaxis": {
            "backgroundcolor": "#E5ECF6",
            "gridcolor": "white",
            "gridwidth": 2,
            "linecolor": "white",
            "showbackground": true,
            "ticks": "",
            "zerolinecolor": "white"
           },
           "zaxis": {
            "backgroundcolor": "#E5ECF6",
            "gridcolor": "white",
            "gridwidth": 2,
            "linecolor": "white",
            "showbackground": true,
            "ticks": "",
            "zerolinecolor": "white"
           }
          },
          "shapedefaults": {
           "line": {
            "color": "#2a3f5f"
           }
          },
          "ternary": {
           "aaxis": {
            "gridcolor": "white",
            "linecolor": "white",
            "ticks": ""
           },
           "baxis": {
            "gridcolor": "white",
            "linecolor": "white",
            "ticks": ""
           },
           "bgcolor": "#E5ECF6",
           "caxis": {
            "gridcolor": "white",
            "linecolor": "white",
            "ticks": ""
           }
          },
          "title": {
           "x": 0.05
          },
          "xaxis": {
           "automargin": true,
           "gridcolor": "white",
           "linecolor": "white",
           "ticks": "",
           "title": {
            "standoff": 15
           },
           "zerolinecolor": "white",
           "zerolinewidth": 2
          },
          "yaxis": {
           "automargin": true,
           "gridcolor": "white",
           "linecolor": "white",
           "ticks": "",
           "title": {
            "standoff": 15
           },
           "zerolinecolor": "white",
           "zerolinewidth": 2
          }
         }
        },
        "title": {
         "text": "Normalized Fatigue Index of Players (vs Lugano)"
        },
        "xaxis": {
         "anchor": "y",
         "domain": [
          0,
          1
         ],
         "tickfont": {
          "size": 12
         },
         "ticktext": [
          14,
          7,
          12,
          15,
          9,
          20,
          5,
          19,
          6,
          1,
          17,
          18,
          10,
          13,
          4,
          2,
          16,
          21,
          8,
          3,
          11
         ],
         "tickvals": [
          "1",
          "2",
          "3",
          "4",
          "5",
          "6",
          "7",
          "8",
          "9",
          "10",
          "11",
          "12",
          "13",
          "14",
          "15",
          "16",
          "17",
          "18",
          "19",
          "20",
          "21"
         ],
         "title": {
          "text": "Player ID"
         }
        },
        "yaxis": {
         "anchor": "x",
         "domain": [
          0,
          1
         ],
         "range": [
          0.75,
          2.25
         ],
         "tickfont": {
          "size": 12
         },
         "tickvals": [
          0.75,
          1,
          1.25,
          1.5,
          1.75,
          2
         ],
         "title": {
          "text": "Normalized Fatigue Index"
         }
        }
       }
      }
     },
     "metadata": {},
     "output_type": "display_data"
    }
   ],
   "source": [
    "# Plot the fatigue index for Lugano\n",
    "plot_fatigue_index(df_imp_lugano_game_FI)"
   ]
  },
  {
   "cell_type": "markdown",
   "metadata": {},
   "source": [
    "### 4.2 VISUALIZATION OF FATIGUE INDEX FOR EACH PLAYER (ZURICH)"
   ]
  },
  {
   "cell_type": "code",
   "execution_count": 77,
   "metadata": {},
   "outputs": [
    {
     "name": "stderr",
     "output_type": "stream",
     "text": [
      "c:\\Users\\samue\\switchdrive\\SyncVM\\MscIds Course Materials\\3rd Semester\\Sport Data Analytics\\SDA-code\\ice-venv\\lib\\site-packages\\plotly\\express\\_core.py:2044: FutureWarning:\n",
      "\n",
      "The default of observed=False is deprecated and will be changed to True in a future version of pandas. Pass observed=False to retain current behavior or observed=True to adopt the future default and silence this warning.\n",
      "\n"
     ]
    },
    {
     "data": {
      "application/vnd.plotly.v1+json": {
       "config": {
        "plotlyServerURL": "https://plot.ly"
       },
       "data": [
        {
         "alignmentgroup": "True",
         "hovertemplate": "Fatigue Category=Low<br>order_fatigue=%{x}<br>Normalized Fatigue Index=%{y}<br>Position=%{text}<extra></extra>",
         "legendgroup": "Low",
         "marker": {
          "color": "#66FF66",
          "pattern": {
           "shape": ""
          }
         },
         "name": "Low",
         "offsetgroup": "Low",
         "orientation": "v",
         "showlegend": true,
         "text": [
          "Goalkeeper",
          "F",
          "F",
          "D",
          "F",
          "F"
         ],
         "textposition": "auto",
         "type": "bar",
         "x": [
          "1",
          "2",
          "3",
          "4",
          "5",
          "6"
         ],
         "xaxis": "x",
         "y": [
          1,
          1.17100739444952,
          1.2135928697694418,
          1.2756077692414793,
          1.3182493138790068,
          1.3237428402081193
         ],
         "yaxis": "y"
        },
        {
         "alignmentgroup": "True",
         "hovertemplate": "Fatigue Category=Medium<br>order_fatigue=%{x}<br>Normalized Fatigue Index=%{y}<br>Position=%{text}<extra></extra>",
         "legendgroup": "Medium",
         "marker": {
          "color": "#FFFF66",
          "pattern": {
           "shape": ""
          }
         },
         "name": "Medium",
         "offsetgroup": "Medium",
         "orientation": "v",
         "showlegend": true,
         "text": [
          "F",
          "D",
          "D",
          "F",
          "F",
          "D",
          "F",
          "D",
          "F",
          "F",
          "F",
          "F",
          "F"
         ],
         "textposition": "auto",
         "type": "bar",
         "x": [
          "7",
          "8",
          "9",
          "10",
          "11",
          "12",
          "13",
          "14",
          "15",
          "16",
          "17",
          "18",
          "19"
         ],
         "xaxis": "x",
         "y": [
          1.4493515896821765,
          1.4777610466282296,
          1.5709072761652907,
          1.5817518667886024,
          1.5953368355342603,
          1.5962447881510742,
          1.613749449425315,
          1.6148268120279106,
          1.61513869049223,
          1.633313070997798,
          1.6387667623506113,
          1.6508570848692923,
          1.7928408392357302
         ],
         "yaxis": "y"
        },
        {
         "alignmentgroup": "True",
         "hovertemplate": "Fatigue Category=High<br>order_fatigue=%{x}<br>Normalized Fatigue Index=%{y}<br>Position=%{text}<extra></extra>",
         "legendgroup": "High",
         "marker": {
          "color": "#FF6666",
          "pattern": {
           "shape": ""
          }
         },
         "name": "High",
         "offsetgroup": "High",
         "orientation": "v",
         "showlegend": true,
         "text": [
          "D"
         ],
         "textposition": "auto",
         "type": "bar",
         "x": [
          "20"
         ],
         "xaxis": "x",
         "y": [
          2
         ],
         "yaxis": "y"
        }
       ],
       "layout": {
        "barmode": "relative",
        "font": {
         "family": "Arial",
         "size": 14
        },
        "legend": {
         "bgcolor": "rgba(255,255,255,0.5)",
         "bordercolor": "black",
         "borderwidth": 1,
         "font": {
          "size": 12
         },
         "orientation": "h",
         "title": {
          "font": {
           "size": 14
          },
          "text": "Fatigue Category"
         },
         "tracegroupgap": 0,
         "x": 0.3,
         "y": 1
        },
        "template": {
         "data": {
          "bar": [
           {
            "error_x": {
             "color": "#2a3f5f"
            },
            "error_y": {
             "color": "#2a3f5f"
            },
            "marker": {
             "line": {
              "color": "#E5ECF6",
              "width": 0.5
             },
             "pattern": {
              "fillmode": "overlay",
              "size": 10,
              "solidity": 0.2
             }
            },
            "type": "bar"
           }
          ],
          "barpolar": [
           {
            "marker": {
             "line": {
              "color": "#E5ECF6",
              "width": 0.5
             },
             "pattern": {
              "fillmode": "overlay",
              "size": 10,
              "solidity": 0.2
             }
            },
            "type": "barpolar"
           }
          ],
          "carpet": [
           {
            "aaxis": {
             "endlinecolor": "#2a3f5f",
             "gridcolor": "white",
             "linecolor": "white",
             "minorgridcolor": "white",
             "startlinecolor": "#2a3f5f"
            },
            "baxis": {
             "endlinecolor": "#2a3f5f",
             "gridcolor": "white",
             "linecolor": "white",
             "minorgridcolor": "white",
             "startlinecolor": "#2a3f5f"
            },
            "type": "carpet"
           }
          ],
          "choropleth": [
           {
            "colorbar": {
             "outlinewidth": 0,
             "ticks": ""
            },
            "type": "choropleth"
           }
          ],
          "contour": [
           {
            "colorbar": {
             "outlinewidth": 0,
             "ticks": ""
            },
            "colorscale": [
             [
              0,
              "#0d0887"
             ],
             [
              0.1111111111111111,
              "#46039f"
             ],
             [
              0.2222222222222222,
              "#7201a8"
             ],
             [
              0.3333333333333333,
              "#9c179e"
             ],
             [
              0.4444444444444444,
              "#bd3786"
             ],
             [
              0.5555555555555556,
              "#d8576b"
             ],
             [
              0.6666666666666666,
              "#ed7953"
             ],
             [
              0.7777777777777778,
              "#fb9f3a"
             ],
             [
              0.8888888888888888,
              "#fdca26"
             ],
             [
              1,
              "#f0f921"
             ]
            ],
            "type": "contour"
           }
          ],
          "contourcarpet": [
           {
            "colorbar": {
             "outlinewidth": 0,
             "ticks": ""
            },
            "type": "contourcarpet"
           }
          ],
          "heatmap": [
           {
            "colorbar": {
             "outlinewidth": 0,
             "ticks": ""
            },
            "colorscale": [
             [
              0,
              "#0d0887"
             ],
             [
              0.1111111111111111,
              "#46039f"
             ],
             [
              0.2222222222222222,
              "#7201a8"
             ],
             [
              0.3333333333333333,
              "#9c179e"
             ],
             [
              0.4444444444444444,
              "#bd3786"
             ],
             [
              0.5555555555555556,
              "#d8576b"
             ],
             [
              0.6666666666666666,
              "#ed7953"
             ],
             [
              0.7777777777777778,
              "#fb9f3a"
             ],
             [
              0.8888888888888888,
              "#fdca26"
             ],
             [
              1,
              "#f0f921"
             ]
            ],
            "type": "heatmap"
           }
          ],
          "heatmapgl": [
           {
            "colorbar": {
             "outlinewidth": 0,
             "ticks": ""
            },
            "colorscale": [
             [
              0,
              "#0d0887"
             ],
             [
              0.1111111111111111,
              "#46039f"
             ],
             [
              0.2222222222222222,
              "#7201a8"
             ],
             [
              0.3333333333333333,
              "#9c179e"
             ],
             [
              0.4444444444444444,
              "#bd3786"
             ],
             [
              0.5555555555555556,
              "#d8576b"
             ],
             [
              0.6666666666666666,
              "#ed7953"
             ],
             [
              0.7777777777777778,
              "#fb9f3a"
             ],
             [
              0.8888888888888888,
              "#fdca26"
             ],
             [
              1,
              "#f0f921"
             ]
            ],
            "type": "heatmapgl"
           }
          ],
          "histogram": [
           {
            "marker": {
             "pattern": {
              "fillmode": "overlay",
              "size": 10,
              "solidity": 0.2
             }
            },
            "type": "histogram"
           }
          ],
          "histogram2d": [
           {
            "colorbar": {
             "outlinewidth": 0,
             "ticks": ""
            },
            "colorscale": [
             [
              0,
              "#0d0887"
             ],
             [
              0.1111111111111111,
              "#46039f"
             ],
             [
              0.2222222222222222,
              "#7201a8"
             ],
             [
              0.3333333333333333,
              "#9c179e"
             ],
             [
              0.4444444444444444,
              "#bd3786"
             ],
             [
              0.5555555555555556,
              "#d8576b"
             ],
             [
              0.6666666666666666,
              "#ed7953"
             ],
             [
              0.7777777777777778,
              "#fb9f3a"
             ],
             [
              0.8888888888888888,
              "#fdca26"
             ],
             [
              1,
              "#f0f921"
             ]
            ],
            "type": "histogram2d"
           }
          ],
          "histogram2dcontour": [
           {
            "colorbar": {
             "outlinewidth": 0,
             "ticks": ""
            },
            "colorscale": [
             [
              0,
              "#0d0887"
             ],
             [
              0.1111111111111111,
              "#46039f"
             ],
             [
              0.2222222222222222,
              "#7201a8"
             ],
             [
              0.3333333333333333,
              "#9c179e"
             ],
             [
              0.4444444444444444,
              "#bd3786"
             ],
             [
              0.5555555555555556,
              "#d8576b"
             ],
             [
              0.6666666666666666,
              "#ed7953"
             ],
             [
              0.7777777777777778,
              "#fb9f3a"
             ],
             [
              0.8888888888888888,
              "#fdca26"
             ],
             [
              1,
              "#f0f921"
             ]
            ],
            "type": "histogram2dcontour"
           }
          ],
          "mesh3d": [
           {
            "colorbar": {
             "outlinewidth": 0,
             "ticks": ""
            },
            "type": "mesh3d"
           }
          ],
          "parcoords": [
           {
            "line": {
             "colorbar": {
              "outlinewidth": 0,
              "ticks": ""
             }
            },
            "type": "parcoords"
           }
          ],
          "pie": [
           {
            "automargin": true,
            "type": "pie"
           }
          ],
          "scatter": [
           {
            "fillpattern": {
             "fillmode": "overlay",
             "size": 10,
             "solidity": 0.2
            },
            "type": "scatter"
           }
          ],
          "scatter3d": [
           {
            "line": {
             "colorbar": {
              "outlinewidth": 0,
              "ticks": ""
             }
            },
            "marker": {
             "colorbar": {
              "outlinewidth": 0,
              "ticks": ""
             }
            },
            "type": "scatter3d"
           }
          ],
          "scattercarpet": [
           {
            "marker": {
             "colorbar": {
              "outlinewidth": 0,
              "ticks": ""
             }
            },
            "type": "scattercarpet"
           }
          ],
          "scattergeo": [
           {
            "marker": {
             "colorbar": {
              "outlinewidth": 0,
              "ticks": ""
             }
            },
            "type": "scattergeo"
           }
          ],
          "scattergl": [
           {
            "marker": {
             "colorbar": {
              "outlinewidth": 0,
              "ticks": ""
             }
            },
            "type": "scattergl"
           }
          ],
          "scattermapbox": [
           {
            "marker": {
             "colorbar": {
              "outlinewidth": 0,
              "ticks": ""
             }
            },
            "type": "scattermapbox"
           }
          ],
          "scatterpolar": [
           {
            "marker": {
             "colorbar": {
              "outlinewidth": 0,
              "ticks": ""
             }
            },
            "type": "scatterpolar"
           }
          ],
          "scatterpolargl": [
           {
            "marker": {
             "colorbar": {
              "outlinewidth": 0,
              "ticks": ""
             }
            },
            "type": "scatterpolargl"
           }
          ],
          "scatterternary": [
           {
            "marker": {
             "colorbar": {
              "outlinewidth": 0,
              "ticks": ""
             }
            },
            "type": "scatterternary"
           }
          ],
          "surface": [
           {
            "colorbar": {
             "outlinewidth": 0,
             "ticks": ""
            },
            "colorscale": [
             [
              0,
              "#0d0887"
             ],
             [
              0.1111111111111111,
              "#46039f"
             ],
             [
              0.2222222222222222,
              "#7201a8"
             ],
             [
              0.3333333333333333,
              "#9c179e"
             ],
             [
              0.4444444444444444,
              "#bd3786"
             ],
             [
              0.5555555555555556,
              "#d8576b"
             ],
             [
              0.6666666666666666,
              "#ed7953"
             ],
             [
              0.7777777777777778,
              "#fb9f3a"
             ],
             [
              0.8888888888888888,
              "#fdca26"
             ],
             [
              1,
              "#f0f921"
             ]
            ],
            "type": "surface"
           }
          ],
          "table": [
           {
            "cells": {
             "fill": {
              "color": "#EBF0F8"
             },
             "line": {
              "color": "white"
             }
            },
            "header": {
             "fill": {
              "color": "#C8D4E3"
             },
             "line": {
              "color": "white"
             }
            },
            "type": "table"
           }
          ]
         },
         "layout": {
          "annotationdefaults": {
           "arrowcolor": "#2a3f5f",
           "arrowhead": 0,
           "arrowwidth": 1
          },
          "autotypenumbers": "strict",
          "coloraxis": {
           "colorbar": {
            "outlinewidth": 0,
            "ticks": ""
           }
          },
          "colorscale": {
           "diverging": [
            [
             0,
             "#8e0152"
            ],
            [
             0.1,
             "#c51b7d"
            ],
            [
             0.2,
             "#de77ae"
            ],
            [
             0.3,
             "#f1b6da"
            ],
            [
             0.4,
             "#fde0ef"
            ],
            [
             0.5,
             "#f7f7f7"
            ],
            [
             0.6,
             "#e6f5d0"
            ],
            [
             0.7,
             "#b8e186"
            ],
            [
             0.8,
             "#7fbc41"
            ],
            [
             0.9,
             "#4d9221"
            ],
            [
             1,
             "#276419"
            ]
           ],
           "sequential": [
            [
             0,
             "#0d0887"
            ],
            [
             0.1111111111111111,
             "#46039f"
            ],
            [
             0.2222222222222222,
             "#7201a8"
            ],
            [
             0.3333333333333333,
             "#9c179e"
            ],
            [
             0.4444444444444444,
             "#bd3786"
            ],
            [
             0.5555555555555556,
             "#d8576b"
            ],
            [
             0.6666666666666666,
             "#ed7953"
            ],
            [
             0.7777777777777778,
             "#fb9f3a"
            ],
            [
             0.8888888888888888,
             "#fdca26"
            ],
            [
             1,
             "#f0f921"
            ]
           ],
           "sequentialminus": [
            [
             0,
             "#0d0887"
            ],
            [
             0.1111111111111111,
             "#46039f"
            ],
            [
             0.2222222222222222,
             "#7201a8"
            ],
            [
             0.3333333333333333,
             "#9c179e"
            ],
            [
             0.4444444444444444,
             "#bd3786"
            ],
            [
             0.5555555555555556,
             "#d8576b"
            ],
            [
             0.6666666666666666,
             "#ed7953"
            ],
            [
             0.7777777777777778,
             "#fb9f3a"
            ],
            [
             0.8888888888888888,
             "#fdca26"
            ],
            [
             1,
             "#f0f921"
            ]
           ]
          },
          "colorway": [
           "#636efa",
           "#EF553B",
           "#00cc96",
           "#ab63fa",
           "#FFA15A",
           "#19d3f3",
           "#FF6692",
           "#B6E880",
           "#FF97FF",
           "#FECB52"
          ],
          "font": {
           "color": "#2a3f5f"
          },
          "geo": {
           "bgcolor": "white",
           "lakecolor": "white",
           "landcolor": "#E5ECF6",
           "showlakes": true,
           "showland": true,
           "subunitcolor": "white"
          },
          "hoverlabel": {
           "align": "left"
          },
          "hovermode": "closest",
          "mapbox": {
           "style": "light"
          },
          "paper_bgcolor": "white",
          "plot_bgcolor": "#E5ECF6",
          "polar": {
           "angularaxis": {
            "gridcolor": "white",
            "linecolor": "white",
            "ticks": ""
           },
           "bgcolor": "#E5ECF6",
           "radialaxis": {
            "gridcolor": "white",
            "linecolor": "white",
            "ticks": ""
           }
          },
          "scene": {
           "xaxis": {
            "backgroundcolor": "#E5ECF6",
            "gridcolor": "white",
            "gridwidth": 2,
            "linecolor": "white",
            "showbackground": true,
            "ticks": "",
            "zerolinecolor": "white"
           },
           "yaxis": {
            "backgroundcolor": "#E5ECF6",
            "gridcolor": "white",
            "gridwidth": 2,
            "linecolor": "white",
            "showbackground": true,
            "ticks": "",
            "zerolinecolor": "white"
           },
           "zaxis": {
            "backgroundcolor": "#E5ECF6",
            "gridcolor": "white",
            "gridwidth": 2,
            "linecolor": "white",
            "showbackground": true,
            "ticks": "",
            "zerolinecolor": "white"
           }
          },
          "shapedefaults": {
           "line": {
            "color": "#2a3f5f"
           }
          },
          "ternary": {
           "aaxis": {
            "gridcolor": "white",
            "linecolor": "white",
            "ticks": ""
           },
           "baxis": {
            "gridcolor": "white",
            "linecolor": "white",
            "ticks": ""
           },
           "bgcolor": "#E5ECF6",
           "caxis": {
            "gridcolor": "white",
            "linecolor": "white",
            "ticks": ""
           }
          },
          "title": {
           "x": 0.05
          },
          "xaxis": {
           "automargin": true,
           "gridcolor": "white",
           "linecolor": "white",
           "ticks": "",
           "title": {
            "standoff": 15
           },
           "zerolinecolor": "white",
           "zerolinewidth": 2
          },
          "yaxis": {
           "automargin": true,
           "gridcolor": "white",
           "linecolor": "white",
           "ticks": "",
           "title": {
            "standoff": 15
           },
           "zerolinecolor": "white",
           "zerolinewidth": 2
          }
         }
        },
        "title": {
         "text": "Normalized Fatigue Index of Players (vs Zurich)"
        },
        "xaxis": {
         "anchor": "y",
         "domain": [
          0,
          1
         ],
         "tickfont": {
          "size": 12
         },
         "ticktext": [
          8,
          20,
          16,
          12,
          18,
          2,
          10,
          15,
          1,
          19,
          4,
          7,
          13,
          11,
          3,
          17,
          5,
          14,
          9,
          6
         ],
         "tickvals": [
          "1",
          "2",
          "3",
          "4",
          "5",
          "6",
          "7",
          "8",
          "9",
          "10",
          "11",
          "12",
          "13",
          "14",
          "15",
          "16",
          "17",
          "18",
          "19",
          "20"
         ],
         "title": {
          "text": "Player ID"
         }
        },
        "yaxis": {
         "anchor": "x",
         "domain": [
          0,
          1
         ],
         "range": [
          0.75,
          2.25
         ],
         "tickfont": {
          "size": 12
         },
         "tickvals": [
          0.75,
          1,
          1.25,
          1.5,
          1.75,
          2
         ],
         "title": {
          "text": "Normalized Fatigue Index"
         }
        }
       }
      }
     },
     "metadata": {},
     "output_type": "display_data"
    }
   ],
   "source": [
    "# Plot the fatigue index for ZSC\n",
    "plot_fatigue_index(df_imp_zsc_game_FI)"
   ]
  },
  {
   "cell_type": "markdown",
   "metadata": {},
   "source": [
    "## 5. VISUALIZATION OF AVERAGE FATIGUE INDEX OF TEAM BY PERIODS\n"
   ]
  },
  {
   "cell_type": "markdown",
   "metadata": {},
   "source": [
    "This code filters and analyzes player data for different \"Periods\" and \"Overtime\" of the game. It calculates and normalizes fatigue indices, then sorts the data and calculates the average fatigue index for that period."
   ]
  },
  {
   "cell_type": "code",
   "execution_count": 78,
   "metadata": {},
   "outputs": [
    {
     "name": "stdout",
     "output_type": "stream",
     "text": [
      "   Group name    Position Description  Duration (s)  Distance (m)  \\\n",
      "27    Goalies  Goalkeeper    Period 1          1736           278   \n",
      "32    Defense           D    Period 1          1736          1144   \n",
      "39    Offense           F    Period 1          1736          1154   \n",
      "35    Defense           D    Period 1          1736          1570   \n",
      "30    Defense           D    Period 1          1736          1426   \n",
      "37    Offense           F    Period 1          1736          1372   \n",
      "21    Defense           D    Period 1          1736          1286   \n",
      "29    Offense           F    Period 1          1736          1405   \n",
      "22    Offense           F    Period 1          1736          1022   \n",
      "26    Defense           D    Period 1          1736          1706   \n",
      "41    Offense           F    Period 1          1736          1061   \n",
      "24    Offense           F    Period 1          1736          1274   \n",
      "31    Offense           F    Period 1          1736          1598   \n",
      "33    Defense           F    Period 1          1736          1423   \n",
      "23    Offense           F    Period 1          1736          1379   \n",
      "28    Offense           F    Period 1          1736          1379   \n",
      "40    Offense           F    Period 1          1736          1136   \n",
      "25    Defense           D    Period 1          1736           286   \n",
      "38    Offense           F    Period 1          1736          1244   \n",
      "36    Offense           F    Period 1          1736           931   \n",
      "\n",
      "    Time on Ice (s)  High Metabolic Power Distance (m)  Mechanical Intensity  \\\n",
      "27             1202                                  1                 19.65   \n",
      "32              348                                357                 36.76   \n",
      "39              296                                589                 43.91   \n",
      "35              414                                788                 42.78   \n",
      "30              426                                587                 45.73   \n",
      "37              317                                800                 42.09   \n",
      "21              412                                568                 45.51   \n",
      "29              333                                827                 43.46   \n",
      "22              218                                690                 44.15   \n",
      "26              425                                943                 44.48   \n",
      "41              243                                621                 47.28   \n",
      "24              337                                656                 47.89   \n",
      "31              364                               1017                 44.03   \n",
      "33              351                                795                 47.31   \n",
      "23              313                                857                 46.63   \n",
      "28              335                                821                 47.48   \n",
      "40              249                                713                 48.10   \n",
      "25               72                                165                 53.66   \n",
      "38              320                                699                 50.14   \n",
      "36              210                                619                 48.96   \n",
      "\n",
      "    Player ID  Normalized Mechanical Intensity  Fatigue Index  \\\n",
      "27       <NA>                         0.000000       0.695993   \n",
      "32       <NA>                         0.503087       1.015611   \n",
      "39       <NA>                         0.713320       1.394225   \n",
      "35       <NA>                         0.680094       1.420484   \n",
      "30       <NA>                         0.766833       1.423866   \n",
      "37       <NA>                         0.659806       1.425500   \n",
      "21       <NA>                         0.760365       1.439371   \n",
      "29       <NA>                         0.700088       1.480521   \n",
      "22       <NA>                         0.720376       1.521099   \n",
      "26       <NA>                         0.730079       1.527650   \n",
      "41       <NA>                         0.812408       1.537682   \n",
      "24       <NA>                         0.830344       1.539382   \n",
      "31       <NA>                         0.716848       1.562946   \n",
      "33       <NA>                         0.813290       1.574158   \n",
      "23       <NA>                         0.793296       1.595060   \n",
      "28       <NA>                         0.818289       1.606620   \n",
      "40       <NA>                         0.836519       1.607593   \n",
      "25       <NA>                         1.000000       1.618398   \n",
      "38       <NA>                         0.896501       1.642730   \n",
      "36       <NA>                         0.861805       1.647650   \n",
      "\n",
      "    Normalized Fatigue Index  \n",
      "27                  1.000000  \n",
      "32                  1.335854  \n",
      "39                  1.733702  \n",
      "35                  1.761295  \n",
      "30                  1.764848  \n",
      "37                  1.766565  \n",
      "21                  1.781141  \n",
      "29                  1.824381  \n",
      "22                  1.867021  \n",
      "26                  1.873905  \n",
      "41                  1.884446  \n",
      "24                  1.886233  \n",
      "31                  1.910993  \n",
      "33                  1.922775  \n",
      "23                  1.944739  \n",
      "28                  1.956886  \n",
      "40                  1.957908  \n",
      "25                  1.969262  \n",
      "38                  1.994830  \n",
      "36                  2.000000  \n",
      "1.4638269712144625\n"
     ]
    },
    {
     "name": "stderr",
     "output_type": "stream",
     "text": [
      "C:\\Users\\samue\\AppData\\Local\\Temp\\ipykernel_24612\\2955274681.py:16: SettingWithCopyWarning:\n",
      "\n",
      "\n",
      "A value is trying to be set on a copy of a slice from a DataFrame.\n",
      "Try using .loc[row_indexer,col_indexer] = value instead\n",
      "\n",
      "See the caveats in the documentation: https://pandas.pydata.org/pandas-docs/stable/user_guide/indexing.html#returning-a-view-versus-a-copy\n",
      "\n",
      "C:\\Users\\samue\\AppData\\Local\\Temp\\ipykernel_24612\\2125831255.py:14: SettingWithCopyWarning:\n",
      "\n",
      "\n",
      "A value is trying to be set on a copy of a slice from a DataFrame.\n",
      "Try using .loc[row_indexer,col_indexer] = value instead\n",
      "\n",
      "See the caveats in the documentation: https://pandas.pydata.org/pandas-docs/stable/user_guide/indexing.html#returning-a-view-versus-a-copy\n",
      "\n",
      "C:\\Users\\samue\\AppData\\Local\\Temp\\ipykernel_24612\\2125831255.py:21: SettingWithCopyWarning:\n",
      "\n",
      "\n",
      "A value is trying to be set on a copy of a slice from a DataFrame.\n",
      "Try using .loc[row_indexer,col_indexer] = value instead\n",
      "\n",
      "See the caveats in the documentation: https://pandas.pydata.org/pandas-docs/stable/user_guide/indexing.html#returning-a-view-versus-a-copy\n",
      "\n"
     ]
    }
   ],
   "source": [
    "def process_period_data(df, period_name):\n",
    "    \"\"\"\n",
    "    Process the dataframe for a specific period by normalizing mechanical intensity and computing fatigue index.\n",
    "\n",
    "    Parameters:\n",
    "    - df (pd.DataFrame): The dataframe containing the raw data.\n",
    "    - period_name (str): The name of the period to filter for (e.g., \"Period 1\").\n",
    "    - normalize_column (function): The function to normalize the mechanical intensity.\n",
    "    - fatigue_index (function): The function to compute fatigue index for each row.\n",
    "\n",
    "    Returns:\n",
    "    pd.DataFrame: The processed dataframe for the specific period.\n",
    "    float: The average fatigue index for the period.\n",
    "    \"\"\"\n",
    "\n",
    "    # Filter rows by Description column for the specified period\n",
    "    df_period = df[df[\"Description\"].str.contains(period_name)]\n",
    "\n",
    "    # Normalize the Mechanical Intensity column\n",
    "    df_period = normalize_column(df_period, \"Mechanical Intensity\")\n",
    "\n",
    "    # Compute the normalized fatigue index\n",
    "    df_period = compute_normalized_fatigue(df_period, fatigue_index)\n",
    "\n",
    "    # Calculate the average fatigue index for the period\n",
    "    avg_FI_period = df_period[\"Fatigue Index\"].mean()\n",
    "\n",
    "    return df_period, avg_FI_period\n",
    "\n",
    "\n",
    "# Example usage:\n",
    "df_period1_processed, avg_FI_period1 = process_period_data(df_imp_lugano, \"Period 1\")\n",
    "print(df_period1_processed)\n",
    "print(avg_FI_period1)"
   ]
  },
  {
   "cell_type": "markdown",
   "metadata": {},
   "source": [
    "### 5.1 VS LUGANO: FATIGUE INDEX CALCULATION FOR DIFFERENT \"PERIODS\" AND \"OVERTIME\" \n"
   ]
  },
  {
   "cell_type": "markdown",
   "metadata": {},
   "source": [
    "This code uses above function and calculates and normalizes fatigue indices, then sorts the data and calculates the average fatigue index for all \"Periods\" and \"Overtime\". (for vs Lugano)"
   ]
  },
  {
   "cell_type": "code",
   "execution_count": 79,
   "metadata": {},
   "outputs": [
    {
     "name": "stdout",
     "output_type": "stream",
     "text": [
      "1.4638269712144625 1.4623009219845824 1.3671997994428162 1.2528037988659964\n"
     ]
    },
    {
     "name": "stderr",
     "output_type": "stream",
     "text": [
      "C:\\Users\\samue\\AppData\\Local\\Temp\\ipykernel_24612\\2955274681.py:16: SettingWithCopyWarning:\n",
      "\n",
      "\n",
      "A value is trying to be set on a copy of a slice from a DataFrame.\n",
      "Try using .loc[row_indexer,col_indexer] = value instead\n",
      "\n",
      "See the caveats in the documentation: https://pandas.pydata.org/pandas-docs/stable/user_guide/indexing.html#returning-a-view-versus-a-copy\n",
      "\n",
      "C:\\Users\\samue\\AppData\\Local\\Temp\\ipykernel_24612\\2125831255.py:14: SettingWithCopyWarning:\n",
      "\n",
      "\n",
      "A value is trying to be set on a copy of a slice from a DataFrame.\n",
      "Try using .loc[row_indexer,col_indexer] = value instead\n",
      "\n",
      "See the caveats in the documentation: https://pandas.pydata.org/pandas-docs/stable/user_guide/indexing.html#returning-a-view-versus-a-copy\n",
      "\n",
      "C:\\Users\\samue\\AppData\\Local\\Temp\\ipykernel_24612\\2125831255.py:21: SettingWithCopyWarning:\n",
      "\n",
      "\n",
      "A value is trying to be set on a copy of a slice from a DataFrame.\n",
      "Try using .loc[row_indexer,col_indexer] = value instead\n",
      "\n",
      "See the caveats in the documentation: https://pandas.pydata.org/pandas-docs/stable/user_guide/indexing.html#returning-a-view-versus-a-copy\n",
      "\n",
      "C:\\Users\\samue\\AppData\\Local\\Temp\\ipykernel_24612\\2955274681.py:16: SettingWithCopyWarning:\n",
      "\n",
      "\n",
      "A value is trying to be set on a copy of a slice from a DataFrame.\n",
      "Try using .loc[row_indexer,col_indexer] = value instead\n",
      "\n",
      "See the caveats in the documentation: https://pandas.pydata.org/pandas-docs/stable/user_guide/indexing.html#returning-a-view-versus-a-copy\n",
      "\n",
      "C:\\Users\\samue\\AppData\\Local\\Temp\\ipykernel_24612\\2125831255.py:14: SettingWithCopyWarning:\n",
      "\n",
      "\n",
      "A value is trying to be set on a copy of a slice from a DataFrame.\n",
      "Try using .loc[row_indexer,col_indexer] = value instead\n",
      "\n",
      "See the caveats in the documentation: https://pandas.pydata.org/pandas-docs/stable/user_guide/indexing.html#returning-a-view-versus-a-copy\n",
      "\n",
      "C:\\Users\\samue\\AppData\\Local\\Temp\\ipykernel_24612\\2125831255.py:21: SettingWithCopyWarning:\n",
      "\n",
      "\n",
      "A value is trying to be set on a copy of a slice from a DataFrame.\n",
      "Try using .loc[row_indexer,col_indexer] = value instead\n",
      "\n",
      "See the caveats in the documentation: https://pandas.pydata.org/pandas-docs/stable/user_guide/indexing.html#returning-a-view-versus-a-copy\n",
      "\n",
      "C:\\Users\\samue\\AppData\\Local\\Temp\\ipykernel_24612\\2955274681.py:16: SettingWithCopyWarning:\n",
      "\n",
      "\n",
      "A value is trying to be set on a copy of a slice from a DataFrame.\n",
      "Try using .loc[row_indexer,col_indexer] = value instead\n",
      "\n",
      "See the caveats in the documentation: https://pandas.pydata.org/pandas-docs/stable/user_guide/indexing.html#returning-a-view-versus-a-copy\n",
      "\n",
      "C:\\Users\\samue\\AppData\\Local\\Temp\\ipykernel_24612\\2125831255.py:14: SettingWithCopyWarning:\n",
      "\n",
      "\n",
      "A value is trying to be set on a copy of a slice from a DataFrame.\n",
      "Try using .loc[row_indexer,col_indexer] = value instead\n",
      "\n",
      "See the caveats in the documentation: https://pandas.pydata.org/pandas-docs/stable/user_guide/indexing.html#returning-a-view-versus-a-copy\n",
      "\n",
      "C:\\Users\\samue\\AppData\\Local\\Temp\\ipykernel_24612\\2125831255.py:21: SettingWithCopyWarning:\n",
      "\n",
      "\n",
      "A value is trying to be set on a copy of a slice from a DataFrame.\n",
      "Try using .loc[row_indexer,col_indexer] = value instead\n",
      "\n",
      "See the caveats in the documentation: https://pandas.pydata.org/pandas-docs/stable/user_guide/indexing.html#returning-a-view-versus-a-copy\n",
      "\n",
      "C:\\Users\\samue\\AppData\\Local\\Temp\\ipykernel_24612\\2955274681.py:16: SettingWithCopyWarning:\n",
      "\n",
      "\n",
      "A value is trying to be set on a copy of a slice from a DataFrame.\n",
      "Try using .loc[row_indexer,col_indexer] = value instead\n",
      "\n",
      "See the caveats in the documentation: https://pandas.pydata.org/pandas-docs/stable/user_guide/indexing.html#returning-a-view-versus-a-copy\n",
      "\n",
      "C:\\Users\\samue\\AppData\\Local\\Temp\\ipykernel_24612\\2125831255.py:14: SettingWithCopyWarning:\n",
      "\n",
      "\n",
      "A value is trying to be set on a copy of a slice from a DataFrame.\n",
      "Try using .loc[row_indexer,col_indexer] = value instead\n",
      "\n",
      "See the caveats in the documentation: https://pandas.pydata.org/pandas-docs/stable/user_guide/indexing.html#returning-a-view-versus-a-copy\n",
      "\n",
      "C:\\Users\\samue\\AppData\\Local\\Temp\\ipykernel_24612\\2125831255.py:21: SettingWithCopyWarning:\n",
      "\n",
      "\n",
      "A value is trying to be set on a copy of a slice from a DataFrame.\n",
      "Try using .loc[row_indexer,col_indexer] = value instead\n",
      "\n",
      "See the caveats in the documentation: https://pandas.pydata.org/pandas-docs/stable/user_guide/indexing.html#returning-a-view-versus-a-copy\n",
      "\n"
     ]
    }
   ],
   "source": [
    "df_period1_processed_lug, avg_FI_period1_lug = process_period_data(\n",
    "    df_imp_lugano, \"Period 1\"\n",
    ")\n",
    "df_period2_processed_lug, avg_FI_period2_lug = process_period_data(\n",
    "    df_imp_lugano, \"Period 2\"\n",
    ")\n",
    "df_period3_processed_lug, avg_FI_period3_lug = process_period_data(\n",
    "    df_imp_lugano, \"Period 3\"\n",
    ")\n",
    "df_overtime_processed_lug, avg_FI_overtime_lug = process_period_data(\n",
    "    df_imp_lugano, \"Overtime\"\n",
    ")\n",
    "\n",
    "print(avg_FI_period1_lug, avg_FI_period2_lug, avg_FI_period3_lug, avg_FI_overtime_lug)"
   ]
  },
  {
   "cell_type": "markdown",
   "metadata": {},
   "source": [
    "### 5.2 VS ZURICH: FATIGUE INDEX CALCULATION FOR PERIOD 1, 2 AND 3 FATIGUE INDEX CALCULATION FOR DIFFERENT \"PERIODS\" AND \"OVERTIME\" "
   ]
  },
  {
   "cell_type": "markdown",
   "metadata": {},
   "source": [
    "Similary we use the function on (vs ZSC dataframe) to calculate and normalizes fatigue indices, then sort the data and calculate the average fatigue index for all \"Periods\" and \"Overtime\". (for vs ZSC)"
   ]
  },
  {
   "cell_type": "code",
   "execution_count": 80,
   "metadata": {},
   "outputs": [
    {
     "name": "stdout",
     "output_type": "stream",
     "text": [
      "1.3756061413324456 1.2114185897134728 1.0643050689291411\n"
     ]
    },
    {
     "name": "stderr",
     "output_type": "stream",
     "text": [
      "C:\\Users\\samue\\AppData\\Local\\Temp\\ipykernel_24612\\2955274681.py:16: SettingWithCopyWarning:\n",
      "\n",
      "\n",
      "A value is trying to be set on a copy of a slice from a DataFrame.\n",
      "Try using .loc[row_indexer,col_indexer] = value instead\n",
      "\n",
      "See the caveats in the documentation: https://pandas.pydata.org/pandas-docs/stable/user_guide/indexing.html#returning-a-view-versus-a-copy\n",
      "\n",
      "C:\\Users\\samue\\AppData\\Local\\Temp\\ipykernel_24612\\2125831255.py:14: SettingWithCopyWarning:\n",
      "\n",
      "\n",
      "A value is trying to be set on a copy of a slice from a DataFrame.\n",
      "Try using .loc[row_indexer,col_indexer] = value instead\n",
      "\n",
      "See the caveats in the documentation: https://pandas.pydata.org/pandas-docs/stable/user_guide/indexing.html#returning-a-view-versus-a-copy\n",
      "\n",
      "C:\\Users\\samue\\AppData\\Local\\Temp\\ipykernel_24612\\2125831255.py:21: SettingWithCopyWarning:\n",
      "\n",
      "\n",
      "A value is trying to be set on a copy of a slice from a DataFrame.\n",
      "Try using .loc[row_indexer,col_indexer] = value instead\n",
      "\n",
      "See the caveats in the documentation: https://pandas.pydata.org/pandas-docs/stable/user_guide/indexing.html#returning-a-view-versus-a-copy\n",
      "\n",
      "C:\\Users\\samue\\AppData\\Local\\Temp\\ipykernel_24612\\2955274681.py:16: SettingWithCopyWarning:\n",
      "\n",
      "\n",
      "A value is trying to be set on a copy of a slice from a DataFrame.\n",
      "Try using .loc[row_indexer,col_indexer] = value instead\n",
      "\n",
      "See the caveats in the documentation: https://pandas.pydata.org/pandas-docs/stable/user_guide/indexing.html#returning-a-view-versus-a-copy\n",
      "\n",
      "C:\\Users\\samue\\AppData\\Local\\Temp\\ipykernel_24612\\2125831255.py:14: SettingWithCopyWarning:\n",
      "\n",
      "\n",
      "A value is trying to be set on a copy of a slice from a DataFrame.\n",
      "Try using .loc[row_indexer,col_indexer] = value instead\n",
      "\n",
      "See the caveats in the documentation: https://pandas.pydata.org/pandas-docs/stable/user_guide/indexing.html#returning-a-view-versus-a-copy\n",
      "\n",
      "C:\\Users\\samue\\AppData\\Local\\Temp\\ipykernel_24612\\2125831255.py:21: SettingWithCopyWarning:\n",
      "\n",
      "\n",
      "A value is trying to be set on a copy of a slice from a DataFrame.\n",
      "Try using .loc[row_indexer,col_indexer] = value instead\n",
      "\n",
      "See the caveats in the documentation: https://pandas.pydata.org/pandas-docs/stable/user_guide/indexing.html#returning-a-view-versus-a-copy\n",
      "\n",
      "C:\\Users\\samue\\AppData\\Local\\Temp\\ipykernel_24612\\2955274681.py:16: SettingWithCopyWarning:\n",
      "\n",
      "\n",
      "A value is trying to be set on a copy of a slice from a DataFrame.\n",
      "Try using .loc[row_indexer,col_indexer] = value instead\n",
      "\n",
      "See the caveats in the documentation: https://pandas.pydata.org/pandas-docs/stable/user_guide/indexing.html#returning-a-view-versus-a-copy\n",
      "\n",
      "C:\\Users\\samue\\AppData\\Local\\Temp\\ipykernel_24612\\2125831255.py:14: SettingWithCopyWarning:\n",
      "\n",
      "\n",
      "A value is trying to be set on a copy of a slice from a DataFrame.\n",
      "Try using .loc[row_indexer,col_indexer] = value instead\n",
      "\n",
      "See the caveats in the documentation: https://pandas.pydata.org/pandas-docs/stable/user_guide/indexing.html#returning-a-view-versus-a-copy\n",
      "\n",
      "C:\\Users\\samue\\AppData\\Local\\Temp\\ipykernel_24612\\2125831255.py:21: SettingWithCopyWarning:\n",
      "\n",
      "\n",
      "A value is trying to be set on a copy of a slice from a DataFrame.\n",
      "Try using .loc[row_indexer,col_indexer] = value instead\n",
      "\n",
      "See the caveats in the documentation: https://pandas.pydata.org/pandas-docs/stable/user_guide/indexing.html#returning-a-view-versus-a-copy\n",
      "\n"
     ]
    }
   ],
   "source": [
    "df_period1_processed_zsc, avg_FI_period1_zsc = process_period_data(\n",
    "    df_imp_zsc, \"Period 1\"\n",
    ")\n",
    "df_period2_processed_zsc, avg_FI_period2_zsc = process_period_data(\n",
    "    df_imp_zsc, \"Period 2\"\n",
    ")\n",
    "df_period3_processed_zsc, avg_FI_period3_zsc = process_period_data(\n",
    "    df_imp_zsc, \"Period 3\"\n",
    ")\n",
    "\n",
    "\n",
    "print(avg_FI_period1_zsc, avg_FI_period2_zsc, avg_FI_period3_zsc)"
   ]
  },
  {
   "cell_type": "markdown",
   "metadata": {},
   "source": [
    "### 5.3 LINE CHART OF AVERAGE FATIGUE INDEX OF TEAM (CHANGE IN FATIGUE INDEX OVER TIME)\n",
    "\n",
    "### Understanding Fatigue Index: Average vs Cumulative\n",
    "\n",
    "- **Average Fatigue Index**:\n",
    "  \n",
    "  - Represents the **typical fatigue** in a game period.\n",
    "  \n",
    "  - Indicates how intense a specific period was.\n",
    "\n",
    "  \n",
    "- **Cumulative Fatigue Index**:\n",
    "  \n",
    "  - Reflects the **running total** of fatigue across the game.\n",
    "  \n",
    "  - Demonstrates the **building toll** on players as the game progresses.\n",
    "\n",
    "  \n",
    "#### Key Takeaway:\n",
    "\n",
    "- Using the **Average** tells us: *How hard was a specific period?*\n",
    "\n",
    "- The **Cumulative** illustrates: *How much fatigue have players gathered over the course of the game?*\n",
    "\n",
    "\n"
   ]
  },
  {
   "cell_type": "markdown",
   "metadata": {},
   "source": [
    "This code creates an interactive line chart using Plotly to display the average fatigue index of Team Lugano in each period and overtime."
   ]
  },
  {
   "cell_type": "code",
   "execution_count": 81,
   "metadata": {},
   "outputs": [
    {
     "data": {
      "application/vnd.plotly.v1+json": {
       "config": {
        "plotlyServerURL": "https://plot.ly"
       },
       "data": [
        {
         "mode": "lines+markers",
         "name": "ZSC",
         "type": "scatter",
         "x": [
          "Period 1",
          "Period 2",
          "Period 3",
          "Overtime"
         ],
         "y": [
          1.3756061413324456,
          1.2114185897134728,
          1.0643050689291411
         ]
        },
        {
         "mode": "lines+markers",
         "name": "Lugano",
         "type": "scatter",
         "x": [
          "Period 1",
          "Period 2",
          "Period 3",
          "Overtime"
         ],
         "y": [
          1.4638269712144625,
          1.4623009219845824,
          1.3671997994428162,
          1.2528037988659964
         ]
        }
       ],
       "layout": {
        "font": {
         "family": "Arial",
         "size": 14
        },
        "template": {
         "data": {
          "bar": [
           {
            "error_x": {
             "color": "#2a3f5f"
            },
            "error_y": {
             "color": "#2a3f5f"
            },
            "marker": {
             "line": {
              "color": "#E5ECF6",
              "width": 0.5
             },
             "pattern": {
              "fillmode": "overlay",
              "size": 10,
              "solidity": 0.2
             }
            },
            "type": "bar"
           }
          ],
          "barpolar": [
           {
            "marker": {
             "line": {
              "color": "#E5ECF6",
              "width": 0.5
             },
             "pattern": {
              "fillmode": "overlay",
              "size": 10,
              "solidity": 0.2
             }
            },
            "type": "barpolar"
           }
          ],
          "carpet": [
           {
            "aaxis": {
             "endlinecolor": "#2a3f5f",
             "gridcolor": "white",
             "linecolor": "white",
             "minorgridcolor": "white",
             "startlinecolor": "#2a3f5f"
            },
            "baxis": {
             "endlinecolor": "#2a3f5f",
             "gridcolor": "white",
             "linecolor": "white",
             "minorgridcolor": "white",
             "startlinecolor": "#2a3f5f"
            },
            "type": "carpet"
           }
          ],
          "choropleth": [
           {
            "colorbar": {
             "outlinewidth": 0,
             "ticks": ""
            },
            "type": "choropleth"
           }
          ],
          "contour": [
           {
            "colorbar": {
             "outlinewidth": 0,
             "ticks": ""
            },
            "colorscale": [
             [
              0,
              "#0d0887"
             ],
             [
              0.1111111111111111,
              "#46039f"
             ],
             [
              0.2222222222222222,
              "#7201a8"
             ],
             [
              0.3333333333333333,
              "#9c179e"
             ],
             [
              0.4444444444444444,
              "#bd3786"
             ],
             [
              0.5555555555555556,
              "#d8576b"
             ],
             [
              0.6666666666666666,
              "#ed7953"
             ],
             [
              0.7777777777777778,
              "#fb9f3a"
             ],
             [
              0.8888888888888888,
              "#fdca26"
             ],
             [
              1,
              "#f0f921"
             ]
            ],
            "type": "contour"
           }
          ],
          "contourcarpet": [
           {
            "colorbar": {
             "outlinewidth": 0,
             "ticks": ""
            },
            "type": "contourcarpet"
           }
          ],
          "heatmap": [
           {
            "colorbar": {
             "outlinewidth": 0,
             "ticks": ""
            },
            "colorscale": [
             [
              0,
              "#0d0887"
             ],
             [
              0.1111111111111111,
              "#46039f"
             ],
             [
              0.2222222222222222,
              "#7201a8"
             ],
             [
              0.3333333333333333,
              "#9c179e"
             ],
             [
              0.4444444444444444,
              "#bd3786"
             ],
             [
              0.5555555555555556,
              "#d8576b"
             ],
             [
              0.6666666666666666,
              "#ed7953"
             ],
             [
              0.7777777777777778,
              "#fb9f3a"
             ],
             [
              0.8888888888888888,
              "#fdca26"
             ],
             [
              1,
              "#f0f921"
             ]
            ],
            "type": "heatmap"
           }
          ],
          "heatmapgl": [
           {
            "colorbar": {
             "outlinewidth": 0,
             "ticks": ""
            },
            "colorscale": [
             [
              0,
              "#0d0887"
             ],
             [
              0.1111111111111111,
              "#46039f"
             ],
             [
              0.2222222222222222,
              "#7201a8"
             ],
             [
              0.3333333333333333,
              "#9c179e"
             ],
             [
              0.4444444444444444,
              "#bd3786"
             ],
             [
              0.5555555555555556,
              "#d8576b"
             ],
             [
              0.6666666666666666,
              "#ed7953"
             ],
             [
              0.7777777777777778,
              "#fb9f3a"
             ],
             [
              0.8888888888888888,
              "#fdca26"
             ],
             [
              1,
              "#f0f921"
             ]
            ],
            "type": "heatmapgl"
           }
          ],
          "histogram": [
           {
            "marker": {
             "pattern": {
              "fillmode": "overlay",
              "size": 10,
              "solidity": 0.2
             }
            },
            "type": "histogram"
           }
          ],
          "histogram2d": [
           {
            "colorbar": {
             "outlinewidth": 0,
             "ticks": ""
            },
            "colorscale": [
             [
              0,
              "#0d0887"
             ],
             [
              0.1111111111111111,
              "#46039f"
             ],
             [
              0.2222222222222222,
              "#7201a8"
             ],
             [
              0.3333333333333333,
              "#9c179e"
             ],
             [
              0.4444444444444444,
              "#bd3786"
             ],
             [
              0.5555555555555556,
              "#d8576b"
             ],
             [
              0.6666666666666666,
              "#ed7953"
             ],
             [
              0.7777777777777778,
              "#fb9f3a"
             ],
             [
              0.8888888888888888,
              "#fdca26"
             ],
             [
              1,
              "#f0f921"
             ]
            ],
            "type": "histogram2d"
           }
          ],
          "histogram2dcontour": [
           {
            "colorbar": {
             "outlinewidth": 0,
             "ticks": ""
            },
            "colorscale": [
             [
              0,
              "#0d0887"
             ],
             [
              0.1111111111111111,
              "#46039f"
             ],
             [
              0.2222222222222222,
              "#7201a8"
             ],
             [
              0.3333333333333333,
              "#9c179e"
             ],
             [
              0.4444444444444444,
              "#bd3786"
             ],
             [
              0.5555555555555556,
              "#d8576b"
             ],
             [
              0.6666666666666666,
              "#ed7953"
             ],
             [
              0.7777777777777778,
              "#fb9f3a"
             ],
             [
              0.8888888888888888,
              "#fdca26"
             ],
             [
              1,
              "#f0f921"
             ]
            ],
            "type": "histogram2dcontour"
           }
          ],
          "mesh3d": [
           {
            "colorbar": {
             "outlinewidth": 0,
             "ticks": ""
            },
            "type": "mesh3d"
           }
          ],
          "parcoords": [
           {
            "line": {
             "colorbar": {
              "outlinewidth": 0,
              "ticks": ""
             }
            },
            "type": "parcoords"
           }
          ],
          "pie": [
           {
            "automargin": true,
            "type": "pie"
           }
          ],
          "scatter": [
           {
            "fillpattern": {
             "fillmode": "overlay",
             "size": 10,
             "solidity": 0.2
            },
            "type": "scatter"
           }
          ],
          "scatter3d": [
           {
            "line": {
             "colorbar": {
              "outlinewidth": 0,
              "ticks": ""
             }
            },
            "marker": {
             "colorbar": {
              "outlinewidth": 0,
              "ticks": ""
             }
            },
            "type": "scatter3d"
           }
          ],
          "scattercarpet": [
           {
            "marker": {
             "colorbar": {
              "outlinewidth": 0,
              "ticks": ""
             }
            },
            "type": "scattercarpet"
           }
          ],
          "scattergeo": [
           {
            "marker": {
             "colorbar": {
              "outlinewidth": 0,
              "ticks": ""
             }
            },
            "type": "scattergeo"
           }
          ],
          "scattergl": [
           {
            "marker": {
             "colorbar": {
              "outlinewidth": 0,
              "ticks": ""
             }
            },
            "type": "scattergl"
           }
          ],
          "scattermapbox": [
           {
            "marker": {
             "colorbar": {
              "outlinewidth": 0,
              "ticks": ""
             }
            },
            "type": "scattermapbox"
           }
          ],
          "scatterpolar": [
           {
            "marker": {
             "colorbar": {
              "outlinewidth": 0,
              "ticks": ""
             }
            },
            "type": "scatterpolar"
           }
          ],
          "scatterpolargl": [
           {
            "marker": {
             "colorbar": {
              "outlinewidth": 0,
              "ticks": ""
             }
            },
            "type": "scatterpolargl"
           }
          ],
          "scatterternary": [
           {
            "marker": {
             "colorbar": {
              "outlinewidth": 0,
              "ticks": ""
             }
            },
            "type": "scatterternary"
           }
          ],
          "surface": [
           {
            "colorbar": {
             "outlinewidth": 0,
             "ticks": ""
            },
            "colorscale": [
             [
              0,
              "#0d0887"
             ],
             [
              0.1111111111111111,
              "#46039f"
             ],
             [
              0.2222222222222222,
              "#7201a8"
             ],
             [
              0.3333333333333333,
              "#9c179e"
             ],
             [
              0.4444444444444444,
              "#bd3786"
             ],
             [
              0.5555555555555556,
              "#d8576b"
             ],
             [
              0.6666666666666666,
              "#ed7953"
             ],
             [
              0.7777777777777778,
              "#fb9f3a"
             ],
             [
              0.8888888888888888,
              "#fdca26"
             ],
             [
              1,
              "#f0f921"
             ]
            ],
            "type": "surface"
           }
          ],
          "table": [
           {
            "cells": {
             "fill": {
              "color": "#EBF0F8"
             },
             "line": {
              "color": "white"
             }
            },
            "header": {
             "fill": {
              "color": "#C8D4E3"
             },
             "line": {
              "color": "white"
             }
            },
            "type": "table"
           }
          ]
         },
         "layout": {
          "annotationdefaults": {
           "arrowcolor": "#2a3f5f",
           "arrowhead": 0,
           "arrowwidth": 1
          },
          "autotypenumbers": "strict",
          "coloraxis": {
           "colorbar": {
            "outlinewidth": 0,
            "ticks": ""
           }
          },
          "colorscale": {
           "diverging": [
            [
             0,
             "#8e0152"
            ],
            [
             0.1,
             "#c51b7d"
            ],
            [
             0.2,
             "#de77ae"
            ],
            [
             0.3,
             "#f1b6da"
            ],
            [
             0.4,
             "#fde0ef"
            ],
            [
             0.5,
             "#f7f7f7"
            ],
            [
             0.6,
             "#e6f5d0"
            ],
            [
             0.7,
             "#b8e186"
            ],
            [
             0.8,
             "#7fbc41"
            ],
            [
             0.9,
             "#4d9221"
            ],
            [
             1,
             "#276419"
            ]
           ],
           "sequential": [
            [
             0,
             "#0d0887"
            ],
            [
             0.1111111111111111,
             "#46039f"
            ],
            [
             0.2222222222222222,
             "#7201a8"
            ],
            [
             0.3333333333333333,
             "#9c179e"
            ],
            [
             0.4444444444444444,
             "#bd3786"
            ],
            [
             0.5555555555555556,
             "#d8576b"
            ],
            [
             0.6666666666666666,
             "#ed7953"
            ],
            [
             0.7777777777777778,
             "#fb9f3a"
            ],
            [
             0.8888888888888888,
             "#fdca26"
            ],
            [
             1,
             "#f0f921"
            ]
           ],
           "sequentialminus": [
            [
             0,
             "#0d0887"
            ],
            [
             0.1111111111111111,
             "#46039f"
            ],
            [
             0.2222222222222222,
             "#7201a8"
            ],
            [
             0.3333333333333333,
             "#9c179e"
            ],
            [
             0.4444444444444444,
             "#bd3786"
            ],
            [
             0.5555555555555556,
             "#d8576b"
            ],
            [
             0.6666666666666666,
             "#ed7953"
            ],
            [
             0.7777777777777778,
             "#fb9f3a"
            ],
            [
             0.8888888888888888,
             "#fdca26"
            ],
            [
             1,
             "#f0f921"
            ]
           ]
          },
          "colorway": [
           "#636efa",
           "#EF553B",
           "#00cc96",
           "#ab63fa",
           "#FFA15A",
           "#19d3f3",
           "#FF6692",
           "#B6E880",
           "#FF97FF",
           "#FECB52"
          ],
          "font": {
           "color": "#2a3f5f"
          },
          "geo": {
           "bgcolor": "white",
           "lakecolor": "white",
           "landcolor": "#E5ECF6",
           "showlakes": true,
           "showland": true,
           "subunitcolor": "white"
          },
          "hoverlabel": {
           "align": "left"
          },
          "hovermode": "closest",
          "mapbox": {
           "style": "light"
          },
          "paper_bgcolor": "white",
          "plot_bgcolor": "#E5ECF6",
          "polar": {
           "angularaxis": {
            "gridcolor": "white",
            "linecolor": "white",
            "ticks": ""
           },
           "bgcolor": "#E5ECF6",
           "radialaxis": {
            "gridcolor": "white",
            "linecolor": "white",
            "ticks": ""
           }
          },
          "scene": {
           "xaxis": {
            "backgroundcolor": "#E5ECF6",
            "gridcolor": "white",
            "gridwidth": 2,
            "linecolor": "white",
            "showbackground": true,
            "ticks": "",
            "zerolinecolor": "white"
           },
           "yaxis": {
            "backgroundcolor": "#E5ECF6",
            "gridcolor": "white",
            "gridwidth": 2,
            "linecolor": "white",
            "showbackground": true,
            "ticks": "",
            "zerolinecolor": "white"
           },
           "zaxis": {
            "backgroundcolor": "#E5ECF6",
            "gridcolor": "white",
            "gridwidth": 2,
            "linecolor": "white",
            "showbackground": true,
            "ticks": "",
            "zerolinecolor": "white"
           }
          },
          "shapedefaults": {
           "line": {
            "color": "#2a3f5f"
           }
          },
          "ternary": {
           "aaxis": {
            "gridcolor": "white",
            "linecolor": "white",
            "ticks": ""
           },
           "baxis": {
            "gridcolor": "white",
            "linecolor": "white",
            "ticks": ""
           },
           "bgcolor": "#E5ECF6",
           "caxis": {
            "gridcolor": "white",
            "linecolor": "white",
            "ticks": ""
           }
          },
          "title": {
           "x": 0.05
          },
          "xaxis": {
           "automargin": true,
           "gridcolor": "white",
           "linecolor": "white",
           "ticks": "",
           "title": {
            "standoff": 15
           },
           "zerolinecolor": "white",
           "zerolinewidth": 2
          },
          "yaxis": {
           "automargin": true,
           "gridcolor": "white",
           "linecolor": "white",
           "ticks": "",
           "title": {
            "standoff": 15
           },
           "zerolinecolor": "white",
           "zerolinewidth": 2
          }
         }
        },
        "title": {
         "text": "Average Fatigue Index across Periods"
        },
        "xaxis": {
         "title": {
          "text": "Periods"
         }
        },
        "yaxis": {
         "title": {
          "text": "Average Fatigue Index"
         }
        }
       }
      }
     },
     "metadata": {},
     "output_type": "display_data"
    }
   ],
   "source": [
    "# Data\n",
    "periods = [\"Period 1\", \"Period 2\", \"Period 3\", \"Overtime\"]\n",
    "avg_fatigues_zsc = [avg_FI_period1_zsc, avg_FI_period2_zsc, avg_FI_period3_zsc]\n",
    "avg_fatigues_lugano = [\n",
    "    avg_FI_period1_lug,\n",
    "    avg_FI_period2_lug,\n",
    "    avg_FI_period3_lug,\n",
    "    avg_FI_overtime_lug,\n",
    "]\n",
    "\n",
    "# Create a plot\n",
    "fig = go.Figure()\n",
    "\n",
    "# Add data\n",
    "fig.add_trace(\n",
    "    go.Scatter(x=periods, y=avg_fatigues_zsc, mode=\"lines+markers\", name=\"ZSC\")\n",
    ")\n",
    "fig.add_trace(\n",
    "    go.Scatter(x=periods, y=avg_fatigues_lugano, mode=\"lines+markers\", name=\"Lugano\")\n",
    ")\n",
    "\n",
    "# Customize layout\n",
    "fig.update_layout(\n",
    "    title=\"Average Fatigue Index across Periods\",\n",
    "    xaxis_title=\"Periods\",\n",
    "    yaxis_title=\"Average Fatigue Index\",\n",
    "    font=dict(family=\"Arial\", size=14),\n",
    ")\n",
    "\n",
    "# Show the plot\n",
    "fig.show()"
   ]
  },
  {
   "cell_type": "markdown",
   "metadata": {},
   "source": [
    "### 5.3 LINE CHART OF AVERAGE FATIGUE INDEX OF TEAM (CHANGE IN FATIGUE INDEX OVER TIME)"
   ]
  },
  {
   "cell_type": "markdown",
   "metadata": {},
   "source": [
    "This code plots the cumulative sums of average fatigue for ZSC and Lugano across game periods, providing insights into fatigue trends during the game."
   ]
  },
  {
   "cell_type": "code",
   "execution_count": 82,
   "metadata": {},
   "outputs": [
    {
     "data": {
      "application/vnd.plotly.v1+json": {
       "config": {
        "plotlyServerURL": "https://plot.ly"
       },
       "data": [
        {
         "mode": "lines+markers",
         "name": "ZSC Cumulative Sum",
         "type": "scatter",
         "x": [
          "Period 1",
          "Period 2",
          "Period 3",
          "Overtime"
         ],
         "y": [
          1.3756061413324456,
          2.5870247310459185,
          3.6513297999750596
         ]
        },
        {
         "mode": "lines+markers",
         "name": "Lugano Cumulative Sum",
         "type": "scatter",
         "x": [
          "Period 1",
          "Period 2",
          "Period 3",
          "Overtime"
         ],
         "y": [
          1.4638269712144625,
          2.9261278931990446,
          4.293327692641861,
          5.5461314915078574
         ]
        }
       ],
       "layout": {
        "font": {
         "family": "Arial",
         "size": 14
        },
        "template": {
         "data": {
          "bar": [
           {
            "error_x": {
             "color": "#2a3f5f"
            },
            "error_y": {
             "color": "#2a3f5f"
            },
            "marker": {
             "line": {
              "color": "#E5ECF6",
              "width": 0.5
             },
             "pattern": {
              "fillmode": "overlay",
              "size": 10,
              "solidity": 0.2
             }
            },
            "type": "bar"
           }
          ],
          "barpolar": [
           {
            "marker": {
             "line": {
              "color": "#E5ECF6",
              "width": 0.5
             },
             "pattern": {
              "fillmode": "overlay",
              "size": 10,
              "solidity": 0.2
             }
            },
            "type": "barpolar"
           }
          ],
          "carpet": [
           {
            "aaxis": {
             "endlinecolor": "#2a3f5f",
             "gridcolor": "white",
             "linecolor": "white",
             "minorgridcolor": "white",
             "startlinecolor": "#2a3f5f"
            },
            "baxis": {
             "endlinecolor": "#2a3f5f",
             "gridcolor": "white",
             "linecolor": "white",
             "minorgridcolor": "white",
             "startlinecolor": "#2a3f5f"
            },
            "type": "carpet"
           }
          ],
          "choropleth": [
           {
            "colorbar": {
             "outlinewidth": 0,
             "ticks": ""
            },
            "type": "choropleth"
           }
          ],
          "contour": [
           {
            "colorbar": {
             "outlinewidth": 0,
             "ticks": ""
            },
            "colorscale": [
             [
              0,
              "#0d0887"
             ],
             [
              0.1111111111111111,
              "#46039f"
             ],
             [
              0.2222222222222222,
              "#7201a8"
             ],
             [
              0.3333333333333333,
              "#9c179e"
             ],
             [
              0.4444444444444444,
              "#bd3786"
             ],
             [
              0.5555555555555556,
              "#d8576b"
             ],
             [
              0.6666666666666666,
              "#ed7953"
             ],
             [
              0.7777777777777778,
              "#fb9f3a"
             ],
             [
              0.8888888888888888,
              "#fdca26"
             ],
             [
              1,
              "#f0f921"
             ]
            ],
            "type": "contour"
           }
          ],
          "contourcarpet": [
           {
            "colorbar": {
             "outlinewidth": 0,
             "ticks": ""
            },
            "type": "contourcarpet"
           }
          ],
          "heatmap": [
           {
            "colorbar": {
             "outlinewidth": 0,
             "ticks": ""
            },
            "colorscale": [
             [
              0,
              "#0d0887"
             ],
             [
              0.1111111111111111,
              "#46039f"
             ],
             [
              0.2222222222222222,
              "#7201a8"
             ],
             [
              0.3333333333333333,
              "#9c179e"
             ],
             [
              0.4444444444444444,
              "#bd3786"
             ],
             [
              0.5555555555555556,
              "#d8576b"
             ],
             [
              0.6666666666666666,
              "#ed7953"
             ],
             [
              0.7777777777777778,
              "#fb9f3a"
             ],
             [
              0.8888888888888888,
              "#fdca26"
             ],
             [
              1,
              "#f0f921"
             ]
            ],
            "type": "heatmap"
           }
          ],
          "heatmapgl": [
           {
            "colorbar": {
             "outlinewidth": 0,
             "ticks": ""
            },
            "colorscale": [
             [
              0,
              "#0d0887"
             ],
             [
              0.1111111111111111,
              "#46039f"
             ],
             [
              0.2222222222222222,
              "#7201a8"
             ],
             [
              0.3333333333333333,
              "#9c179e"
             ],
             [
              0.4444444444444444,
              "#bd3786"
             ],
             [
              0.5555555555555556,
              "#d8576b"
             ],
             [
              0.6666666666666666,
              "#ed7953"
             ],
             [
              0.7777777777777778,
              "#fb9f3a"
             ],
             [
              0.8888888888888888,
              "#fdca26"
             ],
             [
              1,
              "#f0f921"
             ]
            ],
            "type": "heatmapgl"
           }
          ],
          "histogram": [
           {
            "marker": {
             "pattern": {
              "fillmode": "overlay",
              "size": 10,
              "solidity": 0.2
             }
            },
            "type": "histogram"
           }
          ],
          "histogram2d": [
           {
            "colorbar": {
             "outlinewidth": 0,
             "ticks": ""
            },
            "colorscale": [
             [
              0,
              "#0d0887"
             ],
             [
              0.1111111111111111,
              "#46039f"
             ],
             [
              0.2222222222222222,
              "#7201a8"
             ],
             [
              0.3333333333333333,
              "#9c179e"
             ],
             [
              0.4444444444444444,
              "#bd3786"
             ],
             [
              0.5555555555555556,
              "#d8576b"
             ],
             [
              0.6666666666666666,
              "#ed7953"
             ],
             [
              0.7777777777777778,
              "#fb9f3a"
             ],
             [
              0.8888888888888888,
              "#fdca26"
             ],
             [
              1,
              "#f0f921"
             ]
            ],
            "type": "histogram2d"
           }
          ],
          "histogram2dcontour": [
           {
            "colorbar": {
             "outlinewidth": 0,
             "ticks": ""
            },
            "colorscale": [
             [
              0,
              "#0d0887"
             ],
             [
              0.1111111111111111,
              "#46039f"
             ],
             [
              0.2222222222222222,
              "#7201a8"
             ],
             [
              0.3333333333333333,
              "#9c179e"
             ],
             [
              0.4444444444444444,
              "#bd3786"
             ],
             [
              0.5555555555555556,
              "#d8576b"
             ],
             [
              0.6666666666666666,
              "#ed7953"
             ],
             [
              0.7777777777777778,
              "#fb9f3a"
             ],
             [
              0.8888888888888888,
              "#fdca26"
             ],
             [
              1,
              "#f0f921"
             ]
            ],
            "type": "histogram2dcontour"
           }
          ],
          "mesh3d": [
           {
            "colorbar": {
             "outlinewidth": 0,
             "ticks": ""
            },
            "type": "mesh3d"
           }
          ],
          "parcoords": [
           {
            "line": {
             "colorbar": {
              "outlinewidth": 0,
              "ticks": ""
             }
            },
            "type": "parcoords"
           }
          ],
          "pie": [
           {
            "automargin": true,
            "type": "pie"
           }
          ],
          "scatter": [
           {
            "fillpattern": {
             "fillmode": "overlay",
             "size": 10,
             "solidity": 0.2
            },
            "type": "scatter"
           }
          ],
          "scatter3d": [
           {
            "line": {
             "colorbar": {
              "outlinewidth": 0,
              "ticks": ""
             }
            },
            "marker": {
             "colorbar": {
              "outlinewidth": 0,
              "ticks": ""
             }
            },
            "type": "scatter3d"
           }
          ],
          "scattercarpet": [
           {
            "marker": {
             "colorbar": {
              "outlinewidth": 0,
              "ticks": ""
             }
            },
            "type": "scattercarpet"
           }
          ],
          "scattergeo": [
           {
            "marker": {
             "colorbar": {
              "outlinewidth": 0,
              "ticks": ""
             }
            },
            "type": "scattergeo"
           }
          ],
          "scattergl": [
           {
            "marker": {
             "colorbar": {
              "outlinewidth": 0,
              "ticks": ""
             }
            },
            "type": "scattergl"
           }
          ],
          "scattermapbox": [
           {
            "marker": {
             "colorbar": {
              "outlinewidth": 0,
              "ticks": ""
             }
            },
            "type": "scattermapbox"
           }
          ],
          "scatterpolar": [
           {
            "marker": {
             "colorbar": {
              "outlinewidth": 0,
              "ticks": ""
             }
            },
            "type": "scatterpolar"
           }
          ],
          "scatterpolargl": [
           {
            "marker": {
             "colorbar": {
              "outlinewidth": 0,
              "ticks": ""
             }
            },
            "type": "scatterpolargl"
           }
          ],
          "scatterternary": [
           {
            "marker": {
             "colorbar": {
              "outlinewidth": 0,
              "ticks": ""
             }
            },
            "type": "scatterternary"
           }
          ],
          "surface": [
           {
            "colorbar": {
             "outlinewidth": 0,
             "ticks": ""
            },
            "colorscale": [
             [
              0,
              "#0d0887"
             ],
             [
              0.1111111111111111,
              "#46039f"
             ],
             [
              0.2222222222222222,
              "#7201a8"
             ],
             [
              0.3333333333333333,
              "#9c179e"
             ],
             [
              0.4444444444444444,
              "#bd3786"
             ],
             [
              0.5555555555555556,
              "#d8576b"
             ],
             [
              0.6666666666666666,
              "#ed7953"
             ],
             [
              0.7777777777777778,
              "#fb9f3a"
             ],
             [
              0.8888888888888888,
              "#fdca26"
             ],
             [
              1,
              "#f0f921"
             ]
            ],
            "type": "surface"
           }
          ],
          "table": [
           {
            "cells": {
             "fill": {
              "color": "#EBF0F8"
             },
             "line": {
              "color": "white"
             }
            },
            "header": {
             "fill": {
              "color": "#C8D4E3"
             },
             "line": {
              "color": "white"
             }
            },
            "type": "table"
           }
          ]
         },
         "layout": {
          "annotationdefaults": {
           "arrowcolor": "#2a3f5f",
           "arrowhead": 0,
           "arrowwidth": 1
          },
          "autotypenumbers": "strict",
          "coloraxis": {
           "colorbar": {
            "outlinewidth": 0,
            "ticks": ""
           }
          },
          "colorscale": {
           "diverging": [
            [
             0,
             "#8e0152"
            ],
            [
             0.1,
             "#c51b7d"
            ],
            [
             0.2,
             "#de77ae"
            ],
            [
             0.3,
             "#f1b6da"
            ],
            [
             0.4,
             "#fde0ef"
            ],
            [
             0.5,
             "#f7f7f7"
            ],
            [
             0.6,
             "#e6f5d0"
            ],
            [
             0.7,
             "#b8e186"
            ],
            [
             0.8,
             "#7fbc41"
            ],
            [
             0.9,
             "#4d9221"
            ],
            [
             1,
             "#276419"
            ]
           ],
           "sequential": [
            [
             0,
             "#0d0887"
            ],
            [
             0.1111111111111111,
             "#46039f"
            ],
            [
             0.2222222222222222,
             "#7201a8"
            ],
            [
             0.3333333333333333,
             "#9c179e"
            ],
            [
             0.4444444444444444,
             "#bd3786"
            ],
            [
             0.5555555555555556,
             "#d8576b"
            ],
            [
             0.6666666666666666,
             "#ed7953"
            ],
            [
             0.7777777777777778,
             "#fb9f3a"
            ],
            [
             0.8888888888888888,
             "#fdca26"
            ],
            [
             1,
             "#f0f921"
            ]
           ],
           "sequentialminus": [
            [
             0,
             "#0d0887"
            ],
            [
             0.1111111111111111,
             "#46039f"
            ],
            [
             0.2222222222222222,
             "#7201a8"
            ],
            [
             0.3333333333333333,
             "#9c179e"
            ],
            [
             0.4444444444444444,
             "#bd3786"
            ],
            [
             0.5555555555555556,
             "#d8576b"
            ],
            [
             0.6666666666666666,
             "#ed7953"
            ],
            [
             0.7777777777777778,
             "#fb9f3a"
            ],
            [
             0.8888888888888888,
             "#fdca26"
            ],
            [
             1,
             "#f0f921"
            ]
           ]
          },
          "colorway": [
           "#636efa",
           "#EF553B",
           "#00cc96",
           "#ab63fa",
           "#FFA15A",
           "#19d3f3",
           "#FF6692",
           "#B6E880",
           "#FF97FF",
           "#FECB52"
          ],
          "font": {
           "color": "#2a3f5f"
          },
          "geo": {
           "bgcolor": "white",
           "lakecolor": "white",
           "landcolor": "#E5ECF6",
           "showlakes": true,
           "showland": true,
           "subunitcolor": "white"
          },
          "hoverlabel": {
           "align": "left"
          },
          "hovermode": "closest",
          "mapbox": {
           "style": "light"
          },
          "paper_bgcolor": "white",
          "plot_bgcolor": "#E5ECF6",
          "polar": {
           "angularaxis": {
            "gridcolor": "white",
            "linecolor": "white",
            "ticks": ""
           },
           "bgcolor": "#E5ECF6",
           "radialaxis": {
            "gridcolor": "white",
            "linecolor": "white",
            "ticks": ""
           }
          },
          "scene": {
           "xaxis": {
            "backgroundcolor": "#E5ECF6",
            "gridcolor": "white",
            "gridwidth": 2,
            "linecolor": "white",
            "showbackground": true,
            "ticks": "",
            "zerolinecolor": "white"
           },
           "yaxis": {
            "backgroundcolor": "#E5ECF6",
            "gridcolor": "white",
            "gridwidth": 2,
            "linecolor": "white",
            "showbackground": true,
            "ticks": "",
            "zerolinecolor": "white"
           },
           "zaxis": {
            "backgroundcolor": "#E5ECF6",
            "gridcolor": "white",
            "gridwidth": 2,
            "linecolor": "white",
            "showbackground": true,
            "ticks": "",
            "zerolinecolor": "white"
           }
          },
          "shapedefaults": {
           "line": {
            "color": "#2a3f5f"
           }
          },
          "ternary": {
           "aaxis": {
            "gridcolor": "white",
            "linecolor": "white",
            "ticks": ""
           },
           "baxis": {
            "gridcolor": "white",
            "linecolor": "white",
            "ticks": ""
           },
           "bgcolor": "#E5ECF6",
           "caxis": {
            "gridcolor": "white",
            "linecolor": "white",
            "ticks": ""
           }
          },
          "title": {
           "x": 0.05
          },
          "xaxis": {
           "automargin": true,
           "gridcolor": "white",
           "linecolor": "white",
           "ticks": "",
           "title": {
            "standoff": 15
           },
           "zerolinecolor": "white",
           "zerolinewidth": 2
          },
          "yaxis": {
           "automargin": true,
           "gridcolor": "white",
           "linecolor": "white",
           "ticks": "",
           "title": {
            "standoff": 15
           },
           "zerolinecolor": "white",
           "zerolinewidth": 2
          }
         }
        },
        "title": {
         "text": "Cumulative Sum of Average Fatigue Index across Periods"
        },
        "xaxis": {
         "title": {
          "text": "Periods"
         }
        },
        "yaxis": {
         "title": {
          "text": "Cumulative Sum of Average Fatigue Index"
         }
        }
       }
      }
     },
     "metadata": {},
     "output_type": "display_data"
    }
   ],
   "source": [
    "import numpy as np\n",
    "\n",
    "# Calculate cumulative sums (not average, but to represent the trend)\n",
    "cumulative_sum_zsc = np.cumsum(avg_fatigues_zsc)\n",
    "cumulative_sum_lugano = np.cumsum(avg_fatigues_lugano)\n",
    "\n",
    "# Create a new plot for cumulative sums\n",
    "fig_cumulative = go.Figure()\n",
    "\n",
    "# Add data for ZSC\n",
    "fig_cumulative.add_trace(\n",
    "    go.Scatter(\n",
    "        x=periods, y=cumulative_sum_zsc, mode=\"lines+markers\", name=\"ZSC Cumulative Sum\"\n",
    "    )\n",
    ")\n",
    "\n",
    "# Add data for Lugano\n",
    "fig_cumulative.add_trace(\n",
    "    go.Scatter(\n",
    "        x=periods,\n",
    "        y=cumulative_sum_lugano,\n",
    "        mode=\"lines+markers\",\n",
    "        name=\"Lugano Cumulative Sum\",\n",
    "    )\n",
    ")\n",
    "\n",
    "# Customize the layout\n",
    "fig_cumulative.update_layout(\n",
    "    title=\"Cumulative Sum of Average Fatigue Index across Periods\",\n",
    "    xaxis_title=\"Periods\",\n",
    "    yaxis_title=\"Cumulative Sum of Average Fatigue Index\",\n",
    "    font=dict(family=\"Arial\", size=14),\n",
    ")\n",
    "\n",
    "# Show the plot\n",
    "fig_cumulative.show()"
   ]
  },
  {
   "cell_type": "markdown",
   "metadata": {},
   "source": [
    "## 6. FUTURE SCOPE AND NEXT STEPS\n",
    "\n",
    "Looking ahead, we have some ideas to make our tool even better:\n",
    "\n",
    "- **Frontend Application**: The project can be extended with a Frontend Application to show Fatigue Index and other helpful information.\n",
    "\n",
    "- **Integrating AI**: We plan to use AI to give coaches suggestions based on the Fatigue Index. This will help make sure players are safe and playing at their best.\n",
    "\n",
    "- **Feedback from Users**: We want to know what coaches and players think. Their feedback will help us improve.\n",
    "\n",
    "- **Use in Other Sports**: Right now, we're focusing on Icehockey. But we think our tool can be helpful in other sports too.\n",
    "\n",
    "We're excited about the next steps and making our tool even better for everyone.\n",
    "\n"
   ]
  },
  {
   "cell_type": "code",
   "execution_count": null,
   "metadata": {},
   "outputs": [],
   "source": []
  }
 ],
 "metadata": {
  "kernelspec": {
   "display_name": "ice-venv",
   "language": "python",
   "name": "python3"
  },
  "language_info": {
   "codemirror_mode": {
    "name": "ipython",
    "version": 3
   },
   "file_extension": ".py",
   "mimetype": "text/x-python",
   "name": "python",
   "nbconvert_exporter": "python",
   "pygments_lexer": "ipython3",
   "version": "3.10.11"
  },
  "orig_nbformat": 4
 },
 "nbformat": 4,
 "nbformat_minor": 2
}
