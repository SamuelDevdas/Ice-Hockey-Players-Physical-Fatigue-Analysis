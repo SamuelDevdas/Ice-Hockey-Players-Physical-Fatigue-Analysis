{
 "cells": [
  {
   "cell_type": "markdown",
   "metadata": {},
   "source": [
    "# ESTIMATING \"RELATIVE PHYSICAL FATIGUE INDEX\" OF PLAYERS USING ICE HOCKEY METRICS\n",
    "\n",
    "#### **Objective:** To develop an application that enables coaches to input match data and obtain instant feedback on potential fatigue levels,based on the dataset's metrics.\n",
    "\n",
    "#### **Functionality:** Upload data files and obtain instant feedback on potential fatigue levels.\n",
    "\n",
    "#### **Applications:**\n",
    "\n",
    "1. **Player Management and Rotation:**\n",
    "   Use the Fatigue Index (FI) to guide real-time player rotation decisions, optimizing performance and minimizing injury risks.\n",
    "\n",
    "2. **Injury Prevention in Training:**\n",
    "   Incorporate FI to tailor training intensity and recovery, reducing the likelihood of player injuries.\n",
    "\n",
    "3. **Performance Analysis and Strategy:**\n",
    "   Integrate FI with performance metrics to refine game strategies, making informed in-game decisions for optimal outcomes.\n"
   ]
  },
  {
   "cell_type": "markdown",
   "metadata": {},
   "source": [
    "### DATA LOADING AND PREPROCESSING\n"
   ]
  },
  {
   "cell_type": "code",
   "execution_count": null,
   "metadata": {},
   "outputs": [],
   "source": [
    "# Import required Libraries\n",
    "import pandas as pd"
   ]
  },
  {
   "cell_type": "code",
   "execution_count": null,
   "metadata": {},
   "outputs": [],
   "source": [
    "# # We change the delimiter to ; and save the file for ease of use\n",
    "# df_lugano.to_csv(\"lugano.csv\", sep=\",\", index=False)\n",
    "# df_lugano.to_csv(\"zsc.csv\", sep=\",\", index=False)"
   ]
  },
  {
   "cell_type": "code",
   "execution_count": null,
   "metadata": {},
   "outputs": [],
   "source": [
    "# Load the datasets into Pandas DataFrame\n",
    "df_lugano = pd.read_csv(\"lugano.csv\", encoding=\"ISO-8859-1\")\n",
    "# df_zsc = pd.read_csv(\"zsc.csv\", encoding=\"ISO-8859-1\")\n",
    "\n",
    "# Print the first 5 rows of the datasets\n",
    "df_lugano.head()"
   ]
  },
  {
   "cell_type": "code",
   "execution_count": null,
   "metadata": {},
   "outputs": [],
   "source": [
    "# List of columns to keep in the dataset\n",
    "columns_to_keep = [\n",
    "    \"Group name\",\n",
    "    \"Position\",\n",
    "    \"Description\",\n",
    "    \"Duration (s)\",\n",
    "    \"Distance (m)\",\n",
    "    \"Time on Ice (s)\",\n",
    "    \"High Metabolic Power Distance (m)\",\n",
    "    \"Mechanical Intensity\",\n",
    "]"
   ]
  },
  {
   "cell_type": "markdown",
   "metadata": {},
   "source": []
  },
  {
   "cell_type": "code",
   "execution_count": null,
   "metadata": {},
   "outputs": [],
   "source": [
    "# Create a new DataFrame with only the recommended columns to keep\n",
    "df_imp_lugano = df_lugano[columns_to_keep]\n",
    "# print(df_imp_lugano)"
   ]
  },
  {
   "cell_type": "code",
   "execution_count": null,
   "metadata": {},
   "outputs": [],
   "source": [
    "# add a new column called player id to the dataframe and fill it with the player id starting from 1 using .loc as the first column\n",
    "\n",
    "# CHANGE PLAYER NOTATION TO ALPHABETS\n",
    "\n",
    "df_imp_lugano.insert(loc=0, column=\"Player ID\", value=range(1, 1 + len(df_imp_lugano)))\n",
    "\n",
    "df_imp_lugano.head()"
   ]
  },
  {
   "cell_type": "code",
   "execution_count": null,
   "metadata": {},
   "outputs": [],
   "source": [
    "# Check the data types of the columns\n",
    "df_imp_lugano.dtypes"
   ]
  },
  {
   "cell_type": "code",
   "execution_count": null,
   "metadata": {},
   "outputs": [],
   "source": [
    "# Convert the data type of the column mechanical intensity from string to float\n",
    "\n",
    "df_imp_lugano[\"Mechanical Intensity\"] = (\n",
    "    df_imp_lugano[\"Mechanical Intensity\"].str.replace(\",\", \".\").astype(float)\n",
    ")\n",
    "\n",
    "# Check the data types of the columns\n",
    "df_imp_lugano.dtypes"
   ]
  },
  {
   "cell_type": "markdown",
   "metadata": {},
   "source": [
    "### CONCEPTUAL FRAMEWORK AND METHODOLOGY\n",
    "\n",
    "Given the anonymized nature and the small sample size of our dataset, combined with numerous variables at play, we've made certain assumptions to ensure its suitable for our use-case. Here’s our approach to understanding player fatigue:\n",
    "\n",
    "1. **Picking Player Data:**\n",
    "   Due to lack of player identification data, we had to infer that first 21 rows represent individual player data. This is based on the understanding that a hockey team typically consists of 20 players. This selection ensures we capture data for each unique player.\n",
    "\n",
    "2. **Identifying Player Roles:**\n",
    "   We assess the 'Position' column to differentiate between a forward (FW), defenseman (D) and Goalkeeper. The roles they play on the ice rink might result in different fatigue levels.\n",
    "\n",
    "3. **Data Segmentation:**\n",
    "   With hundreds of variables present, we narrow down and segment data by recommended metrics from the icehockey club. This targeted analysis aids in the precise estimation of the Fatigue Index (FI).\n",
    "\n",
    "4. **Developing the Fatigue Formula:**\n",
    "   Using a combination of the dataset metrics, we create a formula that captures the aspects of player fatigue. This formula is designed to be sensitive to player roles, game dynamics, and other key factors.\n",
    "\n",
    "5. **Fatigue Estimation:**\n",
    "   Using the curated data from the previous steps, we derive the Fatigue Index (FI).\n",
    "\n",
    "6. **Visualization:**\n",
    "   We design a clear and easy-to-understand graphic to show the fatigue levels. This helps coaches quickly see and understand player tiredness.\n"
   ]
  },
  {
   "cell_type": "code",
   "execution_count": null,
   "metadata": {},
   "outputs": [],
   "source": [
    "# As we want only unique player data, we select only the first 21 rows of the dataframe\n",
    "# We infer that because an ice hockey team typically consists of 20 players, including 2 goaltenders and 18 skaters.\n",
    "# and the the proportion of forwards to defensemen\n",
    "df_imp_lugano_21 = df_imp_lugano.iloc[0:21, :]\n",
    "df_imp_lugano_21"
   ]
  },
  {
   "cell_type": "code",
   "execution_count": null,
   "metadata": {},
   "outputs": [],
   "source": [
    "# Check if any NA in Each Row for the first 21 rows\n",
    "df_imp_lugano_21.isnull().sum(axis=1)\n",
    "# df_imp_lugano.isna().any(axis=1)\n",
    "\n",
    "# We see there are no NA values in the first 21 rows of the dataframe"
   ]
  },
  {
   "cell_type": "code",
   "execution_count": null,
   "metadata": {},
   "outputs": [],
   "source": [
    "# Calculate the ratio of forwards to defensemen using position column\n",
    "\n",
    "df_imp_lugano_21[\"Position\"].value_counts()"
   ]
  },
  {
   "cell_type": "code",
   "execution_count": null,
   "metadata": {},
   "outputs": [],
   "source": [
    "# Calculate ratio of F to D\n",
    "F = df_imp_lugano_21[\"Position\"].value_counts()[0]\n",
    "D = df_imp_lugano_21[\"Position\"].value_counts()[1]\n",
    "ratio = F / D\n",
    "\n",
    "# print ratio as a fraction\n",
    "\n",
    "print(ratio)"
   ]
  },
  {
   "cell_type": "markdown",
   "metadata": {},
   "source": [
    "### CREATING A RELATIVE FATIGUE LEVEL FORMULA\n",
    "\n",
    "- Typically involves empirical research, biomechanics, and physiological considerations.\n",
    "- However, we propose a simple, hypothetical formula to estimate fatigue.\n",
    "- DISCLAIMER : This is a rough estimation and not based on scientific research.\n",
    "- Using the important metrics recommended by the Ice Hockey Club & Professor Martin Rumo, we attempt to create a formula that can be used to estimate fatigue levels.\n"
   ]
  },
  {
   "cell_type": "markdown",
   "metadata": {},
   "source": [
    "#### Relative Fatigue Index (RFI) = [A * (Time on ice/ Match Duration) + B * (High Metabolic Power Distance / Total Distance) + C * (Mechanical Intensity)]\n",
    "\n",
    "- TIME FACTOR : Percentage of Time spent on Ice. Here, the idea is simple: the more time a player spends on the ice, the more fatigued they're likely to be.\n",
    "\n",
    "- DISTANCE OR INTENSITY FACTOR : Percentage of the distance covered at high intensities. It's a straightforward indicator of how hard a player pushed themselves relative to their overall activity. It is the distance covered at high metabolic power divided by the total distance covered.\n",
    "\n",
    "- MECHANICAL OR LOAD INTENSITY : How intense a player's session was concerning accelerations and decelerations.It models the intensity of a session or phase and provides important information about its impact on the lower limbs. It is the Mechanical Load divided by the total time in minutes.\n",
    "\n",
    "- A, B, and C: Weights assigned to each of the factors. These weights are determined by the coach based on the importance of each factor in the context of the team's strategy and the coach's philosophy.\n"
   ]
  },
  {
   "cell_type": "code",
   "execution_count": null,
   "metadata": {},
   "outputs": [],
   "source": [
    "# First we need to normalize the Mechanical Intensity column, so that the values are between 0 and 1\n",
    "# This is to make sure that it can be added to TIME FACTOR, and DISTANCE FACTOR which are ratios in the next step\n",
    "# With historical data, from the clubs, min and max intensities can be adjusted further in the future to normalize the intensity\n",
    "\n",
    "min_val = df_imp_lugano_21[\"Mechanical Intensity\"].min()\n",
    "max_val = df_imp_lugano_21[\"Mechanical Intensity\"].max()\n",
    "\n",
    "df_imp_lugano_21[\"Normalized Mechanical Intensity\"] = (\n",
    "    df_imp_lugano_21[\"Mechanical Intensity\"] - min_val\n",
    ") / (max_val - min_val)\n",
    "\n",
    "df_imp_lugano_21"
   ]
  },
  {
   "cell_type": "code",
   "execution_count": null,
   "metadata": {},
   "outputs": [],
   "source": [
    "# Create a python function in pandas to calculate fatigue index\n",
    "\n",
    "\n",
    "def relative_fatigue_index(df):\n",
    "    \"\"\"This function calculates the fatigue index for each player\"\"\"\n",
    "    return (\n",
    "        (df[\"Time on Ice (s)\"] / df[\"Duration (s)\"])\n",
    "        + df[\"High Metabolic Power Distance (m)\"] / df[\"Distance (m)\"]\n",
    "    ) + df[\"Normalized Mechanical Intensity\"]"
   ]
  },
  {
   "cell_type": "code",
   "execution_count": null,
   "metadata": {},
   "outputs": [],
   "source": [
    "# test the function\n",
    "relative_fatigue_index(df_imp_lugano_21)"
   ]
  },
  {
   "cell_type": "code",
   "execution_count": null,
   "metadata": {},
   "outputs": [],
   "source": [
    "# 1. Compute the intermediate fatigue index for each row\n",
    "df_imp_lugano_21[\"Relative Fatigue Index\"] = df_imp_lugano_21.apply(\n",
    "    relative_fatigue_index, axis=1\n",
    ")\n",
    "\n",
    "# 2. Normalize this intermediate fatigue index\n",
    "min_fatigue = df_imp_lugano_21[\"Relative Fatigue Index\"].min()\n",
    "max_fatigue = df_imp_lugano_21[\"Relative Fatigue Index\"].max()\n",
    "\n",
    "df_imp_lugano_21[\"Normalized Fatigue Index\"] = (\n",
    "    df_imp_lugano_21[\"Relative Fatigue Index\"] - min_fatigue\n",
    ") / (\n",
    "    max_fatigue - min_fatigue\n",
    ") + 1  # +1 to make sure the values are between 1 and 2\n",
    "\n",
    "df_imp_lugano_21"
   ]
  },
  {
   "cell_type": "code",
   "execution_count": null,
   "metadata": {},
   "outputs": [],
   "source": [
    "# Sort the dataframe by the final fatigue index in descending order\n",
    "# This will give us the most fatigued player at the top and the least fatigued player at the bottom\n",
    "\n",
    "df_imp_lugano_21_sorted = df_imp_lugano_21.sort_values(\n",
    "    by=\"Normalized Fatigue Index\", ascending=False\n",
    ")\n",
    "\n",
    "df_imp_lugano_21_sorted\n",
    "\n",
    "# REMOVE INTERMEDIATE FATIGUE INDEX, IF NOT REQUIRED."
   ]
  },
  {
   "cell_type": "code",
   "execution_count": null,
   "metadata": {},
   "outputs": [],
   "source": []
  },
  {
   "cell_type": "code",
   "execution_count": 142,
   "metadata": {},
   "outputs": [
    {
     "name": "stdout",
     "output_type": "stream",
     "text": [
      "    Player ID  Relative Fatigue Index Fatigue Category\n",
      "10         11                1.669477           Medium\n",
      "2           3                1.654899           Medium\n",
      "7           8                1.641736           Medium\n",
      "20         21                1.616113           Medium\n",
      "15         16                1.548994              Low\n",
      "1           2                1.548003              Low\n",
      "3           4                1.538095              Low\n",
      "12         13                1.532141              Low\n",
      "9          10                1.525707              Low\n",
      "17         18                1.519416              Low\n",
      "16         17                1.517963              Low\n",
      "0           1                1.485737              Low\n",
      "5           6                1.471295              Low\n",
      "18         19                1.453339              Low\n",
      "4           5                1.448679              Low\n",
      "19         20                1.443519              Low\n",
      "8           9                1.404328              Low\n",
      "14         15                1.403397              Low\n",
      "11         12                0.951123              Low\n",
      "6           7                0.647389              Low\n",
      "13         14                0.001019              Low\n"
     ]
    }
   ],
   "source": [
    "# MANUAL THRESHOLD BASED CATEGORIZATION OF FATIGUE INDEX\n",
    "\n",
    "# Fixed thresholds\n",
    "high_threshold = 1.93\n",
    "low_threshold = 1.6\n",
    "\n",
    "\n",
    "# Categorize values based on manual thresholds\n",
    "df_imp_lugano_21_sorted[\"Fatigue Category\"] = pd.cut(\n",
    "    df_imp_lugano_21_sorted[\"Relative Fatigue Index\"],\n",
    "    [0, low_threshold, high_threshold, 2],  # Explicitly using 2 as max value\n",
    "    labels=[\"Low\", \"Medium\", \"High\"],\n",
    "    include_lowest=True,\n",
    ")\n",
    "\n",
    "# Display the results\n",
    "print(\n",
    "    df_imp_lugano_21_sorted[[\"Player ID\", \"Relative Fatigue Index\", \"Fatigue Category\"]]\n",
    ")\n",
    "\n",
    "\n",
    "# # Categorize values\n",
    "# df_imp_lugano_21_sorted[\"Fatigue Category\"] = pd.cut(\n",
    "#     df_imp_lugano_21_sorted[\"Relative Fatigue Index\"],\n",
    "#     [\n",
    "#         0,\n",
    "#         low_threshold,\n",
    "#         high_threshold,\n",
    "#         df_imp_lugano_21_sorted[\"Relative Fatigue Index\"].max(),\n",
    "#     ],\n",
    "#     labels=[\"Low\", \"Medium\", \"High\"],\n",
    "#     include_lowest=True,\n",
    "# )\n",
    "\n",
    "# print(\n",
    "#     df_imp_lugano_21_sorted[[\"Player ID\", \"Relative Fatigue Index\", \"Fatigue Category\"]]\n",
    "# )"
   ]
  },
  {
   "cell_type": "code",
   "execution_count": null,
   "metadata": {},
   "outputs": [],
   "source": [
    "# QUANTILE BASED CATEGORIZATION OF FATIGUE INDEX\n",
    "\n",
    "\n",
    "# Calculate quantiles\n",
    "q33 = df_imp_lugano_21_sorted[\"Relative Fatigue Index\"].quantile(0.33)\n",
    "q66 = df_imp_lugano_21_sorted[\"Relative Fatigue Index\"].quantile(0.66)\n",
    "\n",
    "# Categorize values\n",
    "df_imp_lugano_21_sorted[\"Fatigue Category\"] = pd.cut(\n",
    "    df_imp_lugano_21_sorted[\"Relative Fatigue Index\"],\n",
    "    [0, q33, q66, df_imp_lugano_21_sorted[\"Relative Fatigue Index\"].max()],\n",
    "    labels=[\"Low\", \"Medium\", \"High\"],\n",
    "    include_lowest=True,\n",
    ")\n",
    "\n",
    "print(\n",
    "    df_imp_lugano_21_sorted[[\"Player ID\", \"Relative Fatigue Index\", \"Fatigue Category\"]]\n",
    ")"
   ]
  },
  {
   "cell_type": "code",
   "execution_count": null,
   "metadata": {},
   "outputs": [],
   "source": [
    "# Map Fatigue Category to pastel colors\n",
    "color_mapping = {\n",
    "    \"High\": \"#FF9999\",  # Pastel Red\n",
    "    \"Medium\": \"#FFFF99\",  # Pastel Yellow\n",
    "    \"Low\": \"#99FF99\",  # Pastel Green\n",
    "}\n",
    "df_imp_lugano_21_sorted[\"color\"] = df_imp_lugano_21_sorted[\"Fatigue Category\"].map(\n",
    "    color_mapping\n",
    ")\n",
    "\n",
    "# Plot\n",
    "plt.figure(figsize=(12, 8))\n",
    "df_imp_lugano_21_sorted.plot(\n",
    "    kind=\"bar\",\n",
    "    x=\"Player ID\",\n",
    "    y=\"Relative Fatigue Index\",\n",
    "    color=df_imp_lugano_21_sorted[\"color\"],\n",
    "    legend=False,\n",
    "    ylim=[\n",
    "        0.75,\n",
    "        df_imp_lugano_21_sorted[\"Relative Fatigue Index\"].max() + 0.25,\n",
    "    ],  # Setting y-axis limit\n",
    ")\n",
    "plt.title(\"Player Fatigue Index\")\n",
    "plt.ylabel(\"Fatigue Index\")\n",
    "plt.xlabel(\"Player ID\")\n",
    "plt.yticks(\n",
    "    [\n",
    "        x / 4\n",
    "        for x in range(\n",
    "            3,\n",
    "            int(4 * df_imp_lugano_21_sorted[\"Relative Fatigue Index\"].max()) + 1,\n",
    "        )\n",
    "    ]\n",
    ")  # Setting y-axis ticks\n",
    "plt.tight_layout()\n",
    "plt.show()"
   ]
  },
  {
   "cell_type": "code",
   "execution_count": null,
   "metadata": {},
   "outputs": [],
   "source": []
  }
 ],
 "metadata": {
  "kernelspec": {
   "display_name": "ice-venv",
   "language": "python",
   "name": "python3"
  },
  "language_info": {
   "codemirror_mode": {
    "name": "ipython",
    "version": 3
   },
   "file_extension": ".py",
   "mimetype": "text/x-python",
   "name": "python",
   "nbconvert_exporter": "python",
   "pygments_lexer": "ipython3",
   "version": "3.10.11"
  },
  "orig_nbformat": 4
 },
 "nbformat": 4,
 "nbformat_minor": 2
}
