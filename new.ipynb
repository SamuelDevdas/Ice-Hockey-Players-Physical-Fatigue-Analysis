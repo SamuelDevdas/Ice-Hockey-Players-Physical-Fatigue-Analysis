{
 "cells": [
  {
   "cell_type": "markdown",
   "metadata": {},
   "source": [
    "# ESTIMATING \"RELATIVE PHYSICAL FATIGUE INDEX\" OF PLAYERS USING ICE HOCKEY METRICS\n",
    "\n",
    "#### **Objective:** To develop an application that enables coaches to input match data and obtain instant feedback on potential fatigue levels,based on the dataset's metrics.\n",
    "\n",
    "#### **Functionality:** Upload data files and obtain instant feedback on potential fatigue levels.\n",
    "\n",
    "#### **Applications:**\n",
    "\n",
    "1. **Player Management and Rotation:**\n",
    "   Use the Fatigue Index (FI) to guide real-time player rotation decisions, optimizing performance and minimizing injury risks.\n",
    "\n",
    "2. **Injury Prevention in Training:**\n",
    "   Incorporate FI to tailor training intensity and recovery, reducing the likelihood of player injuries.\n",
    "\n",
    "3. **Performance Analysis and Strategy:**\n",
    "   Integrate FI with performance metrics to refine game strategies, making informed in-game decisions for optimal outcomes.\n"
   ]
  },
  {
   "cell_type": "markdown",
   "metadata": {},
   "source": [
    "### DATA LOADING AND PREPROCESSING\n"
   ]
  },
  {
   "cell_type": "code",
   "execution_count": 101,
   "metadata": {},
   "outputs": [],
   "source": [
    "# Import required Libraries\n",
    "import pandas as pd\n",
    "import matplotlib.pyplot as plt"
   ]
  },
  {
   "cell_type": "code",
   "execution_count": 102,
   "metadata": {},
   "outputs": [],
   "source": [
    "# Load the Original Datasets\n",
    "lugano = pd.read_csv(\"LUGANO-ORIG.csv\", encoding=\"ISO-8859-1\", sep=\";\")\n",
    "zsc = pd.read_csv(\"ZHC-ORIG.csv\", encoding=\"ISO-8859-1\", sep=\";\")"
   ]
  },
  {
   "cell_type": "code",
   "execution_count": 103,
   "metadata": {},
   "outputs": [],
   "source": [
    "# We change the delimiter to ',' rename and save the file for ease of use\n",
    "lugano.to_csv(\"lhc-lugano.csv\", sep=\",\", index=False)\n",
    "zsc.to_csv(\"lhc-zsc.csv\", sep=\",\", index=False)"
   ]
  },
  {
   "cell_type": "code",
   "execution_count": 104,
   "metadata": {},
   "outputs": [],
   "source": [
    "# Load the updated datasets into Pandas DataFrame\n",
    "df_lugano = pd.read_csv(\"lhc-lugano.csv\", encoding=\"ISO-8859-1\")\n",
    "df_zsc = pd.read_csv(\"lhc-zsc.csv\", encoding=\"ISO-8859-1\")"
   ]
  },
  {
   "cell_type": "markdown",
   "metadata": {},
   "source": [
    "#### Filtering the dataset to include only the relevant columns\n"
   ]
  },
  {
   "cell_type": "code",
   "execution_count": 105,
   "metadata": {},
   "outputs": [
    {
     "name": "stdout",
     "output_type": "stream",
     "text": [
      "  Group name Position Description  Duration (s)  Distance (m)  \\\n",
      "0    Defense        D   vs Lugano          8836          3163   \n",
      "1    Offense        F   vs Lugano          8836          2881   \n",
      "2    Offense        F   vs Lugano          8836          3586   \n",
      "3    Offense        F   vs Lugano          8836          3881   \n",
      "4    Defense        D   vs Lugano          8836           354   \n",
      "\n",
      "   Time on Ice (s)  High Metabolic Power Distance (m) Mechanical Intensity  \n",
      "0             1038                               1287                45,94  \n",
      "1              689                               1724                42,85  \n",
      "2              932                               2090                46,12  \n",
      "3             1043                               1956                44,38  \n",
      "4               92                                179                44,95  \n",
      "====================================================================================================\n",
      "     Group name Position Description  Duration (s)  Distance (m)  \\\n",
      "0       Defense        D   vs Zurich          7868          3140   \n",
      "1       Offense        F   vs Zurich          7868          3037   \n",
      "2       Offense        F   vs Zurich          7868          4872   \n",
      "3  Guest_Team D        D   vs Zurich          7868          5364   \n",
      "4  Guest_Team D        D   vs Zurich          7868          4131   \n",
      "\n",
      "   Time on Ice (s)  High Metabolic Power Distance (m) Mechanical Intensity  \n",
      "0             1144                               1223                38,62  \n",
      "1              832                               1359                29,67  \n",
      "2             1394                               2227                37,04  \n",
      "3             1467                               2564                39,85  \n",
      "4             1171                               1644                37,06  \n"
     ]
    }
   ],
   "source": [
    "# List of columns to keep in the dataset\n",
    "columns_to_keep = [\n",
    "    \"Group name\",\n",
    "    \"Position\",\n",
    "    \"Description\",\n",
    "    \"Duration (s)\",\n",
    "    \"Distance (m)\",\n",
    "    \"Time on Ice (s)\",\n",
    "    \"High Metabolic Power Distance (m)\",\n",
    "    \"Mechanical Intensity\",\n",
    "]\n",
    "\n",
    "\n",
    "# Function to filter the columns\n",
    "def filter_columns(df, columns_to_keep):\n",
    "    \"\"\"\n",
    "    Filters a DataFrame to only include specified columns.\n",
    "\n",
    "    Parameters:\n",
    "    - df (pd.DataFrame): The original DataFrame.\n",
    "    - columns_to_keep (list of str): List of column names to keep.\n",
    "\n",
    "    Returns:\n",
    "    - pd.DataFrame: A new DataFrame with only the specified columns.\n",
    "    \"\"\"\n",
    "    return df[columns_to_keep]\n",
    "\n",
    "\n",
    "# Example usage:\n",
    "df_imp_lugano = filter_columns(df_lugano, columns_to_keep)\n",
    "df_imp_zsc = filter_columns(df_zsc, columns_to_keep)\n",
    "\n",
    "# Print the first 5 rows of the datasets\n",
    "print(df_imp_lugano.head())\n",
    "\n",
    "print(\n",
    "    \"====================================================================================================\"\n",
    ")\n",
    "\n",
    "print(df_imp_zsc.head())"
   ]
  },
  {
   "cell_type": "markdown",
   "metadata": {},
   "source": [
    "#### Handling missing values\n"
   ]
  },
  {
   "cell_type": "code",
   "execution_count": 106,
   "metadata": {},
   "outputs": [
    {
     "name": "stdout",
     "output_type": "stream",
     "text": [
      "Group name                            0\n",
      "Position                              0\n",
      "Description                           0\n",
      "Duration (s)                          0\n",
      "Distance (m)                          0\n",
      "Time on Ice (s)                       0\n",
      "High Metabolic Power Distance (m)     0\n",
      "Mechanical Intensity                 14\n",
      "dtype: int64\n",
      "=============================================================================================================\n",
      "Group name                           0\n",
      "Position                             0\n",
      "Description                          0\n",
      "Duration (s)                         0\n",
      "Distance (m)                         0\n",
      "Time on Ice (s)                      0\n",
      "High Metabolic Power Distance (m)    0\n",
      "Mechanical Intensity                 7\n",
      "dtype: int64\n"
     ]
    }
   ],
   "source": [
    "# Check if any NA in Each Row and column of the dataframes\n",
    "print(df_imp_lugano.isnull().sum(axis=0))\n",
    "# df_imp_lugano.isna().any(axis=1)\n",
    "\n",
    "# We see there are no NA values in the match dataframe\n",
    "\n",
    "print(\n",
    "    \"=============================================================================================================\"\n",
    ")\n",
    "# Check if any NA in Each Column of the dataframe\n",
    "print(df_imp_zsc.isnull().sum(axis=0))\n",
    "\n",
    "# We see 14 and 7, NA values in the column \"Mechanical Intensity\" in the two dataframes respectively"
   ]
  },
  {
   "cell_type": "code",
   "execution_count": 107,
   "metadata": {},
   "outputs": [
    {
     "name": "stdout",
     "output_type": "stream",
     "text": [
      "Group name                           0\n",
      "Position                             0\n",
      "Description                          0\n",
      "Duration (s)                         0\n",
      "Distance (m)                         0\n",
      "Time on Ice (s)                      0\n",
      "High Metabolic Power Distance (m)    0\n",
      "Mechanical Intensity                 0\n",
      "dtype: int64\n",
      "(89, 8)\n",
      "=============================================================================================================\n",
      "Group name                           0\n",
      "Position                             0\n",
      "Description                          0\n",
      "Duration (s)                         0\n",
      "Distance (m)                         0\n",
      "Time on Ice (s)                      0\n",
      "High Metabolic Power Distance (m)    0\n",
      "Mechanical Intensity                 0\n",
      "dtype: int64\n",
      "(161, 8)\n"
     ]
    }
   ],
   "source": [
    "# Remove the rows with NA values in the column \"Mechanical Intensity\"\n",
    "df_imp_lugano = df_imp_lugano.dropna(subset=[\"Mechanical Intensity\"])\n",
    "\n",
    "df_imp_zsc = df_imp_zsc.dropna(subset=[\"Mechanical Intensity\"])\n",
    "\n",
    "# Check if any NA in Each Column of the dataframe\n",
    "print(df_imp_lugano.isnull().sum(axis=0))\n",
    "print(df_imp_lugano.shape)\n",
    "\n",
    "print(\n",
    "    \"=============================================================================================================\"\n",
    ")\n",
    "\n",
    "print(df_imp_zsc.isnull().sum(axis=0))\n",
    "print(df_imp_zsc.shape)"
   ]
  },
  {
   "cell_type": "markdown",
   "metadata": {},
   "source": [
    "#### Creating a function to remove irrelevant rows or 'Players'\n"
   ]
  },
  {
   "cell_type": "code",
   "execution_count": 108,
   "metadata": {},
   "outputs": [
    {
     "data": {
      "text/html": [
       "<div>\n",
       "<style scoped>\n",
       "    .dataframe tbody tr th:only-of-type {\n",
       "        vertical-align: middle;\n",
       "    }\n",
       "\n",
       "    .dataframe tbody tr th {\n",
       "        vertical-align: top;\n",
       "    }\n",
       "\n",
       "    .dataframe thead th {\n",
       "        text-align: right;\n",
       "    }\n",
       "</style>\n",
       "<table border=\"1\" class=\"dataframe\">\n",
       "  <thead>\n",
       "    <tr style=\"text-align: right;\">\n",
       "      <th></th>\n",
       "      <th>Group name</th>\n",
       "      <th>Position</th>\n",
       "      <th>Description</th>\n",
       "      <th>Duration (s)</th>\n",
       "      <th>Distance (m)</th>\n",
       "      <th>Time on Ice (s)</th>\n",
       "      <th>High Metabolic Power Distance (m)</th>\n",
       "      <th>Mechanical Intensity</th>\n",
       "    </tr>\n",
       "  </thead>\n",
       "  <tbody>\n",
       "    <tr>\n",
       "      <th>0</th>\n",
       "      <td>Defense</td>\n",
       "      <td>D</td>\n",
       "      <td>vs Lugano</td>\n",
       "      <td>8836</td>\n",
       "      <td>3163</td>\n",
       "      <td>1038</td>\n",
       "      <td>1287</td>\n",
       "      <td>45,94</td>\n",
       "    </tr>\n",
       "    <tr>\n",
       "      <th>1</th>\n",
       "      <td>Offense</td>\n",
       "      <td>F</td>\n",
       "      <td>vs Lugano</td>\n",
       "      <td>8836</td>\n",
       "      <td>2881</td>\n",
       "      <td>689</td>\n",
       "      <td>1724</td>\n",
       "      <td>42,85</td>\n",
       "    </tr>\n",
       "    <tr>\n",
       "      <th>2</th>\n",
       "      <td>Offense</td>\n",
       "      <td>F</td>\n",
       "      <td>vs Lugano</td>\n",
       "      <td>8836</td>\n",
       "      <td>3586</td>\n",
       "      <td>932</td>\n",
       "      <td>2090</td>\n",
       "      <td>46,12</td>\n",
       "    </tr>\n",
       "    <tr>\n",
       "      <th>3</th>\n",
       "      <td>Offense</td>\n",
       "      <td>F</td>\n",
       "      <td>vs Lugano</td>\n",
       "      <td>8836</td>\n",
       "      <td>3881</td>\n",
       "      <td>1043</td>\n",
       "      <td>1956</td>\n",
       "      <td>44,38</td>\n",
       "    </tr>\n",
       "    <tr>\n",
       "      <th>4</th>\n",
       "      <td>Defense</td>\n",
       "      <td>D</td>\n",
       "      <td>vs Lugano</td>\n",
       "      <td>8836</td>\n",
       "      <td>354</td>\n",
       "      <td>92</td>\n",
       "      <td>179</td>\n",
       "      <td>44,95</td>\n",
       "    </tr>\n",
       "    <tr>\n",
       "      <th>...</th>\n",
       "      <td>...</td>\n",
       "      <td>...</td>\n",
       "      <td>...</td>\n",
       "      <td>...</td>\n",
       "      <td>...</td>\n",
       "      <td>...</td>\n",
       "      <td>...</td>\n",
       "      <td>...</td>\n",
       "    </tr>\n",
       "    <tr>\n",
       "      <th>93</th>\n",
       "      <td>Offense</td>\n",
       "      <td>F</td>\n",
       "      <td>Overtime</td>\n",
       "      <td>129</td>\n",
       "      <td>254</td>\n",
       "      <td>51</td>\n",
       "      <td>180</td>\n",
       "      <td>38,32</td>\n",
       "    </tr>\n",
       "    <tr>\n",
       "      <th>94</th>\n",
       "      <td>Defense</td>\n",
       "      <td>D</td>\n",
       "      <td>Overtime</td>\n",
       "      <td>129</td>\n",
       "      <td>92</td>\n",
       "      <td>27</td>\n",
       "      <td>12</td>\n",
       "      <td>25,67</td>\n",
       "    </tr>\n",
       "    <tr>\n",
       "      <th>97</th>\n",
       "      <td>Defense</td>\n",
       "      <td>D</td>\n",
       "      <td>Overtime</td>\n",
       "      <td>129</td>\n",
       "      <td>235</td>\n",
       "      <td>46</td>\n",
       "      <td>148</td>\n",
       "      <td>32,33</td>\n",
       "    </tr>\n",
       "    <tr>\n",
       "      <th>99</th>\n",
       "      <td>Offense</td>\n",
       "      <td>F</td>\n",
       "      <td>Overtime</td>\n",
       "      <td>129</td>\n",
       "      <td>228</td>\n",
       "      <td>48</td>\n",
       "      <td>131</td>\n",
       "      <td>43,6</td>\n",
       "    </tr>\n",
       "    <tr>\n",
       "      <th>100</th>\n",
       "      <td>Offense</td>\n",
       "      <td>F</td>\n",
       "      <td>Overtime</td>\n",
       "      <td>129</td>\n",
       "      <td>65</td>\n",
       "      <td>14</td>\n",
       "      <td>38</td>\n",
       "      <td>56,37</td>\n",
       "    </tr>\n",
       "  </tbody>\n",
       "</table>\n",
       "<p>89 rows × 8 columns</p>\n",
       "</div>"
      ],
      "text/plain": [
       "    Group name Position Description  Duration (s)  Distance (m)  \\\n",
       "0      Defense        D   vs Lugano          8836          3163   \n",
       "1      Offense        F   vs Lugano          8836          2881   \n",
       "2      Offense        F   vs Lugano          8836          3586   \n",
       "3      Offense        F   vs Lugano          8836          3881   \n",
       "4      Defense        D   vs Lugano          8836           354   \n",
       "..         ...      ...         ...           ...           ...   \n",
       "93     Offense        F    Overtime           129           254   \n",
       "94     Defense        D    Overtime           129            92   \n",
       "97     Defense        D    Overtime           129           235   \n",
       "99     Offense        F    Overtime           129           228   \n",
       "100    Offense        F    Overtime           129            65   \n",
       "\n",
       "     Time on Ice (s)  High Metabolic Power Distance (m) Mechanical Intensity  \n",
       "0               1038                               1287                45,94  \n",
       "1                689                               1724                42,85  \n",
       "2                932                               2090                46,12  \n",
       "3               1043                               1956                44,38  \n",
       "4                 92                                179                44,95  \n",
       "..               ...                                ...                  ...  \n",
       "93                51                                180                38,32  \n",
       "94                27                                 12                25,67  \n",
       "97                46                                148                32,33  \n",
       "99                48                                131                 43,6  \n",
       "100               14                                 38                56,37  \n",
       "\n",
       "[89 rows x 8 columns]"
      ]
     },
     "execution_count": 108,
     "metadata": {},
     "output_type": "execute_result"
    }
   ],
   "source": [
    "# Function to remove rows where the value of column Group name is not equal to 'Offense' or 'Defense'\n",
    "# This is done to remove the rows for the guest team present in the ZSC dataset\n",
    "\n",
    "\n",
    "def filter_group_name(df):\n",
    "    \"\"\"\n",
    "    Filters the DataFrame to retain rows where 'Group name' is 'Offense' or 'Defense'.\n",
    "\n",
    "    Parameters:\n",
    "    - df (pd.DataFrame): The input DataFrame.\n",
    "\n",
    "    Returns:\n",
    "    - pd.DataFrame: The filtered DataFrame.\n",
    "    \"\"\"\n",
    "    return df[df[\"Group name\"].isin([\"Offense\", \"Defense\", \"Goalies\"])]\n",
    "\n",
    "\n",
    "# Example usage:\n",
    "df_filtered_zsc = filter_group_name(df_imp_zsc)\n",
    "\n",
    "df_filtered_lugano = filter_group_name(df_imp_lugano)\n",
    "\n",
    "# Display the filtered data:\n",
    "# df_filtered_zsc\n",
    "\n",
    "# Display the filtered data:\n",
    "df_filtered_lugano"
   ]
  },
  {
   "cell_type": "markdown",
   "metadata": {},
   "source": [
    "#### Adding the Player ID only to the rows with Column 'Description' = 'vs Lugano' or 'vs Zurich' i.e. Game data only, NOT periods\n"
   ]
  },
  {
   "cell_type": "code",
   "execution_count": 109,
   "metadata": {},
   "outputs": [
    {
     "name": "stdout",
     "output_type": "stream",
     "text": [
      "  Group name    Position Description  Duration (s)  Distance (m)  \\\n",
      "0    Defense           D   vs Lugano          8836          3163   \n",
      "1    Offense           F   vs Lugano          8836          2881   \n",
      "2    Offense           F   vs Lugano          8836          3586   \n",
      "3    Offense           F   vs Lugano          8836          3881   \n",
      "4    Defense           D   vs Lugano          8836           354   \n",
      "5    Defense           D   vs Lugano          8836          5087   \n",
      "6    Goalies  Goalkeeper   vs Lugano          8836          1066   \n",
      "\n",
      "   Time on Ice (s)  High Metabolic Power Distance (m) Mechanical Intensity  \\\n",
      "0             1038                               1287                45,94   \n",
      "1              689                               1724                42,85   \n",
      "2              932                               2090                46,12   \n",
      "3             1043                               1956                44,38   \n",
      "4               92                                179                44,95   \n",
      "5             1360                               2501                41,27   \n",
      "6             4007                                  7                19,29   \n",
      "\n",
      "   Player ID  \n",
      "0          1  \n",
      "1          2  \n",
      "2          3  \n",
      "3          4  \n",
      "4          5  \n",
      "5          6  \n",
      "6          7  \n",
      "=============================================================================================================\n",
      "   Group name Position Description  Duration (s)  Distance (m)  \\\n",
      "0     Defense        D   vs Zurich          7868          3140   \n",
      "1     Offense        F   vs Zurich          7868          3037   \n",
      "2     Offense        F   vs Zurich          7868          4872   \n",
      "10    Offense        F   vs Zurich          7868          3648   \n",
      "11    Offense        F   vs Zurich          7868          2747   \n",
      "12    Defense        D   vs Zurich          7868          1324   \n",
      "28    Defense        D   vs Zurich          7868          3048   \n",
      "\n",
      "    Time on Ice (s)  High Metabolic Power Distance (m) Mechanical Intensity  \\\n",
      "0              1144                               1223                38,62   \n",
      "1               832                               1359                29,67   \n",
      "2              1394                               2227                37,04   \n",
      "10             1028                               1591                38,46   \n",
      "11              713                               1326                39,73   \n",
      "12              351                                753                50,74   \n",
      "28              933                               1199                40,19   \n",
      "\n",
      "    Player ID  \n",
      "0           1  \n",
      "1           2  \n",
      "2           3  \n",
      "10          4  \n",
      "11          5  \n",
      "12          6  \n",
      "28          7  \n"
     ]
    },
    {
     "name": "stderr",
     "output_type": "stream",
     "text": [
      "C:\\Users\\samue\\AppData\\Local\\Temp\\ipykernel_11196\\1598695549.py:13: SettingWithCopyWarning:\n",
      "\n",
      "\n",
      "A value is trying to be set on a copy of a slice from a DataFrame.\n",
      "Try using .loc[row_indexer,col_indexer] = value instead\n",
      "\n",
      "See the caveats in the documentation: https://pandas.pydata.org/pandas-docs/stable/user_guide/indexing.html#returning-a-view-versus-a-copy\n",
      "\n",
      "C:\\Users\\samue\\AppData\\Local\\Temp\\ipykernel_11196\\1598695549.py:14: SettingWithCopyWarning:\n",
      "\n",
      "\n",
      "A value is trying to be set on a copy of a slice from a DataFrame.\n",
      "Try using .loc[row_indexer,col_indexer] = value instead\n",
      "\n",
      "See the caveats in the documentation: https://pandas.pydata.org/pandas-docs/stable/user_guide/indexing.html#returning-a-view-versus-a-copy\n",
      "\n"
     ]
    }
   ],
   "source": [
    "def add_player_id(df):\n",
    "    \"\"\"\n",
    "    Adds a new column 'Player ID' to the DataFrame starting from 1, but only to the rows\n",
    "    with 'Description' as 'vs Lugano' or 'vs Zurich'.\n",
    "\n",
    "    Parameters:\n",
    "    - df (pd.DataFrame): The input DataFrame.\n",
    "\n",
    "    Returns:\n",
    "    - pd.DataFrame: The DataFrame with the new 'Player ID' column added to specific rows.\n",
    "    \"\"\"\n",
    "    mask = df[\"Description\"].isin([\"vs Lugano\", \"vs Zurich\"])\n",
    "    df.loc[mask, \"Player ID\"] = list(range(1, sum(mask) + 1))\n",
    "    df[\"Player ID\"] = df[\"Player ID\"].astype(\n",
    "        \"Int64\"\n",
    "    )  # Using Int64 to handle potential NaNs\n",
    "    return df\n",
    "\n",
    "\n",
    "# Example usage:\n",
    "df_imp_lugano = add_player_id(df_filtered_lugano)\n",
    "df_imp_zsc = add_player_id(df_filtered_zsc)\n",
    "\n",
    "# Displaying the first 7 rows:\n",
    "print(df_imp_lugano.head(7))\n",
    "\n",
    "print(\n",
    "    \"=============================================================================================================\"\n",
    ")\n",
    "\n",
    "print(df_imp_zsc.head(7))"
   ]
  },
  {
   "cell_type": "markdown",
   "metadata": {},
   "source": [
    "#### Check the data types of the columns\n"
   ]
  },
  {
   "cell_type": "code",
   "execution_count": 110,
   "metadata": {},
   "outputs": [
    {
     "name": "stdout",
     "output_type": "stream",
     "text": [
      "Group name                           object\n",
      "Position                             object\n",
      "Description                          object\n",
      "Duration (s)                          int64\n",
      "Distance (m)                          int64\n",
      "Time on Ice (s)                       int64\n",
      "High Metabolic Power Distance (m)     int64\n",
      "Mechanical Intensity                 object\n",
      "Player ID                             Int64\n",
      "dtype: object\n",
      "=============================================================================================================\n",
      "Group name                           object\n",
      "Position                             object\n",
      "Description                          object\n",
      "Duration (s)                          int64\n",
      "Distance (m)                          int64\n",
      "Time on Ice (s)                       int64\n",
      "High Metabolic Power Distance (m)     int64\n",
      "Mechanical Intensity                 object\n",
      "Player ID                             Int64\n",
      "dtype: object\n"
     ]
    }
   ],
   "source": [
    "# Check the data types of the columns\n",
    "print(df_imp_lugano.dtypes)\n",
    "\n",
    "print(\n",
    "    \"=============================================================================================================\"\n",
    ")\n",
    "\n",
    "print(df_imp_zsc.dtypes)"
   ]
  },
  {
   "cell_type": "markdown",
   "metadata": {},
   "source": [
    "#### Convert the data type of the column mechanical intensity from string to float\n"
   ]
  },
  {
   "cell_type": "code",
   "execution_count": 111,
   "metadata": {},
   "outputs": [
    {
     "name": "stdout",
     "output_type": "stream",
     "text": [
      "Group name                            object\n",
      "Position                              object\n",
      "Description                           object\n",
      "Duration (s)                           int64\n",
      "Distance (m)                           int64\n",
      "Time on Ice (s)                        int64\n",
      "High Metabolic Power Distance (m)      int64\n",
      "Mechanical Intensity                 float64\n",
      "Player ID                              Int64\n",
      "dtype: object\n",
      "=============================================================================================================\n",
      "Group name                            object\n",
      "Position                              object\n",
      "Description                           object\n",
      "Duration (s)                           int64\n",
      "Distance (m)                           int64\n",
      "Time on Ice (s)                        int64\n",
      "High Metabolic Power Distance (m)      int64\n",
      "Mechanical Intensity                 float64\n",
      "Player ID                              Int64\n",
      "dtype: object\n"
     ]
    }
   ],
   "source": [
    "def convert_mechanical_intensity_to_float(df):\n",
    "    \"\"\"\n",
    "    Converts the data type of the 'Mechanical Intensity' column from string to float.\n",
    "\n",
    "    Parameters:\n",
    "    - df (pd.DataFrame): The input DataFrame.\n",
    "\n",
    "    Returns:\n",
    "    - pd.DataFrame: The DataFrame with the 'Mechanical Intensity' column converted to float.\n",
    "    \"\"\"\n",
    "    df[\"Mechanical Intensity\"] = (\n",
    "        df[\"Mechanical Intensity\"].str.replace(\",\", \".\").astype(float)\n",
    "    )\n",
    "    return df\n",
    "\n",
    "\n",
    "# Example usage:\n",
    "df_imp_lugano = convert_mechanical_intensity_to_float(df_imp_lugano)\n",
    "df_imp_zsc = convert_mechanical_intensity_to_float(df_imp_zsc)\n",
    "\n",
    "# Checking the data types:\n",
    "print(df_imp_lugano.dtypes)\n",
    "\n",
    "print(\n",
    "    \"=============================================================================================================\"\n",
    ")\n",
    "\n",
    "print(df_imp_zsc.dtypes)"
   ]
  },
  {
   "cell_type": "markdown",
   "metadata": {},
   "source": [
    "### CONCEPTUAL FRAMEWORK AND METHODOLOGY\n",
    "\n",
    "Given the anonymized nature and the small sample size of our dataset, combined with numerous variables at play, we've made certain assumptions to ensure its suitable for our use-case. Here’s our approach to understanding player fatigue:\n",
    "\n",
    "1. **Picking Player Data:**\n",
    "   Due to lack of player identification data, we had to infer that first 21 rows represent individual player data. This is based on the understanding that a hockey team typically consists of 20 players. This selection ensures we capture data for each unique player.\n",
    "\n",
    "2. **Identifying Player Roles:**\n",
    "   We assess the 'Position' column to differentiate between a forward (FW), defenseman (D) and Goalkeeper. The roles they play on the ice rink might result in different fatigue levels.\n",
    "\n",
    "3. **Data Segmentation:**\n",
    "   With hundreds of variables present, we narrow down and segment data by recommended metrics from the icehockey club. This targeted analysis aids in the precise estimation of the Fatigue Index (FI).\n",
    "\n",
    "4. **Developing the Fatigue Formula:**\n",
    "   Using a combination of the dataset metrics, we create a formula that captures the aspects of player fatigue. This formula is designed to be sensitive to player roles, game dynamics, and other key factors.\n",
    "\n",
    "5. **Fatigue Estimation:**\n",
    "   Using the curated data from the previous steps, we derive the Fatigue Index (FI).\n",
    "\n",
    "6. **Visualization:**\n",
    "   We design a clear and easy-to-understand graphic to show the fatigue levels. This helps coaches quickly see and understand player tiredness.\n"
   ]
  },
  {
   "cell_type": "markdown",
   "metadata": {},
   "source": [
    "#### Create a function to filter the dataset based on the Period or the full game\n"
   ]
  },
  {
   "cell_type": "code",
   "execution_count": 112,
   "metadata": {},
   "outputs": [
    {
     "name": "stdout",
     "output_type": "stream",
     "text": [
      "=============================================================================================================\n",
      "   Group name    Position Description  Duration (s)  Distance (m)  \\\n",
      "0     Defense           D   vs Zurich          7868          3140   \n",
      "1     Offense           F   vs Zurich          7868          3037   \n",
      "2     Offense           F   vs Zurich          7868          4872   \n",
      "10    Offense           F   vs Zurich          7868          3648   \n",
      "11    Offense           F   vs Zurich          7868          2747   \n",
      "12    Defense           D   vs Zurich          7868          1324   \n",
      "28    Defense           D   vs Zurich          7868          3048   \n",
      "29    Goalies  Goalkeeper   vs Zurich          7868          1124   \n",
      "30    Offense           F   vs Zurich          7868          4376   \n",
      "31    Offense           F   vs Zurich          7868          3824   \n",
      "32    Defense           D   vs Zurich          7868          4242   \n",
      "33    Defense           D   vs Zurich          7868          4327   \n",
      "34    Defense           F   vs Zurich          7868          1574   \n",
      "35    Offense           F   vs Zurich          7868          2584   \n",
      "36    Defense           D   vs Zurich          7868          5568   \n",
      "37    Offense           F   vs Zurich          7868          1927   \n",
      "38    Offense           F   vs Zurich          7868          4354   \n",
      "39    Offense           F   vs Zurich          7868          4268   \n",
      "40    Offense           F   vs Zurich          7868          3424   \n",
      "41    Offense           F   vs Zurich          7868          2866   \n",
      "\n",
      "    Time on Ice (s)  High Metabolic Power Distance (m)  Mechanical Intensity  \\\n",
      "0              1144                               1223                 38.62   \n",
      "1               832                               1359                 29.67   \n",
      "2              1394                               2227                 37.04   \n",
      "10             1028                               1591                 38.46   \n",
      "11              713                               1326                 39.73   \n",
      "12              351                                753                 50.74   \n",
      "28              933                               1199                 40.19   \n",
      "29             3797                                 41                 19.75   \n",
      "30             1057                               2495                 40.89   \n",
      "31              982                               1674                 33.64   \n",
      "32             1278                               1777                 38.67   \n",
      "33             1406                               1267                 30.57   \n",
      "34              411                                738                 40.50   \n",
      "35              596                               1440                 38.29   \n",
      "36             1728                               2097                 33.56   \n",
      "37              471                                780                 28.68   \n",
      "38             1244                               1928                 38.69   \n",
      "39             1168                               1746                 29.35   \n",
      "40              928                               1571                 37.69   \n",
      "41              798                                974                 27.96   \n",
      "\n",
      "    Player ID  \n",
      "0           1  \n",
      "1           2  \n",
      "2           3  \n",
      "10          4  \n",
      "11          5  \n",
      "12          6  \n",
      "28          7  \n",
      "29          8  \n",
      "30          9  \n",
      "31         10  \n",
      "32         11  \n",
      "33         12  \n",
      "34         13  \n",
      "35         14  \n",
      "36         15  \n",
      "37         16  \n",
      "38         17  \n",
      "39         18  \n",
      "40         19  \n",
      "41         20  \n",
      "   Group name    Position Description  Duration (s)  Distance (m)  \\\n",
      "0     Defense           D   vs Lugano          8836          3163   \n",
      "1     Offense           F   vs Lugano          8836          2881   \n",
      "2     Offense           F   vs Lugano          8836          3586   \n",
      "3     Offense           F   vs Lugano          8836          3881   \n",
      "4     Defense           D   vs Lugano          8836           354   \n",
      "5     Defense           D   vs Lugano          8836          5087   \n",
      "6     Goalies  Goalkeeper   vs Lugano          8836          1066   \n",
      "7     Offense           F   vs Lugano          8836          4683   \n",
      "8     Offense           F   vs Lugano          8836          4009   \n",
      "9     Defense           D   vs Lugano          8836          4383   \n",
      "10    Offense           F   vs Lugano          8836          4935   \n",
      "11    Defense           D   vs Lugano          8836          4771   \n",
      "12    Defense           F   vs Lugano          8836          3498   \n",
      "13    Offense           F   vs Lugano          8836            21   \n",
      "14    Defense           D   vs Lugano          8836          5223   \n",
      "15    Offense           F   vs Lugano          8836          3174   \n",
      "16    Offense           F   vs Lugano          8836          4759   \n",
      "17    Offense           F   vs Lugano          8836          2621   \n",
      "18    Offense           F   vs Lugano          8836          4039   \n",
      "19    Offense           F   vs Lugano          8836          2595   \n",
      "20    Offense           F   vs Lugano          8836          2278   \n",
      "\n",
      "    Time on Ice (s)  High Metabolic Power Distance (m)  Mechanical Intensity  \\\n",
      "0              1038                               1287                 45.94   \n",
      "1               689                               1724                 42.85   \n",
      "2               932                               2090                 46.12   \n",
      "3              1043                               1956                 44.38   \n",
      "4                92                                179                 44.95   \n",
      "5              1360                               2501                 41.27   \n",
      "6              4007                                  7                 19.29   \n",
      "7              1162                               2758                 44.56   \n",
      "8              1239                               2066                 38.62   \n",
      "9              1307                               1913                 45.25   \n",
      "10             1070                               3228                 43.63   \n",
      "11             1396                               1499                 29.33   \n",
      "12              936                               1689                 45.32   \n",
      "13                9                                  0                 12.84   \n",
      "14             1485                               2555                 38.53   \n",
      "15              823                               1764                 43.83   \n",
      "16             1177                               2489                 42.51   \n",
      "17              732                               1279                 45.50   \n",
      "18             1034                               2047                 41.40   \n",
      "19              609                               1465                 40.73   \n",
      "20              545                               1263                 47.27   \n",
      "\n",
      "    Player ID  \n",
      "0           1  \n",
      "1           2  \n",
      "2           3  \n",
      "3           4  \n",
      "4           5  \n",
      "5           6  \n",
      "6           7  \n",
      "7           8  \n",
      "8           9  \n",
      "9          10  \n",
      "10         11  \n",
      "11         12  \n",
      "12         13  \n",
      "13         14  \n",
      "14         15  \n",
      "15         16  \n",
      "16         17  \n",
      "17         18  \n",
      "18         19  \n",
      "19         20  \n",
      "20         21  \n"
     ]
    }
   ],
   "source": [
    "# As we want only unique player data, we can safely select the game data i.e rows with Description = \"vs Lugano\"\n",
    "# We can infer that because an ice hockey team typically consists of 20 players, including 2 goaltenders and 18 skaters.\n",
    "# and \"vs Lugano\" implies that that row is for the match data NOT period data.\n",
    "# and the proportion of forwards to defensemen\n",
    "\n",
    "\n",
    "def filter_period_data(df, description):\n",
    "    \"\"\"\n",
    "    Filters the DataFrame based on the given description.\n",
    "\n",
    "    Parameters:\n",
    "    - df (pd.DataFrame): The input DataFrame.\n",
    "    - description (str): The description to filter by. Can be '1st Period', '2nd Period', '3rd Period' or 'vs Lugano' or 'vs Zurich'.\n",
    "\n",
    "    Returns:\n",
    "    - pd.DataFrame: The filtered DataFrame.\n",
    "    \"\"\"\n",
    "    return df[df[\"Description\"] == description]\n",
    "\n",
    "\n",
    "# Example usage:\n",
    "df_imp_lugano_game = filter_period_data(df_imp_lugano, \"vs Lugano\")\n",
    "df_imp_zsc_game = filter_period_data(df_imp_zsc, \"vs Zurich\")\n",
    "\n",
    "# Display the filtered data:\n",
    "# print(df_imp_lugano_match)\n",
    "\n",
    "print(\n",
    "    \"=============================================================================================================\"\n",
    ")\n",
    "\n",
    "print(df_imp_zsc_game)\n",
    "\n",
    "print(df_imp_lugano_game)"
   ]
  },
  {
   "cell_type": "code",
   "execution_count": 113,
   "metadata": {},
   "outputs": [
    {
     "data": {
      "text/plain": [
       "Position\n",
       "F             14\n",
       "D              6\n",
       "Goalkeeper     1\n",
       "Name: count, dtype: int64"
      ]
     },
     "execution_count": 113,
     "metadata": {},
     "output_type": "execute_result"
    }
   ],
   "source": [
    "# Calculate the ratio of forwards to defensemen using position column\n",
    "\n",
    "df_imp_lugano_game[\"Position\"].value_counts()"
   ]
  },
  {
   "cell_type": "code",
   "execution_count": 114,
   "metadata": {},
   "outputs": [
    {
     "name": "stdout",
     "output_type": "stream",
     "text": [
      "2.3333333333333335\n"
     ]
    },
    {
     "name": "stderr",
     "output_type": "stream",
     "text": [
      "C:\\Users\\samue\\AppData\\Local\\Temp\\ipykernel_11196\\2978978911.py:2: FutureWarning:\n",
      "\n",
      "Series.__getitem__ treating keys as positions is deprecated. In a future version, integer keys will always be treated as labels (consistent with DataFrame behavior). To access a value by position, use `ser.iloc[pos]`\n",
      "\n",
      "C:\\Users\\samue\\AppData\\Local\\Temp\\ipykernel_11196\\2978978911.py:3: FutureWarning:\n",
      "\n",
      "Series.__getitem__ treating keys as positions is deprecated. In a future version, integer keys will always be treated as labels (consistent with DataFrame behavior). To access a value by position, use `ser.iloc[pos]`\n",
      "\n"
     ]
    }
   ],
   "source": [
    "# Calculate ratio of F to D\n",
    "F = df_imp_lugano_game[\"Position\"].value_counts()[0]\n",
    "D = df_imp_lugano_game[\"Position\"].value_counts()[1]\n",
    "ratio = F / D\n",
    "\n",
    "# print ratio as a fraction\n",
    "\n",
    "print(ratio)"
   ]
  },
  {
   "cell_type": "markdown",
   "metadata": {},
   "source": [
    "### CREATING A RELATIVE FATIGUE LEVEL FORMULA\n",
    "\n",
    "- Typically involves empirical research, biomechanics, and physiological considerations.\n",
    "- However, we propose a simple, hypothetical formula to estimate fatigue.\n",
    "- DISCLAIMER : This is a rough estimation and not based on scientific research.\n",
    "- Using the important metrics recommended by the Ice Hockey Club & Professor Martin Rumo, we attempt to create a formula that can be used to estimate fatigue levels.\n"
   ]
  },
  {
   "cell_type": "markdown",
   "metadata": {},
   "source": [
    "#### Relative Fatigue Index (RFI) = [A * (Time on ice/ Match Duration) + B * (High Metabolic Power Distance / Total Distance) + C * (Mechanical Intensity)]\n",
    "\n",
    "- TIME FACTOR : Percentage of Time spent on Ice. Here, the idea is simple: the more time a player spends on the ice, the more fatigued they're likely to be.\n",
    "\n",
    "- DISTANCE OR INTENSITY FACTOR : Percentage of the distance covered at high intensities. It's a straightforward indicator of how hard a player pushed themselves relative to their overall activity. It is the distance covered at high metabolic power divided by the total distance covered.\n",
    "\n",
    "- MECHANICAL OR LOAD INTENSITY : How intense a player's session was concerning accelerations and decelerations.It models the intensity of a session or phase and provides important information about its impact on the lower limbs. It is the Mechanical Load divided by the total time in minutes.\n",
    "\n",
    "- A, B, and C: Weights assigned to each of the factors. These weights are determined by the coach based on the importance of each factor in the context of the team's strategy and the coach's philosophy.\n"
   ]
  },
  {
   "cell_type": "markdown",
   "metadata": {},
   "source": [
    "### FOR MATCH DATA\n"
   ]
  },
  {
   "cell_type": "markdown",
   "metadata": {},
   "source": [
    "#### NORMALIZE MECHANICAL INTENSITY (MATCH DATA)\n"
   ]
  },
  {
   "cell_type": "code",
   "execution_count": 115,
   "metadata": {},
   "outputs": [
    {
     "name": "stderr",
     "output_type": "stream",
     "text": [
      "C:\\Users\\samue\\AppData\\Local\\Temp\\ipykernel_11196\\3176864924.py:8: SettingWithCopyWarning:\n",
      "\n",
      "\n",
      "A value is trying to be set on a copy of a slice from a DataFrame.\n",
      "Try using .loc[row_indexer,col_indexer] = value instead\n",
      "\n",
      "See the caveats in the documentation: https://pandas.pydata.org/pandas-docs/stable/user_guide/indexing.html#returning-a-view-versus-a-copy\n",
      "\n"
     ]
    },
    {
     "data": {
      "text/html": [
       "<div>\n",
       "<style scoped>\n",
       "    .dataframe tbody tr th:only-of-type {\n",
       "        vertical-align: middle;\n",
       "    }\n",
       "\n",
       "    .dataframe tbody tr th {\n",
       "        vertical-align: top;\n",
       "    }\n",
       "\n",
       "    .dataframe thead th {\n",
       "        text-align: right;\n",
       "    }\n",
       "</style>\n",
       "<table border=\"1\" class=\"dataframe\">\n",
       "  <thead>\n",
       "    <tr style=\"text-align: right;\">\n",
       "      <th></th>\n",
       "      <th>Group name</th>\n",
       "      <th>Position</th>\n",
       "      <th>Description</th>\n",
       "      <th>Duration (s)</th>\n",
       "      <th>Distance (m)</th>\n",
       "      <th>Time on Ice (s)</th>\n",
       "      <th>High Metabolic Power Distance (m)</th>\n",
       "      <th>Mechanical Intensity</th>\n",
       "      <th>Player ID</th>\n",
       "      <th>Normalized Mechanical Intensity</th>\n",
       "    </tr>\n",
       "  </thead>\n",
       "  <tbody>\n",
       "    <tr>\n",
       "      <th>0</th>\n",
       "      <td>Defense</td>\n",
       "      <td>D</td>\n",
       "      <td>vs Lugano</td>\n",
       "      <td>8836</td>\n",
       "      <td>3163</td>\n",
       "      <td>1038</td>\n",
       "      <td>1287</td>\n",
       "      <td>45.94</td>\n",
       "      <td>1</td>\n",
       "      <td>0.961371</td>\n",
       "    </tr>\n",
       "    <tr>\n",
       "      <th>1</th>\n",
       "      <td>Offense</td>\n",
       "      <td>F</td>\n",
       "      <td>vs Lugano</td>\n",
       "      <td>8836</td>\n",
       "      <td>2881</td>\n",
       "      <td>689</td>\n",
       "      <td>1724</td>\n",
       "      <td>42.85</td>\n",
       "      <td>2</td>\n",
       "      <td>0.871624</td>\n",
       "    </tr>\n",
       "    <tr>\n",
       "      <th>2</th>\n",
       "      <td>Offense</td>\n",
       "      <td>F</td>\n",
       "      <td>vs Lugano</td>\n",
       "      <td>8836</td>\n",
       "      <td>3586</td>\n",
       "      <td>932</td>\n",
       "      <td>2090</td>\n",
       "      <td>46.12</td>\n",
       "      <td>3</td>\n",
       "      <td>0.966599</td>\n",
       "    </tr>\n",
       "    <tr>\n",
       "      <th>3</th>\n",
       "      <td>Offense</td>\n",
       "      <td>F</td>\n",
       "      <td>vs Lugano</td>\n",
       "      <td>8836</td>\n",
       "      <td>3881</td>\n",
       "      <td>1043</td>\n",
       "      <td>1956</td>\n",
       "      <td>44.38</td>\n",
       "      <td>4</td>\n",
       "      <td>0.916062</td>\n",
       "    </tr>\n",
       "    <tr>\n",
       "      <th>4</th>\n",
       "      <td>Defense</td>\n",
       "      <td>D</td>\n",
       "      <td>vs Lugano</td>\n",
       "      <td>8836</td>\n",
       "      <td>354</td>\n",
       "      <td>92</td>\n",
       "      <td>179</td>\n",
       "      <td>44.95</td>\n",
       "      <td>5</td>\n",
       "      <td>0.932617</td>\n",
       "    </tr>\n",
       "    <tr>\n",
       "      <th>5</th>\n",
       "      <td>Defense</td>\n",
       "      <td>D</td>\n",
       "      <td>vs Lugano</td>\n",
       "      <td>8836</td>\n",
       "      <td>5087</td>\n",
       "      <td>1360</td>\n",
       "      <td>2501</td>\n",
       "      <td>41.27</td>\n",
       "      <td>6</td>\n",
       "      <td>0.825733</td>\n",
       "    </tr>\n",
       "    <tr>\n",
       "      <th>6</th>\n",
       "      <td>Goalies</td>\n",
       "      <td>Goalkeeper</td>\n",
       "      <td>vs Lugano</td>\n",
       "      <td>8836</td>\n",
       "      <td>1066</td>\n",
       "      <td>4007</td>\n",
       "      <td>7</td>\n",
       "      <td>19.29</td>\n",
       "      <td>7</td>\n",
       "      <td>0.187337</td>\n",
       "    </tr>\n",
       "    <tr>\n",
       "      <th>7</th>\n",
       "      <td>Offense</td>\n",
       "      <td>F</td>\n",
       "      <td>vs Lugano</td>\n",
       "      <td>8836</td>\n",
       "      <td>4683</td>\n",
       "      <td>1162</td>\n",
       "      <td>2758</td>\n",
       "      <td>44.56</td>\n",
       "      <td>8</td>\n",
       "      <td>0.921290</td>\n",
       "    </tr>\n",
       "    <tr>\n",
       "      <th>8</th>\n",
       "      <td>Offense</td>\n",
       "      <td>F</td>\n",
       "      <td>vs Lugano</td>\n",
       "      <td>8836</td>\n",
       "      <td>4009</td>\n",
       "      <td>1239</td>\n",
       "      <td>2066</td>\n",
       "      <td>38.62</td>\n",
       "      <td>9</td>\n",
       "      <td>0.748766</td>\n",
       "    </tr>\n",
       "    <tr>\n",
       "      <th>9</th>\n",
       "      <td>Defense</td>\n",
       "      <td>D</td>\n",
       "      <td>vs Lugano</td>\n",
       "      <td>8836</td>\n",
       "      <td>4383</td>\n",
       "      <td>1307</td>\n",
       "      <td>1913</td>\n",
       "      <td>45.25</td>\n",
       "      <td>10</td>\n",
       "      <td>0.941330</td>\n",
       "    </tr>\n",
       "    <tr>\n",
       "      <th>10</th>\n",
       "      <td>Offense</td>\n",
       "      <td>F</td>\n",
       "      <td>vs Lugano</td>\n",
       "      <td>8836</td>\n",
       "      <td>4935</td>\n",
       "      <td>1070</td>\n",
       "      <td>3228</td>\n",
       "      <td>43.63</td>\n",
       "      <td>11</td>\n",
       "      <td>0.894278</td>\n",
       "    </tr>\n",
       "    <tr>\n",
       "      <th>11</th>\n",
       "      <td>Defense</td>\n",
       "      <td>D</td>\n",
       "      <td>vs Lugano</td>\n",
       "      <td>8836</td>\n",
       "      <td>4771</td>\n",
       "      <td>1396</td>\n",
       "      <td>1499</td>\n",
       "      <td>29.33</td>\n",
       "      <td>12</td>\n",
       "      <td>0.478943</td>\n",
       "    </tr>\n",
       "    <tr>\n",
       "      <th>12</th>\n",
       "      <td>Defense</td>\n",
       "      <td>F</td>\n",
       "      <td>vs Lugano</td>\n",
       "      <td>8836</td>\n",
       "      <td>3498</td>\n",
       "      <td>936</td>\n",
       "      <td>1689</td>\n",
       "      <td>45.32</td>\n",
       "      <td>13</td>\n",
       "      <td>0.943363</td>\n",
       "    </tr>\n",
       "    <tr>\n",
       "      <th>13</th>\n",
       "      <td>Offense</td>\n",
       "      <td>F</td>\n",
       "      <td>vs Lugano</td>\n",
       "      <td>8836</td>\n",
       "      <td>21</td>\n",
       "      <td>9</td>\n",
       "      <td>0</td>\n",
       "      <td>12.84</td>\n",
       "      <td>14</td>\n",
       "      <td>0.000000</td>\n",
       "    </tr>\n",
       "    <tr>\n",
       "      <th>14</th>\n",
       "      <td>Defense</td>\n",
       "      <td>D</td>\n",
       "      <td>vs Lugano</td>\n",
       "      <td>8836</td>\n",
       "      <td>5223</td>\n",
       "      <td>1485</td>\n",
       "      <td>2555</td>\n",
       "      <td>38.53</td>\n",
       "      <td>15</td>\n",
       "      <td>0.746152</td>\n",
       "    </tr>\n",
       "    <tr>\n",
       "      <th>15</th>\n",
       "      <td>Offense</td>\n",
       "      <td>F</td>\n",
       "      <td>vs Lugano</td>\n",
       "      <td>8836</td>\n",
       "      <td>3174</td>\n",
       "      <td>823</td>\n",
       "      <td>1764</td>\n",
       "      <td>43.83</td>\n",
       "      <td>16</td>\n",
       "      <td>0.900087</td>\n",
       "    </tr>\n",
       "    <tr>\n",
       "      <th>16</th>\n",
       "      <td>Offense</td>\n",
       "      <td>F</td>\n",
       "      <td>vs Lugano</td>\n",
       "      <td>8836</td>\n",
       "      <td>4759</td>\n",
       "      <td>1177</td>\n",
       "      <td>2489</td>\n",
       "      <td>42.51</td>\n",
       "      <td>17</td>\n",
       "      <td>0.861748</td>\n",
       "    </tr>\n",
       "    <tr>\n",
       "      <th>17</th>\n",
       "      <td>Offense</td>\n",
       "      <td>F</td>\n",
       "      <td>vs Lugano</td>\n",
       "      <td>8836</td>\n",
       "      <td>2621</td>\n",
       "      <td>732</td>\n",
       "      <td>1279</td>\n",
       "      <td>45.50</td>\n",
       "      <td>18</td>\n",
       "      <td>0.948591</td>\n",
       "    </tr>\n",
       "    <tr>\n",
       "      <th>18</th>\n",
       "      <td>Offense</td>\n",
       "      <td>F</td>\n",
       "      <td>vs Lugano</td>\n",
       "      <td>8836</td>\n",
       "      <td>4039</td>\n",
       "      <td>1034</td>\n",
       "      <td>2047</td>\n",
       "      <td>41.40</td>\n",
       "      <td>19</td>\n",
       "      <td>0.829509</td>\n",
       "    </tr>\n",
       "    <tr>\n",
       "      <th>19</th>\n",
       "      <td>Offense</td>\n",
       "      <td>F</td>\n",
       "      <td>vs Lugano</td>\n",
       "      <td>8836</td>\n",
       "      <td>2595</td>\n",
       "      <td>609</td>\n",
       "      <td>1465</td>\n",
       "      <td>40.73</td>\n",
       "      <td>20</td>\n",
       "      <td>0.810049</td>\n",
       "    </tr>\n",
       "    <tr>\n",
       "      <th>20</th>\n",
       "      <td>Offense</td>\n",
       "      <td>F</td>\n",
       "      <td>vs Lugano</td>\n",
       "      <td>8836</td>\n",
       "      <td>2278</td>\n",
       "      <td>545</td>\n",
       "      <td>1263</td>\n",
       "      <td>47.27</td>\n",
       "      <td>21</td>\n",
       "      <td>1.000000</td>\n",
       "    </tr>\n",
       "  </tbody>\n",
       "</table>\n",
       "</div>"
      ],
      "text/plain": [
       "   Group name    Position Description  Duration (s)  Distance (m)  \\\n",
       "0     Defense           D   vs Lugano          8836          3163   \n",
       "1     Offense           F   vs Lugano          8836          2881   \n",
       "2     Offense           F   vs Lugano          8836          3586   \n",
       "3     Offense           F   vs Lugano          8836          3881   \n",
       "4     Defense           D   vs Lugano          8836           354   \n",
       "5     Defense           D   vs Lugano          8836          5087   \n",
       "6     Goalies  Goalkeeper   vs Lugano          8836          1066   \n",
       "7     Offense           F   vs Lugano          8836          4683   \n",
       "8     Offense           F   vs Lugano          8836          4009   \n",
       "9     Defense           D   vs Lugano          8836          4383   \n",
       "10    Offense           F   vs Lugano          8836          4935   \n",
       "11    Defense           D   vs Lugano          8836          4771   \n",
       "12    Defense           F   vs Lugano          8836          3498   \n",
       "13    Offense           F   vs Lugano          8836            21   \n",
       "14    Defense           D   vs Lugano          8836          5223   \n",
       "15    Offense           F   vs Lugano          8836          3174   \n",
       "16    Offense           F   vs Lugano          8836          4759   \n",
       "17    Offense           F   vs Lugano          8836          2621   \n",
       "18    Offense           F   vs Lugano          8836          4039   \n",
       "19    Offense           F   vs Lugano          8836          2595   \n",
       "20    Offense           F   vs Lugano          8836          2278   \n",
       "\n",
       "    Time on Ice (s)  High Metabolic Power Distance (m)  Mechanical Intensity  \\\n",
       "0              1038                               1287                 45.94   \n",
       "1               689                               1724                 42.85   \n",
       "2               932                               2090                 46.12   \n",
       "3              1043                               1956                 44.38   \n",
       "4                92                                179                 44.95   \n",
       "5              1360                               2501                 41.27   \n",
       "6              4007                                  7                 19.29   \n",
       "7              1162                               2758                 44.56   \n",
       "8              1239                               2066                 38.62   \n",
       "9              1307                               1913                 45.25   \n",
       "10             1070                               3228                 43.63   \n",
       "11             1396                               1499                 29.33   \n",
       "12              936                               1689                 45.32   \n",
       "13                9                                  0                 12.84   \n",
       "14             1485                               2555                 38.53   \n",
       "15              823                               1764                 43.83   \n",
       "16             1177                               2489                 42.51   \n",
       "17              732                               1279                 45.50   \n",
       "18             1034                               2047                 41.40   \n",
       "19              609                               1465                 40.73   \n",
       "20              545                               1263                 47.27   \n",
       "\n",
       "    Player ID  Normalized Mechanical Intensity  \n",
       "0           1                         0.961371  \n",
       "1           2                         0.871624  \n",
       "2           3                         0.966599  \n",
       "3           4                         0.916062  \n",
       "4           5                         0.932617  \n",
       "5           6                         0.825733  \n",
       "6           7                         0.187337  \n",
       "7           8                         0.921290  \n",
       "8           9                         0.748766  \n",
       "9          10                         0.941330  \n",
       "10         11                         0.894278  \n",
       "11         12                         0.478943  \n",
       "12         13                         0.943363  \n",
       "13         14                         0.000000  \n",
       "14         15                         0.746152  \n",
       "15         16                         0.900087  \n",
       "16         17                         0.861748  \n",
       "17         18                         0.948591  \n",
       "18         19                         0.829509  \n",
       "19         20                         0.810049  \n",
       "20         21                         1.000000  "
      ]
     },
     "execution_count": 115,
     "metadata": {},
     "output_type": "execute_result"
    }
   ],
   "source": [
    "# First we need to normalize the Mechanical Intensity column, so that the values are between 0 and 1\n",
    "# This is to make sure that it can be added to TIME FACTOR, and DISTANCE FACTOR which are ratios in the next step\n",
    "# With historical data, from the clubs, min and max intensities can be adjusted further in the future to normalize the intensity\n",
    "\n",
    "min_val = df_imp_lugano_game[\"Mechanical Intensity\"].min()\n",
    "max_val = df_imp_lugano_game[\"Mechanical Intensity\"].max()\n",
    "\n",
    "df_imp_lugano_game[\"Normalized Mechanical Intensity\"] = (\n",
    "    df_imp_lugano_game[\"Mechanical Intensity\"] - min_val\n",
    ") / (max_val - min_val)\n",
    "\n",
    "df_imp_lugano_game"
   ]
  },
  {
   "cell_type": "markdown",
   "metadata": {},
   "source": [
    "#### CREATE RELATIVE FATIGUE INDEX (RFI) FUNCTION\n"
   ]
  },
  {
   "cell_type": "code",
   "execution_count": 116,
   "metadata": {},
   "outputs": [
    {
     "data": {
      "text/plain": [
       "0     1.485737\n",
       "1     1.548003\n",
       "2     1.654899\n",
       "3     1.538095\n",
       "4     1.448679\n",
       "5     1.471295\n",
       "6     0.647389\n",
       "7     1.641736\n",
       "8     1.404328\n",
       "9     1.525707\n",
       "10    1.669477\n",
       "11    0.951123\n",
       "12    1.532141\n",
       "13    0.001019\n",
       "14    1.403397\n",
       "15    1.548994\n",
       "16    1.517963\n",
       "17    1.519416\n",
       "18    1.453339\n",
       "19    1.443519\n",
       "20    1.616113\n",
       "dtype: float64"
      ]
     },
     "execution_count": 116,
     "metadata": {},
     "output_type": "execute_result"
    }
   ],
   "source": [
    "def fatigue_index(df, A=1, B=1, C=1):\n",
    "    \"\"\"This function calculates the fatigue index for each player.\"\"\"\n",
    "    return (\n",
    "        A * (df[\"Time on Ice (s)\"] / df[\"Duration (s)\"])\n",
    "        + B * df[\"High Metabolic Power Distance (m)\"] / df[\"Distance (m)\"]\n",
    "    ) + C * df[\"Normalized Mechanical Intensity\"]\n",
    "\n",
    "\n",
    "# test the function\n",
    "A = 1\n",
    "B = 1\n",
    "C = 1\n",
    "\n",
    "fatigue_index(df_imp_lugano_game, A, B, C)"
   ]
  },
  {
   "cell_type": "markdown",
   "metadata": {},
   "source": [
    "#### FATIGUE INDEX CALCULATION (MATCH DATA)\n"
   ]
  },
  {
   "cell_type": "code",
   "execution_count": 117,
   "metadata": {},
   "outputs": [
    {
     "name": "stderr",
     "output_type": "stream",
     "text": [
      "C:\\Users\\samue\\AppData\\Local\\Temp\\ipykernel_11196\\3176384214.py:2: SettingWithCopyWarning:\n",
      "\n",
      "\n",
      "A value is trying to be set on a copy of a slice from a DataFrame.\n",
      "Try using .loc[row_indexer,col_indexer] = value instead\n",
      "\n",
      "See the caveats in the documentation: https://pandas.pydata.org/pandas-docs/stable/user_guide/indexing.html#returning-a-view-versus-a-copy\n",
      "\n",
      "C:\\Users\\samue\\AppData\\Local\\Temp\\ipykernel_11196\\3176384214.py:9: SettingWithCopyWarning:\n",
      "\n",
      "\n",
      "A value is trying to be set on a copy of a slice from a DataFrame.\n",
      "Try using .loc[row_indexer,col_indexer] = value instead\n",
      "\n",
      "See the caveats in the documentation: https://pandas.pydata.org/pandas-docs/stable/user_guide/indexing.html#returning-a-view-versus-a-copy\n",
      "\n"
     ]
    },
    {
     "data": {
      "text/html": [
       "<div>\n",
       "<style scoped>\n",
       "    .dataframe tbody tr th:only-of-type {\n",
       "        vertical-align: middle;\n",
       "    }\n",
       "\n",
       "    .dataframe tbody tr th {\n",
       "        vertical-align: top;\n",
       "    }\n",
       "\n",
       "    .dataframe thead th {\n",
       "        text-align: right;\n",
       "    }\n",
       "</style>\n",
       "<table border=\"1\" class=\"dataframe\">\n",
       "  <thead>\n",
       "    <tr style=\"text-align: right;\">\n",
       "      <th></th>\n",
       "      <th>Group name</th>\n",
       "      <th>Position</th>\n",
       "      <th>Description</th>\n",
       "      <th>Duration (s)</th>\n",
       "      <th>Distance (m)</th>\n",
       "      <th>Time on Ice (s)</th>\n",
       "      <th>High Metabolic Power Distance (m)</th>\n",
       "      <th>Mechanical Intensity</th>\n",
       "      <th>Player ID</th>\n",
       "      <th>Normalized Mechanical Intensity</th>\n",
       "      <th>Fatigue Index</th>\n",
       "      <th>Normalized Fatigue Index</th>\n",
       "    </tr>\n",
       "  </thead>\n",
       "  <tbody>\n",
       "    <tr>\n",
       "      <th>13</th>\n",
       "      <td>Offense</td>\n",
       "      <td>F</td>\n",
       "      <td>vs Lugano</td>\n",
       "      <td>8836</td>\n",
       "      <td>21</td>\n",
       "      <td>9</td>\n",
       "      <td>0</td>\n",
       "      <td>12.84</td>\n",
       "      <td>14</td>\n",
       "      <td>0.000000</td>\n",
       "      <td>0.001019</td>\n",
       "      <td>1.000000</td>\n",
       "    </tr>\n",
       "    <tr>\n",
       "      <th>6</th>\n",
       "      <td>Goalies</td>\n",
       "      <td>Goalkeeper</td>\n",
       "      <td>vs Lugano</td>\n",
       "      <td>8836</td>\n",
       "      <td>1066</td>\n",
       "      <td>4007</td>\n",
       "      <td>7</td>\n",
       "      <td>19.29</td>\n",
       "      <td>7</td>\n",
       "      <td>0.187337</td>\n",
       "      <td>0.647389</td>\n",
       "      <td>1.387406</td>\n",
       "    </tr>\n",
       "    <tr>\n",
       "      <th>11</th>\n",
       "      <td>Defense</td>\n",
       "      <td>D</td>\n",
       "      <td>vs Lugano</td>\n",
       "      <td>8836</td>\n",
       "      <td>4771</td>\n",
       "      <td>1396</td>\n",
       "      <td>1499</td>\n",
       "      <td>29.33</td>\n",
       "      <td>12</td>\n",
       "      <td>0.478943</td>\n",
       "      <td>0.951123</td>\n",
       "      <td>1.569450</td>\n",
       "    </tr>\n",
       "    <tr>\n",
       "      <th>14</th>\n",
       "      <td>Defense</td>\n",
       "      <td>D</td>\n",
       "      <td>vs Lugano</td>\n",
       "      <td>8836</td>\n",
       "      <td>5223</td>\n",
       "      <td>1485</td>\n",
       "      <td>2555</td>\n",
       "      <td>38.53</td>\n",
       "      <td>15</td>\n",
       "      <td>0.746152</td>\n",
       "      <td>1.403397</td>\n",
       "      <td>1.840523</td>\n",
       "    </tr>\n",
       "    <tr>\n",
       "      <th>8</th>\n",
       "      <td>Offense</td>\n",
       "      <td>F</td>\n",
       "      <td>vs Lugano</td>\n",
       "      <td>8836</td>\n",
       "      <td>4009</td>\n",
       "      <td>1239</td>\n",
       "      <td>2066</td>\n",
       "      <td>38.62</td>\n",
       "      <td>9</td>\n",
       "      <td>0.748766</td>\n",
       "      <td>1.404328</td>\n",
       "      <td>1.841081</td>\n",
       "    </tr>\n",
       "    <tr>\n",
       "      <th>19</th>\n",
       "      <td>Offense</td>\n",
       "      <td>F</td>\n",
       "      <td>vs Lugano</td>\n",
       "      <td>8836</td>\n",
       "      <td>2595</td>\n",
       "      <td>609</td>\n",
       "      <td>1465</td>\n",
       "      <td>40.73</td>\n",
       "      <td>20</td>\n",
       "      <td>0.810049</td>\n",
       "      <td>1.443519</td>\n",
       "      <td>1.864571</td>\n",
       "    </tr>\n",
       "    <tr>\n",
       "      <th>4</th>\n",
       "      <td>Defense</td>\n",
       "      <td>D</td>\n",
       "      <td>vs Lugano</td>\n",
       "      <td>8836</td>\n",
       "      <td>354</td>\n",
       "      <td>92</td>\n",
       "      <td>179</td>\n",
       "      <td>44.95</td>\n",
       "      <td>5</td>\n",
       "      <td>0.932617</td>\n",
       "      <td>1.448679</td>\n",
       "      <td>1.867663</td>\n",
       "    </tr>\n",
       "    <tr>\n",
       "      <th>18</th>\n",
       "      <td>Offense</td>\n",
       "      <td>F</td>\n",
       "      <td>vs Lugano</td>\n",
       "      <td>8836</td>\n",
       "      <td>4039</td>\n",
       "      <td>1034</td>\n",
       "      <td>2047</td>\n",
       "      <td>41.40</td>\n",
       "      <td>19</td>\n",
       "      <td>0.829509</td>\n",
       "      <td>1.453339</td>\n",
       "      <td>1.870456</td>\n",
       "    </tr>\n",
       "    <tr>\n",
       "      <th>5</th>\n",
       "      <td>Defense</td>\n",
       "      <td>D</td>\n",
       "      <td>vs Lugano</td>\n",
       "      <td>8836</td>\n",
       "      <td>5087</td>\n",
       "      <td>1360</td>\n",
       "      <td>2501</td>\n",
       "      <td>41.27</td>\n",
       "      <td>6</td>\n",
       "      <td>0.825733</td>\n",
       "      <td>1.471295</td>\n",
       "      <td>1.881218</td>\n",
       "    </tr>\n",
       "    <tr>\n",
       "      <th>0</th>\n",
       "      <td>Defense</td>\n",
       "      <td>D</td>\n",
       "      <td>vs Lugano</td>\n",
       "      <td>8836</td>\n",
       "      <td>3163</td>\n",
       "      <td>1038</td>\n",
       "      <td>1287</td>\n",
       "      <td>45.94</td>\n",
       "      <td>1</td>\n",
       "      <td>0.961371</td>\n",
       "      <td>1.485737</td>\n",
       "      <td>1.889874</td>\n",
       "    </tr>\n",
       "    <tr>\n",
       "      <th>16</th>\n",
       "      <td>Offense</td>\n",
       "      <td>F</td>\n",
       "      <td>vs Lugano</td>\n",
       "      <td>8836</td>\n",
       "      <td>4759</td>\n",
       "      <td>1177</td>\n",
       "      <td>2489</td>\n",
       "      <td>42.51</td>\n",
       "      <td>17</td>\n",
       "      <td>0.861748</td>\n",
       "      <td>1.517963</td>\n",
       "      <td>1.909189</td>\n",
       "    </tr>\n",
       "    <tr>\n",
       "      <th>17</th>\n",
       "      <td>Offense</td>\n",
       "      <td>F</td>\n",
       "      <td>vs Lugano</td>\n",
       "      <td>8836</td>\n",
       "      <td>2621</td>\n",
       "      <td>732</td>\n",
       "      <td>1279</td>\n",
       "      <td>45.50</td>\n",
       "      <td>18</td>\n",
       "      <td>0.948591</td>\n",
       "      <td>1.519416</td>\n",
       "      <td>1.910060</td>\n",
       "    </tr>\n",
       "    <tr>\n",
       "      <th>9</th>\n",
       "      <td>Defense</td>\n",
       "      <td>D</td>\n",
       "      <td>vs Lugano</td>\n",
       "      <td>8836</td>\n",
       "      <td>4383</td>\n",
       "      <td>1307</td>\n",
       "      <td>1913</td>\n",
       "      <td>45.25</td>\n",
       "      <td>10</td>\n",
       "      <td>0.941330</td>\n",
       "      <td>1.525707</td>\n",
       "      <td>1.913831</td>\n",
       "    </tr>\n",
       "    <tr>\n",
       "      <th>12</th>\n",
       "      <td>Defense</td>\n",
       "      <td>F</td>\n",
       "      <td>vs Lugano</td>\n",
       "      <td>8836</td>\n",
       "      <td>3498</td>\n",
       "      <td>936</td>\n",
       "      <td>1689</td>\n",
       "      <td>45.32</td>\n",
       "      <td>13</td>\n",
       "      <td>0.943363</td>\n",
       "      <td>1.532141</td>\n",
       "      <td>1.917687</td>\n",
       "    </tr>\n",
       "    <tr>\n",
       "      <th>3</th>\n",
       "      <td>Offense</td>\n",
       "      <td>F</td>\n",
       "      <td>vs Lugano</td>\n",
       "      <td>8836</td>\n",
       "      <td>3881</td>\n",
       "      <td>1043</td>\n",
       "      <td>1956</td>\n",
       "      <td>44.38</td>\n",
       "      <td>4</td>\n",
       "      <td>0.916062</td>\n",
       "      <td>1.538095</td>\n",
       "      <td>1.921256</td>\n",
       "    </tr>\n",
       "    <tr>\n",
       "      <th>1</th>\n",
       "      <td>Offense</td>\n",
       "      <td>F</td>\n",
       "      <td>vs Lugano</td>\n",
       "      <td>8836</td>\n",
       "      <td>2881</td>\n",
       "      <td>689</td>\n",
       "      <td>1724</td>\n",
       "      <td>42.85</td>\n",
       "      <td>2</td>\n",
       "      <td>0.871624</td>\n",
       "      <td>1.548003</td>\n",
       "      <td>1.927194</td>\n",
       "    </tr>\n",
       "    <tr>\n",
       "      <th>15</th>\n",
       "      <td>Offense</td>\n",
       "      <td>F</td>\n",
       "      <td>vs Lugano</td>\n",
       "      <td>8836</td>\n",
       "      <td>3174</td>\n",
       "      <td>823</td>\n",
       "      <td>1764</td>\n",
       "      <td>43.83</td>\n",
       "      <td>16</td>\n",
       "      <td>0.900087</td>\n",
       "      <td>1.548994</td>\n",
       "      <td>1.927788</td>\n",
       "    </tr>\n",
       "    <tr>\n",
       "      <th>20</th>\n",
       "      <td>Offense</td>\n",
       "      <td>F</td>\n",
       "      <td>vs Lugano</td>\n",
       "      <td>8836</td>\n",
       "      <td>2278</td>\n",
       "      <td>545</td>\n",
       "      <td>1263</td>\n",
       "      <td>47.27</td>\n",
       "      <td>21</td>\n",
       "      <td>1.000000</td>\n",
       "      <td>1.616113</td>\n",
       "      <td>1.968016</td>\n",
       "    </tr>\n",
       "    <tr>\n",
       "      <th>7</th>\n",
       "      <td>Offense</td>\n",
       "      <td>F</td>\n",
       "      <td>vs Lugano</td>\n",
       "      <td>8836</td>\n",
       "      <td>4683</td>\n",
       "      <td>1162</td>\n",
       "      <td>2758</td>\n",
       "      <td>44.56</td>\n",
       "      <td>8</td>\n",
       "      <td>0.921290</td>\n",
       "      <td>1.641736</td>\n",
       "      <td>1.983373</td>\n",
       "    </tr>\n",
       "    <tr>\n",
       "      <th>2</th>\n",
       "      <td>Offense</td>\n",
       "      <td>F</td>\n",
       "      <td>vs Lugano</td>\n",
       "      <td>8836</td>\n",
       "      <td>3586</td>\n",
       "      <td>932</td>\n",
       "      <td>2090</td>\n",
       "      <td>46.12</td>\n",
       "      <td>3</td>\n",
       "      <td>0.966599</td>\n",
       "      <td>1.654899</td>\n",
       "      <td>1.991262</td>\n",
       "    </tr>\n",
       "    <tr>\n",
       "      <th>10</th>\n",
       "      <td>Offense</td>\n",
       "      <td>F</td>\n",
       "      <td>vs Lugano</td>\n",
       "      <td>8836</td>\n",
       "      <td>4935</td>\n",
       "      <td>1070</td>\n",
       "      <td>3228</td>\n",
       "      <td>43.63</td>\n",
       "      <td>11</td>\n",
       "      <td>0.894278</td>\n",
       "      <td>1.669477</td>\n",
       "      <td>2.000000</td>\n",
       "    </tr>\n",
       "  </tbody>\n",
       "</table>\n",
       "</div>"
      ],
      "text/plain": [
       "   Group name    Position Description  Duration (s)  Distance (m)  \\\n",
       "13    Offense           F   vs Lugano          8836            21   \n",
       "6     Goalies  Goalkeeper   vs Lugano          8836          1066   \n",
       "11    Defense           D   vs Lugano          8836          4771   \n",
       "14    Defense           D   vs Lugano          8836          5223   \n",
       "8     Offense           F   vs Lugano          8836          4009   \n",
       "19    Offense           F   vs Lugano          8836          2595   \n",
       "4     Defense           D   vs Lugano          8836           354   \n",
       "18    Offense           F   vs Lugano          8836          4039   \n",
       "5     Defense           D   vs Lugano          8836          5087   \n",
       "0     Defense           D   vs Lugano          8836          3163   \n",
       "16    Offense           F   vs Lugano          8836          4759   \n",
       "17    Offense           F   vs Lugano          8836          2621   \n",
       "9     Defense           D   vs Lugano          8836          4383   \n",
       "12    Defense           F   vs Lugano          8836          3498   \n",
       "3     Offense           F   vs Lugano          8836          3881   \n",
       "1     Offense           F   vs Lugano          8836          2881   \n",
       "15    Offense           F   vs Lugano          8836          3174   \n",
       "20    Offense           F   vs Lugano          8836          2278   \n",
       "7     Offense           F   vs Lugano          8836          4683   \n",
       "2     Offense           F   vs Lugano          8836          3586   \n",
       "10    Offense           F   vs Lugano          8836          4935   \n",
       "\n",
       "    Time on Ice (s)  High Metabolic Power Distance (m)  Mechanical Intensity  \\\n",
       "13                9                                  0                 12.84   \n",
       "6              4007                                  7                 19.29   \n",
       "11             1396                               1499                 29.33   \n",
       "14             1485                               2555                 38.53   \n",
       "8              1239                               2066                 38.62   \n",
       "19              609                               1465                 40.73   \n",
       "4                92                                179                 44.95   \n",
       "18             1034                               2047                 41.40   \n",
       "5              1360                               2501                 41.27   \n",
       "0              1038                               1287                 45.94   \n",
       "16             1177                               2489                 42.51   \n",
       "17              732                               1279                 45.50   \n",
       "9              1307                               1913                 45.25   \n",
       "12              936                               1689                 45.32   \n",
       "3              1043                               1956                 44.38   \n",
       "1               689                               1724                 42.85   \n",
       "15              823                               1764                 43.83   \n",
       "20              545                               1263                 47.27   \n",
       "7              1162                               2758                 44.56   \n",
       "2               932                               2090                 46.12   \n",
       "10             1070                               3228                 43.63   \n",
       "\n",
       "    Player ID  Normalized Mechanical Intensity  Fatigue Index  \\\n",
       "13         14                         0.000000       0.001019   \n",
       "6           7                         0.187337       0.647389   \n",
       "11         12                         0.478943       0.951123   \n",
       "14         15                         0.746152       1.403397   \n",
       "8           9                         0.748766       1.404328   \n",
       "19         20                         0.810049       1.443519   \n",
       "4           5                         0.932617       1.448679   \n",
       "18         19                         0.829509       1.453339   \n",
       "5           6                         0.825733       1.471295   \n",
       "0           1                         0.961371       1.485737   \n",
       "16         17                         0.861748       1.517963   \n",
       "17         18                         0.948591       1.519416   \n",
       "9          10                         0.941330       1.525707   \n",
       "12         13                         0.943363       1.532141   \n",
       "3           4                         0.916062       1.538095   \n",
       "1           2                         0.871624       1.548003   \n",
       "15         16                         0.900087       1.548994   \n",
       "20         21                         1.000000       1.616113   \n",
       "7           8                         0.921290       1.641736   \n",
       "2           3                         0.966599       1.654899   \n",
       "10         11                         0.894278       1.669477   \n",
       "\n",
       "    Normalized Fatigue Index  \n",
       "13                  1.000000  \n",
       "6                   1.387406  \n",
       "11                  1.569450  \n",
       "14                  1.840523  \n",
       "8                   1.841081  \n",
       "19                  1.864571  \n",
       "4                   1.867663  \n",
       "18                  1.870456  \n",
       "5                   1.881218  \n",
       "0                   1.889874  \n",
       "16                  1.909189  \n",
       "17                  1.910060  \n",
       "9                   1.913831  \n",
       "12                  1.917687  \n",
       "3                   1.921256  \n",
       "1                   1.927194  \n",
       "15                  1.927788  \n",
       "20                  1.968016  \n",
       "7                   1.983373  \n",
       "2                   1.991262  \n",
       "10                  2.000000  "
      ]
     },
     "execution_count": 117,
     "metadata": {},
     "output_type": "execute_result"
    }
   ],
   "source": [
    "# 1. Compute the intermediate fatigue index for each row\n",
    "df_imp_lugano_game[\"Fatigue Index\"] = df_imp_lugano_game.apply(fatigue_index, axis=1)\n",
    "\n",
    "# 2. Normalize the fatigue index\n",
    "min_fatigue = df_imp_lugano_game[\"Fatigue Index\"].min()\n",
    "max_fatigue = df_imp_lugano_game[\"Fatigue Index\"].max()\n",
    "\n",
    "# +1 to make sure the values are between 1 and 2\n",
    "df_imp_lugano_game[\"Normalized Fatigue Index\"] = (\n",
    "    df_imp_lugano_game[\"Fatigue Index\"] - min_fatigue\n",
    ") / (max_fatigue - min_fatigue) + 1\n",
    "\n",
    "# Sort the dataframe by the final fatigue index in descending order\n",
    "# This will give us the most fatigued player at the top and the least fatigued player at the bottom\n",
    "\n",
    "df_imp_lugano_game_sorted = df_imp_lugano_game.sort_values(\n",
    "    by=\"Normalized Fatigue Index\", ascending=True\n",
    ")\n",
    "\n",
    "df_imp_lugano_game_sorted"
   ]
  },
  {
   "cell_type": "markdown",
   "metadata": {},
   "source": [
    "#### CREATE FUNCTION TO CALCULATE THE FATIGUE INDEX FOR EACH PLAYER\n"
   ]
  },
  {
   "cell_type": "markdown",
   "metadata": {},
   "source": [
    "#### COLOR CATEGORIZATION OF FATIGUE LEVELS\n"
   ]
  },
  {
   "cell_type": "code",
   "execution_count": 118,
   "metadata": {},
   "outputs": [
    {
     "data": {
      "text/html": [
       "<div>\n",
       "<style scoped>\n",
       "    .dataframe tbody tr th:only-of-type {\n",
       "        vertical-align: middle;\n",
       "    }\n",
       "\n",
       "    .dataframe tbody tr th {\n",
       "        vertical-align: top;\n",
       "    }\n",
       "\n",
       "    .dataframe thead th {\n",
       "        text-align: right;\n",
       "    }\n",
       "</style>\n",
       "<table border=\"1\" class=\"dataframe\">\n",
       "  <thead>\n",
       "    <tr style=\"text-align: right;\">\n",
       "      <th></th>\n",
       "      <th>Group name</th>\n",
       "      <th>Position</th>\n",
       "      <th>Description</th>\n",
       "      <th>Duration (s)</th>\n",
       "      <th>Distance (m)</th>\n",
       "      <th>Time on Ice (s)</th>\n",
       "      <th>High Metabolic Power Distance (m)</th>\n",
       "      <th>Mechanical Intensity</th>\n",
       "      <th>Player ID</th>\n",
       "      <th>Normalized Mechanical Intensity</th>\n",
       "      <th>Fatigue Index</th>\n",
       "      <th>Normalized Fatigue Index</th>\n",
       "      <th>Fatigue Category</th>\n",
       "    </tr>\n",
       "  </thead>\n",
       "  <tbody>\n",
       "    <tr>\n",
       "      <th>13</th>\n",
       "      <td>Offense</td>\n",
       "      <td>F</td>\n",
       "      <td>vs Lugano</td>\n",
       "      <td>8836</td>\n",
       "      <td>21</td>\n",
       "      <td>9</td>\n",
       "      <td>0</td>\n",
       "      <td>12.84</td>\n",
       "      <td>14</td>\n",
       "      <td>0.000000</td>\n",
       "      <td>0.001019</td>\n",
       "      <td>1.000000</td>\n",
       "      <td>Low</td>\n",
       "    </tr>\n",
       "    <tr>\n",
       "      <th>6</th>\n",
       "      <td>Goalies</td>\n",
       "      <td>Goalkeeper</td>\n",
       "      <td>vs Lugano</td>\n",
       "      <td>8836</td>\n",
       "      <td>1066</td>\n",
       "      <td>4007</td>\n",
       "      <td>7</td>\n",
       "      <td>19.29</td>\n",
       "      <td>7</td>\n",
       "      <td>0.187337</td>\n",
       "      <td>0.647389</td>\n",
       "      <td>1.387406</td>\n",
       "      <td>Low</td>\n",
       "    </tr>\n",
       "    <tr>\n",
       "      <th>11</th>\n",
       "      <td>Defense</td>\n",
       "      <td>D</td>\n",
       "      <td>vs Lugano</td>\n",
       "      <td>8836</td>\n",
       "      <td>4771</td>\n",
       "      <td>1396</td>\n",
       "      <td>1499</td>\n",
       "      <td>29.33</td>\n",
       "      <td>12</td>\n",
       "      <td>0.478943</td>\n",
       "      <td>0.951123</td>\n",
       "      <td>1.569450</td>\n",
       "      <td>Low</td>\n",
       "    </tr>\n",
       "    <tr>\n",
       "      <th>14</th>\n",
       "      <td>Defense</td>\n",
       "      <td>D</td>\n",
       "      <td>vs Lugano</td>\n",
       "      <td>8836</td>\n",
       "      <td>5223</td>\n",
       "      <td>1485</td>\n",
       "      <td>2555</td>\n",
       "      <td>38.53</td>\n",
       "      <td>15</td>\n",
       "      <td>0.746152</td>\n",
       "      <td>1.403397</td>\n",
       "      <td>1.840523</td>\n",
       "      <td>Medium</td>\n",
       "    </tr>\n",
       "    <tr>\n",
       "      <th>8</th>\n",
       "      <td>Offense</td>\n",
       "      <td>F</td>\n",
       "      <td>vs Lugano</td>\n",
       "      <td>8836</td>\n",
       "      <td>4009</td>\n",
       "      <td>1239</td>\n",
       "      <td>2066</td>\n",
       "      <td>38.62</td>\n",
       "      <td>9</td>\n",
       "      <td>0.748766</td>\n",
       "      <td>1.404328</td>\n",
       "      <td>1.841081</td>\n",
       "      <td>Medium</td>\n",
       "    </tr>\n",
       "    <tr>\n",
       "      <th>19</th>\n",
       "      <td>Offense</td>\n",
       "      <td>F</td>\n",
       "      <td>vs Lugano</td>\n",
       "      <td>8836</td>\n",
       "      <td>2595</td>\n",
       "      <td>609</td>\n",
       "      <td>1465</td>\n",
       "      <td>40.73</td>\n",
       "      <td>20</td>\n",
       "      <td>0.810049</td>\n",
       "      <td>1.443519</td>\n",
       "      <td>1.864571</td>\n",
       "      <td>Medium</td>\n",
       "    </tr>\n",
       "    <tr>\n",
       "      <th>4</th>\n",
       "      <td>Defense</td>\n",
       "      <td>D</td>\n",
       "      <td>vs Lugano</td>\n",
       "      <td>8836</td>\n",
       "      <td>354</td>\n",
       "      <td>92</td>\n",
       "      <td>179</td>\n",
       "      <td>44.95</td>\n",
       "      <td>5</td>\n",
       "      <td>0.932617</td>\n",
       "      <td>1.448679</td>\n",
       "      <td>1.867663</td>\n",
       "      <td>Medium</td>\n",
       "    </tr>\n",
       "    <tr>\n",
       "      <th>18</th>\n",
       "      <td>Offense</td>\n",
       "      <td>F</td>\n",
       "      <td>vs Lugano</td>\n",
       "      <td>8836</td>\n",
       "      <td>4039</td>\n",
       "      <td>1034</td>\n",
       "      <td>2047</td>\n",
       "      <td>41.40</td>\n",
       "      <td>19</td>\n",
       "      <td>0.829509</td>\n",
       "      <td>1.453339</td>\n",
       "      <td>1.870456</td>\n",
       "      <td>Medium</td>\n",
       "    </tr>\n",
       "    <tr>\n",
       "      <th>5</th>\n",
       "      <td>Defense</td>\n",
       "      <td>D</td>\n",
       "      <td>vs Lugano</td>\n",
       "      <td>8836</td>\n",
       "      <td>5087</td>\n",
       "      <td>1360</td>\n",
       "      <td>2501</td>\n",
       "      <td>41.27</td>\n",
       "      <td>6</td>\n",
       "      <td>0.825733</td>\n",
       "      <td>1.471295</td>\n",
       "      <td>1.881218</td>\n",
       "      <td>Medium</td>\n",
       "    </tr>\n",
       "    <tr>\n",
       "      <th>0</th>\n",
       "      <td>Defense</td>\n",
       "      <td>D</td>\n",
       "      <td>vs Lugano</td>\n",
       "      <td>8836</td>\n",
       "      <td>3163</td>\n",
       "      <td>1038</td>\n",
       "      <td>1287</td>\n",
       "      <td>45.94</td>\n",
       "      <td>1</td>\n",
       "      <td>0.961371</td>\n",
       "      <td>1.485737</td>\n",
       "      <td>1.889874</td>\n",
       "      <td>Medium</td>\n",
       "    </tr>\n",
       "    <tr>\n",
       "      <th>16</th>\n",
       "      <td>Offense</td>\n",
       "      <td>F</td>\n",
       "      <td>vs Lugano</td>\n",
       "      <td>8836</td>\n",
       "      <td>4759</td>\n",
       "      <td>1177</td>\n",
       "      <td>2489</td>\n",
       "      <td>42.51</td>\n",
       "      <td>17</td>\n",
       "      <td>0.861748</td>\n",
       "      <td>1.517963</td>\n",
       "      <td>1.909189</td>\n",
       "      <td>Medium</td>\n",
       "    </tr>\n",
       "    <tr>\n",
       "      <th>17</th>\n",
       "      <td>Offense</td>\n",
       "      <td>F</td>\n",
       "      <td>vs Lugano</td>\n",
       "      <td>8836</td>\n",
       "      <td>2621</td>\n",
       "      <td>732</td>\n",
       "      <td>1279</td>\n",
       "      <td>45.50</td>\n",
       "      <td>18</td>\n",
       "      <td>0.948591</td>\n",
       "      <td>1.519416</td>\n",
       "      <td>1.910060</td>\n",
       "      <td>Medium</td>\n",
       "    </tr>\n",
       "    <tr>\n",
       "      <th>9</th>\n",
       "      <td>Defense</td>\n",
       "      <td>D</td>\n",
       "      <td>vs Lugano</td>\n",
       "      <td>8836</td>\n",
       "      <td>4383</td>\n",
       "      <td>1307</td>\n",
       "      <td>1913</td>\n",
       "      <td>45.25</td>\n",
       "      <td>10</td>\n",
       "      <td>0.941330</td>\n",
       "      <td>1.525707</td>\n",
       "      <td>1.913831</td>\n",
       "      <td>Medium</td>\n",
       "    </tr>\n",
       "    <tr>\n",
       "      <th>12</th>\n",
       "      <td>Defense</td>\n",
       "      <td>F</td>\n",
       "      <td>vs Lugano</td>\n",
       "      <td>8836</td>\n",
       "      <td>3498</td>\n",
       "      <td>936</td>\n",
       "      <td>1689</td>\n",
       "      <td>45.32</td>\n",
       "      <td>13</td>\n",
       "      <td>0.943363</td>\n",
       "      <td>1.532141</td>\n",
       "      <td>1.917687</td>\n",
       "      <td>Medium</td>\n",
       "    </tr>\n",
       "    <tr>\n",
       "      <th>3</th>\n",
       "      <td>Offense</td>\n",
       "      <td>F</td>\n",
       "      <td>vs Lugano</td>\n",
       "      <td>8836</td>\n",
       "      <td>3881</td>\n",
       "      <td>1043</td>\n",
       "      <td>1956</td>\n",
       "      <td>44.38</td>\n",
       "      <td>4</td>\n",
       "      <td>0.916062</td>\n",
       "      <td>1.538095</td>\n",
       "      <td>1.921256</td>\n",
       "      <td>Medium</td>\n",
       "    </tr>\n",
       "    <tr>\n",
       "      <th>1</th>\n",
       "      <td>Offense</td>\n",
       "      <td>F</td>\n",
       "      <td>vs Lugano</td>\n",
       "      <td>8836</td>\n",
       "      <td>2881</td>\n",
       "      <td>689</td>\n",
       "      <td>1724</td>\n",
       "      <td>42.85</td>\n",
       "      <td>2</td>\n",
       "      <td>0.871624</td>\n",
       "      <td>1.548003</td>\n",
       "      <td>1.927194</td>\n",
       "      <td>Medium</td>\n",
       "    </tr>\n",
       "    <tr>\n",
       "      <th>15</th>\n",
       "      <td>Offense</td>\n",
       "      <td>F</td>\n",
       "      <td>vs Lugano</td>\n",
       "      <td>8836</td>\n",
       "      <td>3174</td>\n",
       "      <td>823</td>\n",
       "      <td>1764</td>\n",
       "      <td>43.83</td>\n",
       "      <td>16</td>\n",
       "      <td>0.900087</td>\n",
       "      <td>1.548994</td>\n",
       "      <td>1.927788</td>\n",
       "      <td>Medium</td>\n",
       "    </tr>\n",
       "    <tr>\n",
       "      <th>20</th>\n",
       "      <td>Offense</td>\n",
       "      <td>F</td>\n",
       "      <td>vs Lugano</td>\n",
       "      <td>8836</td>\n",
       "      <td>2278</td>\n",
       "      <td>545</td>\n",
       "      <td>1263</td>\n",
       "      <td>47.27</td>\n",
       "      <td>21</td>\n",
       "      <td>1.000000</td>\n",
       "      <td>1.616113</td>\n",
       "      <td>1.968016</td>\n",
       "      <td>High</td>\n",
       "    </tr>\n",
       "    <tr>\n",
       "      <th>7</th>\n",
       "      <td>Offense</td>\n",
       "      <td>F</td>\n",
       "      <td>vs Lugano</td>\n",
       "      <td>8836</td>\n",
       "      <td>4683</td>\n",
       "      <td>1162</td>\n",
       "      <td>2758</td>\n",
       "      <td>44.56</td>\n",
       "      <td>8</td>\n",
       "      <td>0.921290</td>\n",
       "      <td>1.641736</td>\n",
       "      <td>1.983373</td>\n",
       "      <td>High</td>\n",
       "    </tr>\n",
       "    <tr>\n",
       "      <th>2</th>\n",
       "      <td>Offense</td>\n",
       "      <td>F</td>\n",
       "      <td>vs Lugano</td>\n",
       "      <td>8836</td>\n",
       "      <td>3586</td>\n",
       "      <td>932</td>\n",
       "      <td>2090</td>\n",
       "      <td>46.12</td>\n",
       "      <td>3</td>\n",
       "      <td>0.966599</td>\n",
       "      <td>1.654899</td>\n",
       "      <td>1.991262</td>\n",
       "      <td>High</td>\n",
       "    </tr>\n",
       "    <tr>\n",
       "      <th>10</th>\n",
       "      <td>Offense</td>\n",
       "      <td>F</td>\n",
       "      <td>vs Lugano</td>\n",
       "      <td>8836</td>\n",
       "      <td>4935</td>\n",
       "      <td>1070</td>\n",
       "      <td>3228</td>\n",
       "      <td>43.63</td>\n",
       "      <td>11</td>\n",
       "      <td>0.894278</td>\n",
       "      <td>1.669477</td>\n",
       "      <td>2.000000</td>\n",
       "      <td>High</td>\n",
       "    </tr>\n",
       "  </tbody>\n",
       "</table>\n",
       "</div>"
      ],
      "text/plain": [
       "   Group name    Position Description  Duration (s)  Distance (m)  \\\n",
       "13    Offense           F   vs Lugano          8836            21   \n",
       "6     Goalies  Goalkeeper   vs Lugano          8836          1066   \n",
       "11    Defense           D   vs Lugano          8836          4771   \n",
       "14    Defense           D   vs Lugano          8836          5223   \n",
       "8     Offense           F   vs Lugano          8836          4009   \n",
       "19    Offense           F   vs Lugano          8836          2595   \n",
       "4     Defense           D   vs Lugano          8836           354   \n",
       "18    Offense           F   vs Lugano          8836          4039   \n",
       "5     Defense           D   vs Lugano          8836          5087   \n",
       "0     Defense           D   vs Lugano          8836          3163   \n",
       "16    Offense           F   vs Lugano          8836          4759   \n",
       "17    Offense           F   vs Lugano          8836          2621   \n",
       "9     Defense           D   vs Lugano          8836          4383   \n",
       "12    Defense           F   vs Lugano          8836          3498   \n",
       "3     Offense           F   vs Lugano          8836          3881   \n",
       "1     Offense           F   vs Lugano          8836          2881   \n",
       "15    Offense           F   vs Lugano          8836          3174   \n",
       "20    Offense           F   vs Lugano          8836          2278   \n",
       "7     Offense           F   vs Lugano          8836          4683   \n",
       "2     Offense           F   vs Lugano          8836          3586   \n",
       "10    Offense           F   vs Lugano          8836          4935   \n",
       "\n",
       "    Time on Ice (s)  High Metabolic Power Distance (m)  Mechanical Intensity  \\\n",
       "13                9                                  0                 12.84   \n",
       "6              4007                                  7                 19.29   \n",
       "11             1396                               1499                 29.33   \n",
       "14             1485                               2555                 38.53   \n",
       "8              1239                               2066                 38.62   \n",
       "19              609                               1465                 40.73   \n",
       "4                92                                179                 44.95   \n",
       "18             1034                               2047                 41.40   \n",
       "5              1360                               2501                 41.27   \n",
       "0              1038                               1287                 45.94   \n",
       "16             1177                               2489                 42.51   \n",
       "17              732                               1279                 45.50   \n",
       "9              1307                               1913                 45.25   \n",
       "12              936                               1689                 45.32   \n",
       "3              1043                               1956                 44.38   \n",
       "1               689                               1724                 42.85   \n",
       "15              823                               1764                 43.83   \n",
       "20              545                               1263                 47.27   \n",
       "7              1162                               2758                 44.56   \n",
       "2               932                               2090                 46.12   \n",
       "10             1070                               3228                 43.63   \n",
       "\n",
       "    Player ID  Normalized Mechanical Intensity  Fatigue Index  \\\n",
       "13         14                         0.000000       0.001019   \n",
       "6           7                         0.187337       0.647389   \n",
       "11         12                         0.478943       0.951123   \n",
       "14         15                         0.746152       1.403397   \n",
       "8           9                         0.748766       1.404328   \n",
       "19         20                         0.810049       1.443519   \n",
       "4           5                         0.932617       1.448679   \n",
       "18         19                         0.829509       1.453339   \n",
       "5           6                         0.825733       1.471295   \n",
       "0           1                         0.961371       1.485737   \n",
       "16         17                         0.861748       1.517963   \n",
       "17         18                         0.948591       1.519416   \n",
       "9          10                         0.941330       1.525707   \n",
       "12         13                         0.943363       1.532141   \n",
       "3           4                         0.916062       1.538095   \n",
       "1           2                         0.871624       1.548003   \n",
       "15         16                         0.900087       1.548994   \n",
       "20         21                         1.000000       1.616113   \n",
       "7           8                         0.921290       1.641736   \n",
       "2           3                         0.966599       1.654899   \n",
       "10         11                         0.894278       1.669477   \n",
       "\n",
       "    Normalized Fatigue Index Fatigue Category  \n",
       "13                  1.000000              Low  \n",
       "6                   1.387406              Low  \n",
       "11                  1.569450              Low  \n",
       "14                  1.840523           Medium  \n",
       "8                   1.841081           Medium  \n",
       "19                  1.864571           Medium  \n",
       "4                   1.867663           Medium  \n",
       "18                  1.870456           Medium  \n",
       "5                   1.881218           Medium  \n",
       "0                   1.889874           Medium  \n",
       "16                  1.909189           Medium  \n",
       "17                  1.910060           Medium  \n",
       "9                   1.913831           Medium  \n",
       "12                  1.917687           Medium  \n",
       "3                   1.921256           Medium  \n",
       "1                   1.927194           Medium  \n",
       "15                  1.927788           Medium  \n",
       "20                  1.968016             High  \n",
       "7                   1.983373             High  \n",
       "2                   1.991262             High  \n",
       "10                  2.000000             High  "
      ]
     },
     "execution_count": 118,
     "metadata": {},
     "output_type": "execute_result"
    }
   ],
   "source": [
    "# MANUAL THRESHOLD BASED CATEGORIZATION OF FATIGUE INDEX\n",
    "\n",
    "# Fixed thresholds\n",
    "high_threshold = 1.57\n",
    "low_threshold = 1\n",
    "\n",
    "\n",
    "# Categorize values based on manual thresholds\n",
    "df_imp_lugano_game_sorted[\"Fatigue Category\"] = pd.cut(\n",
    "    df_imp_lugano_game_sorted[\"Fatigue Index\"],\n",
    "    [0, low_threshold, high_threshold, 2],  # Explicitly using 2 as max value\n",
    "    labels=[\"Low\", \"Medium\", \"High\"],\n",
    "    include_lowest=True,\n",
    ")\n",
    "\n",
    "# Display the results\n",
    "\n",
    "df_imp_lugano_game_sorted.head(\n",
    "    21\n",
    ")  # [[\"Player ID\", \"Relative Fatigue Index\", \"Fatigue Category\"]]"
   ]
  },
  {
   "cell_type": "markdown",
   "metadata": {},
   "source": [
    "#### VISUALIZATION OF FATIGUE INDEX FOR EACH PLAYER\n"
   ]
  },
  {
   "cell_type": "code",
   "execution_count": 119,
   "metadata": {},
   "outputs": [
    {
     "name": "stderr",
     "output_type": "stream",
     "text": [
      "c:\\Users\\samue\\switchdrive\\SyncVM\\MscIds Course Materials\\3rd Semester\\Sport Data Analytics\\SDA-code\\ice-venv\\lib\\site-packages\\plotly\\express\\_core.py:2044: FutureWarning:\n",
      "\n",
      "The default of observed=False is deprecated and will be changed to True in a future version of pandas. Pass observed=False to retain current behavior or observed=True to adopt the future default and silence this warning.\n",
      "\n"
     ]
    },
    {
     "data": {
      "application/vnd.plotly.v1+json": {
       "config": {
        "plotlyServerURL": "https://plot.ly"
       },
       "data": [
        {
         "alignmentgroup": "True",
         "hovertemplate": "Fatigue Category=Low<br>Player ID=%{x}<br>Normalized Fatigue Index=%{y}<extra></extra>",
         "legendgroup": "Low",
         "marker": {
          "color": "#66FF66",
          "pattern": {
           "shape": ""
          }
         },
         "name": "Low",
         "offsetgroup": "Low",
         "orientation": "v",
         "showlegend": true,
         "textposition": "auto",
         "type": "bar",
         "x": [
          1,
          2,
          3
         ],
         "xaxis": "x",
         "y": [
          1,
          1.3874057344812365,
          1.5694502639718975
         ],
         "yaxis": "y"
        },
        {
         "alignmentgroup": "True",
         "hovertemplate": "Fatigue Category=Medium<br>Player ID=%{x}<br>Normalized Fatigue Index=%{y}<extra></extra>",
         "legendgroup": "Medium",
         "marker": {
          "color": "#FFFF66",
          "pattern": {
           "shape": ""
          }
         },
         "name": "Medium",
         "offsetgroup": "Medium",
         "orientation": "v",
         "showlegend": true,
         "textposition": "auto",
         "type": "bar",
         "x": [
          4,
          5,
          6,
          7,
          8,
          9,
          10,
          11,
          12,
          13,
          14,
          15,
          16,
          17
         ],
         "xaxis": "x",
         "y": [
          1.8405231211040713,
          1.841081342503566,
          1.8645708418748508,
          1.8676631580596932,
          1.8704564363882383,
          1.8812181661653207,
          1.8898743697988305,
          1.909188917558642,
          1.9100600004149786,
          1.9138305135520364,
          1.9176868161925227,
          1.9212555322520255,
          1.9271940369564242,
          1.927788025734889
         ],
         "yaxis": "y"
        },
        {
         "alignmentgroup": "True",
         "hovertemplate": "Fatigue Category=High<br>Player ID=%{x}<br>Normalized Fatigue Index=%{y}<extra></extra>",
         "legendgroup": "High",
         "marker": {
          "color": "#FF6666",
          "pattern": {
           "shape": ""
          }
         },
         "name": "High",
         "offsetgroup": "High",
         "orientation": "v",
         "showlegend": true,
         "textposition": "auto",
         "type": "bar",
         "x": [
          18,
          19,
          20,
          21
         ],
         "xaxis": "x",
         "y": [
          1.9680160464033196,
          1.9833730657711452,
          1.9912622739898316,
          2
         ],
         "yaxis": "y"
        }
       ],
       "layout": {
        "annotations": [
         {
          "font": {
           "color": "black",
           "size": 12
          },
          "showarrow": false,
          "text": "F",
          "x": 0,
          "xshift": 45,
          "y": 0.8
         },
         {
          "font": {
           "color": "black",
           "size": 12
          },
          "showarrow": false,
          "text": "Goalkeeper",
          "x": 1,
          "xshift": 45,
          "y": 0.8
         },
         {
          "font": {
           "color": "black",
           "size": 12
          },
          "showarrow": false,
          "text": "D",
          "x": 2,
          "xshift": 45,
          "y": 0.8
         },
         {
          "font": {
           "color": "black",
           "size": 12
          },
          "showarrow": false,
          "text": "D",
          "x": 3,
          "xshift": 45,
          "y": 0.8
         },
         {
          "font": {
           "color": "black",
           "size": 12
          },
          "showarrow": false,
          "text": "F",
          "x": 4,
          "xshift": 45,
          "y": 0.8
         },
         {
          "font": {
           "color": "black",
           "size": 12
          },
          "showarrow": false,
          "text": "F",
          "x": 5,
          "xshift": 45,
          "y": 0.8
         },
         {
          "font": {
           "color": "black",
           "size": 12
          },
          "showarrow": false,
          "text": "D",
          "x": 6,
          "xshift": 45,
          "y": 0.8
         },
         {
          "font": {
           "color": "black",
           "size": 12
          },
          "showarrow": false,
          "text": "F",
          "x": 7,
          "xshift": 45,
          "y": 0.8
         },
         {
          "font": {
           "color": "black",
           "size": 12
          },
          "showarrow": false,
          "text": "D",
          "x": 8,
          "xshift": 45,
          "y": 0.8
         },
         {
          "font": {
           "color": "black",
           "size": 12
          },
          "showarrow": false,
          "text": "D",
          "x": 9,
          "xshift": 45,
          "y": 0.8
         },
         {
          "font": {
           "color": "black",
           "size": 12
          },
          "showarrow": false,
          "text": "F",
          "x": 10,
          "xshift": 45,
          "y": 0.8
         },
         {
          "font": {
           "color": "black",
           "size": 12
          },
          "showarrow": false,
          "text": "F",
          "x": 11,
          "xshift": 45,
          "y": 0.8
         },
         {
          "font": {
           "color": "black",
           "size": 12
          },
          "showarrow": false,
          "text": "D",
          "x": 12,
          "xshift": 45,
          "y": 0.8
         },
         {
          "font": {
           "color": "black",
           "size": 12
          },
          "showarrow": false,
          "text": "F",
          "x": 13,
          "xshift": 45,
          "y": 0.8
         },
         {
          "font": {
           "color": "black",
           "size": 12
          },
          "showarrow": false,
          "text": "F",
          "x": 14,
          "xshift": 45,
          "y": 0.8
         },
         {
          "font": {
           "color": "black",
           "size": 12
          },
          "showarrow": false,
          "text": "F",
          "x": 15,
          "xshift": 45,
          "y": 0.8
         },
         {
          "font": {
           "color": "black",
           "size": 12
          },
          "showarrow": false,
          "text": "F",
          "x": 16,
          "xshift": 45,
          "y": 0.8
         },
         {
          "font": {
           "color": "black",
           "size": 12
          },
          "showarrow": false,
          "text": "F",
          "x": 17,
          "xshift": 45,
          "y": 0.8
         },
         {
          "font": {
           "color": "black",
           "size": 12
          },
          "showarrow": false,
          "text": "F",
          "x": 18,
          "xshift": 45,
          "y": 0.8
         },
         {
          "font": {
           "color": "black",
           "size": 12
          },
          "showarrow": false,
          "text": "F",
          "x": 19,
          "xshift": 45,
          "y": 0.8
         },
         {
          "font": {
           "color": "black",
           "size": 12
          },
          "showarrow": false,
          "text": "F",
          "x": 20,
          "xshift": 45,
          "y": 0.8
         }
        ],
        "barmode": "relative",
        "font": {
         "family": "Arial",
         "size": 14
        },
        "legend": {
         "bgcolor": "rgba(255,255,255,0.5)",
         "bordercolor": "black",
         "borderwidth": 1,
         "font": {
          "size": 12
         },
         "orientation": "h",
         "title": {
          "font": {
           "size": 14
          },
          "text": "Fatigue Category"
         },
         "tracegroupgap": 0,
         "x": 0.3,
         "y": 1
        },
        "template": {
         "data": {
          "bar": [
           {
            "error_x": {
             "color": "#2a3f5f"
            },
            "error_y": {
             "color": "#2a3f5f"
            },
            "marker": {
             "line": {
              "color": "#E5ECF6",
              "width": 0.5
             },
             "pattern": {
              "fillmode": "overlay",
              "size": 10,
              "solidity": 0.2
             }
            },
            "type": "bar"
           }
          ],
          "barpolar": [
           {
            "marker": {
             "line": {
              "color": "#E5ECF6",
              "width": 0.5
             },
             "pattern": {
              "fillmode": "overlay",
              "size": 10,
              "solidity": 0.2
             }
            },
            "type": "barpolar"
           }
          ],
          "carpet": [
           {
            "aaxis": {
             "endlinecolor": "#2a3f5f",
             "gridcolor": "white",
             "linecolor": "white",
             "minorgridcolor": "white",
             "startlinecolor": "#2a3f5f"
            },
            "baxis": {
             "endlinecolor": "#2a3f5f",
             "gridcolor": "white",
             "linecolor": "white",
             "minorgridcolor": "white",
             "startlinecolor": "#2a3f5f"
            },
            "type": "carpet"
           }
          ],
          "choropleth": [
           {
            "colorbar": {
             "outlinewidth": 0,
             "ticks": ""
            },
            "type": "choropleth"
           }
          ],
          "contour": [
           {
            "colorbar": {
             "outlinewidth": 0,
             "ticks": ""
            },
            "colorscale": [
             [
              0,
              "#0d0887"
             ],
             [
              0.1111111111111111,
              "#46039f"
             ],
             [
              0.2222222222222222,
              "#7201a8"
             ],
             [
              0.3333333333333333,
              "#9c179e"
             ],
             [
              0.4444444444444444,
              "#bd3786"
             ],
             [
              0.5555555555555556,
              "#d8576b"
             ],
             [
              0.6666666666666666,
              "#ed7953"
             ],
             [
              0.7777777777777778,
              "#fb9f3a"
             ],
             [
              0.8888888888888888,
              "#fdca26"
             ],
             [
              1,
              "#f0f921"
             ]
            ],
            "type": "contour"
           }
          ],
          "contourcarpet": [
           {
            "colorbar": {
             "outlinewidth": 0,
             "ticks": ""
            },
            "type": "contourcarpet"
           }
          ],
          "heatmap": [
           {
            "colorbar": {
             "outlinewidth": 0,
             "ticks": ""
            },
            "colorscale": [
             [
              0,
              "#0d0887"
             ],
             [
              0.1111111111111111,
              "#46039f"
             ],
             [
              0.2222222222222222,
              "#7201a8"
             ],
             [
              0.3333333333333333,
              "#9c179e"
             ],
             [
              0.4444444444444444,
              "#bd3786"
             ],
             [
              0.5555555555555556,
              "#d8576b"
             ],
             [
              0.6666666666666666,
              "#ed7953"
             ],
             [
              0.7777777777777778,
              "#fb9f3a"
             ],
             [
              0.8888888888888888,
              "#fdca26"
             ],
             [
              1,
              "#f0f921"
             ]
            ],
            "type": "heatmap"
           }
          ],
          "heatmapgl": [
           {
            "colorbar": {
             "outlinewidth": 0,
             "ticks": ""
            },
            "colorscale": [
             [
              0,
              "#0d0887"
             ],
             [
              0.1111111111111111,
              "#46039f"
             ],
             [
              0.2222222222222222,
              "#7201a8"
             ],
             [
              0.3333333333333333,
              "#9c179e"
             ],
             [
              0.4444444444444444,
              "#bd3786"
             ],
             [
              0.5555555555555556,
              "#d8576b"
             ],
             [
              0.6666666666666666,
              "#ed7953"
             ],
             [
              0.7777777777777778,
              "#fb9f3a"
             ],
             [
              0.8888888888888888,
              "#fdca26"
             ],
             [
              1,
              "#f0f921"
             ]
            ],
            "type": "heatmapgl"
           }
          ],
          "histogram": [
           {
            "marker": {
             "pattern": {
              "fillmode": "overlay",
              "size": 10,
              "solidity": 0.2
             }
            },
            "type": "histogram"
           }
          ],
          "histogram2d": [
           {
            "colorbar": {
             "outlinewidth": 0,
             "ticks": ""
            },
            "colorscale": [
             [
              0,
              "#0d0887"
             ],
             [
              0.1111111111111111,
              "#46039f"
             ],
             [
              0.2222222222222222,
              "#7201a8"
             ],
             [
              0.3333333333333333,
              "#9c179e"
             ],
             [
              0.4444444444444444,
              "#bd3786"
             ],
             [
              0.5555555555555556,
              "#d8576b"
             ],
             [
              0.6666666666666666,
              "#ed7953"
             ],
             [
              0.7777777777777778,
              "#fb9f3a"
             ],
             [
              0.8888888888888888,
              "#fdca26"
             ],
             [
              1,
              "#f0f921"
             ]
            ],
            "type": "histogram2d"
           }
          ],
          "histogram2dcontour": [
           {
            "colorbar": {
             "outlinewidth": 0,
             "ticks": ""
            },
            "colorscale": [
             [
              0,
              "#0d0887"
             ],
             [
              0.1111111111111111,
              "#46039f"
             ],
             [
              0.2222222222222222,
              "#7201a8"
             ],
             [
              0.3333333333333333,
              "#9c179e"
             ],
             [
              0.4444444444444444,
              "#bd3786"
             ],
             [
              0.5555555555555556,
              "#d8576b"
             ],
             [
              0.6666666666666666,
              "#ed7953"
             ],
             [
              0.7777777777777778,
              "#fb9f3a"
             ],
             [
              0.8888888888888888,
              "#fdca26"
             ],
             [
              1,
              "#f0f921"
             ]
            ],
            "type": "histogram2dcontour"
           }
          ],
          "mesh3d": [
           {
            "colorbar": {
             "outlinewidth": 0,
             "ticks": ""
            },
            "type": "mesh3d"
           }
          ],
          "parcoords": [
           {
            "line": {
             "colorbar": {
              "outlinewidth": 0,
              "ticks": ""
             }
            },
            "type": "parcoords"
           }
          ],
          "pie": [
           {
            "automargin": true,
            "type": "pie"
           }
          ],
          "scatter": [
           {
            "fillpattern": {
             "fillmode": "overlay",
             "size": 10,
             "solidity": 0.2
            },
            "type": "scatter"
           }
          ],
          "scatter3d": [
           {
            "line": {
             "colorbar": {
              "outlinewidth": 0,
              "ticks": ""
             }
            },
            "marker": {
             "colorbar": {
              "outlinewidth": 0,
              "ticks": ""
             }
            },
            "type": "scatter3d"
           }
          ],
          "scattercarpet": [
           {
            "marker": {
             "colorbar": {
              "outlinewidth": 0,
              "ticks": ""
             }
            },
            "type": "scattercarpet"
           }
          ],
          "scattergeo": [
           {
            "marker": {
             "colorbar": {
              "outlinewidth": 0,
              "ticks": ""
             }
            },
            "type": "scattergeo"
           }
          ],
          "scattergl": [
           {
            "marker": {
             "colorbar": {
              "outlinewidth": 0,
              "ticks": ""
             }
            },
            "type": "scattergl"
           }
          ],
          "scattermapbox": [
           {
            "marker": {
             "colorbar": {
              "outlinewidth": 0,
              "ticks": ""
             }
            },
            "type": "scattermapbox"
           }
          ],
          "scatterpolar": [
           {
            "marker": {
             "colorbar": {
              "outlinewidth": 0,
              "ticks": ""
             }
            },
            "type": "scatterpolar"
           }
          ],
          "scatterpolargl": [
           {
            "marker": {
             "colorbar": {
              "outlinewidth": 0,
              "ticks": ""
             }
            },
            "type": "scatterpolargl"
           }
          ],
          "scatterternary": [
           {
            "marker": {
             "colorbar": {
              "outlinewidth": 0,
              "ticks": ""
             }
            },
            "type": "scatterternary"
           }
          ],
          "surface": [
           {
            "colorbar": {
             "outlinewidth": 0,
             "ticks": ""
            },
            "colorscale": [
             [
              0,
              "#0d0887"
             ],
             [
              0.1111111111111111,
              "#46039f"
             ],
             [
              0.2222222222222222,
              "#7201a8"
             ],
             [
              0.3333333333333333,
              "#9c179e"
             ],
             [
              0.4444444444444444,
              "#bd3786"
             ],
             [
              0.5555555555555556,
              "#d8576b"
             ],
             [
              0.6666666666666666,
              "#ed7953"
             ],
             [
              0.7777777777777778,
              "#fb9f3a"
             ],
             [
              0.8888888888888888,
              "#fdca26"
             ],
             [
              1,
              "#f0f921"
             ]
            ],
            "type": "surface"
           }
          ],
          "table": [
           {
            "cells": {
             "fill": {
              "color": "#EBF0F8"
             },
             "line": {
              "color": "white"
             }
            },
            "header": {
             "fill": {
              "color": "#C8D4E3"
             },
             "line": {
              "color": "white"
             }
            },
            "type": "table"
           }
          ]
         },
         "layout": {
          "annotationdefaults": {
           "arrowcolor": "#2a3f5f",
           "arrowhead": 0,
           "arrowwidth": 1
          },
          "autotypenumbers": "strict",
          "coloraxis": {
           "colorbar": {
            "outlinewidth": 0,
            "ticks": ""
           }
          },
          "colorscale": {
           "diverging": [
            [
             0,
             "#8e0152"
            ],
            [
             0.1,
             "#c51b7d"
            ],
            [
             0.2,
             "#de77ae"
            ],
            [
             0.3,
             "#f1b6da"
            ],
            [
             0.4,
             "#fde0ef"
            ],
            [
             0.5,
             "#f7f7f7"
            ],
            [
             0.6,
             "#e6f5d0"
            ],
            [
             0.7,
             "#b8e186"
            ],
            [
             0.8,
             "#7fbc41"
            ],
            [
             0.9,
             "#4d9221"
            ],
            [
             1,
             "#276419"
            ]
           ],
           "sequential": [
            [
             0,
             "#0d0887"
            ],
            [
             0.1111111111111111,
             "#46039f"
            ],
            [
             0.2222222222222222,
             "#7201a8"
            ],
            [
             0.3333333333333333,
             "#9c179e"
            ],
            [
             0.4444444444444444,
             "#bd3786"
            ],
            [
             0.5555555555555556,
             "#d8576b"
            ],
            [
             0.6666666666666666,
             "#ed7953"
            ],
            [
             0.7777777777777778,
             "#fb9f3a"
            ],
            [
             0.8888888888888888,
             "#fdca26"
            ],
            [
             1,
             "#f0f921"
            ]
           ],
           "sequentialminus": [
            [
             0,
             "#0d0887"
            ],
            [
             0.1111111111111111,
             "#46039f"
            ],
            [
             0.2222222222222222,
             "#7201a8"
            ],
            [
             0.3333333333333333,
             "#9c179e"
            ],
            [
             0.4444444444444444,
             "#bd3786"
            ],
            [
             0.5555555555555556,
             "#d8576b"
            ],
            [
             0.6666666666666666,
             "#ed7953"
            ],
            [
             0.7777777777777778,
             "#fb9f3a"
            ],
            [
             0.8888888888888888,
             "#fdca26"
            ],
            [
             1,
             "#f0f921"
            ]
           ]
          },
          "colorway": [
           "#636efa",
           "#EF553B",
           "#00cc96",
           "#ab63fa",
           "#FFA15A",
           "#19d3f3",
           "#FF6692",
           "#B6E880",
           "#FF97FF",
           "#FECB52"
          ],
          "font": {
           "color": "#2a3f5f"
          },
          "geo": {
           "bgcolor": "white",
           "lakecolor": "white",
           "landcolor": "#E5ECF6",
           "showlakes": true,
           "showland": true,
           "subunitcolor": "white"
          },
          "hoverlabel": {
           "align": "left"
          },
          "hovermode": "closest",
          "mapbox": {
           "style": "light"
          },
          "paper_bgcolor": "white",
          "plot_bgcolor": "#E5ECF6",
          "polar": {
           "angularaxis": {
            "gridcolor": "white",
            "linecolor": "white",
            "ticks": ""
           },
           "bgcolor": "#E5ECF6",
           "radialaxis": {
            "gridcolor": "white",
            "linecolor": "white",
            "ticks": ""
           }
          },
          "scene": {
           "xaxis": {
            "backgroundcolor": "#E5ECF6",
            "gridcolor": "white",
            "gridwidth": 2,
            "linecolor": "white",
            "showbackground": true,
            "ticks": "",
            "zerolinecolor": "white"
           },
           "yaxis": {
            "backgroundcolor": "#E5ECF6",
            "gridcolor": "white",
            "gridwidth": 2,
            "linecolor": "white",
            "showbackground": true,
            "ticks": "",
            "zerolinecolor": "white"
           },
           "zaxis": {
            "backgroundcolor": "#E5ECF6",
            "gridcolor": "white",
            "gridwidth": 2,
            "linecolor": "white",
            "showbackground": true,
            "ticks": "",
            "zerolinecolor": "white"
           }
          },
          "shapedefaults": {
           "line": {
            "color": "#2a3f5f"
           }
          },
          "ternary": {
           "aaxis": {
            "gridcolor": "white",
            "linecolor": "white",
            "ticks": ""
           },
           "baxis": {
            "gridcolor": "white",
            "linecolor": "white",
            "ticks": ""
           },
           "bgcolor": "#E5ECF6",
           "caxis": {
            "gridcolor": "white",
            "linecolor": "white",
            "ticks": ""
           }
          },
          "title": {
           "x": 0.05
          },
          "xaxis": {
           "automargin": true,
           "gridcolor": "white",
           "linecolor": "white",
           "ticks": "",
           "title": {
            "standoff": 15
           },
           "zerolinecolor": "white",
           "zerolinewidth": 2
          },
          "yaxis": {
           "automargin": true,
           "gridcolor": "white",
           "linecolor": "white",
           "ticks": "",
           "title": {
            "standoff": 15
           },
           "zerolinecolor": "white",
           "zerolinewidth": 2
          }
         }
        },
        "title": {
         "text": "Normalized Fatigue Index of Players"
        },
        "xaxis": {
         "anchor": "y",
         "domain": [
          0,
          1
         ],
         "tickfont": {
          "size": 12
         },
         "tickvals": [
          1,
          2,
          3,
          4,
          5,
          6,
          7,
          8,
          9,
          10,
          11,
          12,
          13,
          14,
          15,
          16,
          17,
          18,
          19,
          20,
          21
         ],
         "title": {
          "text": "Player ID"
         }
        },
        "yaxis": {
         "anchor": "x",
         "domain": [
          0,
          1
         ],
         "range": [
          0.75,
          2.25
         ],
         "tickfont": {
          "size": 12
         },
         "tickvals": [
          0.75,
          1,
          1.25,
          1.5,
          1.75,
          2
         ],
         "title": {
          "text": "Normalized Fatigue Index"
         }
        }
       }
      }
     },
     "metadata": {},
     "output_type": "display_data"
    }
   ],
   "source": [
    "import plotly.express as px\n",
    "\n",
    "# Sort the dataframe by 'Normalized Fatigue Index'\n",
    "df_imp_lugano_match_sorted = df_imp_lugano_game_sorted.sort_values(\n",
    "    by=\"Normalized Fatigue Index\"\n",
    ")\n",
    "\n",
    "# Reset the 'Player ID' based on this sorted order\n",
    "df_imp_lugano_game_sorted[\"Player ID\"] = range(1, len(df_imp_lugano_match_sorted) + 1)\n",
    "\n",
    "# Define a color map for the fatigue categories\n",
    "color_map = {\n",
    "    \"Low\": \"#66FF66\",  # Darker Green\n",
    "    \"Medium\": \"#FFFF66\",  # Darker Yellow\n",
    "    \"High\": \"#FF6666\",  # Darker Red\n",
    "}\n",
    "df_imp_lugano_game_sorted[\"Color\"] = df_imp_lugano_game_sorted[\"Fatigue Category\"].map(\n",
    "    color_map\n",
    ")\n",
    "\n",
    "# Create an interactive bar plot using Plotly\n",
    "fig = px.bar(\n",
    "    df_imp_lugano_game_sorted,\n",
    "    x=\"Player ID\",\n",
    "    y=\"Normalized Fatigue Index\",\n",
    "    color=\"Fatigue Category\",\n",
    "    color_discrete_map=color_map,\n",
    "    title=\"Normalized Fatigue Index of Players\",\n",
    "    labels={\"Normalized Fatigue Index\": \"Normalized Fatigue Index\"},\n",
    "    category_orders={\"Fatigue Category\": [\"Low\", \"Medium\", \"High\"]},\n",
    ")\n",
    "\n",
    "# Customize the layout\n",
    "fig.update_layout(\n",
    "    xaxis_title=\"Player ID\",\n",
    "    xaxis_tickvals=df_imp_lugano_game_sorted[\"Player ID\"].tolist(),\n",
    "    yaxis_title=\"Normalized Fatigue Index\",\n",
    "    font=dict(family=\"Arial\", size=14),\n",
    "    legend_title=\"Fatigue Category\",\n",
    "    legend=dict(\n",
    "        title_font=dict(size=14),\n",
    "        font=dict(size=12),\n",
    "        x=0.30,\n",
    "        y=1.0,\n",
    "        bgcolor=\"rgba(255,255,255,0.5)\",\n",
    "        bordercolor=\"black\",\n",
    "        borderwidth=1,\n",
    "        orientation=\"h\",\n",
    "    ),\n",
    "    xaxis=dict(tickfont=dict(size=12)),\n",
    "    yaxis=dict(tickvals=[i * 0.25 + 0.75 for i in range(6)], tickfont=dict(size=12)),\n",
    "    yaxis_range=[0.75, 2.25],\n",
    ")\n",
    "\n",
    "# Add text labels for positions above the x-axis\n",
    "for index, position in enumerate(df_imp_lugano_game_sorted[\"Position\"]):\n",
    "    fig.add_annotation(\n",
    "        text=position,\n",
    "        x=index,\n",
    "        xshift=45,\n",
    "        y=0.8,\n",
    "        showarrow=False,\n",
    "        font=dict(size=12, color=\"black\"),\n",
    "    )\n",
    "\n",
    "# Show the interactive plot\n",
    "fig.show()"
   ]
  },
  {
   "cell_type": "code",
   "execution_count": 120,
   "metadata": {},
   "outputs": [
    {
     "name": "stderr",
     "output_type": "stream",
     "text": [
      "c:\\Users\\samue\\switchdrive\\SyncVM\\MscIds Course Materials\\3rd Semester\\Sport Data Analytics\\SDA-code\\ice-venv\\lib\\site-packages\\seaborn\\_oldcore.py:1498: FutureWarning:\n",
      "\n",
      "is_categorical_dtype is deprecated and will be removed in a future version. Use isinstance(dtype, CategoricalDtype) instead\n",
      "\n",
      "c:\\Users\\samue\\switchdrive\\SyncVM\\MscIds Course Materials\\3rd Semester\\Sport Data Analytics\\SDA-code\\ice-venv\\lib\\site-packages\\seaborn\\_oldcore.py:1498: FutureWarning:\n",
      "\n",
      "is_categorical_dtype is deprecated and will be removed in a future version. Use isinstance(dtype, CategoricalDtype) instead\n",
      "\n"
     ]
    },
    {
     "data": {
      "image/png": "[encoded data removed]",
      "text/plain": [
       "<Figure size 1400x800 with 1 Axes>"
      ]
     },
     "metadata": {},
     "output_type": "display_data"
    }
   ],
   "source": [
    "import matplotlib.pyplot as plt\n",
    "import seaborn as sns\n",
    "\n",
    "# Defining the color palette for the bars based on fatigue categories\n",
    "color_map = {\n",
    "    \"Low\": \"#66FF66\",  # Darker Green\n",
    "    \"Medium\": \"#FFFF66\",  # Darker Yellow\n",
    "    \"High\": \"#FF6666\",  # Darker Red\n",
    "}\n",
    "colors = df_imp_lugano_match_sorted[\"Fatigue Category\"].map(color_map)\n",
    "\n",
    "# Plotting the data\n",
    "sns.set_style(\"whitegrid\")\n",
    "plt.figure(figsize=(14, 8))\n",
    "\n",
    "# Using the 'order' parameter to ensure bars are plotted in the correct ascending order\n",
    "bar_plot = sns.barplot(\n",
    "    x=\"Player ID\",\n",
    "    y=\"Normalized Fatigue Index\",\n",
    "    data=df_imp_lugano_match_sorted,\n",
    "    palette=colors,\n",
    "    order=df_imp_lugano_match_sorted[\"Player ID\"],\n",
    ")\n",
    "plt.title(\"Normalized Fatigue Index of Players\", fontsize=18)\n",
    "plt.xlabel(\"Player ID\", fontsize=14)\n",
    "plt.ylabel(\"Normalized Fatigue Index\", fontsize=14)\n",
    "plt.yticks([i for i in range(1, 3)], fontsize=14)\n",
    "plt.xticks(fontsize=14)\n",
    "plt.ylim(0.75, 2.25)\n",
    "bar_plot.set_yticks([i * 0.25 + 0.75 for i in range(6)])\n",
    "\n",
    "# Add legend\n",
    "for category, color in color_map.items():\n",
    "    plt.plot([], [], \" \", label=category, color=color, marker=\"s\", markersize=10)\n",
    "plt.legend(\n",
    "    title=\"Fatigue Category\",\n",
    "    loc=\"upper center\",\n",
    "    fontsize=12,\n",
    "    title_fontsize=14,\n",
    "    ncol=3,\n",
    "    columnspacing=26,\n",
    ")\n",
    "\n",
    "# Add values of \"Position\" above the x-axis\n",
    "for index, position in enumerate(df_imp_lugano_match_sorted[\"Position\"]):\n",
    "    plt.text(\n",
    "        index, 0.8, position, ha=\"center\", fontsize=12, color=\"black\", va=\"baseline\"\n",
    "    )\n",
    "\n",
    "\n",
    "# Displaying the plot\n",
    "plt.tight_layout()\n",
    "plt.show()"
   ]
  },
  {
   "cell_type": "markdown",
   "metadata": {},
   "source": [
    "### ANALYSIS OF AVERAGE FATIGUE INDEX OF TEAM BY PERIODS\n"
   ]
  },
  {
   "cell_type": "markdown",
   "metadata": {},
   "source": [
    "#### PERIOD 1 : FATIGUE INDEX CALCULATION\n"
   ]
  },
  {
   "cell_type": "code",
   "execution_count": 121,
   "metadata": {},
   "outputs": [
    {
     "name": "stdout",
     "output_type": "stream",
     "text": [
      "1.4638269712144625\n"
     ]
    },
    {
     "name": "stderr",
     "output_type": "stream",
     "text": [
      "C:\\Users\\samue\\AppData\\Local\\Temp\\ipykernel_11196\\755726213.py:11: SettingWithCopyWarning:\n",
      "\n",
      "\n",
      "A value is trying to be set on a copy of a slice from a DataFrame.\n",
      "Try using .loc[row_indexer,col_indexer] = value instead\n",
      "\n",
      "See the caveats in the documentation: https://pandas.pydata.org/pandas-docs/stable/user_guide/indexing.html#returning-a-view-versus-a-copy\n",
      "\n",
      "C:\\Users\\samue\\AppData\\Local\\Temp\\ipykernel_11196\\755726213.py:17: SettingWithCopyWarning:\n",
      "\n",
      "\n",
      "A value is trying to be set on a copy of a slice from a DataFrame.\n",
      "Try using .loc[row_indexer,col_indexer] = value instead\n",
      "\n",
      "See the caveats in the documentation: https://pandas.pydata.org/pandas-docs/stable/user_guide/indexing.html#returning-a-view-versus-a-copy\n",
      "\n",
      "C:\\Users\\samue\\AppData\\Local\\Temp\\ipykernel_11196\\755726213.py:24: SettingWithCopyWarning:\n",
      "\n",
      "\n",
      "A value is trying to be set on a copy of a slice from a DataFrame.\n",
      "Try using .loc[row_indexer,col_indexer] = value instead\n",
      "\n",
      "See the caveats in the documentation: https://pandas.pydata.org/pandas-docs/stable/user_guide/indexing.html#returning-a-view-versus-a-copy\n",
      "\n"
     ]
    },
    {
     "data": {
      "text/html": [
       "<div>\n",
       "<style scoped>\n",
       "    .dataframe tbody tr th:only-of-type {\n",
       "        vertical-align: middle;\n",
       "    }\n",
       "\n",
       "    .dataframe tbody tr th {\n",
       "        vertical-align: top;\n",
       "    }\n",
       "\n",
       "    .dataframe thead th {\n",
       "        text-align: right;\n",
       "    }\n",
       "</style>\n",
       "<table border=\"1\" class=\"dataframe\">\n",
       "  <thead>\n",
       "    <tr style=\"text-align: right;\">\n",
       "      <th></th>\n",
       "      <th>Group name</th>\n",
       "      <th>Position</th>\n",
       "      <th>Description</th>\n",
       "      <th>Duration (s)</th>\n",
       "      <th>Distance (m)</th>\n",
       "      <th>Time on Ice (s)</th>\n",
       "      <th>High Metabolic Power Distance (m)</th>\n",
       "      <th>Mechanical Intensity</th>\n",
       "      <th>Player ID</th>\n",
       "      <th>Normalized Mechanical Intensity</th>\n",
       "      <th>Fatigue Index</th>\n",
       "      <th>Normalized Fatigue Index</th>\n",
       "    </tr>\n",
       "  </thead>\n",
       "  <tbody>\n",
       "    <tr>\n",
       "      <th>27</th>\n",
       "      <td>Goalies</td>\n",
       "      <td>Goalkeeper</td>\n",
       "      <td>Period 1</td>\n",
       "      <td>1736</td>\n",
       "      <td>278</td>\n",
       "      <td>1202</td>\n",
       "      <td>1</td>\n",
       "      <td>19.65</td>\n",
       "      <td>&lt;NA&gt;</td>\n",
       "      <td>0.000000</td>\n",
       "      <td>0.695993</td>\n",
       "      <td>1.000000</td>\n",
       "    </tr>\n",
       "    <tr>\n",
       "      <th>32</th>\n",
       "      <td>Defense</td>\n",
       "      <td>D</td>\n",
       "      <td>Period 1</td>\n",
       "      <td>1736</td>\n",
       "      <td>1144</td>\n",
       "      <td>348</td>\n",
       "      <td>357</td>\n",
       "      <td>36.76</td>\n",
       "      <td>&lt;NA&gt;</td>\n",
       "      <td>0.503087</td>\n",
       "      <td>1.015611</td>\n",
       "      <td>1.335854</td>\n",
       "    </tr>\n",
       "    <tr>\n",
       "      <th>39</th>\n",
       "      <td>Offense</td>\n",
       "      <td>F</td>\n",
       "      <td>Period 1</td>\n",
       "      <td>1736</td>\n",
       "      <td>1154</td>\n",
       "      <td>296</td>\n",
       "      <td>589</td>\n",
       "      <td>43.91</td>\n",
       "      <td>&lt;NA&gt;</td>\n",
       "      <td>0.713320</td>\n",
       "      <td>1.394225</td>\n",
       "      <td>1.733702</td>\n",
       "    </tr>\n",
       "    <tr>\n",
       "      <th>35</th>\n",
       "      <td>Defense</td>\n",
       "      <td>D</td>\n",
       "      <td>Period 1</td>\n",
       "      <td>1736</td>\n",
       "      <td>1570</td>\n",
       "      <td>414</td>\n",
       "      <td>788</td>\n",
       "      <td>42.78</td>\n",
       "      <td>&lt;NA&gt;</td>\n",
       "      <td>0.680094</td>\n",
       "      <td>1.420484</td>\n",
       "      <td>1.761295</td>\n",
       "    </tr>\n",
       "    <tr>\n",
       "      <th>30</th>\n",
       "      <td>Defense</td>\n",
       "      <td>D</td>\n",
       "      <td>Period 1</td>\n",
       "      <td>1736</td>\n",
       "      <td>1426</td>\n",
       "      <td>426</td>\n",
       "      <td>587</td>\n",
       "      <td>45.73</td>\n",
       "      <td>&lt;NA&gt;</td>\n",
       "      <td>0.766833</td>\n",
       "      <td>1.423866</td>\n",
       "      <td>1.764848</td>\n",
       "    </tr>\n",
       "    <tr>\n",
       "      <th>37</th>\n",
       "      <td>Offense</td>\n",
       "      <td>F</td>\n",
       "      <td>Period 1</td>\n",
       "      <td>1736</td>\n",
       "      <td>1372</td>\n",
       "      <td>317</td>\n",
       "      <td>800</td>\n",
       "      <td>42.09</td>\n",
       "      <td>&lt;NA&gt;</td>\n",
       "      <td>0.659806</td>\n",
       "      <td>1.425500</td>\n",
       "      <td>1.766565</td>\n",
       "    </tr>\n",
       "    <tr>\n",
       "      <th>21</th>\n",
       "      <td>Defense</td>\n",
       "      <td>D</td>\n",
       "      <td>Period 1</td>\n",
       "      <td>1736</td>\n",
       "      <td>1286</td>\n",
       "      <td>412</td>\n",
       "      <td>568</td>\n",
       "      <td>45.51</td>\n",
       "      <td>&lt;NA&gt;</td>\n",
       "      <td>0.760365</td>\n",
       "      <td>1.439371</td>\n",
       "      <td>1.781141</td>\n",
       "    </tr>\n",
       "    <tr>\n",
       "      <th>29</th>\n",
       "      <td>Offense</td>\n",
       "      <td>F</td>\n",
       "      <td>Period 1</td>\n",
       "      <td>1736</td>\n",
       "      <td>1405</td>\n",
       "      <td>333</td>\n",
       "      <td>827</td>\n",
       "      <td>43.46</td>\n",
       "      <td>&lt;NA&gt;</td>\n",
       "      <td>0.700088</td>\n",
       "      <td>1.480521</td>\n",
       "      <td>1.824381</td>\n",
       "    </tr>\n",
       "    <tr>\n",
       "      <th>22</th>\n",
       "      <td>Offense</td>\n",
       "      <td>F</td>\n",
       "      <td>Period 1</td>\n",
       "      <td>1736</td>\n",
       "      <td>1022</td>\n",
       "      <td>218</td>\n",
       "      <td>690</td>\n",
       "      <td>44.15</td>\n",
       "      <td>&lt;NA&gt;</td>\n",
       "      <td>0.720376</td>\n",
       "      <td>1.521099</td>\n",
       "      <td>1.867021</td>\n",
       "    </tr>\n",
       "    <tr>\n",
       "      <th>26</th>\n",
       "      <td>Defense</td>\n",
       "      <td>D</td>\n",
       "      <td>Period 1</td>\n",
       "      <td>1736</td>\n",
       "      <td>1706</td>\n",
       "      <td>425</td>\n",
       "      <td>943</td>\n",
       "      <td>44.48</td>\n",
       "      <td>&lt;NA&gt;</td>\n",
       "      <td>0.730079</td>\n",
       "      <td>1.527650</td>\n",
       "      <td>1.873905</td>\n",
       "    </tr>\n",
       "    <tr>\n",
       "      <th>41</th>\n",
       "      <td>Offense</td>\n",
       "      <td>F</td>\n",
       "      <td>Period 1</td>\n",
       "      <td>1736</td>\n",
       "      <td>1061</td>\n",
       "      <td>243</td>\n",
       "      <td>621</td>\n",
       "      <td>47.28</td>\n",
       "      <td>&lt;NA&gt;</td>\n",
       "      <td>0.812408</td>\n",
       "      <td>1.537682</td>\n",
       "      <td>1.884446</td>\n",
       "    </tr>\n",
       "    <tr>\n",
       "      <th>24</th>\n",
       "      <td>Offense</td>\n",
       "      <td>F</td>\n",
       "      <td>Period 1</td>\n",
       "      <td>1736</td>\n",
       "      <td>1274</td>\n",
       "      <td>337</td>\n",
       "      <td>656</td>\n",
       "      <td>47.89</td>\n",
       "      <td>&lt;NA&gt;</td>\n",
       "      <td>0.830344</td>\n",
       "      <td>1.539382</td>\n",
       "      <td>1.886233</td>\n",
       "    </tr>\n",
       "    <tr>\n",
       "      <th>31</th>\n",
       "      <td>Offense</td>\n",
       "      <td>F</td>\n",
       "      <td>Period 1</td>\n",
       "      <td>1736</td>\n",
       "      <td>1598</td>\n",
       "      <td>364</td>\n",
       "      <td>1017</td>\n",
       "      <td>44.03</td>\n",
       "      <td>&lt;NA&gt;</td>\n",
       "      <td>0.716848</td>\n",
       "      <td>1.562946</td>\n",
       "      <td>1.910993</td>\n",
       "    </tr>\n",
       "    <tr>\n",
       "      <th>33</th>\n",
       "      <td>Defense</td>\n",
       "      <td>F</td>\n",
       "      <td>Period 1</td>\n",
       "      <td>1736</td>\n",
       "      <td>1423</td>\n",
       "      <td>351</td>\n",
       "      <td>795</td>\n",
       "      <td>47.31</td>\n",
       "      <td>&lt;NA&gt;</td>\n",
       "      <td>0.813290</td>\n",
       "      <td>1.574158</td>\n",
       "      <td>1.922775</td>\n",
       "    </tr>\n",
       "    <tr>\n",
       "      <th>23</th>\n",
       "      <td>Offense</td>\n",
       "      <td>F</td>\n",
       "      <td>Period 1</td>\n",
       "      <td>1736</td>\n",
       "      <td>1379</td>\n",
       "      <td>313</td>\n",
       "      <td>857</td>\n",
       "      <td>46.63</td>\n",
       "      <td>&lt;NA&gt;</td>\n",
       "      <td>0.793296</td>\n",
       "      <td>1.595060</td>\n",
       "      <td>1.944739</td>\n",
       "    </tr>\n",
       "    <tr>\n",
       "      <th>28</th>\n",
       "      <td>Offense</td>\n",
       "      <td>F</td>\n",
       "      <td>Period 1</td>\n",
       "      <td>1736</td>\n",
       "      <td>1379</td>\n",
       "      <td>335</td>\n",
       "      <td>821</td>\n",
       "      <td>47.48</td>\n",
       "      <td>&lt;NA&gt;</td>\n",
       "      <td>0.818289</td>\n",
       "      <td>1.606620</td>\n",
       "      <td>1.956886</td>\n",
       "    </tr>\n",
       "    <tr>\n",
       "      <th>40</th>\n",
       "      <td>Offense</td>\n",
       "      <td>F</td>\n",
       "      <td>Period 1</td>\n",
       "      <td>1736</td>\n",
       "      <td>1136</td>\n",
       "      <td>249</td>\n",
       "      <td>713</td>\n",
       "      <td>48.10</td>\n",
       "      <td>&lt;NA&gt;</td>\n",
       "      <td>0.836519</td>\n",
       "      <td>1.607593</td>\n",
       "      <td>1.957908</td>\n",
       "    </tr>\n",
       "    <tr>\n",
       "      <th>25</th>\n",
       "      <td>Defense</td>\n",
       "      <td>D</td>\n",
       "      <td>Period 1</td>\n",
       "      <td>1736</td>\n",
       "      <td>286</td>\n",
       "      <td>72</td>\n",
       "      <td>165</td>\n",
       "      <td>53.66</td>\n",
       "      <td>&lt;NA&gt;</td>\n",
       "      <td>1.000000</td>\n",
       "      <td>1.618398</td>\n",
       "      <td>1.969262</td>\n",
       "    </tr>\n",
       "    <tr>\n",
       "      <th>38</th>\n",
       "      <td>Offense</td>\n",
       "      <td>F</td>\n",
       "      <td>Period 1</td>\n",
       "      <td>1736</td>\n",
       "      <td>1244</td>\n",
       "      <td>320</td>\n",
       "      <td>699</td>\n",
       "      <td>50.14</td>\n",
       "      <td>&lt;NA&gt;</td>\n",
       "      <td>0.896501</td>\n",
       "      <td>1.642730</td>\n",
       "      <td>1.994830</td>\n",
       "    </tr>\n",
       "    <tr>\n",
       "      <th>36</th>\n",
       "      <td>Offense</td>\n",
       "      <td>F</td>\n",
       "      <td>Period 1</td>\n",
       "      <td>1736</td>\n",
       "      <td>931</td>\n",
       "      <td>210</td>\n",
       "      <td>619</td>\n",
       "      <td>48.96</td>\n",
       "      <td>&lt;NA&gt;</td>\n",
       "      <td>0.861805</td>\n",
       "      <td>1.647650</td>\n",
       "      <td>2.000000</td>\n",
       "    </tr>\n",
       "  </tbody>\n",
       "</table>\n",
       "</div>"
      ],
      "text/plain": [
       "   Group name    Position Description  Duration (s)  Distance (m)  \\\n",
       "27    Goalies  Goalkeeper    Period 1          1736           278   \n",
       "32    Defense           D    Period 1          1736          1144   \n",
       "39    Offense           F    Period 1          1736          1154   \n",
       "35    Defense           D    Period 1          1736          1570   \n",
       "30    Defense           D    Period 1          1736          1426   \n",
       "37    Offense           F    Period 1          1736          1372   \n",
       "21    Defense           D    Period 1          1736          1286   \n",
       "29    Offense           F    Period 1          1736          1405   \n",
       "22    Offense           F    Period 1          1736          1022   \n",
       "26    Defense           D    Period 1          1736          1706   \n",
       "41    Offense           F    Period 1          1736          1061   \n",
       "24    Offense           F    Period 1          1736          1274   \n",
       "31    Offense           F    Period 1          1736          1598   \n",
       "33    Defense           F    Period 1          1736          1423   \n",
       "23    Offense           F    Period 1          1736          1379   \n",
       "28    Offense           F    Period 1          1736          1379   \n",
       "40    Offense           F    Period 1          1736          1136   \n",
       "25    Defense           D    Period 1          1736           286   \n",
       "38    Offense           F    Period 1          1736          1244   \n",
       "36    Offense           F    Period 1          1736           931   \n",
       "\n",
       "    Time on Ice (s)  High Metabolic Power Distance (m)  Mechanical Intensity  \\\n",
       "27             1202                                  1                 19.65   \n",
       "32              348                                357                 36.76   \n",
       "39              296                                589                 43.91   \n",
       "35              414                                788                 42.78   \n",
       "30              426                                587                 45.73   \n",
       "37              317                                800                 42.09   \n",
       "21              412                                568                 45.51   \n",
       "29              333                                827                 43.46   \n",
       "22              218                                690                 44.15   \n",
       "26              425                                943                 44.48   \n",
       "41              243                                621                 47.28   \n",
       "24              337                                656                 47.89   \n",
       "31              364                               1017                 44.03   \n",
       "33              351                                795                 47.31   \n",
       "23              313                                857                 46.63   \n",
       "28              335                                821                 47.48   \n",
       "40              249                                713                 48.10   \n",
       "25               72                                165                 53.66   \n",
       "38              320                                699                 50.14   \n",
       "36              210                                619                 48.96   \n",
       "\n",
       "    Player ID  Normalized Mechanical Intensity  Fatigue Index  \\\n",
       "27       <NA>                         0.000000       0.695993   \n",
       "32       <NA>                         0.503087       1.015611   \n",
       "39       <NA>                         0.713320       1.394225   \n",
       "35       <NA>                         0.680094       1.420484   \n",
       "30       <NA>                         0.766833       1.423866   \n",
       "37       <NA>                         0.659806       1.425500   \n",
       "21       <NA>                         0.760365       1.439371   \n",
       "29       <NA>                         0.700088       1.480521   \n",
       "22       <NA>                         0.720376       1.521099   \n",
       "26       <NA>                         0.730079       1.527650   \n",
       "41       <NA>                         0.812408       1.537682   \n",
       "24       <NA>                         0.830344       1.539382   \n",
       "31       <NA>                         0.716848       1.562946   \n",
       "33       <NA>                         0.813290       1.574158   \n",
       "23       <NA>                         0.793296       1.595060   \n",
       "28       <NA>                         0.818289       1.606620   \n",
       "40       <NA>                         0.836519       1.607593   \n",
       "25       <NA>                         1.000000       1.618398   \n",
       "38       <NA>                         0.896501       1.642730   \n",
       "36       <NA>                         0.861805       1.647650   \n",
       "\n",
       "    Normalized Fatigue Index  \n",
       "27                  1.000000  \n",
       "32                  1.335854  \n",
       "39                  1.733702  \n",
       "35                  1.761295  \n",
       "30                  1.764848  \n",
       "37                  1.766565  \n",
       "21                  1.781141  \n",
       "29                  1.824381  \n",
       "22                  1.867021  \n",
       "26                  1.873905  \n",
       "41                  1.884446  \n",
       "24                  1.886233  \n",
       "31                  1.910993  \n",
       "33                  1.922775  \n",
       "23                  1.944739  \n",
       "28                  1.956886  \n",
       "40                  1.957908  \n",
       "25                  1.969262  \n",
       "38                  1.994830  \n",
       "36                  2.000000  "
      ]
     },
     "execution_count": 121,
     "metadata": {},
     "output_type": "execute_result"
    }
   ],
   "source": [
    "# filter row by Description column i.e. Periods of the game : Period 1, Period 2, Period 3, Period 4\n",
    "\n",
    "\n",
    "df_period1 = df_imp_lugano[df_imp_lugano[\"Description\"].str.contains(\"Period 1\")]\n",
    "\n",
    "# Normalize the Mechanical Intensity column, so that the values are between 0 and 1\n",
    "\n",
    "min_val = df_period1[\"Mechanical Intensity\"].min()\n",
    "max_val = df_period1[\"Mechanical Intensity\"].max()\n",
    "\n",
    "df_period1[\"Normalized Mechanical Intensity\"] = (\n",
    "    df_period1[\"Mechanical Intensity\"] - min_val\n",
    ") / (max_val - min_val)\n",
    "\n",
    "\n",
    "# 1. Compute the  fatigue index for each row\n",
    "df_period1[\"Fatigue Index\"] = df_period1.apply(fatigue_index, axis=1)\n",
    "\n",
    "# 2. Normalize the fatigue index\n",
    "min_fatigue = df_period1[\"Fatigue Index\"].min()\n",
    "max_fatigue = df_period1[\"Fatigue Index\"].max()\n",
    "\n",
    "# +1 to make sure the values are between 1 and 2\n",
    "df_period1[\"Normalized Fatigue Index\"] = (df_period1[\"Fatigue Index\"] - min_fatigue) / (\n",
    "    max_fatigue - min_fatigue\n",
    ") + 1\n",
    "\n",
    "# Sort the dataframe by the final fatigue index in descending order\n",
    "# This will give us the most fatigued player at the top and the least fatigued player at the bottom\n",
    "\n",
    "df_period1_sorted = df_period1.sort_values(\n",
    "    by=\"Normalized Fatigue Index\", ascending=True\n",
    ")\n",
    "\n",
    "\n",
    "# Calculate the average fatigue index of the players in period 1\n",
    "\n",
    "avg_FI_period1 = df_period1_sorted[\"Fatigue Index\"].mean()\n",
    "\n",
    "print(avg_FI_period1)\n",
    "\n",
    "df_period1_sorted"
   ]
  },
  {
   "cell_type": "code",
   "execution_count": 122,
   "metadata": {},
   "outputs": [
    {
     "name": "stderr",
     "output_type": "stream",
     "text": [
      "C:\\Users\\samue\\AppData\\Local\\Temp\\ipykernel_11196\\1698339455.py:23: SettingWithCopyWarning:\n",
      "\n",
      "\n",
      "A value is trying to be set on a copy of a slice from a DataFrame.\n",
      "Try using .loc[row_indexer,col_indexer] = value instead\n",
      "\n",
      "See the caveats in the documentation: https://pandas.pydata.org/pandas-docs/stable/user_guide/indexing.html#returning-a-view-versus-a-copy\n",
      "\n",
      "C:\\Users\\samue\\AppData\\Local\\Temp\\ipykernel_11196\\1698339455.py:36: SettingWithCopyWarning:\n",
      "\n",
      "\n",
      "A value is trying to be set on a copy of a slice from a DataFrame.\n",
      "Try using .loc[row_indexer,col_indexer] = value instead\n",
      "\n",
      "See the caveats in the documentation: https://pandas.pydata.org/pandas-docs/stable/user_guide/indexing.html#returning-a-view-versus-a-copy\n",
      "\n",
      "C:\\Users\\samue\\AppData\\Local\\Temp\\ipykernel_11196\\1698339455.py:41: SettingWithCopyWarning:\n",
      "\n",
      "\n",
      "A value is trying to be set on a copy of a slice from a DataFrame.\n",
      "Try using .loc[row_indexer,col_indexer] = value instead\n",
      "\n",
      "See the caveats in the documentation: https://pandas.pydata.org/pandas-docs/stable/user_guide/indexing.html#returning-a-view-versus-a-copy\n",
      "\n"
     ]
    }
   ],
   "source": [
    "import pandas as pd\n",
    "\n",
    "\n",
    "def process_period_data(df, period_name, intensity_column=\"Mechanical Intensity\"):\n",
    "    \"\"\"\n",
    "    Process data for a specific period in a DataFrame.\n",
    "\n",
    "    Parameters:\n",
    "    - df (pd.DataFrame): The DataFrame containing the data.\n",
    "    - period_name (str): The name of the period to filter by in the 'Description' column.\n",
    "    - intensity_column (str): The name of the column containing intensity values.\n",
    "\n",
    "    Returns:\n",
    "    - pd.DataFrame: A sorted DataFrame with the processed data for the specified period.\n",
    "    - float: The average Fatigue Index for the specified period.\n",
    "    \"\"\"\n",
    "    # Filter rows by Description column\n",
    "    df_period = df[df[\"Description\"].str.contains(period_name)]\n",
    "\n",
    "    # Normalize the specified intensity column\n",
    "    min_val = df_period[intensity_column].min()\n",
    "    max_val = df_period[intensity_column].max()\n",
    "    df_period[\"Normalized \" + intensity_column] = (\n",
    "        df_period[intensity_column] - min_val\n",
    "    ) / (max_val - min_val)\n",
    "\n",
    "    # Define a function to compute the Fatigue Index\n",
    "    def fatigue_index(row):\n",
    "        # Replace this with your logic to calculate the Fatigue Index\n",
    "        # For example, you can use row values like \"Normalized Mechanical Intensity\"\n",
    "        return row[\n",
    "            \"Normalized \" + intensity_column\n",
    "        ]  # Replace with your actual calculation\n",
    "\n",
    "    # Calculate the Fatigue Index for each row\n",
    "    df_period[\"Fatigue Index\"] = df_period.apply(fatigue_index, axis=1)\n",
    "\n",
    "    # Normalize the Fatigue Index\n",
    "    min_fatigue = df_period[\"Fatigue Index\"].min()\n",
    "    max_fatigue = df_period[\"Fatigue Index\"].max()\n",
    "    df_period[\"Normalized Fatigue Index\"] = (\n",
    "        df_period[\"Fatigue Index\"] - min_fatigue\n",
    "    ) / (max_fatigue - min_fatigue) + 1\n",
    "\n",
    "    # Sort the DataFrame by the final fatigue index in ascending order\n",
    "    df_period_sorted = df_period.sort_values(\n",
    "        by=\"Normalized Fatigue Index\", ascending=True\n",
    "    )\n",
    "\n",
    "    # Calculate the average fatigue index for the period\n",
    "    avg_FI_period = df_period_sorted[\"Fatigue Index\"].mean()\n",
    "\n",
    "    return df_period_sorted, avg_FI_period\n",
    "\n",
    "\n",
    "# Example usage:\n",
    "period_name = \"Period 1\"\n",
    "df_period1_sorted, avg_FI_period1 = process_period_data(df_imp_lugano, period_name)\n",
    "\n",
    "# You can also call this function for other periods by changing the 'period_name' parameter."
   ]
  },
  {
   "cell_type": "markdown",
   "metadata": {},
   "source": [
    "#### PERIOD 2 : FATIGUE INDEX CALCULATION\n"
   ]
  },
  {
   "cell_type": "code",
   "execution_count": 123,
   "metadata": {},
   "outputs": [
    {
     "name": "stdout",
     "output_type": "stream",
     "text": [
      "1.4623009219845824\n"
     ]
    },
    {
     "name": "stderr",
     "output_type": "stream",
     "text": [
      "C:\\Users\\samue\\AppData\\Local\\Temp\\ipykernel_11196\\1174222034.py:8: SettingWithCopyWarning:\n",
      "\n",
      "\n",
      "A value is trying to be set on a copy of a slice from a DataFrame.\n",
      "Try using .loc[row_indexer,col_indexer] = value instead\n",
      "\n",
      "See the caveats in the documentation: https://pandas.pydata.org/pandas-docs/stable/user_guide/indexing.html#returning-a-view-versus-a-copy\n",
      "\n",
      "C:\\Users\\samue\\AppData\\Local\\Temp\\ipykernel_11196\\1174222034.py:13: SettingWithCopyWarning:\n",
      "\n",
      "\n",
      "A value is trying to be set on a copy of a slice from a DataFrame.\n",
      "Try using .loc[row_indexer,col_indexer] = value instead\n",
      "\n",
      "See the caveats in the documentation: https://pandas.pydata.org/pandas-docs/stable/user_guide/indexing.html#returning-a-view-versus-a-copy\n",
      "\n",
      "C:\\Users\\samue\\AppData\\Local\\Temp\\ipykernel_11196\\1174222034.py:20: SettingWithCopyWarning:\n",
      "\n",
      "\n",
      "A value is trying to be set on a copy of a slice from a DataFrame.\n",
      "Try using .loc[row_indexer,col_indexer] = value instead\n",
      "\n",
      "See the caveats in the documentation: https://pandas.pydata.org/pandas-docs/stable/user_guide/indexing.html#returning-a-view-versus-a-copy\n",
      "\n"
     ]
    },
    {
     "data": {
      "text/html": [
       "<div>\n",
       "<style scoped>\n",
       "    .dataframe tbody tr th:only-of-type {\n",
       "        vertical-align: middle;\n",
       "    }\n",
       "\n",
       "    .dataframe tbody tr th {\n",
       "        vertical-align: top;\n",
       "    }\n",
       "\n",
       "    .dataframe thead th {\n",
       "        text-align: right;\n",
       "    }\n",
       "</style>\n",
       "<table border=\"1\" class=\"dataframe\">\n",
       "  <thead>\n",
       "    <tr style=\"text-align: right;\">\n",
       "      <th></th>\n",
       "      <th>Group name</th>\n",
       "      <th>Position</th>\n",
       "      <th>Description</th>\n",
       "      <th>Duration (s)</th>\n",
       "      <th>Distance (m)</th>\n",
       "      <th>Time on Ice (s)</th>\n",
       "      <th>High Metabolic Power Distance (m)</th>\n",
       "      <th>Mechanical Intensity</th>\n",
       "      <th>Player ID</th>\n",
       "      <th>Normalized Mechanical Intensity</th>\n",
       "      <th>Fatigue Index</th>\n",
       "      <th>Normalized Fatigue Index</th>\n",
       "    </tr>\n",
       "  </thead>\n",
       "  <tbody>\n",
       "    <tr>\n",
       "      <th>48</th>\n",
       "      <td>Goalies</td>\n",
       "      <td>Goalkeeper</td>\n",
       "      <td>Period 2</td>\n",
       "      <td>2229</td>\n",
       "      <td>320</td>\n",
       "      <td>1197</td>\n",
       "      <td>3</td>\n",
       "      <td>19.84</td>\n",
       "      <td>&lt;NA&gt;</td>\n",
       "      <td>0.000000</td>\n",
       "      <td>0.546387</td>\n",
       "      <td>1.000000</td>\n",
       "    </tr>\n",
       "    <tr>\n",
       "      <th>53</th>\n",
       "      <td>Defense</td>\n",
       "      <td>D</td>\n",
       "      <td>Period 2</td>\n",
       "      <td>2229</td>\n",
       "      <td>1743</td>\n",
       "      <td>494</td>\n",
       "      <td>661</td>\n",
       "      <td>34.81</td>\n",
       "      <td>&lt;NA&gt;</td>\n",
       "      <td>0.518891</td>\n",
       "      <td>1.119746</td>\n",
       "      <td>1.475359</td>\n",
       "    </tr>\n",
       "    <tr>\n",
       "      <th>61</th>\n",
       "      <td>Offense</td>\n",
       "      <td>F</td>\n",
       "      <td>Period 2</td>\n",
       "      <td>2229</td>\n",
       "      <td>703</td>\n",
       "      <td>152</td>\n",
       "      <td>441</td>\n",
       "      <td>39.75</td>\n",
       "      <td>&lt;NA&gt;</td>\n",
       "      <td>0.690121</td>\n",
       "      <td>1.385625</td>\n",
       "      <td>1.695793</td>\n",
       "    </tr>\n",
       "    <tr>\n",
       "      <th>56</th>\n",
       "      <td>Defense</td>\n",
       "      <td>D</td>\n",
       "      <td>Period 2</td>\n",
       "      <td>2229</td>\n",
       "      <td>1342</td>\n",
       "      <td>404</td>\n",
       "      <td>608</td>\n",
       "      <td>41.52</td>\n",
       "      <td>&lt;NA&gt;</td>\n",
       "      <td>0.751473</td>\n",
       "      <td>1.385775</td>\n",
       "      <td>1.695918</td>\n",
       "    </tr>\n",
       "    <tr>\n",
       "      <th>60</th>\n",
       "      <td>Offense</td>\n",
       "      <td>F</td>\n",
       "      <td>Period 2</td>\n",
       "      <td>2229</td>\n",
       "      <td>1192</td>\n",
       "      <td>315</td>\n",
       "      <td>580</td>\n",
       "      <td>42.22</td>\n",
       "      <td>&lt;NA&gt;</td>\n",
       "      <td>0.775737</td>\n",
       "      <td>1.403633</td>\n",
       "      <td>1.710723</td>\n",
       "    </tr>\n",
       "    <tr>\n",
       "      <th>42</th>\n",
       "      <td>Defense</td>\n",
       "      <td>D</td>\n",
       "      <td>Period 2</td>\n",
       "      <td>2229</td>\n",
       "      <td>1026</td>\n",
       "      <td>348</td>\n",
       "      <td>390</td>\n",
       "      <td>45.19</td>\n",
       "      <td>&lt;NA&gt;</td>\n",
       "      <td>0.878683</td>\n",
       "      <td>1.414924</td>\n",
       "      <td>1.720084</td>\n",
       "    </tr>\n",
       "    <tr>\n",
       "      <th>59</th>\n",
       "      <td>Offense</td>\n",
       "      <td>F</td>\n",
       "      <td>Period 2</td>\n",
       "      <td>2229</td>\n",
       "      <td>1309</td>\n",
       "      <td>375</td>\n",
       "      <td>581</td>\n",
       "      <td>44.04</td>\n",
       "      <td>&lt;NA&gt;</td>\n",
       "      <td>0.838821</td>\n",
       "      <td>1.450909</td>\n",
       "      <td>1.749918</td>\n",
       "    </tr>\n",
       "    <tr>\n",
       "      <th>51</th>\n",
       "      <td>Defense</td>\n",
       "      <td>D</td>\n",
       "      <td>Period 2</td>\n",
       "      <td>2229</td>\n",
       "      <td>1334</td>\n",
       "      <td>436</td>\n",
       "      <td>540</td>\n",
       "      <td>44.89</td>\n",
       "      <td>&lt;NA&gt;</td>\n",
       "      <td>0.868284</td>\n",
       "      <td>1.468685</td>\n",
       "      <td>1.764656</td>\n",
       "    </tr>\n",
       "    <tr>\n",
       "      <th>47</th>\n",
       "      <td>Defense</td>\n",
       "      <td>D</td>\n",
       "      <td>Period 2</td>\n",
       "      <td>2229</td>\n",
       "      <td>1509</td>\n",
       "      <td>389</td>\n",
       "      <td>759</td>\n",
       "      <td>43.72</td>\n",
       "      <td>&lt;NA&gt;</td>\n",
       "      <td>0.827730</td>\n",
       "      <td>1.505229</td>\n",
       "      <td>1.794954</td>\n",
       "    </tr>\n",
       "    <tr>\n",
       "      <th>54</th>\n",
       "      <td>Defense</td>\n",
       "      <td>F</td>\n",
       "      <td>Period 2</td>\n",
       "      <td>2229</td>\n",
       "      <td>1103</td>\n",
       "      <td>334</td>\n",
       "      <td>482</td>\n",
       "      <td>46.50</td>\n",
       "      <td>&lt;NA&gt;</td>\n",
       "      <td>0.924090</td>\n",
       "      <td>1.510923</td>\n",
       "      <td>1.799675</td>\n",
       "    </tr>\n",
       "    <tr>\n",
       "      <th>43</th>\n",
       "      <td>Offense</td>\n",
       "      <td>F</td>\n",
       "      <td>Period 2</td>\n",
       "      <td>2229</td>\n",
       "      <td>1147</td>\n",
       "      <td>292</td>\n",
       "      <td>649</td>\n",
       "      <td>43.64</td>\n",
       "      <td>&lt;NA&gt;</td>\n",
       "      <td>0.824957</td>\n",
       "      <td>1.521781</td>\n",
       "      <td>1.808677</td>\n",
       "    </tr>\n",
       "    <tr>\n",
       "      <th>50</th>\n",
       "      <td>Offense</td>\n",
       "      <td>F</td>\n",
       "      <td>Period 2</td>\n",
       "      <td>2229</td>\n",
       "      <td>1205</td>\n",
       "      <td>324</td>\n",
       "      <td>584</td>\n",
       "      <td>46.79</td>\n",
       "      <td>&lt;NA&gt;</td>\n",
       "      <td>0.934142</td>\n",
       "      <td>1.564146</td>\n",
       "      <td>1.843800</td>\n",
       "    </tr>\n",
       "    <tr>\n",
       "      <th>62</th>\n",
       "      <td>Offense</td>\n",
       "      <td>F</td>\n",
       "      <td>Period 2</td>\n",
       "      <td>2229</td>\n",
       "      <td>553</td>\n",
       "      <td>114</td>\n",
       "      <td>336</td>\n",
       "      <td>46.45</td>\n",
       "      <td>&lt;NA&gt;</td>\n",
       "      <td>0.922357</td>\n",
       "      <td>1.581096</td>\n",
       "      <td>1.857853</td>\n",
       "    </tr>\n",
       "    <tr>\n",
       "      <th>58</th>\n",
       "      <td>Offense</td>\n",
       "      <td>F</td>\n",
       "      <td>Period 2</td>\n",
       "      <td>2229</td>\n",
       "      <td>1419</td>\n",
       "      <td>358</td>\n",
       "      <td>728</td>\n",
       "      <td>46.34</td>\n",
       "      <td>&lt;NA&gt;</td>\n",
       "      <td>0.918544</td>\n",
       "      <td>1.592192</td>\n",
       "      <td>1.867052</td>\n",
       "    </tr>\n",
       "    <tr>\n",
       "      <th>45</th>\n",
       "      <td>Offense</td>\n",
       "      <td>F</td>\n",
       "      <td>Period 2</td>\n",
       "      <td>2229</td>\n",
       "      <td>876</td>\n",
       "      <td>233</td>\n",
       "      <td>435</td>\n",
       "      <td>48.69</td>\n",
       "      <td>&lt;NA&gt;</td>\n",
       "      <td>1.000000</td>\n",
       "      <td>1.601107</td>\n",
       "      <td>1.874444</td>\n",
       "    </tr>\n",
       "    <tr>\n",
       "      <th>57</th>\n",
       "      <td>Offense</td>\n",
       "      <td>F</td>\n",
       "      <td>Period 2</td>\n",
       "      <td>2229</td>\n",
       "      <td>1002</td>\n",
       "      <td>278</td>\n",
       "      <td>525</td>\n",
       "      <td>48.31</td>\n",
       "      <td>&lt;NA&gt;</td>\n",
       "      <td>0.986828</td>\n",
       "      <td>1.635500</td>\n",
       "      <td>1.902958</td>\n",
       "    </tr>\n",
       "    <tr>\n",
       "      <th>44</th>\n",
       "      <td>Offense</td>\n",
       "      <td>F</td>\n",
       "      <td>Period 2</td>\n",
       "      <td>2229</td>\n",
       "      <td>1131</td>\n",
       "      <td>334</td>\n",
       "      <td>591</td>\n",
       "      <td>48.47</td>\n",
       "      <td>&lt;NA&gt;</td>\n",
       "      <td>0.992374</td>\n",
       "      <td>1.664764</td>\n",
       "      <td>1.927220</td>\n",
       "    </tr>\n",
       "    <tr>\n",
       "      <th>49</th>\n",
       "      <td>Offense</td>\n",
       "      <td>F</td>\n",
       "      <td>Period 2</td>\n",
       "      <td>2229</td>\n",
       "      <td>1338</td>\n",
       "      <td>343</td>\n",
       "      <td>821</td>\n",
       "      <td>46.13</td>\n",
       "      <td>&lt;NA&gt;</td>\n",
       "      <td>0.911265</td>\n",
       "      <td>1.678748</td>\n",
       "      <td>1.938814</td>\n",
       "    </tr>\n",
       "    <tr>\n",
       "      <th>52</th>\n",
       "      <td>Offense</td>\n",
       "      <td>F</td>\n",
       "      <td>Period 2</td>\n",
       "      <td>2229</td>\n",
       "      <td>1047</td>\n",
       "      <td>232</td>\n",
       "      <td>696</td>\n",
       "      <td>48.22</td>\n",
       "      <td>&lt;NA&gt;</td>\n",
       "      <td>0.983709</td>\n",
       "      <td>1.752548</td>\n",
       "      <td>2.000000</td>\n",
       "    </tr>\n",
       "  </tbody>\n",
       "</table>\n",
       "</div>"
      ],
      "text/plain": [
       "   Group name    Position Description  Duration (s)  Distance (m)  \\\n",
       "48    Goalies  Goalkeeper    Period 2          2229           320   \n",
       "53    Defense           D    Period 2          2229          1743   \n",
       "61    Offense           F    Period 2          2229           703   \n",
       "56    Defense           D    Period 2          2229          1342   \n",
       "60    Offense           F    Period 2          2229          1192   \n",
       "42    Defense           D    Period 2          2229          1026   \n",
       "59    Offense           F    Period 2          2229          1309   \n",
       "51    Defense           D    Period 2          2229          1334   \n",
       "47    Defense           D    Period 2          2229          1509   \n",
       "54    Defense           F    Period 2          2229          1103   \n",
       "43    Offense           F    Period 2          2229          1147   \n",
       "50    Offense           F    Period 2          2229          1205   \n",
       "62    Offense           F    Period 2          2229           553   \n",
       "58    Offense           F    Period 2          2229          1419   \n",
       "45    Offense           F    Period 2          2229           876   \n",
       "57    Offense           F    Period 2          2229          1002   \n",
       "44    Offense           F    Period 2          2229          1131   \n",
       "49    Offense           F    Period 2          2229          1338   \n",
       "52    Offense           F    Period 2          2229          1047   \n",
       "\n",
       "    Time on Ice (s)  High Metabolic Power Distance (m)  Mechanical Intensity  \\\n",
       "48             1197                                  3                 19.84   \n",
       "53              494                                661                 34.81   \n",
       "61              152                                441                 39.75   \n",
       "56              404                                608                 41.52   \n",
       "60              315                                580                 42.22   \n",
       "42              348                                390                 45.19   \n",
       "59              375                                581                 44.04   \n",
       "51              436                                540                 44.89   \n",
       "47              389                                759                 43.72   \n",
       "54              334                                482                 46.50   \n",
       "43              292                                649                 43.64   \n",
       "50              324                                584                 46.79   \n",
       "62              114                                336                 46.45   \n",
       "58              358                                728                 46.34   \n",
       "45              233                                435                 48.69   \n",
       "57              278                                525                 48.31   \n",
       "44              334                                591                 48.47   \n",
       "49              343                                821                 46.13   \n",
       "52              232                                696                 48.22   \n",
       "\n",
       "    Player ID  Normalized Mechanical Intensity  Fatigue Index  \\\n",
       "48       <NA>                         0.000000       0.546387   \n",
       "53       <NA>                         0.518891       1.119746   \n",
       "61       <NA>                         0.690121       1.385625   \n",
       "56       <NA>                         0.751473       1.385775   \n",
       "60       <NA>                         0.775737       1.403633   \n",
       "42       <NA>                         0.878683       1.414924   \n",
       "59       <NA>                         0.838821       1.450909   \n",
       "51       <NA>                         0.868284       1.468685   \n",
       "47       <NA>                         0.827730       1.505229   \n",
       "54       <NA>                         0.924090       1.510923   \n",
       "43       <NA>                         0.824957       1.521781   \n",
       "50       <NA>                         0.934142       1.564146   \n",
       "62       <NA>                         0.922357       1.581096   \n",
       "58       <NA>                         0.918544       1.592192   \n",
       "45       <NA>                         1.000000       1.601107   \n",
       "57       <NA>                         0.986828       1.635500   \n",
       "44       <NA>                         0.992374       1.664764   \n",
       "49       <NA>                         0.911265       1.678748   \n",
       "52       <NA>                         0.983709       1.752548   \n",
       "\n",
       "    Normalized Fatigue Index  \n",
       "48                  1.000000  \n",
       "53                  1.475359  \n",
       "61                  1.695793  \n",
       "56                  1.695918  \n",
       "60                  1.710723  \n",
       "42                  1.720084  \n",
       "59                  1.749918  \n",
       "51                  1.764656  \n",
       "47                  1.794954  \n",
       "54                  1.799675  \n",
       "43                  1.808677  \n",
       "50                  1.843800  \n",
       "62                  1.857853  \n",
       "58                  1.867052  \n",
       "45                  1.874444  \n",
       "57                  1.902958  \n",
       "44                  1.927220  \n",
       "49                  1.938814  \n",
       "52                  2.000000  "
      ]
     },
     "execution_count": 123,
     "metadata": {},
     "output_type": "execute_result"
    }
   ],
   "source": [
    "df_period2 = df_imp_lugano[df_imp_lugano[\"Description\"].str.contains(\"Period 2\")]\n",
    "\n",
    "# Normalize the Mechanical Intensity column, so that the values are between 0 and 1\n",
    "\n",
    "min_val = df_period2[\"Mechanical Intensity\"].min()\n",
    "max_val = df_period2[\"Mechanical Intensity\"].max()\n",
    "\n",
    "df_period2[\"Normalized Mechanical Intensity\"] = (\n",
    "    df_period2[\"Mechanical Intensity\"] - min_val\n",
    ") / (max_val - min_val)\n",
    "\n",
    "\n",
    "df_period2[\"Fatigue Index\"] = df_period2.apply(fatigue_index, axis=1)\n",
    "\n",
    "# 2. Normalize the fatigue index\n",
    "min_fatigue = df_period2[\"Fatigue Index\"].min()\n",
    "max_fatigue = df_period2[\"Fatigue Index\"].max()\n",
    "\n",
    "# +1 to make sure the values are between 1 and 2\n",
    "df_period2[\"Normalized Fatigue Index\"] = (df_period2[\"Fatigue Index\"] - min_fatigue) / (\n",
    "    max_fatigue - min_fatigue\n",
    ") + 1\n",
    "\n",
    "# Sort the dataframe by the final fatigue index in descending order\n",
    "# This will give us the most fatigued player at the top and the least fatigued player at the bottom\n",
    "\n",
    "df_period2_sorted = df_period2.sort_values(\n",
    "    by=\"Normalized Fatigue Index\", ascending=True\n",
    ")\n",
    "\n",
    "\n",
    "# Calculate the average fatigue index of the players in period 2\n",
    "\n",
    "avg_FI_period2 = df_period2_sorted[\"Fatigue Index\"].mean()\n",
    "\n",
    "print(avg_FI_period2)\n",
    "\n",
    "df_period2_sorted"
   ]
  },
  {
   "cell_type": "markdown",
   "metadata": {},
   "source": [
    "#### PERIOD 3 : FATIGUE INDEX CALCULATION\n"
   ]
  },
  {
   "cell_type": "code",
   "execution_count": 124,
   "metadata": {},
   "outputs": [
    {
     "name": "stdout",
     "output_type": "stream",
     "text": [
      "1.3671997994428162\n"
     ]
    },
    {
     "name": "stderr",
     "output_type": "stream",
     "text": [
      "C:\\Users\\samue\\AppData\\Local\\Temp\\ipykernel_11196\\3626737483.py:8: SettingWithCopyWarning:\n",
      "\n",
      "\n",
      "A value is trying to be set on a copy of a slice from a DataFrame.\n",
      "Try using .loc[row_indexer,col_indexer] = value instead\n",
      "\n",
      "See the caveats in the documentation: https://pandas.pydata.org/pandas-docs/stable/user_guide/indexing.html#returning-a-view-versus-a-copy\n",
      "\n",
      "C:\\Users\\samue\\AppData\\Local\\Temp\\ipykernel_11196\\3626737483.py:14: SettingWithCopyWarning:\n",
      "\n",
      "\n",
      "A value is trying to be set on a copy of a slice from a DataFrame.\n",
      "Try using .loc[row_indexer,col_indexer] = value instead\n",
      "\n",
      "See the caveats in the documentation: https://pandas.pydata.org/pandas-docs/stable/user_guide/indexing.html#returning-a-view-versus-a-copy\n",
      "\n",
      "C:\\Users\\samue\\AppData\\Local\\Temp\\ipykernel_11196\\3626737483.py:21: SettingWithCopyWarning:\n",
      "\n",
      "\n",
      "A value is trying to be set on a copy of a slice from a DataFrame.\n",
      "Try using .loc[row_indexer,col_indexer] = value instead\n",
      "\n",
      "See the caveats in the documentation: https://pandas.pydata.org/pandas-docs/stable/user_guide/indexing.html#returning-a-view-versus-a-copy\n",
      "\n"
     ]
    },
    {
     "data": {
      "text/html": [
       "<div>\n",
       "<style scoped>\n",
       "    .dataframe tbody tr th:only-of-type {\n",
       "        vertical-align: middle;\n",
       "    }\n",
       "\n",
       "    .dataframe tbody tr th {\n",
       "        vertical-align: top;\n",
       "    }\n",
       "\n",
       "    .dataframe thead th {\n",
       "        text-align: right;\n",
       "    }\n",
       "</style>\n",
       "<table border=\"1\" class=\"dataframe\">\n",
       "  <thead>\n",
       "    <tr style=\"text-align: right;\">\n",
       "      <th></th>\n",
       "      <th>Group name</th>\n",
       "      <th>Position</th>\n",
       "      <th>Description</th>\n",
       "      <th>Duration (s)</th>\n",
       "      <th>Distance (m)</th>\n",
       "      <th>Time on Ice (s)</th>\n",
       "      <th>High Metabolic Power Distance (m)</th>\n",
       "      <th>Mechanical Intensity</th>\n",
       "      <th>Player ID</th>\n",
       "      <th>Normalized Mechanical Intensity</th>\n",
       "      <th>Fatigue Index</th>\n",
       "      <th>Normalized Fatigue Index</th>\n",
       "    </tr>\n",
       "  </thead>\n",
       "  <tbody>\n",
       "    <tr>\n",
       "      <th>69</th>\n",
       "      <td>Goalies</td>\n",
       "      <td>Goalkeeper</td>\n",
       "      <td>Period 3</td>\n",
       "      <td>2074</td>\n",
       "      <td>282</td>\n",
       "      <td>1200</td>\n",
       "      <td>3</td>\n",
       "      <td>18.39</td>\n",
       "      <td>&lt;NA&gt;</td>\n",
       "      <td>0.000000</td>\n",
       "      <td>0.589230</td>\n",
       "      <td>1.000000</td>\n",
       "    </tr>\n",
       "    <tr>\n",
       "      <th>74</th>\n",
       "      <td>Defense</td>\n",
       "      <td>D</td>\n",
       "      <td>Period 3</td>\n",
       "      <td>2074</td>\n",
       "      <td>1527</td>\n",
       "      <td>420</td>\n",
       "      <td>465</td>\n",
       "      <td>21.34</td>\n",
       "      <td>&lt;NA&gt;</td>\n",
       "      <td>0.089611</td>\n",
       "      <td>0.596637</td>\n",
       "      <td>1.007292</td>\n",
       "    </tr>\n",
       "    <tr>\n",
       "      <th>64</th>\n",
       "      <td>Offense</td>\n",
       "      <td>F</td>\n",
       "      <td>Period 3</td>\n",
       "      <td>2074</td>\n",
       "      <td>712</td>\n",
       "      <td>179</td>\n",
       "      <td>384</td>\n",
       "      <td>39.99</td>\n",
       "      <td>&lt;NA&gt;</td>\n",
       "      <td>0.656136</td>\n",
       "      <td>1.281769</td>\n",
       "      <td>1.681786</td>\n",
       "    </tr>\n",
       "    <tr>\n",
       "      <th>81</th>\n",
       "      <td>Offense</td>\n",
       "      <td>F</td>\n",
       "      <td>Period 3</td>\n",
       "      <td>2074</td>\n",
       "      <td>538</td>\n",
       "      <td>123</td>\n",
       "      <td>298</td>\n",
       "      <td>42.90</td>\n",
       "      <td>&lt;NA&gt;</td>\n",
       "      <td>0.744532</td>\n",
       "      <td>1.357741</td>\n",
       "      <td>1.756579</td>\n",
       "    </tr>\n",
       "    <tr>\n",
       "      <th>80</th>\n",
       "      <td>Offense</td>\n",
       "      <td>F</td>\n",
       "      <td>Period 3</td>\n",
       "      <td>2074</td>\n",
       "      <td>1614</td>\n",
       "      <td>385</td>\n",
       "      <td>841</td>\n",
       "      <td>40.07</td>\n",
       "      <td>&lt;NA&gt;</td>\n",
       "      <td>0.658566</td>\n",
       "      <td>1.365264</td>\n",
       "      <td>1.763984</td>\n",
       "    </tr>\n",
       "    <tr>\n",
       "      <th>77</th>\n",
       "      <td>Defense</td>\n",
       "      <td>D</td>\n",
       "      <td>Period 3</td>\n",
       "      <td>2074</td>\n",
       "      <td>2030</td>\n",
       "      <td>512</td>\n",
       "      <td>1011</td>\n",
       "      <td>40.20</td>\n",
       "      <td>&lt;NA&gt;</td>\n",
       "      <td>0.662515</td>\n",
       "      <td>1.407411</td>\n",
       "      <td>1.805477</td>\n",
       "    </tr>\n",
       "    <tr>\n",
       "      <th>68</th>\n",
       "      <td>Defense</td>\n",
       "      <td>D</td>\n",
       "      <td>Period 3</td>\n",
       "      <td>2074</td>\n",
       "      <td>1579</td>\n",
       "      <td>401</td>\n",
       "      <td>755</td>\n",
       "      <td>42.64</td>\n",
       "      <td>&lt;NA&gt;</td>\n",
       "      <td>0.736634</td>\n",
       "      <td>1.408131</td>\n",
       "      <td>1.806186</td>\n",
       "    </tr>\n",
       "    <tr>\n",
       "      <th>63</th>\n",
       "      <td>Defense</td>\n",
       "      <td>D</td>\n",
       "      <td>Period 3</td>\n",
       "      <td>2074</td>\n",
       "      <td>840</td>\n",
       "      <td>270</td>\n",
       "      <td>329</td>\n",
       "      <td>48.29</td>\n",
       "      <td>&lt;NA&gt;</td>\n",
       "      <td>0.908262</td>\n",
       "      <td>1.430112</td>\n",
       "      <td>1.827826</td>\n",
       "    </tr>\n",
       "    <tr>\n",
       "      <th>79</th>\n",
       "      <td>Offense</td>\n",
       "      <td>F</td>\n",
       "      <td>Period 3</td>\n",
       "      <td>2074</td>\n",
       "      <td>1636</td>\n",
       "      <td>403</td>\n",
       "      <td>830</td>\n",
       "      <td>42.53</td>\n",
       "      <td>&lt;NA&gt;</td>\n",
       "      <td>0.733293</td>\n",
       "      <td>1.434938</td>\n",
       "      <td>1.832577</td>\n",
       "    </tr>\n",
       "    <tr>\n",
       "      <th>75</th>\n",
       "      <td>Defense</td>\n",
       "      <td>F</td>\n",
       "      <td>Period 3</td>\n",
       "      <td>2074</td>\n",
       "      <td>782</td>\n",
       "      <td>197</td>\n",
       "      <td>386</td>\n",
       "      <td>46.82</td>\n",
       "      <td>&lt;NA&gt;</td>\n",
       "      <td>0.863609</td>\n",
       "      <td>1.452200</td>\n",
       "      <td>1.849571</td>\n",
       "    </tr>\n",
       "    <tr>\n",
       "      <th>71</th>\n",
       "      <td>Offense</td>\n",
       "      <td>F</td>\n",
       "      <td>Period 3</td>\n",
       "      <td>2074</td>\n",
       "      <td>1354</td>\n",
       "      <td>373</td>\n",
       "      <td>653</td>\n",
       "      <td>44.53</td>\n",
       "      <td>&lt;NA&gt;</td>\n",
       "      <td>0.794046</td>\n",
       "      <td>1.456167</td>\n",
       "      <td>1.853476</td>\n",
       "    </tr>\n",
       "    <tr>\n",
       "      <th>66</th>\n",
       "      <td>Offense</td>\n",
       "      <td>F</td>\n",
       "      <td>Period 3</td>\n",
       "      <td>2074</td>\n",
       "      <td>1503</td>\n",
       "      <td>397</td>\n",
       "      <td>781</td>\n",
       "      <td>42.92</td>\n",
       "      <td>&lt;NA&gt;</td>\n",
       "      <td>0.745140</td>\n",
       "      <td>1.456185</td>\n",
       "      <td>1.853494</td>\n",
       "    </tr>\n",
       "    <tr>\n",
       "      <th>72</th>\n",
       "      <td>Defense</td>\n",
       "      <td>D</td>\n",
       "      <td>Period 3</td>\n",
       "      <td>2074</td>\n",
       "      <td>1597</td>\n",
       "      <td>440</td>\n",
       "      <td>770</td>\n",
       "      <td>45.11</td>\n",
       "      <td>&lt;NA&gt;</td>\n",
       "      <td>0.811665</td>\n",
       "      <td>1.505969</td>\n",
       "      <td>1.902505</td>\n",
       "    </tr>\n",
       "    <tr>\n",
       "      <th>70</th>\n",
       "      <td>Offense</td>\n",
       "      <td>F</td>\n",
       "      <td>Period 3</td>\n",
       "      <td>2074</td>\n",
       "      <td>1783</td>\n",
       "      <td>424</td>\n",
       "      <td>1030</td>\n",
       "      <td>43.51</td>\n",
       "      <td>&lt;NA&gt;</td>\n",
       "      <td>0.763062</td>\n",
       "      <td>1.545176</td>\n",
       "      <td>1.941103</td>\n",
       "    </tr>\n",
       "    <tr>\n",
       "      <th>65</th>\n",
       "      <td>Offense</td>\n",
       "      <td>F</td>\n",
       "      <td>Period 3</td>\n",
       "      <td>2074</td>\n",
       "      <td>971</td>\n",
       "      <td>240</td>\n",
       "      <td>585</td>\n",
       "      <td>45.91</td>\n",
       "      <td>&lt;NA&gt;</td>\n",
       "      <td>0.835966</td>\n",
       "      <td>1.554156</td>\n",
       "      <td>1.949944</td>\n",
       "    </tr>\n",
       "    <tr>\n",
       "      <th>82</th>\n",
       "      <td>Offense</td>\n",
       "      <td>F</td>\n",
       "      <td>Period 3</td>\n",
       "      <td>2074</td>\n",
       "      <td>634</td>\n",
       "      <td>171</td>\n",
       "      <td>305</td>\n",
       "      <td>51.31</td>\n",
       "      <td>&lt;NA&gt;</td>\n",
       "      <td>1.000000</td>\n",
       "      <td>1.563522</td>\n",
       "      <td>1.959164</td>\n",
       "    </tr>\n",
       "    <tr>\n",
       "      <th>73</th>\n",
       "      <td>Offense</td>\n",
       "      <td>F</td>\n",
       "      <td>Period 3</td>\n",
       "      <td>2074</td>\n",
       "      <td>1981</td>\n",
       "      <td>403</td>\n",
       "      <td>1335</td>\n",
       "      <td>42.48</td>\n",
       "      <td>&lt;NA&gt;</td>\n",
       "      <td>0.731774</td>\n",
       "      <td>1.599987</td>\n",
       "      <td>1.995063</td>\n",
       "    </tr>\n",
       "    <tr>\n",
       "      <th>78</th>\n",
       "      <td>Offense</td>\n",
       "      <td>F</td>\n",
       "      <td>Period 3</td>\n",
       "      <td>2074</td>\n",
       "      <td>956</td>\n",
       "      <td>235</td>\n",
       "      <td>608</td>\n",
       "      <td>46.56</td>\n",
       "      <td>&lt;NA&gt;</td>\n",
       "      <td>0.855711</td>\n",
       "      <td>1.605002</td>\n",
       "      <td>2.000000</td>\n",
       "    </tr>\n",
       "  </tbody>\n",
       "</table>\n",
       "</div>"
      ],
      "text/plain": [
       "   Group name    Position Description  Duration (s)  Distance (m)  \\\n",
       "69    Goalies  Goalkeeper    Period 3          2074           282   \n",
       "74    Defense           D    Period 3          2074          1527   \n",
       "64    Offense           F    Period 3          2074           712   \n",
       "81    Offense           F    Period 3          2074           538   \n",
       "80    Offense           F    Period 3          2074          1614   \n",
       "77    Defense           D    Period 3          2074          2030   \n",
       "68    Defense           D    Period 3          2074          1579   \n",
       "63    Defense           D    Period 3          2074           840   \n",
       "79    Offense           F    Period 3          2074          1636   \n",
       "75    Defense           F    Period 3          2074           782   \n",
       "71    Offense           F    Period 3          2074          1354   \n",
       "66    Offense           F    Period 3          2074          1503   \n",
       "72    Defense           D    Period 3          2074          1597   \n",
       "70    Offense           F    Period 3          2074          1783   \n",
       "65    Offense           F    Period 3          2074           971   \n",
       "82    Offense           F    Period 3          2074           634   \n",
       "73    Offense           F    Period 3          2074          1981   \n",
       "78    Offense           F    Period 3          2074           956   \n",
       "\n",
       "    Time on Ice (s)  High Metabolic Power Distance (m)  Mechanical Intensity  \\\n",
       "69             1200                                  3                 18.39   \n",
       "74              420                                465                 21.34   \n",
       "64              179                                384                 39.99   \n",
       "81              123                                298                 42.90   \n",
       "80              385                                841                 40.07   \n",
       "77              512                               1011                 40.20   \n",
       "68              401                                755                 42.64   \n",
       "63              270                                329                 48.29   \n",
       "79              403                                830                 42.53   \n",
       "75              197                                386                 46.82   \n",
       "71              373                                653                 44.53   \n",
       "66              397                                781                 42.92   \n",
       "72              440                                770                 45.11   \n",
       "70              424                               1030                 43.51   \n",
       "65              240                                585                 45.91   \n",
       "82              171                                305                 51.31   \n",
       "73              403                               1335                 42.48   \n",
       "78              235                                608                 46.56   \n",
       "\n",
       "    Player ID  Normalized Mechanical Intensity  Fatigue Index  \\\n",
       "69       <NA>                         0.000000       0.589230   \n",
       "74       <NA>                         0.089611       0.596637   \n",
       "64       <NA>                         0.656136       1.281769   \n",
       "81       <NA>                         0.744532       1.357741   \n",
       "80       <NA>                         0.658566       1.365264   \n",
       "77       <NA>                         0.662515       1.407411   \n",
       "68       <NA>                         0.736634       1.408131   \n",
       "63       <NA>                         0.908262       1.430112   \n",
       "79       <NA>                         0.733293       1.434938   \n",
       "75       <NA>                         0.863609       1.452200   \n",
       "71       <NA>                         0.794046       1.456167   \n",
       "66       <NA>                         0.745140       1.456185   \n",
       "72       <NA>                         0.811665       1.505969   \n",
       "70       <NA>                         0.763062       1.545176   \n",
       "65       <NA>                         0.835966       1.554156   \n",
       "82       <NA>                         1.000000       1.563522   \n",
       "73       <NA>                         0.731774       1.599987   \n",
       "78       <NA>                         0.855711       1.605002   \n",
       "\n",
       "    Normalized Fatigue Index  \n",
       "69                  1.000000  \n",
       "74                  1.007292  \n",
       "64                  1.681786  \n",
       "81                  1.756579  \n",
       "80                  1.763984  \n",
       "77                  1.805477  \n",
       "68                  1.806186  \n",
       "63                  1.827826  \n",
       "79                  1.832577  \n",
       "75                  1.849571  \n",
       "71                  1.853476  \n",
       "66                  1.853494  \n",
       "72                  1.902505  \n",
       "70                  1.941103  \n",
       "65                  1.949944  \n",
       "82                  1.959164  \n",
       "73                  1.995063  \n",
       "78                  2.000000  "
      ]
     },
     "execution_count": 124,
     "metadata": {},
     "output_type": "execute_result"
    }
   ],
   "source": [
    "df_period3 = df_imp_lugano[df_imp_lugano[\"Description\"].str.contains(\"Period 3\")]\n",
    "\n",
    "# Normalize the Mechanical Intensity column, so that the values are between 0 and 1\n",
    "\n",
    "min_val = df_period3[\"Mechanical Intensity\"].min()\n",
    "max_val = df_period3[\"Mechanical Intensity\"].max()\n",
    "\n",
    "df_period3[\"Normalized Mechanical Intensity\"] = (\n",
    "    df_period3[\"Mechanical Intensity\"] - min_val\n",
    ") / (max_val - min_val)\n",
    "\n",
    "df_period3\n",
    "\n",
    "df_period3[\"Fatigue Index\"] = df_period3.apply(fatigue_index, axis=1)\n",
    "\n",
    "# 2. Normalize the fatigue index\n",
    "min_fatigue = df_period3[\"Fatigue Index\"].min()\n",
    "max_fatigue = df_period3[\"Fatigue Index\"].max()\n",
    "\n",
    "# +1 to make sure the values are between 1 and 2\n",
    "df_period3[\"Normalized Fatigue Index\"] = (df_period3[\"Fatigue Index\"] - min_fatigue) / (\n",
    "    max_fatigue - min_fatigue\n",
    ") + 1\n",
    "\n",
    "# Sort the dataframe by the final fatigue index in descending order\n",
    "# This will give us the most fatigued player at the top and the least fatigued player at the bottom\n",
    "\n",
    "df_period3_sorted = df_period3.sort_values(\n",
    "    by=\"Normalized Fatigue Index\", ascending=True\n",
    ")\n",
    "\n",
    "# Calculate the average fatigue index of the players in period 3\n",
    "\n",
    "avg_FI_period3 = df_period3_sorted[\"Fatigue Index\"].mean()\n",
    "\n",
    "print(avg_FI_period3)\n",
    "\n",
    "df_period3_sorted"
   ]
  },
  {
   "cell_type": "markdown",
   "metadata": {},
   "source": [
    "#### OVERTIME : FATIGUE INDEX CALCULATION\n"
   ]
  },
  {
   "cell_type": "code",
   "execution_count": 125,
   "metadata": {},
   "outputs": [
    {
     "name": "stdout",
     "output_type": "stream",
     "text": [
      "1.2528037988659964\n"
     ]
    },
    {
     "name": "stderr",
     "output_type": "stream",
     "text": [
      "C:\\Users\\samue\\AppData\\Local\\Temp\\ipykernel_11196\\2756432162.py:8: SettingWithCopyWarning:\n",
      "\n",
      "\n",
      "A value is trying to be set on a copy of a slice from a DataFrame.\n",
      "Try using .loc[row_indexer,col_indexer] = value instead\n",
      "\n",
      "See the caveats in the documentation: https://pandas.pydata.org/pandas-docs/stable/user_guide/indexing.html#returning-a-view-versus-a-copy\n",
      "\n",
      "C:\\Users\\samue\\AppData\\Local\\Temp\\ipykernel_11196\\2756432162.py:14: SettingWithCopyWarning:\n",
      "\n",
      "\n",
      "A value is trying to be set on a copy of a slice from a DataFrame.\n",
      "Try using .loc[row_indexer,col_indexer] = value instead\n",
      "\n",
      "See the caveats in the documentation: https://pandas.pydata.org/pandas-docs/stable/user_guide/indexing.html#returning-a-view-versus-a-copy\n",
      "\n",
      "C:\\Users\\samue\\AppData\\Local\\Temp\\ipykernel_11196\\2756432162.py:21: SettingWithCopyWarning:\n",
      "\n",
      "\n",
      "A value is trying to be set on a copy of a slice from a DataFrame.\n",
      "Try using .loc[row_indexer,col_indexer] = value instead\n",
      "\n",
      "See the caveats in the documentation: https://pandas.pydata.org/pandas-docs/stable/user_guide/indexing.html#returning-a-view-versus-a-copy\n",
      "\n"
     ]
    },
    {
     "data": {
      "text/html": [
       "<div>\n",
       "<style scoped>\n",
       "    .dataframe tbody tr th:only-of-type {\n",
       "        vertical-align: middle;\n",
       "    }\n",
       "\n",
       "    .dataframe tbody tr th {\n",
       "        vertical-align: top;\n",
       "    }\n",
       "\n",
       "    .dataframe thead th {\n",
       "        text-align: right;\n",
       "    }\n",
       "</style>\n",
       "<table border=\"1\" class=\"dataframe\">\n",
       "  <thead>\n",
       "    <tr style=\"text-align: right;\">\n",
       "      <th></th>\n",
       "      <th>Group name</th>\n",
       "      <th>Position</th>\n",
       "      <th>Description</th>\n",
       "      <th>Duration (s)</th>\n",
       "      <th>Distance (m)</th>\n",
       "      <th>Time on Ice (s)</th>\n",
       "      <th>High Metabolic Power Distance (m)</th>\n",
       "      <th>Mechanical Intensity</th>\n",
       "      <th>Player ID</th>\n",
       "      <th>Normalized Mechanical Intensity</th>\n",
       "      <th>Fatigue Index</th>\n",
       "      <th>Normalized Fatigue Index</th>\n",
       "    </tr>\n",
       "  </thead>\n",
       "  <tbody>\n",
       "    <tr>\n",
       "      <th>94</th>\n",
       "      <td>Defense</td>\n",
       "      <td>D</td>\n",
       "      <td>Overtime</td>\n",
       "      <td>129</td>\n",
       "      <td>92</td>\n",
       "      <td>27</td>\n",
       "      <td>12</td>\n",
       "      <td>25.67</td>\n",
       "      <td>&lt;NA&gt;</td>\n",
       "      <td>0.130336</td>\n",
       "      <td>0.470073</td>\n",
       "      <td>1.000000</td>\n",
       "    </tr>\n",
       "    <tr>\n",
       "      <th>89</th>\n",
       "      <td>Goalies</td>\n",
       "      <td>Goalkeeper</td>\n",
       "      <td>Overtime</td>\n",
       "      <td>129</td>\n",
       "      <td>21</td>\n",
       "      <td>92</td>\n",
       "      <td>0</td>\n",
       "      <td>19.38</td>\n",
       "      <td>&lt;NA&gt;</td>\n",
       "      <td>0.000000</td>\n",
       "      <td>0.713178</td>\n",
       "      <td>1.183922</td>\n",
       "    </tr>\n",
       "    <tr>\n",
       "      <th>86</th>\n",
       "      <td>Offense</td>\n",
       "      <td>F</td>\n",
       "      <td>Overtime</td>\n",
       "      <td>129</td>\n",
       "      <td>161</td>\n",
       "      <td>33</td>\n",
       "      <td>84</td>\n",
       "      <td>32.17</td>\n",
       "      <td>&lt;NA&gt;</td>\n",
       "      <td>0.265023</td>\n",
       "      <td>1.042576</td>\n",
       "      <td>1.433128</td>\n",
       "    </tr>\n",
       "    <tr>\n",
       "      <th>90</th>\n",
       "      <td>Offense</td>\n",
       "      <td>F</td>\n",
       "      <td>Overtime</td>\n",
       "      <td>129</td>\n",
       "      <td>143</td>\n",
       "      <td>28</td>\n",
       "      <td>86</td>\n",
       "      <td>34.99</td>\n",
       "      <td>&lt;NA&gt;</td>\n",
       "      <td>0.323456</td>\n",
       "      <td>1.141909</td>\n",
       "      <td>1.508279</td>\n",
       "    </tr>\n",
       "    <tr>\n",
       "      <th>97</th>\n",
       "      <td>Defense</td>\n",
       "      <td>D</td>\n",
       "      <td>Overtime</td>\n",
       "      <td>129</td>\n",
       "      <td>235</td>\n",
       "      <td>46</td>\n",
       "      <td>148</td>\n",
       "      <td>32.33</td>\n",
       "      <td>&lt;NA&gt;</td>\n",
       "      <td>0.268338</td>\n",
       "      <td>1.254715</td>\n",
       "      <td>1.593622</td>\n",
       "    </tr>\n",
       "    <tr>\n",
       "      <th>92</th>\n",
       "      <td>Defense</td>\n",
       "      <td>D</td>\n",
       "      <td>Overtime</td>\n",
       "      <td>129</td>\n",
       "      <td>26</td>\n",
       "      <td>5</td>\n",
       "      <td>16</td>\n",
       "      <td>48.93</td>\n",
       "      <td>&lt;NA&gt;</td>\n",
       "      <td>0.612308</td>\n",
       "      <td>1.266453</td>\n",
       "      <td>1.602502</td>\n",
       "    </tr>\n",
       "    <tr>\n",
       "      <th>99</th>\n",
       "      <td>Offense</td>\n",
       "      <td>F</td>\n",
       "      <td>Overtime</td>\n",
       "      <td>129</td>\n",
       "      <td>228</td>\n",
       "      <td>48</td>\n",
       "      <td>131</td>\n",
       "      <td>43.60</td>\n",
       "      <td>&lt;NA&gt;</td>\n",
       "      <td>0.501865</td>\n",
       "      <td>1.448519</td>\n",
       "      <td>1.740245</td>\n",
       "    </tr>\n",
       "    <tr>\n",
       "      <th>100</th>\n",
       "      <td>Offense</td>\n",
       "      <td>F</td>\n",
       "      <td>Overtime</td>\n",
       "      <td>129</td>\n",
       "      <td>65</td>\n",
       "      <td>14</td>\n",
       "      <td>38</td>\n",
       "      <td>56.37</td>\n",
       "      <td>&lt;NA&gt;</td>\n",
       "      <td>0.766473</td>\n",
       "      <td>1.459616</td>\n",
       "      <td>1.748640</td>\n",
       "    </tr>\n",
       "    <tr>\n",
       "      <th>93</th>\n",
       "      <td>Offense</td>\n",
       "      <td>F</td>\n",
       "      <td>Overtime</td>\n",
       "      <td>129</td>\n",
       "      <td>254</td>\n",
       "      <td>51</td>\n",
       "      <td>180</td>\n",
       "      <td>38.32</td>\n",
       "      <td>&lt;NA&gt;</td>\n",
       "      <td>0.392458</td>\n",
       "      <td>1.496468</td>\n",
       "      <td>1.776520</td>\n",
       "    </tr>\n",
       "    <tr>\n",
       "      <th>85</th>\n",
       "      <td>Offense</td>\n",
       "      <td>F</td>\n",
       "      <td>Overtime</td>\n",
       "      <td>129</td>\n",
       "      <td>72</td>\n",
       "      <td>14</td>\n",
       "      <td>58</td>\n",
       "      <td>57.09</td>\n",
       "      <td>&lt;NA&gt;</td>\n",
       "      <td>0.781392</td>\n",
       "      <td>1.695475</td>\n",
       "      <td>1.927080</td>\n",
       "    </tr>\n",
       "    <tr>\n",
       "      <th>88</th>\n",
       "      <td>Defense</td>\n",
       "      <td>D</td>\n",
       "      <td>Overtime</td>\n",
       "      <td>129</td>\n",
       "      <td>60</td>\n",
       "      <td>14</td>\n",
       "      <td>41</td>\n",
       "      <td>67.64</td>\n",
       "      <td>&lt;NA&gt;</td>\n",
       "      <td>1.000000</td>\n",
       "      <td>1.791860</td>\n",
       "      <td>2.000000</td>\n",
       "    </tr>\n",
       "  </tbody>\n",
       "</table>\n",
       "</div>"
      ],
      "text/plain": [
       "    Group name    Position Description  Duration (s)  Distance (m)  \\\n",
       "94     Defense           D    Overtime           129            92   \n",
       "89     Goalies  Goalkeeper    Overtime           129            21   \n",
       "86     Offense           F    Overtime           129           161   \n",
       "90     Offense           F    Overtime           129           143   \n",
       "97     Defense           D    Overtime           129           235   \n",
       "92     Defense           D    Overtime           129            26   \n",
       "99     Offense           F    Overtime           129           228   \n",
       "100    Offense           F    Overtime           129            65   \n",
       "93     Offense           F    Overtime           129           254   \n",
       "85     Offense           F    Overtime           129            72   \n",
       "88     Defense           D    Overtime           129            60   \n",
       "\n",
       "     Time on Ice (s)  High Metabolic Power Distance (m)  Mechanical Intensity  \\\n",
       "94                27                                 12                 25.67   \n",
       "89                92                                  0                 19.38   \n",
       "86                33                                 84                 32.17   \n",
       "90                28                                 86                 34.99   \n",
       "97                46                                148                 32.33   \n",
       "92                 5                                 16                 48.93   \n",
       "99                48                                131                 43.60   \n",
       "100               14                                 38                 56.37   \n",
       "93                51                                180                 38.32   \n",
       "85                14                                 58                 57.09   \n",
       "88                14                                 41                 67.64   \n",
       "\n",
       "     Player ID  Normalized Mechanical Intensity  Fatigue Index  \\\n",
       "94        <NA>                         0.130336       0.470073   \n",
       "89        <NA>                         0.000000       0.713178   \n",
       "86        <NA>                         0.265023       1.042576   \n",
       "90        <NA>                         0.323456       1.141909   \n",
       "97        <NA>                         0.268338       1.254715   \n",
       "92        <NA>                         0.612308       1.266453   \n",
       "99        <NA>                         0.501865       1.448519   \n",
       "100       <NA>                         0.766473       1.459616   \n",
       "93        <NA>                         0.392458       1.496468   \n",
       "85        <NA>                         0.781392       1.695475   \n",
       "88        <NA>                         1.000000       1.791860   \n",
       "\n",
       "     Normalized Fatigue Index  \n",
       "94                   1.000000  \n",
       "89                   1.183922  \n",
       "86                   1.433128  \n",
       "90                   1.508279  \n",
       "97                   1.593622  \n",
       "92                   1.602502  \n",
       "99                   1.740245  \n",
       "100                  1.748640  \n",
       "93                   1.776520  \n",
       "85                   1.927080  \n",
       "88                   2.000000  "
      ]
     },
     "execution_count": 125,
     "metadata": {},
     "output_type": "execute_result"
    }
   ],
   "source": [
    "df_overtime = df_imp_lugano[df_imp_lugano[\"Description\"].str.contains(\"Overtime\")]\n",
    "\n",
    "# Normalize the Mechanical Intensity column, so that the values are between 0 and 1\n",
    "\n",
    "min_val = df_overtime[\"Mechanical Intensity\"].min()\n",
    "max_val = df_overtime[\"Mechanical Intensity\"].max()\n",
    "\n",
    "df_overtime[\"Normalized Mechanical Intensity\"] = (\n",
    "    df_overtime[\"Mechanical Intensity\"] - min_val\n",
    ") / (max_val - min_val)\n",
    "\n",
    "df_overtime\n",
    "\n",
    "df_overtime[\"Fatigue Index\"] = df_overtime.apply(fatigue_index, axis=1)\n",
    "\n",
    "# 2. Normalize the fatigue index\n",
    "min_fatigue = df_overtime[\"Fatigue Index\"].min()\n",
    "max_fatigue = df_overtime[\"Fatigue Index\"].max()\n",
    "\n",
    "# +1 to make sure the values are between 1 and 2\n",
    "df_overtime[\"Normalized Fatigue Index\"] = (\n",
    "    df_overtime[\"Fatigue Index\"] - min_fatigue\n",
    ") / (max_fatigue - min_fatigue) + 1\n",
    "\n",
    "# Sort the dataframe by the final fatigue index in descending order\n",
    "# This will give us the most fatigued player at the top and the least fatigued player at the bottom\n",
    "\n",
    "df_overtime_sorted = df_overtime.sort_values(\n",
    "    by=\"Normalized Fatigue Index\", ascending=True\n",
    ")\n",
    "\n",
    "\n",
    "# Calculate the average fatigue index of the players in overtime\n",
    "\n",
    "avg_FI_overtime = df_overtime_sorted[\"Fatigue Index\"].mean()\n",
    "\n",
    "print(avg_FI_overtime)\n",
    "\n",
    "df_overtime_sorted"
   ]
  },
  {
   "cell_type": "markdown",
   "metadata": {},
   "source": [
    "### LINE CHART OF AVERAGE FATIGUE INDEX OF TEAM (CHANGE IN FATIGUE INDEX OVER TIME)\n"
   ]
  },
  {
   "cell_type": "code",
   "execution_count": 126,
   "metadata": {},
   "outputs": [
    {
     "data": {
      "application/vnd.plotly.v1+json": {
       "config": {
        "plotlyServerURL": "https://plot.ly"
       },
       "data": [
        {
         "marker": {
          "color": "green"
         },
         "mode": "lines+markers",
         "type": "scatter",
         "x": [
          "Period 1",
          "Period 2",
          "Period 3",
          "Overtime"
         ],
         "y": [
          0.7306674507497796,
          1.4623009219845824,
          1.3671997994428162,
          1.2528037988659964
         ]
        }
       ],
       "layout": {
        "template": {
         "data": {
          "bar": [
           {
            "error_x": {
             "color": "#2a3f5f"
            },
            "error_y": {
             "color": "#2a3f5f"
            },
            "marker": {
             "line": {
              "color": "#E5ECF6",
              "width": 0.5
             },
             "pattern": {
              "fillmode": "overlay",
              "size": 10,
              "solidity": 0.2
             }
            },
            "type": "bar"
           }
          ],
          "barpolar": [
           {
            "marker": {
             "line": {
              "color": "#E5ECF6",
              "width": 0.5
             },
             "pattern": {
              "fillmode": "overlay",
              "size": 10,
              "solidity": 0.2
             }
            },
            "type": "barpolar"
           }
          ],
          "carpet": [
           {
            "aaxis": {
             "endlinecolor": "#2a3f5f",
             "gridcolor": "white",
             "linecolor": "white",
             "minorgridcolor": "white",
             "startlinecolor": "#2a3f5f"
            },
            "baxis": {
             "endlinecolor": "#2a3f5f",
             "gridcolor": "white",
             "linecolor": "white",
             "minorgridcolor": "white",
             "startlinecolor": "#2a3f5f"
            },
            "type": "carpet"
           }
          ],
          "choropleth": [
           {
            "colorbar": {
             "outlinewidth": 0,
             "ticks": ""
            },
            "type": "choropleth"
           }
          ],
          "contour": [
           {
            "colorbar": {
             "outlinewidth": 0,
             "ticks": ""
            },
            "colorscale": [
             [
              0,
              "#0d0887"
             ],
             [
              0.1111111111111111,
              "#46039f"
             ],
             [
              0.2222222222222222,
              "#7201a8"
             ],
             [
              0.3333333333333333,
              "#9c179e"
             ],
             [
              0.4444444444444444,
              "#bd3786"
             ],
             [
              0.5555555555555556,
              "#d8576b"
             ],
             [
              0.6666666666666666,
              "#ed7953"
             ],
             [
              0.7777777777777778,
              "#fb9f3a"
             ],
             [
              0.8888888888888888,
              "#fdca26"
             ],
             [
              1,
              "#f0f921"
             ]
            ],
            "type": "contour"
           }
          ],
          "contourcarpet": [
           {
            "colorbar": {
             "outlinewidth": 0,
             "ticks": ""
            },
            "type": "contourcarpet"
           }
          ],
          "heatmap": [
           {
            "colorbar": {
             "outlinewidth": 0,
             "ticks": ""
            },
            "colorscale": [
             [
              0,
              "#0d0887"
             ],
             [
              0.1111111111111111,
              "#46039f"
             ],
             [
              0.2222222222222222,
              "#7201a8"
             ],
             [
              0.3333333333333333,
              "#9c179e"
             ],
             [
              0.4444444444444444,
              "#bd3786"
             ],
             [
              0.5555555555555556,
              "#d8576b"
             ],
             [
              0.6666666666666666,
              "#ed7953"
             ],
             [
              0.7777777777777778,
              "#fb9f3a"
             ],
             [
              0.8888888888888888,
              "#fdca26"
             ],
             [
              1,
              "#f0f921"
             ]
            ],
            "type": "heatmap"
           }
          ],
          "heatmapgl": [
           {
            "colorbar": {
             "outlinewidth": 0,
             "ticks": ""
            },
            "colorscale": [
             [
              0,
              "#0d0887"
             ],
             [
              0.1111111111111111,
              "#46039f"
             ],
             [
              0.2222222222222222,
              "#7201a8"
             ],
             [
              0.3333333333333333,
              "#9c179e"
             ],
             [
              0.4444444444444444,
              "#bd3786"
             ],
             [
              0.5555555555555556,
              "#d8576b"
             ],
             [
              0.6666666666666666,
              "#ed7953"
             ],
             [
              0.7777777777777778,
              "#fb9f3a"
             ],
             [
              0.8888888888888888,
              "#fdca26"
             ],
             [
              1,
              "#f0f921"
             ]
            ],
            "type": "heatmapgl"
           }
          ],
          "histogram": [
           {
            "marker": {
             "pattern": {
              "fillmode": "overlay",
              "size": 10,
              "solidity": 0.2
             }
            },
            "type": "histogram"
           }
          ],
          "histogram2d": [
           {
            "colorbar": {
             "outlinewidth": 0,
             "ticks": ""
            },
            "colorscale": [
             [
              0,
              "#0d0887"
             ],
             [
              0.1111111111111111,
              "#46039f"
             ],
             [
              0.2222222222222222,
              "#7201a8"
             ],
             [
              0.3333333333333333,
              "#9c179e"
             ],
             [
              0.4444444444444444,
              "#bd3786"
             ],
             [
              0.5555555555555556,
              "#d8576b"
             ],
             [
              0.6666666666666666,
              "#ed7953"
             ],
             [
              0.7777777777777778,
              "#fb9f3a"
             ],
             [
              0.8888888888888888,
              "#fdca26"
             ],
             [
              1,
              "#f0f921"
             ]
            ],
            "type": "histogram2d"
           }
          ],
          "histogram2dcontour": [
           {
            "colorbar": {
             "outlinewidth": 0,
             "ticks": ""
            },
            "colorscale": [
             [
              0,
              "#0d0887"
             ],
             [
              0.1111111111111111,
              "#46039f"
             ],
             [
              0.2222222222222222,
              "#7201a8"
             ],
             [
              0.3333333333333333,
              "#9c179e"
             ],
             [
              0.4444444444444444,
              "#bd3786"
             ],
             [
              0.5555555555555556,
              "#d8576b"
             ],
             [
              0.6666666666666666,
              "#ed7953"
             ],
             [
              0.7777777777777778,
              "#fb9f3a"
             ],
             [
              0.8888888888888888,
              "#fdca26"
             ],
             [
              1,
              "#f0f921"
             ]
            ],
            "type": "histogram2dcontour"
           }
          ],
          "mesh3d": [
           {
            "colorbar": {
             "outlinewidth": 0,
             "ticks": ""
            },
            "type": "mesh3d"
           }
          ],
          "parcoords": [
           {
            "line": {
             "colorbar": {
              "outlinewidth": 0,
              "ticks": ""
             }
            },
            "type": "parcoords"
           }
          ],
          "pie": [
           {
            "automargin": true,
            "type": "pie"
           }
          ],
          "scatter": [
           {
            "fillpattern": {
             "fillmode": "overlay",
             "size": 10,
             "solidity": 0.2
            },
            "type": "scatter"
           }
          ],
          "scatter3d": [
           {
            "line": {
             "colorbar": {
              "outlinewidth": 0,
              "ticks": ""
             }
            },
            "marker": {
             "colorbar": {
              "outlinewidth": 0,
              "ticks": ""
             }
            },
            "type": "scatter3d"
           }
          ],
          "scattercarpet": [
           {
            "marker": {
             "colorbar": {
              "outlinewidth": 0,
              "ticks": ""
             }
            },
            "type": "scattercarpet"
           }
          ],
          "scattergeo": [
           {
            "marker": {
             "colorbar": {
              "outlinewidth": 0,
              "ticks": ""
             }
            },
            "type": "scattergeo"
           }
          ],
          "scattergl": [
           {
            "marker": {
             "colorbar": {
              "outlinewidth": 0,
              "ticks": ""
             }
            },
            "type": "scattergl"
           }
          ],
          "scattermapbox": [
           {
            "marker": {
             "colorbar": {
              "outlinewidth": 0,
              "ticks": ""
             }
            },
            "type": "scattermapbox"
           }
          ],
          "scatterpolar": [
           {
            "marker": {
             "colorbar": {
              "outlinewidth": 0,
              "ticks": ""
             }
            },
            "type": "scatterpolar"
           }
          ],
          "scatterpolargl": [
           {
            "marker": {
             "colorbar": {
              "outlinewidth": 0,
              "ticks": ""
             }
            },
            "type": "scatterpolargl"
           }
          ],
          "scatterternary": [
           {
            "marker": {
             "colorbar": {
              "outlinewidth": 0,
              "ticks": ""
             }
            },
            "type": "scatterternary"
           }
          ],
          "surface": [
           {
            "colorbar": {
             "outlinewidth": 0,
             "ticks": ""
            },
            "colorscale": [
             [
              0,
              "#0d0887"
             ],
             [
              0.1111111111111111,
              "#46039f"
             ],
             [
              0.2222222222222222,
              "#7201a8"
             ],
             [
              0.3333333333333333,
              "#9c179e"
             ],
             [
              0.4444444444444444,
              "#bd3786"
             ],
             [
              0.5555555555555556,
              "#d8576b"
             ],
             [
              0.6666666666666666,
              "#ed7953"
             ],
             [
              0.7777777777777778,
              "#fb9f3a"
             ],
             [
              0.8888888888888888,
              "#fdca26"
             ],
             [
              1,
              "#f0f921"
             ]
            ],
            "type": "surface"
           }
          ],
          "table": [
           {
            "cells": {
             "fill": {
              "color": "#EBF0F8"
             },
             "line": {
              "color": "white"
             }
            },
            "header": {
             "fill": {
              "color": "#C8D4E3"
             },
             "line": {
              "color": "white"
             }
            },
            "type": "table"
           }
          ]
         },
         "layout": {
          "annotationdefaults": {
           "arrowcolor": "#2a3f5f",
           "arrowhead": 0,
           "arrowwidth": 1
          },
          "autotypenumbers": "strict",
          "coloraxis": {
           "colorbar": {
            "outlinewidth": 0,
            "ticks": ""
           }
          },
          "colorscale": {
           "diverging": [
            [
             0,
             "#8e0152"
            ],
            [
             0.1,
             "#c51b7d"
            ],
            [
             0.2,
             "#de77ae"
            ],
            [
             0.3,
             "#f1b6da"
            ],
            [
             0.4,
             "#fde0ef"
            ],
            [
             0.5,
             "#f7f7f7"
            ],
            [
             0.6,
             "#e6f5d0"
            ],
            [
             0.7,
             "#b8e186"
            ],
            [
             0.8,
             "#7fbc41"
            ],
            [
             0.9,
             "#4d9221"
            ],
            [
             1,
             "#276419"
            ]
           ],
           "sequential": [
            [
             0,
             "#0d0887"
            ],
            [
             0.1111111111111111,
             "#46039f"
            ],
            [
             0.2222222222222222,
             "#7201a8"
            ],
            [
             0.3333333333333333,
             "#9c179e"
            ],
            [
             0.4444444444444444,
             "#bd3786"
            ],
            [
             0.5555555555555556,
             "#d8576b"
            ],
            [
             0.6666666666666666,
             "#ed7953"
            ],
            [
             0.7777777777777778,
             "#fb9f3a"
            ],
            [
             0.8888888888888888,
             "#fdca26"
            ],
            [
             1,
             "#f0f921"
            ]
           ],
           "sequentialminus": [
            [
             0,
             "#0d0887"
            ],
            [
             0.1111111111111111,
             "#46039f"
            ],
            [
             0.2222222222222222,
             "#7201a8"
            ],
            [
             0.3333333333333333,
             "#9c179e"
            ],
            [
             0.4444444444444444,
             "#bd3786"
            ],
            [
             0.5555555555555556,
             "#d8576b"
            ],
            [
             0.6666666666666666,
             "#ed7953"
            ],
            [
             0.7777777777777778,
             "#fb9f3a"
            ],
            [
             0.8888888888888888,
             "#fdca26"
            ],
            [
             1,
             "#f0f921"
            ]
           ]
          },
          "colorway": [
           "#636efa",
           "#EF553B",
           "#00cc96",
           "#ab63fa",
           "#FFA15A",
           "#19d3f3",
           "#FF6692",
           "#B6E880",
           "#FF97FF",
           "#FECB52"
          ],
          "font": {
           "color": "#2a3f5f"
          },
          "geo": {
           "bgcolor": "white",
           "lakecolor": "white",
           "landcolor": "#E5ECF6",
           "showlakes": true,
           "showland": true,
           "subunitcolor": "white"
          },
          "hoverlabel": {
           "align": "left"
          },
          "hovermode": "closest",
          "mapbox": {
           "style": "light"
          },
          "paper_bgcolor": "white",
          "plot_bgcolor": "#E5ECF6",
          "polar": {
           "angularaxis": {
            "gridcolor": "white",
            "linecolor": "white",
            "ticks": ""
           },
           "bgcolor": "#E5ECF6",
           "radialaxis": {
            "gridcolor": "white",
            "linecolor": "white",
            "ticks": ""
           }
          },
          "scene": {
           "xaxis": {
            "backgroundcolor": "#E5ECF6",
            "gridcolor": "white",
            "gridwidth": 2,
            "linecolor": "white",
            "showbackground": true,
            "ticks": "",
            "zerolinecolor": "white"
           },
           "yaxis": {
            "backgroundcolor": "#E5ECF6",
            "gridcolor": "white",
            "gridwidth": 2,
            "linecolor": "white",
            "showbackground": true,
            "ticks": "",
            "zerolinecolor": "white"
           },
           "zaxis": {
            "backgroundcolor": "#E5ECF6",
            "gridcolor": "white",
            "gridwidth": 2,
            "linecolor": "white",
            "showbackground": true,
            "ticks": "",
            "zerolinecolor": "white"
           }
          },
          "shapedefaults": {
           "line": {
            "color": "#2a3f5f"
           }
          },
          "ternary": {
           "aaxis": {
            "gridcolor": "white",
            "linecolor": "white",
            "ticks": ""
           },
           "baxis": {
            "gridcolor": "white",
            "linecolor": "white",
            "ticks": ""
           },
           "bgcolor": "#E5ECF6",
           "caxis": {
            "gridcolor": "white",
            "linecolor": "white",
            "ticks": ""
           }
          },
          "title": {
           "x": 0.05
          },
          "xaxis": {
           "automargin": true,
           "gridcolor": "white",
           "linecolor": "white",
           "ticks": "",
           "title": {
            "standoff": 15
           },
           "zerolinecolor": "white",
           "zerolinewidth": 2
          },
          "yaxis": {
           "automargin": true,
           "gridcolor": "white",
           "linecolor": "white",
           "ticks": "",
           "title": {
            "standoff": 15
           },
           "zerolinecolor": "white",
           "zerolinewidth": 2
          }
         }
        },
        "title": {
         "text": "Average Fatigue Index of Team Lugano in each Period"
        },
        "xaxis": {
         "title": {
          "text": "Periods"
         }
        },
        "yaxis": {
         "title": {
          "text": "Average Fatigue Index"
         }
        }
       }
      }
     },
     "metadata": {},
     "output_type": "display_data"
    }
   ],
   "source": [
    "import plotly.graph_objects as go\n",
    "\n",
    "# Create a list of the average fatigue index of players in each period and overtime\n",
    "avg_FI = [avg_FI_period1, avg_FI_period2, avg_FI_period3, avg_FI_overtime]\n",
    "\n",
    "# Create a list of the periods and overtime\n",
    "periods = [\"Period 1\", \"Period 2\", \"Period 3\", \"Overtime\"]\n",
    "\n",
    "# Create a Plotly figure for an interactive line chart\n",
    "fig = go.Figure(\n",
    "    data=go.Scatter(\n",
    "        x=periods, y=avg_FI, mode=\"lines+markers\", marker=dict(color=\"green\")\n",
    "    )\n",
    ")\n",
    "\n",
    "# Customize the chart layout\n",
    "fig.update_layout(\n",
    "    title=\"Average Fatigue Index of Team Lugano in each Period\",\n",
    "    xaxis=dict(title=\"Periods\"),\n",
    "    yaxis=dict(title=\"Average Fatigue Index\"),\n",
    ")\n",
    "\n",
    "# Show the interactive chart\n",
    "fig.show()"
   ]
  },
  {
   "cell_type": "code",
   "execution_count": null,
   "metadata": {},
   "outputs": [],
   "source": []
  },
  {
   "cell_type": "code",
   "execution_count": 127,
   "metadata": {},
   "outputs": [
    {
     "data": {
      "application/vnd.plotly.v1+json": {
       "config": {
        "plotlyServerURL": "https://plot.ly"
       },
       "data": [
        {
         "marker": {
          "color": "green"
         },
         "mode": "lines+markers",
         "type": "scatter",
         "x": [
          "Period 1",
          "Period 2",
          "Period 3",
          "Overtime"
         ],
         "y": [
          0.7306674507497796,
          2.192968372734362,
          3.5601681721771783,
          4.812971971043175
         ]
        }
       ],
       "layout": {
        "template": {
         "data": {
          "bar": [
           {
            "error_x": {
             "color": "#2a3f5f"
            },
            "error_y": {
             "color": "#2a3f5f"
            },
            "marker": {
             "line": {
              "color": "#E5ECF6",
              "width": 0.5
             },
             "pattern": {
              "fillmode": "overlay",
              "size": 10,
              "solidity": 0.2
             }
            },
            "type": "bar"
           }
          ],
          "barpolar": [
           {
            "marker": {
             "line": {
              "color": "#E5ECF6",
              "width": 0.5
             },
             "pattern": {
              "fillmode": "overlay",
              "size": 10,
              "solidity": 0.2
             }
            },
            "type": "barpolar"
           }
          ],
          "carpet": [
           {
            "aaxis": {
             "endlinecolor": "#2a3f5f",
             "gridcolor": "white",
             "linecolor": "white",
             "minorgridcolor": "white",
             "startlinecolor": "#2a3f5f"
            },
            "baxis": {
             "endlinecolor": "#2a3f5f",
             "gridcolor": "white",
             "linecolor": "white",
             "minorgridcolor": "white",
             "startlinecolor": "#2a3f5f"
            },
            "type": "carpet"
           }
          ],
          "choropleth": [
           {
            "colorbar": {
             "outlinewidth": 0,
             "ticks": ""
            },
            "type": "choropleth"
           }
          ],
          "contour": [
           {
            "colorbar": {
             "outlinewidth": 0,
             "ticks": ""
            },
            "colorscale": [
             [
              0,
              "#0d0887"
             ],
             [
              0.1111111111111111,
              "#46039f"
             ],
             [
              0.2222222222222222,
              "#7201a8"
             ],
             [
              0.3333333333333333,
              "#9c179e"
             ],
             [
              0.4444444444444444,
              "#bd3786"
             ],
             [
              0.5555555555555556,
              "#d8576b"
             ],
             [
              0.6666666666666666,
              "#ed7953"
             ],
             [
              0.7777777777777778,
              "#fb9f3a"
             ],
             [
              0.8888888888888888,
              "#fdca26"
             ],
             [
              1,
              "#f0f921"
             ]
            ],
            "type": "contour"
           }
          ],
          "contourcarpet": [
           {
            "colorbar": {
             "outlinewidth": 0,
             "ticks": ""
            },
            "type": "contourcarpet"
           }
          ],
          "heatmap": [
           {
            "colorbar": {
             "outlinewidth": 0,
             "ticks": ""
            },
            "colorscale": [
             [
              0,
              "#0d0887"
             ],
             [
              0.1111111111111111,
              "#46039f"
             ],
             [
              0.2222222222222222,
              "#7201a8"
             ],
             [
              0.3333333333333333,
              "#9c179e"
             ],
             [
              0.4444444444444444,
              "#bd3786"
             ],
             [
              0.5555555555555556,
              "#d8576b"
             ],
             [
              0.6666666666666666,
              "#ed7953"
             ],
             [
              0.7777777777777778,
              "#fb9f3a"
             ],
             [
              0.8888888888888888,
              "#fdca26"
             ],
             [
              1,
              "#f0f921"
             ]
            ],
            "type": "heatmap"
           }
          ],
          "heatmapgl": [
           {
            "colorbar": {
             "outlinewidth": 0,
             "ticks": ""
            },
            "colorscale": [
             [
              0,
              "#0d0887"
             ],
             [
              0.1111111111111111,
              "#46039f"
             ],
             [
              0.2222222222222222,
              "#7201a8"
             ],
             [
              0.3333333333333333,
              "#9c179e"
             ],
             [
              0.4444444444444444,
              "#bd3786"
             ],
             [
              0.5555555555555556,
              "#d8576b"
             ],
             [
              0.6666666666666666,
              "#ed7953"
             ],
             [
              0.7777777777777778,
              "#fb9f3a"
             ],
             [
              0.8888888888888888,
              "#fdca26"
             ],
             [
              1,
              "#f0f921"
             ]
            ],
            "type": "heatmapgl"
           }
          ],
          "histogram": [
           {
            "marker": {
             "pattern": {
              "fillmode": "overlay",
              "size": 10,
              "solidity": 0.2
             }
            },
            "type": "histogram"
           }
          ],
          "histogram2d": [
           {
            "colorbar": {
             "outlinewidth": 0,
             "ticks": ""
            },
            "colorscale": [
             [
              0,
              "#0d0887"
             ],
             [
              0.1111111111111111,
              "#46039f"
             ],
             [
              0.2222222222222222,
              "#7201a8"
             ],
             [
              0.3333333333333333,
              "#9c179e"
             ],
             [
              0.4444444444444444,
              "#bd3786"
             ],
             [
              0.5555555555555556,
              "#d8576b"
             ],
             [
              0.6666666666666666,
              "#ed7953"
             ],
             [
              0.7777777777777778,
              "#fb9f3a"
             ],
             [
              0.8888888888888888,
              "#fdca26"
             ],
             [
              1,
              "#f0f921"
             ]
            ],
            "type": "histogram2d"
           }
          ],
          "histogram2dcontour": [
           {
            "colorbar": {
             "outlinewidth": 0,
             "ticks": ""
            },
            "colorscale": [
             [
              0,
              "#0d0887"
             ],
             [
              0.1111111111111111,
              "#46039f"
             ],
             [
              0.2222222222222222,
              "#7201a8"
             ],
             [
              0.3333333333333333,
              "#9c179e"
             ],
             [
              0.4444444444444444,
              "#bd3786"
             ],
             [
              0.5555555555555556,
              "#d8576b"
             ],
             [
              0.6666666666666666,
              "#ed7953"
             ],
             [
              0.7777777777777778,
              "#fb9f3a"
             ],
             [
              0.8888888888888888,
              "#fdca26"
             ],
             [
              1,
              "#f0f921"
             ]
            ],
            "type": "histogram2dcontour"
           }
          ],
          "mesh3d": [
           {
            "colorbar": {
             "outlinewidth": 0,
             "ticks": ""
            },
            "type": "mesh3d"
           }
          ],
          "parcoords": [
           {
            "line": {
             "colorbar": {
              "outlinewidth": 0,
              "ticks": ""
             }
            },
            "type": "parcoords"
           }
          ],
          "pie": [
           {
            "automargin": true,
            "type": "pie"
           }
          ],
          "scatter": [
           {
            "fillpattern": {
             "fillmode": "overlay",
             "size": 10,
             "solidity": 0.2
            },
            "type": "scatter"
           }
          ],
          "scatter3d": [
           {
            "line": {
             "colorbar": {
              "outlinewidth": 0,
              "ticks": ""
             }
            },
            "marker": {
             "colorbar": {
              "outlinewidth": 0,
              "ticks": ""
             }
            },
            "type": "scatter3d"
           }
          ],
          "scattercarpet": [
           {
            "marker": {
             "colorbar": {
              "outlinewidth": 0,
              "ticks": ""
             }
            },
            "type": "scattercarpet"
           }
          ],
          "scattergeo": [
           {
            "marker": {
             "colorbar": {
              "outlinewidth": 0,
              "ticks": ""
             }
            },
            "type": "scattergeo"
           }
          ],
          "scattergl": [
           {
            "marker": {
             "colorbar": {
              "outlinewidth": 0,
              "ticks": ""
             }
            },
            "type": "scattergl"
           }
          ],
          "scattermapbox": [
           {
            "marker": {
             "colorbar": {
              "outlinewidth": 0,
              "ticks": ""
             }
            },
            "type": "scattermapbox"
           }
          ],
          "scatterpolar": [
           {
            "marker": {
             "colorbar": {
              "outlinewidth": 0,
              "ticks": ""
             }
            },
            "type": "scatterpolar"
           }
          ],
          "scatterpolargl": [
           {
            "marker": {
             "colorbar": {
              "outlinewidth": 0,
              "ticks": ""
             }
            },
            "type": "scatterpolargl"
           }
          ],
          "scatterternary": [
           {
            "marker": {
             "colorbar": {
              "outlinewidth": 0,
              "ticks": ""
             }
            },
            "type": "scatterternary"
           }
          ],
          "surface": [
           {
            "colorbar": {
             "outlinewidth": 0,
             "ticks": ""
            },
            "colorscale": [
             [
              0,
              "#0d0887"
             ],
             [
              0.1111111111111111,
              "#46039f"
             ],
             [
              0.2222222222222222,
              "#7201a8"
             ],
             [
              0.3333333333333333,
              "#9c179e"
             ],
             [
              0.4444444444444444,
              "#bd3786"
             ],
             [
              0.5555555555555556,
              "#d8576b"
             ],
             [
              0.6666666666666666,
              "#ed7953"
             ],
             [
              0.7777777777777778,
              "#fb9f3a"
             ],
             [
              0.8888888888888888,
              "#fdca26"
             ],
             [
              1,
              "#f0f921"
             ]
            ],
            "type": "surface"
           }
          ],
          "table": [
           {
            "cells": {
             "fill": {
              "color": "#EBF0F8"
             },
             "line": {
              "color": "white"
             }
            },
            "header": {
             "fill": {
              "color": "#C8D4E3"
             },
             "line": {
              "color": "white"
             }
            },
            "type": "table"
           }
          ]
         },
         "layout": {
          "annotationdefaults": {
           "arrowcolor": "#2a3f5f",
           "arrowhead": 0,
           "arrowwidth": 1
          },
          "autotypenumbers": "strict",
          "coloraxis": {
           "colorbar": {
            "outlinewidth": 0,
            "ticks": ""
           }
          },
          "colorscale": {
           "diverging": [
            [
             0,
             "#8e0152"
            ],
            [
             0.1,
             "#c51b7d"
            ],
            [
             0.2,
             "#de77ae"
            ],
            [
             0.3,
             "#f1b6da"
            ],
            [
             0.4,
             "#fde0ef"
            ],
            [
             0.5,
             "#f7f7f7"
            ],
            [
             0.6,
             "#e6f5d0"
            ],
            [
             0.7,
             "#b8e186"
            ],
            [
             0.8,
             "#7fbc41"
            ],
            [
             0.9,
             "#4d9221"
            ],
            [
             1,
             "#276419"
            ]
           ],
           "sequential": [
            [
             0,
             "#0d0887"
            ],
            [
             0.1111111111111111,
             "#46039f"
            ],
            [
             0.2222222222222222,
             "#7201a8"
            ],
            [
             0.3333333333333333,
             "#9c179e"
            ],
            [
             0.4444444444444444,
             "#bd3786"
            ],
            [
             0.5555555555555556,
             "#d8576b"
            ],
            [
             0.6666666666666666,
             "#ed7953"
            ],
            [
             0.7777777777777778,
             "#fb9f3a"
            ],
            [
             0.8888888888888888,
             "#fdca26"
            ],
            [
             1,
             "#f0f921"
            ]
           ],
           "sequentialminus": [
            [
             0,
             "#0d0887"
            ],
            [
             0.1111111111111111,
             "#46039f"
            ],
            [
             0.2222222222222222,
             "#7201a8"
            ],
            [
             0.3333333333333333,
             "#9c179e"
            ],
            [
             0.4444444444444444,
             "#bd3786"
            ],
            [
             0.5555555555555556,
             "#d8576b"
            ],
            [
             0.6666666666666666,
             "#ed7953"
            ],
            [
             0.7777777777777778,
             "#fb9f3a"
            ],
            [
             0.8888888888888888,
             "#fdca26"
            ],
            [
             1,
             "#f0f921"
            ]
           ]
          },
          "colorway": [
           "#636efa",
           "#EF553B",
           "#00cc96",
           "#ab63fa",
           "#FFA15A",
           "#19d3f3",
           "#FF6692",
           "#B6E880",
           "#FF97FF",
           "#FECB52"
          ],
          "font": {
           "color": "#2a3f5f"
          },
          "geo": {
           "bgcolor": "white",
           "lakecolor": "white",
           "landcolor": "#E5ECF6",
           "showlakes": true,
           "showland": true,
           "subunitcolor": "white"
          },
          "hoverlabel": {
           "align": "left"
          },
          "hovermode": "closest",
          "mapbox": {
           "style": "light"
          },
          "paper_bgcolor": "white",
          "plot_bgcolor": "#E5ECF6",
          "polar": {
           "angularaxis": {
            "gridcolor": "white",
            "linecolor": "white",
            "ticks": ""
           },
           "bgcolor": "#E5ECF6",
           "radialaxis": {
            "gridcolor": "white",
            "linecolor": "white",
            "ticks": ""
           }
          },
          "scene": {
           "xaxis": {
            "backgroundcolor": "#E5ECF6",
            "gridcolor": "white",
            "gridwidth": 2,
            "linecolor": "white",
            "showbackground": true,
            "ticks": "",
            "zerolinecolor": "white"
           },
           "yaxis": {
            "backgroundcolor": "#E5ECF6",
            "gridcolor": "white",
            "gridwidth": 2,
            "linecolor": "white",
            "showbackground": true,
            "ticks": "",
            "zerolinecolor": "white"
           },
           "zaxis": {
            "backgroundcolor": "#E5ECF6",
            "gridcolor": "white",
            "gridwidth": 2,
            "linecolor": "white",
            "showbackground": true,
            "ticks": "",
            "zerolinecolor": "white"
           }
          },
          "shapedefaults": {
           "line": {
            "color": "#2a3f5f"
           }
          },
          "ternary": {
           "aaxis": {
            "gridcolor": "white",
            "linecolor": "white",
            "ticks": ""
           },
           "baxis": {
            "gridcolor": "white",
            "linecolor": "white",
            "ticks": ""
           },
           "bgcolor": "#E5ECF6",
           "caxis": {
            "gridcolor": "white",
            "linecolor": "white",
            "ticks": ""
           }
          },
          "title": {
           "x": 0.05
          },
          "xaxis": {
           "automargin": true,
           "gridcolor": "white",
           "linecolor": "white",
           "ticks": "",
           "title": {
            "standoff": 15
           },
           "zerolinecolor": "white",
           "zerolinewidth": 2
          },
          "yaxis": {
           "automargin": true,
           "gridcolor": "white",
           "linecolor": "white",
           "ticks": "",
           "title": {
            "standoff": 15
           },
           "zerolinecolor": "white",
           "zerolinewidth": 2
          }
         }
        },
        "title": {
         "text": "Cumulative - Average Fatigue Index of Team Lugano"
        },
        "xaxis": {
         "title": {
          "text": "Periods"
         }
        },
        "yaxis": {
         "title": {
          "text": "Cumulative Average Fatigue Index"
         }
        }
       }
      }
     },
     "metadata": {},
     "output_type": "display_data"
    }
   ],
   "source": [
    "import plotly.graph_objects as go\n",
    "\n",
    "# Create a list of the average fatigue index of players in each period and overtime\n",
    "avg_FI = [avg_FI_period1, avg_FI_period2, avg_FI_period3, avg_FI_overtime]\n",
    "\n",
    "# Create a list of the periods and overtime\n",
    "periods = [\"Period 1\", \"Period 2\", \"Period 3\", \"Overtime\"]\n",
    "\n",
    "# Calculate cumulative values for the y-axis\n",
    "cumulative_avg_FI = [sum(avg_FI[: i + 1]) for i in range(len(avg_FI))]\n",
    "\n",
    "# Create a Plotly figure for an interactive line chart\n",
    "fig = go.Figure(\n",
    "    data=go.Scatter(\n",
    "        x=periods, y=cumulative_avg_FI, mode=\"lines+markers\", marker=dict(color=\"green\")\n",
    "    )\n",
    ")\n",
    "\n",
    "# Customize the chart layout\n",
    "fig.update_layout(\n",
    "    title=\"Cumulative - Average Fatigue Index of Team Lugano\",\n",
    "    xaxis=dict(title=\"Periods\"),\n",
    "    yaxis=dict(title=\"Cumulative Average Fatigue Index\"),\n",
    ")\n",
    "\n",
    "# Show the interactive chart\n",
    "fig.show()"
   ]
  },
  {
   "cell_type": "code",
   "execution_count": null,
   "metadata": {},
   "outputs": [],
   "source": []
  }
 ],
 "metadata": {
  "kernelspec": {
   "display_name": "ice-venv",
   "language": "python",
   "name": "python3"
  },
  "language_info": {
   "codemirror_mode": {
    "name": "ipython",
    "version": 3
   },
   "file_extension": ".py",
   "mimetype": "text/x-python",
   "name": "python",
   "nbconvert_exporter": "python",
   "pygments_lexer": "ipython3",
   "version": "3.10.11"
  },
  "orig_nbformat": 4
 },
 "nbformat": 4,
 "nbformat_minor": 2
}
