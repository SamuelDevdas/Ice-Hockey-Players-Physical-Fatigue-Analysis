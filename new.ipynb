{
 "cells": [
  {
   "cell_type": "markdown",
   "metadata": {},
   "source": [
    "# ESTIMATING \"RELATIVE PHYSICAL FATIGUE INDEX\" OF PLAYERS USING ICE HOCKEY METRICS\n",
    "\n",
    "#### **Objective:** To develop an application that enables coaches to input match data and obtain instant feedback on potential fatigue levels,based on the dataset's metrics.\n",
    "\n",
    "#### **Functionality:** Upload data files and obtain instant feedback on potential fatigue levels.\n",
    "\n",
    "#### **Applications:**\n",
    "\n",
    "1. **Player Management and Rotation:**\n",
    "   Use the Fatigue Index (FI) to guide real-time player rotation decisions, optimizing performance and minimizing injury risks.\n",
    "\n",
    "2. **Injury Prevention in Training:**\n",
    "   Incorporate FI to tailor training intensity and recovery, reducing the likelihood of player injuries.\n",
    "\n",
    "3. **Performance Analysis and Strategy:**\n",
    "   Integrate FI with performance metrics to refine game strategies, making informed in-game decisions for optimal outcomes.\n"
   ]
  },
  {
   "cell_type": "markdown",
   "metadata": {},
   "source": [
    "### DATA LOADING AND PREPROCESSING\n"
   ]
  },
  {
   "cell_type": "code",
   "execution_count": null,
   "metadata": {},
   "outputs": [],
   "source": []
  },
  {
   "cell_type": "markdown",
   "metadata": {},
   "source": [
    "#### Filtering the dataset to include only the relevant columns"
   ]
  },
  {
   "cell_type": "code",
   "execution_count": null,
   "metadata": {},
   "outputs": [],
   "source": [
    "# List of columns to keep in the dataset\n",
    "columns_to_keep = [\n",
    "    \"Group name\",\n",
    "    \"Position\",\n",
    "    \"Description\",\n",
    "    \"Duration (s)\",\n",
    "    \"Distance (m)\",\n",
    "    \"Time on Ice (s)\",\n",
    "    \"High Metabolic Power Distance (m)\",\n",
    "    \"Mechanical Intensity\",\n",
    "]\n",
    "\n",
    "\n",
    "# Function to filter the columns\n",
    "def filter_columns(df, columns_to_keep):\n",
    "    \"\"\"\n",
    "    Filters a DataFrame to only include specified columns.\n",
    "\n",
    "    Parameters:\n",
    "    - df (pd.DataFrame): The original DataFrame.\n",
    "    - columns_to_keep (list of str): List of column names to keep.\n",
    "\n",
    "    Returns:\n",
    "    - pd.DataFrame: A new DataFrame with only the specified columns.\n",
    "    \"\"\"\n",
    "    return df[columns_to_keep]\n",
    "\n",
    "\n",
    "# Example usage:\n",
    "df_imp_lugano = filter_columns(df_lugano, columns_to_keep)\n",
    "df_imp_zsc = filter_columns(df_zsc, columns_to_keep)\n",
    "\n",
    "# Print the first 5 rows of the datasets\n",
    "print(df_imp_lugano.head())\n",
    "\n",
    "print(\n",
    "    \"====================================================================================================\"\n",
    ")\n",
    "\n",
    "print(df_imp_zsc.head())"
   ]
  },
  {
   "cell_type": "markdown",
   "metadata": {},
   "source": [
    "#### Handling missing values"
   ]
  },
  {
   "cell_type": "code",
   "execution_count": null,
   "metadata": {},
   "outputs": [],
   "source": [
    "# Check if any NA in Each Row and column of the dataframes\n",
    "print(df_imp_lugano.isnull().sum(axis=0))\n",
    "# df_imp_lugano.isna().any(axis=1)\n",
    "\n",
    "# We see there are no NA values in the match dataframe\n",
    "\n",
    "print(\n",
    "    \"=============================================================================================================\"\n",
    ")\n",
    "# Check if any NA in Each Column of the dataframe\n",
    "print(df_imp_zsc.isnull().sum(axis=0))\n",
    "\n",
    "# We see 14 and 7, NA values in the column \"Mechanical Intensity\" in the two dataframes respectively"
   ]
  },
  {
   "cell_type": "code",
   "execution_count": null,
   "metadata": {},
   "outputs": [],
   "source": [
    "# Remove the rows with NA values in the column \"Mechanical Intensity\"\n",
    "df_imp_lugano = df_imp_lugano.dropna(subset=[\"Mechanical Intensity\"])\n",
    "\n",
    "df_imp_zsc = df_imp_zsc.dropna(subset=[\"Mechanical Intensity\"])\n",
    "\n",
    "# Check if any NA in Each Column of the dataframe\n",
    "print(df_imp_lugano.isnull().sum(axis=0))\n",
    "print(df_imp_lugano.shape)\n",
    "\n",
    "print(\n",
    "    \"=============================================================================================================\"\n",
    ")\n",
    "\n",
    "print(df_imp_zsc.isnull().sum(axis=0))\n",
    "print(df_imp_zsc.shape)"
   ]
  },
  {
   "cell_type": "markdown",
   "metadata": {},
   "source": [
    "#### Creating a function to remove irrelevant rows or 'Players'"
   ]
  },
  {
   "cell_type": "code",
   "execution_count": null,
   "metadata": {},
   "outputs": [],
   "source": [
    "# Function to remove rows where the value of column Group name is not equal to 'Offense' or 'Defense'\n",
    "# This is done to remove the rows for the guest team present in the ZSC dataset\n",
    "\n",
    "\n",
    "def filter_group_name(df):\n",
    "    \"\"\"\n",
    "    Filters the DataFrame to retain rows where 'Group name' is 'Offense' or 'Defense'.\n",
    "\n",
    "    Parameters:\n",
    "    - df (pd.DataFrame): The input DataFrame.\n",
    "\n",
    "    Returns:\n",
    "    - pd.DataFrame: The filtered DataFrame.\n",
    "    \"\"\"\n",
    "    return df[df[\"Group name\"].isin([\"Offense\", \"Defense\", \"Goalies\"])]\n",
    "\n",
    "\n",
    "# Example usage:\n",
    "df_filtered_zsc = filter_group_name(df_imp_zsc)\n",
    "\n",
    "df_filtered_lugano = filter_group_name(df_imp_lugano)\n",
    "\n",
    "# Display the filtered data:\n",
    "# df_filtered_zsc\n",
    "\n",
    "# Display the filtered data:\n",
    "df_filtered_lugano"
   ]
  },
  {
   "cell_type": "markdown",
   "metadata": {},
   "source": [
    "#### Adding the Player ID only to the rows with Column 'Description' = 'vs Lugano' or 'vs Zurich' i.e. Game data only, NOT periods"
   ]
  },
  {
   "cell_type": "code",
   "execution_count": null,
   "metadata": {},
   "outputs": [],
   "source": [
    "# Load the Original Datasets\n",
    "lugano = pd.read_csv(\"LUGANO-ORIG.csv\", encoding=\"ISO-8859-1\", sep=\";\")\n",
    "zsc = pd.read_csv(\"ZHC-ORIG.csv\", encoding=\"ISO-8859-1\", sep=\";\")"
   ]
  },
  {
   "cell_type": "code",
   "execution_count": null,
   "metadata": {},
   "outputs": [],
   "source": [
    "# We change the delimiter to ',' rename and save the file for ease of use\n",
    "lugano.to_csv(\"lhc-lugano.csv\", sep=\",\", index=False)\n",
    "zsc.to_csv(\"lhc-zsc.csv\", sep=\",\", index=False)"
   ]
  },
  {
   "cell_type": "code",
   "execution_count": null,
   "metadata": {},
   "outputs": [],
   "source": [
    "# Load the updated datasets into Pandas DataFrame\n",
    "df_lugano = pd.read_csv(\"lhc-lugano.csv\", encoding=\"ISO-8859-1\")\n",
    "df_zsc = pd.read_csv(\"lhc-zsc.csv\", encoding=\"ISO-8859-1\")"
   ]
  },
  {
   "cell_type": "code",
   "execution_count": null,
   "metadata": {},
   "outputs": [],
   "source": [
    "def add_player_id(df):\n",
    "    \"\"\"\n",
    "    Adds a new column 'Player ID' to the DataFrame starting from 1, but only to the rows\n",
    "    with 'Description' as 'vs Lugano' or 'vs Zurich'.\n",
    "\n",
    "    Parameters:\n",
    "    - df (pd.DataFrame): The input DataFrame.\n",
    "\n",
    "    Returns:\n",
    "    - pd.DataFrame: The DataFrame with the new 'Player ID' column added to specific rows.\n",
    "    \"\"\"\n",
    "    mask = df[\"Description\"].isin([\"vs Lugano\", \"vs Zurich\"])\n",
    "    df.loc[mask, \"Player ID\"] = list(range(1, sum(mask) + 1))\n",
    "    df[\"Player ID\"] = df[\"Player ID\"].astype(\n",
    "        \"Int64\"\n",
    "    )  # Using Int64 to handle potential NaNs\n",
    "    return df\n",
    "\n",
    "\n",
    "# Example usage:\n",
    "df_imp_lugano = add_player_id(df_filtered_lugano)\n",
    "df_imp_zsc = add_player_id(df_filtered_zsc)\n",
    "\n",
    "# Displaying the first 7 rows:\n",
    "print(df_imp_lugano.head(7))\n",
    "\n",
    "print(\n",
    "    \"=============================================================================================================\"\n",
    ")\n",
    "\n",
    "print(df_imp_zsc.head(7))"
   ]
  },
  {
   "cell_type": "markdown",
   "metadata": {},
   "source": [
    "#### Check the data types of the columns"
   ]
  },
  {
   "cell_type": "code",
   "execution_count": null,
   "metadata": {},
   "outputs": [],
   "source": [
    "# Check the data types of the columns\n",
    "print(df_imp_lugano.dtypes)\n",
    "\n",
    "print(\n",
    "    \"=============================================================================================================\"\n",
    ")\n",
    "\n",
    "print(df_imp_zsc.dtypes)"
   ]
  },
  {
   "cell_type": "markdown",
   "metadata": {},
   "source": [
    "#### Convert the data type of the column mechanical intensity from string to float"
   ]
  },
  {
   "cell_type": "code",
   "execution_count": null,
   "metadata": {},
   "outputs": [],
   "source": [
    "def convert_mechanical_intensity_to_float(df):\n",
    "    \"\"\"\n",
    "    Converts the data type of the 'Mechanical Intensity' column from string to float.\n",
    "\n",
    "    Parameters:\n",
    "    - df (pd.DataFrame): The input DataFrame.\n",
    "\n",
    "    Returns:\n",
    "    - pd.DataFrame: The DataFrame with the 'Mechanical Intensity' column converted to float.\n",
    "    \"\"\"\n",
    "    df[\"Mechanical Intensity\"] = (\n",
    "        df[\"Mechanical Intensity\"].str.replace(\",\", \".\").astype(float)\n",
    "    )\n",
    "    return df\n",
    "\n",
    "\n",
    "# Example usage:\n",
    "df_imp_lugano = convert_mechanical_intensity_to_float(df_imp_lugano)\n",
    "df_imp_zsc = convert_mechanical_intensity_to_float(df_imp_zsc)\n",
    "\n",
    "# Checking the data types:\n",
    "print(df_imp_lugano.dtypes)\n",
    "\n",
    "print(\n",
    "    \"=============================================================================================================\"\n",
    ")\n",
    "\n",
    "print(df_imp_zsc.dtypes)"
   ]
  },
  {
   "cell_type": "markdown",
   "metadata": {},
   "source": [
    "### CONCEPTUAL FRAMEWORK AND METHODOLOGY\n",
    "\n",
    "Given the anonymized nature and the small sample size of our dataset, combined with numerous variables at play, we've made certain assumptions to ensure its suitable for our use-case. Here’s our approach to understanding player fatigue:\n",
    "\n",
    "1. **Picking Player Data:**\n",
    "   Due to lack of player identification data, we had to infer that first 21 rows represent individual player data. This is based on the understanding that a hockey team typically consists of 20 players. This selection ensures we capture data for each unique player.\n",
    "\n",
    "2. **Identifying Player Roles:**\n",
    "   We assess the 'Position' column to differentiate between a forward (FW), defenseman (D) and Goalkeeper. The roles they play on the ice rink might result in different fatigue levels.\n",
    "\n",
    "3. **Data Segmentation:**\n",
    "   With hundreds of variables present, we narrow down and segment data by recommended metrics from the icehockey club. This targeted analysis aids in the precise estimation of the Fatigue Index (FI).\n",
    "\n",
    "4. **Developing the Fatigue Formula:**\n",
    "   Using a combination of the dataset metrics, we create a formula that captures the aspects of player fatigue. This formula is designed to be sensitive to player roles, game dynamics, and other key factors.\n",
    "\n",
    "5. **Fatigue Estimation:**\n",
    "   Using the curated data from the previous steps, we derive the Fatigue Index (FI).\n",
    "\n",
    "6. **Visualization:**\n",
    "   We design a clear and easy-to-understand graphic to show the fatigue levels. This helps coaches quickly see and understand player tiredness.\n"
   ]
  },
  {
   "cell_type": "markdown",
   "metadata": {},
   "source": [
    "#### Create a function to filter the dataset based on the Period or the full game"
   ]
  },
  {
   "cell_type": "code",
   "execution_count": null,
   "metadata": {},
   "outputs": [],
   "source": [
    "# As we want only unique player data, we can safely select the game data i.e rows with Description = \"vs Lugano\"\n",
    "# We can infer that because an ice hockey team typically consists of 20 players, including 2 goaltenders and 18 skaters.\n",
    "# and \"vs Lugano\" implies that that row is for the match data NOT period data.\n",
    "# and the proportion of forwards to defensemen\n",
    "\n",
    "\n",
    "def filter_period_data(df, description):\n",
    "    \"\"\"\n",
    "    Filters the DataFrame based on the given description.\n",
    "\n",
    "    Parameters:\n",
    "    - df (pd.DataFrame): The input DataFrame.\n",
    "    - description (str): The description to filter by. Can be '1st Period', '2nd Period', '3rd Period' or 'vs Lugano' or 'vs Zurich'.\n",
    "\n",
    "    Returns:\n",
    "    - pd.DataFrame: The filtered DataFrame.\n",
    "    \"\"\"\n",
    "    return df[df[\"Description\"] == description]\n",
    "\n",
    "\n",
    "# Example usage:\n",
    "df_imp_lugano_game = filter_period_data(df_imp_lugano, \"vs Lugano\")\n",
    "df_imp_zsc_game = filter_period_data(df_imp_zsc, \"vs Zurich\")\n",
    "\n",
    "# Display the filtered data:\n",
    "# print(df_imp_lugano_match)\n",
    "\n",
    "print(\n",
    "    \"=============================================================================================================\"\n",
    ")\n",
    "\n",
    "print(df_imp_zsc_game)\n",
    "\n",
    "print(df_imp_lugano_game)"
   ]
  },
  {
   "cell_type": "code",
   "execution_count": null,
   "metadata": {},
   "outputs": [],
   "source": [
    "# Calculate the ratio of forwards to defensemen using position column\n",
    "\n",
    "df_imp_lugano_match[\"Position\"].value_counts()"
   ]
  },
  {
   "cell_type": "code",
   "execution_count": null,
   "metadata": {},
   "outputs": [],
   "source": [
    "# Calculate ratio of F to D\n",
    "F = df_imp_lugano_match[\"Position\"].value_counts()[0]\n",
    "D = df_imp_lugano_match[\"Position\"].value_counts()[1]\n",
    "ratio = F / D\n",
    "\n",
    "# print ratio as a fraction\n",
    "\n",
    "print(ratio)"
   ]
  },
  {
   "cell_type": "markdown",
   "metadata": {},
   "source": [
    "### CREATING A RELATIVE FATIGUE LEVEL FORMULA\n",
    "\n",
    "- Typically involves empirical research, biomechanics, and physiological considerations.\n",
    "- However, we propose a simple, hypothetical formula to estimate fatigue.\n",
    "- DISCLAIMER : This is a rough estimation and not based on scientific research.\n",
    "- Using the important metrics recommended by the Ice Hockey Club & Professor Martin Rumo, we attempt to create a formula that can be used to estimate fatigue levels.\n"
   ]
  },
  {
   "cell_type": "markdown",
   "metadata": {},
   "source": [
    "#### Relative Fatigue Index (RFI) = [A * (Time on ice/ Match Duration) + B * (High Metabolic Power Distance / Total Distance) + C * (Mechanical Intensity)]\n",
    "\n",
    "- TIME FACTOR : Percentage of Time spent on Ice. Here, the idea is simple: the more time a player spends on the ice, the more fatigued they're likely to be.\n",
    "\n",
    "- DISTANCE OR INTENSITY FACTOR : Percentage of the distance covered at high intensities. It's a straightforward indicator of how hard a player pushed themselves relative to their overall activity. It is the distance covered at high metabolic power divided by the total distance covered.\n",
    "\n",
    "- MECHANICAL OR LOAD INTENSITY : How intense a player's session was concerning accelerations and decelerations.It models the intensity of a session or phase and provides important information about its impact on the lower limbs. It is the Mechanical Load divided by the total time in minutes.\n",
    "\n",
    "- A, B, and C: Weights assigned to each of the factors. These weights are determined by the coach based on the importance of each factor in the context of the team's strategy and the coach's philosophy.\n"
   ]
  },
  {
   "cell_type": "markdown",
   "metadata": {},
   "source": [
    "### FOR MATCH DATA\n"
   ]
  },
  {
   "cell_type": "markdown",
   "metadata": {},
   "source": [
    "#### NORMALIZE MECHANICAL INTENSITY (MATCH DATA)\n"
   ]
  },
  {
   "cell_type": "code",
   "execution_count": null,
   "metadata": {},
   "outputs": [],
   "source": [
    "# First we need to normalize the Mechanical Intensity column, so that the values are between 0 and 1\n",
    "# This is to make sure that it can be added to TIME FACTOR, and DISTANCE FACTOR which are ratios in the next step\n",
    "# With historical data, from the clubs, min and max intensities can be adjusted further in the future to normalize the intensity\n",
    "\n",
    "min_val = df_imp_lugano_match[\"Mechanical Intensity\"].min()\n",
    "max_val = df_imp_lugano_match[\"Mechanical Intensity\"].max()\n",
    "\n",
    "df_imp_lugano_match[\"Normalized Mechanical Intensity\"] = (\n",
    "    df_imp_lugano_match[\"Mechanical Intensity\"] - min_val\n",
    ") / (max_val - min_val)\n",
    "\n",
    "df_imp_lugano_match"
   ]
  },
  {
   "cell_type": "markdown",
   "metadata": {},
   "source": [
    "#### CREATE RELATIVE FATIGUE INDEX (RFI) FUNCTION\n"
   ]
  },
  {
   "cell_type": "code",
   "execution_count": null,
   "metadata": {},
   "outputs": [],
   "source": [
    "def fatigue_index(df, A=1, B=1, C=1):\n",
    "    \"\"\"This function calculates the fatigue index for each player.\"\"\"\n",
    "    return (\n",
    "        A * (df[\"Time on Ice (s)\"] / df[\"Duration (s)\"])\n",
    "        + B * df[\"High Metabolic Power Distance (m)\"] / df[\"Distance (m)\"]\n",
    "    ) + C * df[\"Normalized Mechanical Intensity\"]\n",
    "\n",
    "\n",
    "# test the function\n",
    "A = 1\n",
    "B = 1\n",
    "C = 1\n",
    "\n",
    "fatigue_index(df_imp_lugano_match, A, B, C)"
   ]
  },
  {
   "cell_type": "markdown",
   "metadata": {},
   "source": [
    "#### FATIGUE INDEX CALCULATION (MATCH DATA)\n"
   ]
  },
  {
   "cell_type": "code",
   "execution_count": null,
   "metadata": {},
   "outputs": [],
   "source": [
    "# 1. Compute the intermediate fatigue index for each row\n",
    "df_imp_lugano_match[\"Fatigue Index\"] = df_imp_lugano_match.apply(fatigue_index, axis=1)\n",
    "\n",
    "# 2. Normalize the fatigue index\n",
    "min_fatigue = df_imp_lugano_match[\"Fatigue Index\"].min()\n",
    "max_fatigue = df_imp_lugano_match[\"Fatigue Index\"].max()\n",
    "\n",
    "# +1 to make sure the values are between 1 and 2\n",
    "df_imp_lugano_match[\"Normalized Fatigue Index\"] = (\n",
    "    df_imp_lugano_match[\"Fatigue Index\"] - min_fatigue\n",
    ") / (max_fatigue - min_fatigue) + 1\n",
    "\n",
    "# Sort the dataframe by the final fatigue index in descending order\n",
    "# This will give us the most fatigued player at the top and the least fatigued player at the bottom\n",
    "\n",
    "df_imp_lugano_match_sorted = df_imp_lugano_match.sort_values(\n",
    "    by=\"Normalized Fatigue Index\", ascending=True\n",
    ")\n",
    "\n",
    "df_imp_lugano_match_sorted"
   ]
  },
  {
   "cell_type": "markdown",
   "metadata": {},
   "source": [
    "#### CREATE FUNCTION TO CALCULATE THE FATIGUE INDEX FOR EACH PLAYER\n"
   ]
  },
  {
   "cell_type": "markdown",
   "metadata": {},
   "source": [
    "#### COLOR CATEGORIZATION OF FATIGUE LEVELS\n"
   ]
  },
  {
   "cell_type": "code",
   "execution_count": null,
   "metadata": {},
   "outputs": [],
   "source": [
    "# MANUAL THRESHOLD BASED CATEGORIZATION OF FATIGUE INDEX\n",
    "\n",
    "# Fixed thresholds\n",
    "high_threshold = 1.57\n",
    "low_threshold = 1\n",
    "\n",
    "\n",
    "# Categorize values based on manual thresholds\n",
    "df_imp_lugano_match_sorted[\"Fatigue Category\"] = pd.cut(\n",
    "    df_imp_lugano_match_sorted[\"Fatigue Index\"],\n",
    "    [0, low_threshold, high_threshold, 2],  # Explicitly using 2 as max value\n",
    "    labels=[\"Low\", \"Medium\", \"High\"],\n",
    "    include_lowest=True,\n",
    ")\n",
    "\n",
    "# Display the results\n",
    "\n",
    "df_imp_lugano_match_sorted.head(\n",
    "    21\n",
    ")  # [[\"Player ID\", \"Relative Fatigue Index\", \"Fatigue Category\"]]"
   ]
  },
  {
   "cell_type": "markdown",
   "metadata": {},
   "source": [
    "#### VISUALIZATION OF FATIGUE INDEX FOR EACH PLAYER\n"
   ]
  },
  {
   "cell_type": "code",
   "execution_count": null,
   "metadata": {},
   "outputs": [],
   "source": [
    "import matplotlib.pyplot as plt\n",
    "import seaborn as sns\n",
    "\n",
    "# Defining the color palette for the bars based on fatigue categories\n",
    "color_map = {\n",
    "    \"Low\": \"#66FF66\",  # Darker Green\n",
    "    \"Medium\": \"#FFFF66\",  # Darker Yellow\n",
    "    \"High\": \"#FF6666\",  # Darker Red\n",
    "}\n",
    "colors = df_imp_lugano_match_sorted[\"Fatigue Category\"].map(color_map)\n",
    "\n",
    "# Plotting the data\n",
    "sns.set_style(\"whitegrid\")\n",
    "plt.figure(figsize=(14, 8))\n",
    "\n",
    "# Using the 'order' parameter to ensure bars are plotted in the correct ascending order\n",
    "bar_plot = sns.barplot(\n",
    "    x=\"Player ID\",\n",
    "    y=\"Normalized Fatigue Index\",\n",
    "    data=df_imp_lugano_match_sorted,\n",
    "    palette=colors,\n",
    "    order=df_imp_lugano_match_sorted[\"Player ID\"],\n",
    ")\n",
    "plt.title(\"Normalized Fatigue Index of Players\", fontsize=18)\n",
    "plt.xlabel(\"Player ID\", fontsize=14)\n",
    "plt.ylabel(\"Normalized Fatigue Index\", fontsize=14)\n",
    "plt.yticks([i for i in range(1, 3)], fontsize=14)\n",
    "plt.xticks(fontsize=14)\n",
    "plt.ylim(0.75, 2.25)\n",
    "bar_plot.set_yticks([i * 0.25 + 0.75 for i in range(6)])\n",
    "\n",
    "# Add legend\n",
    "for category, color in color_map.items():\n",
    "    plt.plot([], [], \" \", label=category, color=color, marker=\"s\", markersize=10)\n",
    "plt.legend(\n",
    "    title=\"Fatigue Category\",\n",
    "    loc=\"upper center\",\n",
    "    fontsize=12,\n",
    "    title_fontsize=14,\n",
    "    ncol=3,\n",
    "    columnspacing=26,\n",
    ")\n",
    "\n",
    "# Add values of \"Position\" above the x-axis\n",
    "for index, position in enumerate(df_imp_lugano_match_sorted[\"Position\"]):\n",
    "    plt.text(\n",
    "        index, 0.8, position, ha=\"center\", fontsize=12, color=\"black\", va=\"baseline\"\n",
    "    )\n",
    "\n",
    "\n",
    "# Displaying the plot\n",
    "plt.tight_layout()\n",
    "plt.show()"
   ]
  },
  {
   "cell_type": "code",
   "execution_count": null,
   "metadata": {},
   "outputs": [],
   "source": []
  },
  {
   "cell_type": "markdown",
   "metadata": {},
   "source": [
    "### ANALYSIS OF AVERAGE FATIGUE INDEX OF TEAM BY PERIODS\n"
   ]
  },
  {
   "cell_type": "markdown",
   "metadata": {},
   "source": [
    "#### PERIOD 1 : FATIGUE INDEX CALCULATION\n"
   ]
  },
  {
   "cell_type": "code",
   "execution_count": null,
   "metadata": {},
   "outputs": [],
   "source": [
    "# filter row by Description column i.e. Periods of the game : Period 1, Period 2, Period 3, Period 4\n",
    "\n",
    "\n",
    "df_period1 = df_imp_lugano[df_imp_lugano[\"Description\"].str.contains(\"Period 1\")]\n",
    "\n",
    "# Normalize the Mechanical Intensity column, so that the values are between 0 and 1\n",
    "\n",
    "min_val = df_period1[\"Mechanical Intensity\"].min()\n",
    "max_val = df_period1[\"Mechanical Intensity\"].max()\n",
    "\n",
    "df_period1[\"Normalized Mechanical Intensity\"] = (\n",
    "    df_period1[\"Mechanical Intensity\"] - min_val\n",
    ") / (max_val - min_val)\n",
    "\n",
    "\n",
    "# 1. Compute the  fatigue index for each row\n",
    "df_period1[\"Fatigue Index\"] = df_period1.apply(fatigue_index, axis=1)\n",
    "\n",
    "# 2. Normalize the fatigue index\n",
    "min_fatigue = df_period1[\"Fatigue Index\"].min()\n",
    "max_fatigue = df_period1[\"Fatigue Index\"].max()\n",
    "\n",
    "# +1 to make sure the values are between 1 and 2\n",
    "df_period1[\"Normalized Fatigue Index\"] = (df_period1[\"Fatigue Index\"] - min_fatigue) / (\n",
    "    max_fatigue - min_fatigue\n",
    ") + 1\n",
    "\n",
    "# Sort the dataframe by the final fatigue index in descending order\n",
    "# This will give us the most fatigued player at the top and the least fatigued player at the bottom\n",
    "\n",
    "df_period1_sorted = df_period1.sort_values(\n",
    "    by=\"Normalized Fatigue Index\", ascending=True\n",
    ")\n",
    "\n",
    "\n",
    "# Calculate the average fatigue index of the players in period 1\n",
    "\n",
    "avg_FI_period1 = df_period1_sorted[\"Fatigue Index\"].mean()\n",
    "\n",
    "print(avg_FI_period1)\n",
    "\n",
    "df_period1_sorted"
   ]
  },
  {
   "cell_type": "code",
   "execution_count": null,
   "metadata": {},
   "outputs": [],
   "source": [
    "import pandas as pd\n",
    "\n",
    "\n",
    "def process_period_data(df, period_name, intensity_column=\"Mechanical Intensity\"):\n",
    "    \"\"\"\n",
    "    Process data for a specific period in a DataFrame.\n",
    "\n",
    "    Parameters:\n",
    "    - df (pd.DataFrame): The DataFrame containing the data.\n",
    "    - period_name (str): The name of the period to filter by in the 'Description' column.\n",
    "    - intensity_column (str): The name of the column containing intensity values.\n",
    "\n",
    "    Returns:\n",
    "    - pd.DataFrame: A sorted DataFrame with the processed data for the specified period.\n",
    "    - float: The average Fatigue Index for the specified period.\n",
    "    \"\"\"\n",
    "    # Filter rows by Description column\n",
    "    df_period = df[df[\"Description\"].str.contains(period_name)]\n",
    "\n",
    "    # Normalize the specified intensity column\n",
    "    min_val = df_period[intensity_column].min()\n",
    "    max_val = df_period[intensity_column].max()\n",
    "    df_period[\"Normalized \" + intensity_column] = (\n",
    "        df_period[intensity_column] - min_val\n",
    "    ) / (max_val - min_val)\n",
    "\n",
    "    # Define a function to compute the Fatigue Index\n",
    "    def fatigue_index(row):\n",
    "        # Replace this with your logic to calculate the Fatigue Index\n",
    "        # For example, you can use row values like \"Normalized Mechanical Intensity\"\n",
    "        return row[\n",
    "            \"Normalized \" + intensity_column\n",
    "        ]  # Replace with your actual calculation\n",
    "\n",
    "    # Calculate the Fatigue Index for each row\n",
    "    df_period[\"Fatigue Index\"] = df_period.apply(fatigue_index, axis=1)\n",
    "\n",
    "    # Normalize the Fatigue Index\n",
    "    min_fatigue = df_period[\"Fatigue Index\"].min()\n",
    "    max_fatigue = df_period[\"Fatigue Index\"].max()\n",
    "    df_period[\"Normalized Fatigue Index\"] = (\n",
    "        df_period[\"Fatigue Index\"] - min_fatigue\n",
    "    ) / (max_fatigue - min_fatigue) + 1\n",
    "\n",
    "    # Sort the DataFrame by the final fatigue index in ascending order\n",
    "    df_period_sorted = df_period.sort_values(\n",
    "        by=\"Normalized Fatigue Index\", ascending=True\n",
    "    )\n",
    "\n",
    "    # Calculate the average fatigue index for the period\n",
    "    avg_FI_period = df_period_sorted[\"Fatigue Index\"].mean()\n",
    "\n",
    "    return df_period_sorted, avg_FI_period\n",
    "\n",
    "\n",
    "# Example usage:\n",
    "period_name = \"Period 1\"\n",
    "df_period1_sorted, avg_FI_period1 = process_period_data(df_imp_lugano, period_name)\n",
    "\n",
    "# You can also call this function for other periods by changing the 'period_name' parameter."
   ]
  },
  {
   "cell_type": "markdown",
   "metadata": {},
   "source": [
    "#### PERIOD 2 : FATIGUE INDEX CALCULATION\n"
   ]
  },
  {
   "cell_type": "code",
   "execution_count": null,
   "metadata": {},
   "outputs": [],
   "source": [
    "df_period2 = df_imp_lugano[df_imp_lugano[\"Description\"].str.contains(\"Period 2\")]\n",
    "\n",
    "# Normalize the Mechanical Intensity column, so that the values are between 0 and 1\n",
    "\n",
    "min_val = df_period2[\"Mechanical Intensity\"].min()\n",
    "max_val = df_period2[\"Mechanical Intensity\"].max()\n",
    "\n",
    "df_period2[\"Normalized Mechanical Intensity\"] = (\n",
    "    df_period2[\"Mechanical Intensity\"] - min_val\n",
    ") / (max_val - min_val)\n",
    "\n",
    "\n",
    "df_period2[\"Fatigue Index\"] = df_period2.apply(fatigue_index, axis=1)\n",
    "\n",
    "# 2. Normalize the fatigue index\n",
    "min_fatigue = df_period2[\"Fatigue Index\"].min()\n",
    "max_fatigue = df_period2[\"Fatigue Index\"].max()\n",
    "\n",
    "# +1 to make sure the values are between 1 and 2\n",
    "df_period2[\"Normalized Fatigue Index\"] = (df_period2[\"Fatigue Index\"] - min_fatigue) / (\n",
    "    max_fatigue - min_fatigue\n",
    ") + 1\n",
    "\n",
    "# Sort the dataframe by the final fatigue index in descending order\n",
    "# This will give us the most fatigued player at the top and the least fatigued player at the bottom\n",
    "\n",
    "df_period2_sorted = df_period2.sort_values(\n",
    "    by=\"Normalized Fatigue Index\", ascending=True\n",
    ")\n",
    "\n",
    "\n",
    "# Calculate the average fatigue index of the players in period 2\n",
    "\n",
    "avg_FI_period2 = df_period2_sorted[\"Fatigue Index\"].mean()\n",
    "\n",
    "print(avg_FI_period2)\n",
    "\n",
    "df_period2_sorted"
   ]
  },
  {
   "cell_type": "markdown",
   "metadata": {},
   "source": [
    "#### PERIOD 3 : FATIGUE INDEX CALCULATION\n"
   ]
  },
  {
   "cell_type": "code",
   "execution_count": null,
   "metadata": {},
   "outputs": [],
   "source": [
    "df_period3 = df_imp_lugano[df_imp_lugano[\"Description\"].str.contains(\"Period 3\")]\n",
    "\n",
    "# Normalize the Mechanical Intensity column, so that the values are between 0 and 1\n",
    "\n",
    "min_val = df_period3[\"Mechanical Intensity\"].min()\n",
    "max_val = df_period3[\"Mechanical Intensity\"].max()\n",
    "\n",
    "df_period3[\"Normalized Mechanical Intensity\"] = (\n",
    "    df_period3[\"Mechanical Intensity\"] - min_val\n",
    ") / (max_val - min_val)\n",
    "\n",
    "df_period3\n",
    "\n",
    "df_period3[\"Fatigue Index\"] = df_period3.apply(fatigue_index, axis=1)\n",
    "\n",
    "# 2. Normalize the fatigue index\n",
    "min_fatigue = df_period3[\"Fatigue Index\"].min()\n",
    "max_fatigue = df_period3[\"Fatigue Index\"].max()\n",
    "\n",
    "# +1 to make sure the values are between 1 and 2\n",
    "df_period3[\"Normalized Fatigue Index\"] = (df_period3[\"Fatigue Index\"] - min_fatigue) / (\n",
    "    max_fatigue - min_fatigue\n",
    ") + 1\n",
    "\n",
    "# Sort the dataframe by the final fatigue index in descending order\n",
    "# This will give us the most fatigued player at the top and the least fatigued player at the bottom\n",
    "\n",
    "df_period3_sorted = df_period3.sort_values(\n",
    "    by=\"Normalized Fatigue Index\", ascending=True\n",
    ")\n",
    "\n",
    "# Calculate the average fatigue index of the players in period 3\n",
    "\n",
    "avg_FI_period3 = df_period3_sorted[\"Fatigue Index\"].mean()\n",
    "\n",
    "print(avg_FI_period3)\n",
    "\n",
    "df_period3_sorted"
   ]
  },
  {
   "cell_type": "markdown",
   "metadata": {},
   "source": [
    "#### OVERTIME : FATIGUE INDEX CALCULATION\n"
   ]
  },
  {
   "cell_type": "code",
   "execution_count": null,
   "metadata": {},
   "outputs": [],
   "source": [
    "df_overtime = df_imp_lugano[df_imp_lugano[\"Description\"].str.contains(\"Overtime\")]\n",
    "\n",
    "# Normalize the Mechanical Intensity column, so that the values are between 0 and 1\n",
    "\n",
    "min_val = df_overtime[\"Mechanical Intensity\"].min()\n",
    "max_val = df_overtime[\"Mechanical Intensity\"].max()\n",
    "\n",
    "df_overtime[\"Normalized Mechanical Intensity\"] = (\n",
    "    df_overtime[\"Mechanical Intensity\"] - min_val\n",
    ") / (max_val - min_val)\n",
    "\n",
    "df_overtime\n",
    "\n",
    "df_overtime[\"Fatigue Index\"] = df_overtime.apply(fatigue_index, axis=1)\n",
    "\n",
    "# 2. Normalize the fatigue index\n",
    "min_fatigue = df_overtime[\"Fatigue Index\"].min()\n",
    "max_fatigue = df_overtime[\"Fatigue Index\"].max()\n",
    "\n",
    "# +1 to make sure the values are between 1 and 2\n",
    "df_overtime[\"Normalized Fatigue Index\"] = (\n",
    "    df_overtime[\"Fatigue Index\"] - min_fatigue\n",
    ") / (max_fatigue - min_fatigue) + 1\n",
    "\n",
    "# Sort the dataframe by the final fatigue index in descending order\n",
    "# This will give us the most fatigued player at the top and the least fatigued player at the bottom\n",
    "\n",
    "df_overtime_sorted = df_overtime.sort_values(\n",
    "    by=\"Normalized Fatigue Index\", ascending=True\n",
    ")\n",
    "\n",
    "\n",
    "# Calculate the average fatigue index of the players in overtime\n",
    "\n",
    "avg_FI_overtime = df_overtime_sorted[\"Fatigue Index\"].mean()\n",
    "\n",
    "print(avg_FI_overtime)\n",
    "\n",
    "df_overtime_sorted"
   ]
  },
  {
   "cell_type": "markdown",
   "metadata": {},
   "source": [
    "### LINE CHART OF AVERAGE FATIGUE INDEX OF TEAM (CHANGE IN FATIGUE INDEX OVER TIME)"
   ]
  },
  {
   "cell_type": "code",
   "execution_count": null,
   "metadata": {},
   "outputs": [],
   "source": [
    "import plotly.graph_objects as go\n",
    "\n",
    "# Create a list of the average fatigue index of players in each period and overtime\n",
    "avg_FI = [avg_FI_period1, avg_FI_period2, avg_FI_period3, avg_FI_overtime]\n",
    "\n",
    "# Create a list of the periods and overtime\n",
    "periods = [\"Period 1\", \"Period 2\", \"Period 3\", \"Overtime\"]\n",
    "\n",
    "# Create a Plotly figure for an interactive line chart\n",
    "fig = go.Figure(\n",
    "    data=go.Scatter(\n",
    "        x=periods, y=avg_FI, mode=\"lines+markers\", marker=dict(color=\"green\")\n",
    "    )\n",
    ")\n",
    "\n",
    "# Customize the chart layout\n",
    "fig.update_layout(\n",
    "    title=\"Average Fatigue Index of Team Lugano in each Period\",\n",
    "    xaxis=dict(title=\"Periods\"),\n",
    "    yaxis=dict(title=\"Average Fatigue Index\"),\n",
    ")\n",
    "\n",
    "# Show the interactive chart\n",
    "fig.show()"
   ]
  },
  {
   "cell_type": "code",
   "execution_count": null,
   "metadata": {},
   "outputs": [],
   "source": []
  },
  {
   "cell_type": "code",
   "execution_count": null,
   "metadata": {},
   "outputs": [],
   "source": [
    "import plotly.graph_objects as go\n",
    "\n",
    "# Create a list of the average fatigue index of players in each period and overtime\n",
    "avg_FI = [avg_FI_period1, avg_FI_period2, avg_FI_period3, avg_FI_overtime]\n",
    "\n",
    "# Create a list of the periods and overtime\n",
    "periods = [\"Period 1\", \"Period 2\", \"Period 3\", \"Overtime\"]\n",
    "\n",
    "# Calculate cumulative values for the y-axis\n",
    "cumulative_avg_FI = [sum(avg_FI[: i + 1]) for i in range(len(avg_FI))]\n",
    "\n",
    "# Create a Plotly figure for an interactive line chart\n",
    "fig = go.Figure(\n",
    "    data=go.Scatter(\n",
    "        x=periods, y=cumulative_avg_FI, mode=\"lines+markers\", marker=dict(color=\"green\")\n",
    "    )\n",
    ")\n",
    "\n",
    "# Customize the chart layout\n",
    "fig.update_layout(\n",
    "    title=\"Cumulative - Average Fatigue Index of Team Lugano\",\n",
    "    xaxis=dict(title=\"Periods\"),\n",
    "    yaxis=dict(title=\"Cumulative Average Fatigue Index\"),\n",
    ")\n",
    "\n",
    "# Show the interactive chart\n",
    "fig.show()"
   ]
  },
  {
   "cell_type": "code",
   "execution_count": null,
   "metadata": {},
   "outputs": [],
   "source": []
  },
  {
   "cell_type": "code",
   "execution_count": null,
   "metadata": {},
   "outputs": [],
   "source": []
  }
 ],
 "metadata": {
  "kernelspec": {
   "display_name": "ice-venv",
   "language": "python",
   "name": "python3"
  },
  "language_info": {
   "codemirror_mode": {
    "name": "ipython",
    "version": 3
   },
   "file_extension": ".py",
   "mimetype": "text/x-python",
   "name": "python",
   "nbconvert_exporter": "python",
   "pygments_lexer": "ipython3",
   "version": "3.10.11"
  },
  "orig_nbformat": 4
 },
 "nbformat": 4,
 "nbformat_minor": 2
}
